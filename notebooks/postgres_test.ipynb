{
 "metadata": {
  "language_info": {
   "codemirror_mode": {
    "name": "ipython",
    "version": 3
   },
   "file_extension": ".py",
   "mimetype": "text/x-python",
   "name": "python",
   "nbconvert_exporter": "python",
   "pygments_lexer": "ipython3",
   "version": "3.8.2-final"
  },
  "orig_nbformat": 2,
  "kernelspec": {
   "name": "python3",
   "display_name": "Python 3"
  }
 },
 "nbformat": 4,
 "nbformat_minor": 2,
 "cells": [
  {
   "cell_type": "code",
   "execution_count": 65,
   "metadata": {},
   "outputs": [],
   "source": [
    "from sqlalchemy import create_engine\n",
    "import pandas as pd\n",
    "import plotly\n",
    "\n",
    "import os\n",
    "os.chdir(os.pardir)\n",
    "\n",
    "from config import Config\n",
    "\n",
    "primary_fuel_cmap={\n",
    "        \"Coal\": '#636EFA',\n",
    "        \"Oil\": '#EF553B',\n",
    "        \"Gas\": '#00CC96',\n",
    "        \"Petcoke\": '#AB63FA'\n",
    "}"
   ]
  },
  {
   "cell_type": "code",
   "execution_count": 66,
   "metadata": {},
   "outputs": [],
   "source": [
    "engine = create_engine(Config.SQLALCHEMY_DATABASE_URI)"
   ]
  },
  {
   "cell_type": "code",
   "execution_count": 67,
   "metadata": {},
   "outputs": [
    {
     "output_type": "display_data",
     "data": {
      "application/vnd.plotly.v1+json": {
       "config": {
        "plotlyServerURL": "https://plot.ly"
       },
       "data": [
        {
         "domain": {
          "x": [
           0,
           1
          ],
          "y": [
           0,
           1
          ]
         },
         "hovertemplate": "Primary Fuel=%{label}<br>Percent=%{value}<extra></extra>",
         "labels": [
          "Petcoke",
          "Coal",
          "Oil",
          "Gas"
         ],
         "legendgroup": "",
         "name": "",
         "showlegend": true,
         "textinfo": "percent+label",
         "textposition": "inside",
         "type": "pie",
         "values": [
          0.0037558693176373654,
          0.4084672356317149,
          0.11926308712306566,
          0.46851380792758196
         ]
        }
       ],
       "layout": {
        "legend": {
         "tracegroupgap": 0
        },
        "template": {
         "data": {
          "bar": [
           {
            "error_x": {
             "color": "#2a3f5f"
            },
            "error_y": {
             "color": "#2a3f5f"
            },
            "marker": {
             "line": {
              "color": "#E5ECF6",
              "width": 0.5
             }
            },
            "type": "bar"
           }
          ],
          "barpolar": [
           {
            "marker": {
             "line": {
              "color": "#E5ECF6",
              "width": 0.5
             }
            },
            "type": "barpolar"
           }
          ],
          "carpet": [
           {
            "aaxis": {
             "endlinecolor": "#2a3f5f",
             "gridcolor": "white",
             "linecolor": "white",
             "minorgridcolor": "white",
             "startlinecolor": "#2a3f5f"
            },
            "baxis": {
             "endlinecolor": "#2a3f5f",
             "gridcolor": "white",
             "linecolor": "white",
             "minorgridcolor": "white",
             "startlinecolor": "#2a3f5f"
            },
            "type": "carpet"
           }
          ],
          "choropleth": [
           {
            "colorbar": {
             "outlinewidth": 0,
             "ticks": ""
            },
            "type": "choropleth"
           }
          ],
          "contour": [
           {
            "colorbar": {
             "outlinewidth": 0,
             "ticks": ""
            },
            "colorscale": [
             [
              0,
              "#0d0887"
             ],
             [
              0.1111111111111111,
              "#46039f"
             ],
             [
              0.2222222222222222,
              "#7201a8"
             ],
             [
              0.3333333333333333,
              "#9c179e"
             ],
             [
              0.4444444444444444,
              "#bd3786"
             ],
             [
              0.5555555555555556,
              "#d8576b"
             ],
             [
              0.6666666666666666,
              "#ed7953"
             ],
             [
              0.7777777777777778,
              "#fb9f3a"
             ],
             [
              0.8888888888888888,
              "#fdca26"
             ],
             [
              1,
              "#f0f921"
             ]
            ],
            "type": "contour"
           }
          ],
          "contourcarpet": [
           {
            "colorbar": {
             "outlinewidth": 0,
             "ticks": ""
            },
            "type": "contourcarpet"
           }
          ],
          "heatmap": [
           {
            "colorbar": {
             "outlinewidth": 0,
             "ticks": ""
            },
            "colorscale": [
             [
              0,
              "#0d0887"
             ],
             [
              0.1111111111111111,
              "#46039f"
             ],
             [
              0.2222222222222222,
              "#7201a8"
             ],
             [
              0.3333333333333333,
              "#9c179e"
             ],
             [
              0.4444444444444444,
              "#bd3786"
             ],
             [
              0.5555555555555556,
              "#d8576b"
             ],
             [
              0.6666666666666666,
              "#ed7953"
             ],
             [
              0.7777777777777778,
              "#fb9f3a"
             ],
             [
              0.8888888888888888,
              "#fdca26"
             ],
             [
              1,
              "#f0f921"
             ]
            ],
            "type": "heatmap"
           }
          ],
          "heatmapgl": [
           {
            "colorbar": {
             "outlinewidth": 0,
             "ticks": ""
            },
            "colorscale": [
             [
              0,
              "#0d0887"
             ],
             [
              0.1111111111111111,
              "#46039f"
             ],
             [
              0.2222222222222222,
              "#7201a8"
             ],
             [
              0.3333333333333333,
              "#9c179e"
             ],
             [
              0.4444444444444444,
              "#bd3786"
             ],
             [
              0.5555555555555556,
              "#d8576b"
             ],
             [
              0.6666666666666666,
              "#ed7953"
             ],
             [
              0.7777777777777778,
              "#fb9f3a"
             ],
             [
              0.8888888888888888,
              "#fdca26"
             ],
             [
              1,
              "#f0f921"
             ]
            ],
            "type": "heatmapgl"
           }
          ],
          "histogram": [
           {
            "marker": {
             "colorbar": {
              "outlinewidth": 0,
              "ticks": ""
             }
            },
            "type": "histogram"
           }
          ],
          "histogram2d": [
           {
            "colorbar": {
             "outlinewidth": 0,
             "ticks": ""
            },
            "colorscale": [
             [
              0,
              "#0d0887"
             ],
             [
              0.1111111111111111,
              "#46039f"
             ],
             [
              0.2222222222222222,
              "#7201a8"
             ],
             [
              0.3333333333333333,
              "#9c179e"
             ],
             [
              0.4444444444444444,
              "#bd3786"
             ],
             [
              0.5555555555555556,
              "#d8576b"
             ],
             [
              0.6666666666666666,
              "#ed7953"
             ],
             [
              0.7777777777777778,
              "#fb9f3a"
             ],
             [
              0.8888888888888888,
              "#fdca26"
             ],
             [
              1,
              "#f0f921"
             ]
            ],
            "type": "histogram2d"
           }
          ],
          "histogram2dcontour": [
           {
            "colorbar": {
             "outlinewidth": 0,
             "ticks": ""
            },
            "colorscale": [
             [
              0,
              "#0d0887"
             ],
             [
              0.1111111111111111,
              "#46039f"
             ],
             [
              0.2222222222222222,
              "#7201a8"
             ],
             [
              0.3333333333333333,
              "#9c179e"
             ],
             [
              0.4444444444444444,
              "#bd3786"
             ],
             [
              0.5555555555555556,
              "#d8576b"
             ],
             [
              0.6666666666666666,
              "#ed7953"
             ],
             [
              0.7777777777777778,
              "#fb9f3a"
             ],
             [
              0.8888888888888888,
              "#fdca26"
             ],
             [
              1,
              "#f0f921"
             ]
            ],
            "type": "histogram2dcontour"
           }
          ],
          "mesh3d": [
           {
            "colorbar": {
             "outlinewidth": 0,
             "ticks": ""
            },
            "type": "mesh3d"
           }
          ],
          "parcoords": [
           {
            "line": {
             "colorbar": {
              "outlinewidth": 0,
              "ticks": ""
             }
            },
            "type": "parcoords"
           }
          ],
          "pie": [
           {
            "automargin": true,
            "type": "pie"
           }
          ],
          "scatter": [
           {
            "marker": {
             "colorbar": {
              "outlinewidth": 0,
              "ticks": ""
             }
            },
            "type": "scatter"
           }
          ],
          "scatter3d": [
           {
            "line": {
             "colorbar": {
              "outlinewidth": 0,
              "ticks": ""
             }
            },
            "marker": {
             "colorbar": {
              "outlinewidth": 0,
              "ticks": ""
             }
            },
            "type": "scatter3d"
           }
          ],
          "scattercarpet": [
           {
            "marker": {
             "colorbar": {
              "outlinewidth": 0,
              "ticks": ""
             }
            },
            "type": "scattercarpet"
           }
          ],
          "scattergeo": [
           {
            "marker": {
             "colorbar": {
              "outlinewidth": 0,
              "ticks": ""
             }
            },
            "type": "scattergeo"
           }
          ],
          "scattergl": [
           {
            "marker": {
             "colorbar": {
              "outlinewidth": 0,
              "ticks": ""
             }
            },
            "type": "scattergl"
           }
          ],
          "scattermapbox": [
           {
            "marker": {
             "colorbar": {
              "outlinewidth": 0,
              "ticks": ""
             }
            },
            "type": "scattermapbox"
           }
          ],
          "scatterpolar": [
           {
            "marker": {
             "colorbar": {
              "outlinewidth": 0,
              "ticks": ""
             }
            },
            "type": "scatterpolar"
           }
          ],
          "scatterpolargl": [
           {
            "marker": {
             "colorbar": {
              "outlinewidth": 0,
              "ticks": ""
             }
            },
            "type": "scatterpolargl"
           }
          ],
          "scatterternary": [
           {
            "marker": {
             "colorbar": {
              "outlinewidth": 0,
              "ticks": ""
             }
            },
            "type": "scatterternary"
           }
          ],
          "surface": [
           {
            "colorbar": {
             "outlinewidth": 0,
             "ticks": ""
            },
            "colorscale": [
             [
              0,
              "#0d0887"
             ],
             [
              0.1111111111111111,
              "#46039f"
             ],
             [
              0.2222222222222222,
              "#7201a8"
             ],
             [
              0.3333333333333333,
              "#9c179e"
             ],
             [
              0.4444444444444444,
              "#bd3786"
             ],
             [
              0.5555555555555556,
              "#d8576b"
             ],
             [
              0.6666666666666666,
              "#ed7953"
             ],
             [
              0.7777777777777778,
              "#fb9f3a"
             ],
             [
              0.8888888888888888,
              "#fdca26"
             ],
             [
              1,
              "#f0f921"
             ]
            ],
            "type": "surface"
           }
          ],
          "table": [
           {
            "cells": {
             "fill": {
              "color": "#EBF0F8"
             },
             "line": {
              "color": "white"
             }
            },
            "header": {
             "fill": {
              "color": "#C8D4E3"
             },
             "line": {
              "color": "white"
             }
            },
            "type": "table"
           }
          ]
         },
         "layout": {
          "annotationdefaults": {
           "arrowcolor": "#2a3f5f",
           "arrowhead": 0,
           "arrowwidth": 1
          },
          "coloraxis": {
           "colorbar": {
            "outlinewidth": 0,
            "ticks": ""
           }
          },
          "colorscale": {
           "diverging": [
            [
             0,
             "#8e0152"
            ],
            [
             0.1,
             "#c51b7d"
            ],
            [
             0.2,
             "#de77ae"
            ],
            [
             0.3,
             "#f1b6da"
            ],
            [
             0.4,
             "#fde0ef"
            ],
            [
             0.5,
             "#f7f7f7"
            ],
            [
             0.6,
             "#e6f5d0"
            ],
            [
             0.7,
             "#b8e186"
            ],
            [
             0.8,
             "#7fbc41"
            ],
            [
             0.9,
             "#4d9221"
            ],
            [
             1,
             "#276419"
            ]
           ],
           "sequential": [
            [
             0,
             "#0d0887"
            ],
            [
             0.1111111111111111,
             "#46039f"
            ],
            [
             0.2222222222222222,
             "#7201a8"
            ],
            [
             0.3333333333333333,
             "#9c179e"
            ],
            [
             0.4444444444444444,
             "#bd3786"
            ],
            [
             0.5555555555555556,
             "#d8576b"
            ],
            [
             0.6666666666666666,
             "#ed7953"
            ],
            [
             0.7777777777777778,
             "#fb9f3a"
            ],
            [
             0.8888888888888888,
             "#fdca26"
            ],
            [
             1,
             "#f0f921"
            ]
           ],
           "sequentialminus": [
            [
             0,
             "#0d0887"
            ],
            [
             0.1111111111111111,
             "#46039f"
            ],
            [
             0.2222222222222222,
             "#7201a8"
            ],
            [
             0.3333333333333333,
             "#9c179e"
            ],
            [
             0.4444444444444444,
             "#bd3786"
            ],
            [
             0.5555555555555556,
             "#d8576b"
            ],
            [
             0.6666666666666666,
             "#ed7953"
            ],
            [
             0.7777777777777778,
             "#fb9f3a"
            ],
            [
             0.8888888888888888,
             "#fdca26"
            ],
            [
             1,
             "#f0f921"
            ]
           ]
          },
          "colorway": [
           "#636efa",
           "#EF553B",
           "#00cc96",
           "#ab63fa",
           "#FFA15A",
           "#19d3f3",
           "#FF6692",
           "#B6E880",
           "#FF97FF",
           "#FECB52"
          ],
          "font": {
           "color": "#2a3f5f"
          },
          "geo": {
           "bgcolor": "white",
           "lakecolor": "white",
           "landcolor": "#E5ECF6",
           "showlakes": true,
           "showland": true,
           "subunitcolor": "white"
          },
          "hoverlabel": {
           "align": "left"
          },
          "hovermode": "closest",
          "mapbox": {
           "style": "light"
          },
          "paper_bgcolor": "white",
          "plot_bgcolor": "#E5ECF6",
          "polar": {
           "angularaxis": {
            "gridcolor": "white",
            "linecolor": "white",
            "ticks": ""
           },
           "bgcolor": "#E5ECF6",
           "radialaxis": {
            "gridcolor": "white",
            "linecolor": "white",
            "ticks": ""
           }
          },
          "scene": {
           "xaxis": {
            "backgroundcolor": "#E5ECF6",
            "gridcolor": "white",
            "gridwidth": 2,
            "linecolor": "white",
            "showbackground": true,
            "ticks": "",
            "zerolinecolor": "white"
           },
           "yaxis": {
            "backgroundcolor": "#E5ECF6",
            "gridcolor": "white",
            "gridwidth": 2,
            "linecolor": "white",
            "showbackground": true,
            "ticks": "",
            "zerolinecolor": "white"
           },
           "zaxis": {
            "backgroundcolor": "#E5ECF6",
            "gridcolor": "white",
            "gridwidth": 2,
            "linecolor": "white",
            "showbackground": true,
            "ticks": "",
            "zerolinecolor": "white"
           }
          },
          "shapedefaults": {
           "line": {
            "color": "#2a3f5f"
           }
          },
          "ternary": {
           "aaxis": {
            "gridcolor": "white",
            "linecolor": "white",
            "ticks": ""
           },
           "baxis": {
            "gridcolor": "white",
            "linecolor": "white",
            "ticks": ""
           },
           "bgcolor": "#E5ECF6",
           "caxis": {
            "gridcolor": "white",
            "linecolor": "white",
            "ticks": ""
           }
          },
          "title": {
           "x": 0.05
          },
          "xaxis": {
           "automargin": true,
           "gridcolor": "white",
           "linecolor": "white",
           "ticks": "",
           "title": {
            "standoff": 15
           },
           "zerolinecolor": "white",
           "zerolinewidth": 2
          },
          "yaxis": {
           "automargin": true,
           "gridcolor": "white",
           "linecolor": "white",
           "ticks": "",
           "title": {
            "standoff": 15
           },
           "zerolinecolor": "white",
           "zerolinewidth": 2
          }
         }
        },
        "title": {
         "text": "Percent of United States of America Power Sector Emissions by Fuel Source"
        }
       }
      },
      "text/html": "<div>\n        \n        \n            <div id=\"ee6981ea-c9a9-43e1-be8f-a57c24638498\" class=\"plotly-graph-div\" style=\"height:525px; width:100%;\"></div>\n            <script type=\"text/javascript\">\n                require([\"plotly\"], function(Plotly) {\n                    window.PLOTLYENV=window.PLOTLYENV || {};\n                    \n                if (document.getElementById(\"ee6981ea-c9a9-43e1-be8f-a57c24638498\")) {\n                    Plotly.newPlot(\n                        'ee6981ea-c9a9-43e1-be8f-a57c24638498',\n                        [{\"domain\": {\"x\": [0.0, 1.0], \"y\": [0.0, 1.0]}, \"hovertemplate\": \"Primary Fuel=%{label}<br>Percent=%{value}<extra></extra>\", \"labels\": [\"Petcoke\", \"Coal\", \"Oil\", \"Gas\"], \"legendgroup\": \"\", \"name\": \"\", \"showlegend\": true, \"textinfo\": \"percent+label\", \"textposition\": \"inside\", \"type\": \"pie\", \"values\": [0.0037558693176373654, 0.4084672356317149, 0.11926308712306566, 0.46851380792758196]}],\n                        {\"legend\": {\"tracegroupgap\": 0}, \"template\": {\"data\": {\"bar\": [{\"error_x\": {\"color\": \"#2a3f5f\"}, \"error_y\": {\"color\": \"#2a3f5f\"}, \"marker\": {\"line\": {\"color\": \"#E5ECF6\", \"width\": 0.5}}, \"type\": \"bar\"}], \"barpolar\": [{\"marker\": {\"line\": {\"color\": \"#E5ECF6\", \"width\": 0.5}}, \"type\": \"barpolar\"}], \"carpet\": [{\"aaxis\": {\"endlinecolor\": \"#2a3f5f\", \"gridcolor\": \"white\", \"linecolor\": \"white\", \"minorgridcolor\": \"white\", \"startlinecolor\": \"#2a3f5f\"}, \"baxis\": {\"endlinecolor\": \"#2a3f5f\", \"gridcolor\": \"white\", \"linecolor\": \"white\", \"minorgridcolor\": \"white\", \"startlinecolor\": \"#2a3f5f\"}, \"type\": \"carpet\"}], \"choropleth\": [{\"colorbar\": {\"outlinewidth\": 0, \"ticks\": \"\"}, \"type\": \"choropleth\"}], \"contour\": [{\"colorbar\": {\"outlinewidth\": 0, \"ticks\": \"\"}, \"colorscale\": [[0.0, \"#0d0887\"], [0.1111111111111111, \"#46039f\"], [0.2222222222222222, \"#7201a8\"], [0.3333333333333333, \"#9c179e\"], [0.4444444444444444, \"#bd3786\"], [0.5555555555555556, \"#d8576b\"], [0.6666666666666666, \"#ed7953\"], [0.7777777777777778, \"#fb9f3a\"], [0.8888888888888888, \"#fdca26\"], [1.0, \"#f0f921\"]], \"type\": \"contour\"}], \"contourcarpet\": [{\"colorbar\": {\"outlinewidth\": 0, \"ticks\": \"\"}, \"type\": \"contourcarpet\"}], \"heatmap\": [{\"colorbar\": {\"outlinewidth\": 0, \"ticks\": \"\"}, \"colorscale\": [[0.0, \"#0d0887\"], [0.1111111111111111, \"#46039f\"], [0.2222222222222222, \"#7201a8\"], [0.3333333333333333, \"#9c179e\"], [0.4444444444444444, \"#bd3786\"], [0.5555555555555556, \"#d8576b\"], [0.6666666666666666, \"#ed7953\"], [0.7777777777777778, \"#fb9f3a\"], [0.8888888888888888, \"#fdca26\"], [1.0, \"#f0f921\"]], \"type\": \"heatmap\"}], \"heatmapgl\": [{\"colorbar\": {\"outlinewidth\": 0, \"ticks\": \"\"}, \"colorscale\": [[0.0, \"#0d0887\"], [0.1111111111111111, \"#46039f\"], [0.2222222222222222, \"#7201a8\"], [0.3333333333333333, \"#9c179e\"], [0.4444444444444444, \"#bd3786\"], [0.5555555555555556, \"#d8576b\"], [0.6666666666666666, \"#ed7953\"], [0.7777777777777778, \"#fb9f3a\"], [0.8888888888888888, \"#fdca26\"], [1.0, \"#f0f921\"]], \"type\": \"heatmapgl\"}], \"histogram\": [{\"marker\": {\"colorbar\": {\"outlinewidth\": 0, \"ticks\": \"\"}}, \"type\": \"histogram\"}], \"histogram2d\": [{\"colorbar\": {\"outlinewidth\": 0, \"ticks\": \"\"}, \"colorscale\": [[0.0, \"#0d0887\"], [0.1111111111111111, \"#46039f\"], [0.2222222222222222, \"#7201a8\"], [0.3333333333333333, \"#9c179e\"], [0.4444444444444444, \"#bd3786\"], [0.5555555555555556, \"#d8576b\"], [0.6666666666666666, \"#ed7953\"], [0.7777777777777778, \"#fb9f3a\"], [0.8888888888888888, \"#fdca26\"], [1.0, \"#f0f921\"]], \"type\": \"histogram2d\"}], \"histogram2dcontour\": [{\"colorbar\": {\"outlinewidth\": 0, \"ticks\": \"\"}, \"colorscale\": [[0.0, \"#0d0887\"], [0.1111111111111111, \"#46039f\"], [0.2222222222222222, \"#7201a8\"], [0.3333333333333333, \"#9c179e\"], [0.4444444444444444, \"#bd3786\"], [0.5555555555555556, \"#d8576b\"], [0.6666666666666666, \"#ed7953\"], [0.7777777777777778, \"#fb9f3a\"], [0.8888888888888888, \"#fdca26\"], [1.0, \"#f0f921\"]], \"type\": \"histogram2dcontour\"}], \"mesh3d\": [{\"colorbar\": {\"outlinewidth\": 0, \"ticks\": \"\"}, \"type\": \"mesh3d\"}], \"parcoords\": [{\"line\": {\"colorbar\": {\"outlinewidth\": 0, \"ticks\": \"\"}}, \"type\": \"parcoords\"}], \"pie\": [{\"automargin\": true, \"type\": \"pie\"}], \"scatter\": [{\"marker\": {\"colorbar\": {\"outlinewidth\": 0, \"ticks\": \"\"}}, \"type\": \"scatter\"}], \"scatter3d\": [{\"line\": {\"colorbar\": {\"outlinewidth\": 0, \"ticks\": \"\"}}, \"marker\": {\"colorbar\": {\"outlinewidth\": 0, \"ticks\": \"\"}}, \"type\": \"scatter3d\"}], \"scattercarpet\": [{\"marker\": {\"colorbar\": {\"outlinewidth\": 0, \"ticks\": \"\"}}, \"type\": \"scattercarpet\"}], \"scattergeo\": [{\"marker\": {\"colorbar\": {\"outlinewidth\": 0, \"ticks\": \"\"}}, \"type\": \"scattergeo\"}], \"scattergl\": [{\"marker\": {\"colorbar\": {\"outlinewidth\": 0, \"ticks\": \"\"}}, \"type\": \"scattergl\"}], \"scattermapbox\": [{\"marker\": {\"colorbar\": {\"outlinewidth\": 0, \"ticks\": \"\"}}, \"type\": \"scattermapbox\"}], \"scatterpolar\": [{\"marker\": {\"colorbar\": {\"outlinewidth\": 0, \"ticks\": \"\"}}, \"type\": \"scatterpolar\"}], \"scatterpolargl\": [{\"marker\": {\"colorbar\": {\"outlinewidth\": 0, \"ticks\": \"\"}}, \"type\": \"scatterpolargl\"}], \"scatterternary\": [{\"marker\": {\"colorbar\": {\"outlinewidth\": 0, \"ticks\": \"\"}}, \"type\": \"scatterternary\"}], \"surface\": [{\"colorbar\": {\"outlinewidth\": 0, \"ticks\": \"\"}, \"colorscale\": [[0.0, \"#0d0887\"], [0.1111111111111111, \"#46039f\"], [0.2222222222222222, \"#7201a8\"], [0.3333333333333333, \"#9c179e\"], [0.4444444444444444, \"#bd3786\"], [0.5555555555555556, \"#d8576b\"], [0.6666666666666666, \"#ed7953\"], [0.7777777777777778, \"#fb9f3a\"], [0.8888888888888888, \"#fdca26\"], [1.0, \"#f0f921\"]], \"type\": \"surface\"}], \"table\": [{\"cells\": {\"fill\": {\"color\": \"#EBF0F8\"}, \"line\": {\"color\": \"white\"}}, \"header\": {\"fill\": {\"color\": \"#C8D4E3\"}, \"line\": {\"color\": \"white\"}}, \"type\": \"table\"}]}, \"layout\": {\"annotationdefaults\": {\"arrowcolor\": \"#2a3f5f\", \"arrowhead\": 0, \"arrowwidth\": 1}, \"coloraxis\": {\"colorbar\": {\"outlinewidth\": 0, \"ticks\": \"\"}}, \"colorscale\": {\"diverging\": [[0, \"#8e0152\"], [0.1, \"#c51b7d\"], [0.2, \"#de77ae\"], [0.3, \"#f1b6da\"], [0.4, \"#fde0ef\"], [0.5, \"#f7f7f7\"], [0.6, \"#e6f5d0\"], [0.7, \"#b8e186\"], [0.8, \"#7fbc41\"], [0.9, \"#4d9221\"], [1, \"#276419\"]], \"sequential\": [[0.0, \"#0d0887\"], [0.1111111111111111, \"#46039f\"], [0.2222222222222222, \"#7201a8\"], [0.3333333333333333, \"#9c179e\"], [0.4444444444444444, \"#bd3786\"], [0.5555555555555556, \"#d8576b\"], [0.6666666666666666, \"#ed7953\"], [0.7777777777777778, \"#fb9f3a\"], [0.8888888888888888, \"#fdca26\"], [1.0, \"#f0f921\"]], \"sequentialminus\": [[0.0, \"#0d0887\"], [0.1111111111111111, \"#46039f\"], [0.2222222222222222, \"#7201a8\"], [0.3333333333333333, \"#9c179e\"], [0.4444444444444444, \"#bd3786\"], [0.5555555555555556, \"#d8576b\"], [0.6666666666666666, \"#ed7953\"], [0.7777777777777778, \"#fb9f3a\"], [0.8888888888888888, \"#fdca26\"], [1.0, \"#f0f921\"]]}, \"colorway\": [\"#636efa\", \"#EF553B\", \"#00cc96\", \"#ab63fa\", \"#FFA15A\", \"#19d3f3\", \"#FF6692\", \"#B6E880\", \"#FF97FF\", \"#FECB52\"], \"font\": {\"color\": \"#2a3f5f\"}, \"geo\": {\"bgcolor\": \"white\", \"lakecolor\": \"white\", \"landcolor\": \"#E5ECF6\", \"showlakes\": true, \"showland\": true, \"subunitcolor\": \"white\"}, \"hoverlabel\": {\"align\": \"left\"}, \"hovermode\": \"closest\", \"mapbox\": {\"style\": \"light\"}, \"paper_bgcolor\": \"white\", \"plot_bgcolor\": \"#E5ECF6\", \"polar\": {\"angularaxis\": {\"gridcolor\": \"white\", \"linecolor\": \"white\", \"ticks\": \"\"}, \"bgcolor\": \"#E5ECF6\", \"radialaxis\": {\"gridcolor\": \"white\", \"linecolor\": \"white\", \"ticks\": \"\"}}, \"scene\": {\"xaxis\": {\"backgroundcolor\": \"#E5ECF6\", \"gridcolor\": \"white\", \"gridwidth\": 2, \"linecolor\": \"white\", \"showbackground\": true, \"ticks\": \"\", \"zerolinecolor\": \"white\"}, \"yaxis\": {\"backgroundcolor\": \"#E5ECF6\", \"gridcolor\": \"white\", \"gridwidth\": 2, \"linecolor\": \"white\", \"showbackground\": true, \"ticks\": \"\", \"zerolinecolor\": \"white\"}, \"zaxis\": {\"backgroundcolor\": \"#E5ECF6\", \"gridcolor\": \"white\", \"gridwidth\": 2, \"linecolor\": \"white\", \"showbackground\": true, \"ticks\": \"\", \"zerolinecolor\": \"white\"}}, \"shapedefaults\": {\"line\": {\"color\": \"#2a3f5f\"}}, \"ternary\": {\"aaxis\": {\"gridcolor\": \"white\", \"linecolor\": \"white\", \"ticks\": \"\"}, \"baxis\": {\"gridcolor\": \"white\", \"linecolor\": \"white\", \"ticks\": \"\"}, \"bgcolor\": \"#E5ECF6\", \"caxis\": {\"gridcolor\": \"white\", \"linecolor\": \"white\", \"ticks\": \"\"}}, \"title\": {\"x\": 0.05}, \"xaxis\": {\"automargin\": true, \"gridcolor\": \"white\", \"linecolor\": \"white\", \"ticks\": \"\", \"title\": {\"standoff\": 15}, \"zerolinecolor\": \"white\", \"zerolinewidth\": 2}, \"yaxis\": {\"automargin\": true, \"gridcolor\": \"white\", \"linecolor\": \"white\", \"ticks\": \"\", \"title\": {\"standoff\": 15}, \"zerolinecolor\": \"white\", \"zerolinewidth\": 2}}}, \"title\": {\"text\": \"Percent of United States of America Power Sector Emissions by Fuel Source\"}},\n                        {\"responsive\": true}\n                    ).then(function(){\n                            \nvar gd = document.getElementById('ee6981ea-c9a9-43e1-be8f-a57c24638498');\nvar x = new MutationObserver(function (mutations, observer) {{\n        var display = window.getComputedStyle(gd).display;\n        if (!display || display === 'none') {{\n            console.log([gd, 'removed!']);\n            Plotly.purge(gd);\n            observer.disconnect();\n        }}\n}});\n\n// Listen for the removal of the full notebook cells\nvar notebookContainer = gd.closest('#notebook-container');\nif (notebookContainer) {{\n    x.observe(notebookContainer, {childList: true});\n}}\n\n// Listen for the clearing of the current output cell\nvar outputEl = gd.closest('.output');\nif (outputEl) {{\n    x.observe(outputEl, {childList: true});\n}}\n\n                        })\n                };\n                });\n            </script>\n        </div>"
     },
     "metadata": {}
    }
   ],
   "source": [
    "switches = {'emission':'co2_lbs', 'country_long':'United States of America'}\n",
    "\n",
    "\n",
    "query = f\"\"\"\n",
    "    SELECT\n",
    "        a.primary_fuel,\n",
    "        SUM(a.cum_{switches['emission']}) as emission\n",
    "    FROM {Config.SCHEMA}.plant a\n",
    "    WHERE a.country_long = '{switches['country_long']}'\n",
    "    GROUP BY a.primary_fuel\n",
    "    \"\"\"\n",
    "\n",
    "df = pd.read_sql(query, engine)\n",
    "\n",
    "df['percent'] = df['emission'] / df['emission'].sum()\n",
    "\n",
    "df.columns = ['Primary Fuel', f\"{switches['emission']} Cumulative Emissions (lbs)\", \"Percent\"]\n",
    "\n",
    "fig = px.pie(df, values='Percent', names='Primary Fuel', color_discrete_map=primary_fuel_cmap,\n",
    "             title=f\"Percent of {switches['country_long']} Power Sector Emissions by Fuel Source\")\n",
    "fig.update_traces(textposition='inside', textinfo='percent+label')\n",
    "fig.show()\n"
   ]
  },
  {
   "cell_type": "code",
   "execution_count": 85,
   "metadata": {},
   "outputs": [
    {
     "output_type": "display_data",
     "data": {
      "application/vnd.plotly.v1+json": {
       "config": {
        "plotlyServerURL": "https://plot.ly"
       },
       "data": [
        {
         "customdata": [
          [
           "United States of America"
          ],
          [
           "United States of America"
          ],
          [
           "United States of America"
          ],
          [
           "United States of America"
          ],
          [
           "United States of America"
          ],
          [
           "United States of America"
          ],
          [
           "United States of America"
          ],
          [
           "United States of America"
          ],
          [
           "United States of America"
          ],
          [
           "United States of America"
          ],
          [
           "United States of America"
          ],
          [
           "United States of America"
          ],
          [
           "United States of America"
          ],
          [
           "United States of America"
          ],
          [
           "United States of America"
          ],
          [
           "United States of America"
          ],
          [
           "United States of America"
          ],
          [
           "United States of America"
          ],
          [
           "United States of America"
          ],
          [
           "United States of America"
          ],
          [
           "United States of America"
          ],
          [
           "United States of America"
          ],
          [
           "United States of America"
          ],
          [
           "United States of America"
          ],
          [
           "United States of America"
          ],
          [
           "United States of America"
          ],
          [
           "United States of America"
          ],
          [
           "United States of America"
          ],
          [
           "United States of America"
          ],
          [
           "United States of America"
          ],
          [
           "United States of America"
          ],
          [
           "United States of America"
          ],
          [
           "United States of America"
          ],
          [
           "United States of America"
          ],
          [
           "United States of America"
          ],
          [
           "United States of America"
          ],
          [
           "United States of America"
          ],
          [
           "United States of America"
          ],
          [
           "United States of America"
          ],
          [
           "United States of America"
          ],
          [
           "United States of America"
          ],
          [
           "United States of America"
          ],
          [
           "United States of America"
          ],
          [
           "United States of America"
          ],
          [
           "United States of America"
          ],
          [
           "United States of America"
          ],
          [
           "United States of America"
          ],
          [
           "United States of America"
          ],
          [
           "United States of America"
          ],
          [
           "United States of America"
          ],
          [
           "United States of America"
          ],
          [
           "United States of America"
          ],
          [
           "United States of America"
          ],
          [
           "United States of America"
          ],
          [
           "United States of America"
          ],
          [
           "United States of America"
          ],
          [
           "United States of America"
          ],
          [
           "United States of America"
          ],
          [
           "United States of America"
          ],
          [
           "United States of America"
          ],
          [
           "United States of America"
          ],
          [
           "United States of America"
          ],
          [
           "United States of America"
          ],
          [
           "United States of America"
          ],
          [
           "United States of America"
          ],
          [
           "United States of America"
          ],
          [
           "United States of America"
          ],
          [
           "United States of America"
          ],
          [
           "United States of America"
          ],
          [
           "United States of America"
          ],
          [
           "United States of America"
          ],
          [
           "United States of America"
          ],
          [
           "United States of America"
          ],
          [
           "United States of America"
          ],
          [
           "United States of America"
          ],
          [
           "United States of America"
          ],
          [
           "United States of America"
          ],
          [
           "United States of America"
          ],
          [
           "United States of America"
          ],
          [
           "United States of America"
          ],
          [
           "United States of America"
          ],
          [
           "United States of America"
          ],
          [
           "United States of America"
          ],
          [
           "United States of America"
          ],
          [
           "United States of America"
          ],
          [
           "United States of America"
          ],
          [
           "United States of America"
          ],
          [
           "United States of America"
          ],
          [
           "United States of America"
          ],
          [
           "United States of America"
          ],
          [
           "United States of America"
          ],
          [
           "United States of America"
          ],
          [
           "United States of America"
          ],
          [
           "United States of America"
          ],
          [
           "United States of America"
          ],
          [
           "United States of America"
          ],
          [
           "United States of America"
          ],
          [
           "United States of America"
          ],
          [
           "United States of America"
          ],
          [
           "United States of America"
          ],
          [
           "United States of America"
          ],
          [
           "United States of America"
          ],
          [
           "United States of America"
          ],
          [
           "United States of America"
          ],
          [
           "United States of America"
          ],
          [
           "United States of America"
          ],
          [
           "United States of America"
          ],
          [
           "United States of America"
          ],
          [
           "United States of America"
          ],
          [
           "United States of America"
          ],
          [
           "United States of America"
          ],
          [
           "United States of America"
          ],
          [
           "United States of America"
          ],
          [
           "United States of America"
          ],
          [
           "United States of America"
          ],
          [
           "United States of America"
          ],
          [
           "United States of America"
          ],
          [
           "United States of America"
          ],
          [
           "United States of America"
          ],
          [
           "United States of America"
          ],
          [
           "United States of America"
          ],
          [
           "United States of America"
          ],
          [
           "United States of America"
          ],
          [
           "United States of America"
          ],
          [
           "United States of America"
          ],
          [
           "United States of America"
          ],
          [
           "United States of America"
          ],
          [
           "United States of America"
          ],
          [
           "United States of America"
          ],
          [
           "United States of America"
          ],
          [
           "United States of America"
          ],
          [
           "United States of America"
          ],
          [
           "United States of America"
          ],
          [
           "United States of America"
          ],
          [
           "United States of America"
          ],
          [
           "United States of America"
          ],
          [
           "United States of America"
          ],
          [
           "United States of America"
          ],
          [
           "United States of America"
          ],
          [
           "United States of America"
          ],
          [
           "United States of America"
          ],
          [
           "United States of America"
          ],
          [
           "United States of America"
          ],
          [
           "United States of America"
          ],
          [
           "United States of America"
          ],
          [
           "United States of America"
          ],
          [
           "United States of America"
          ],
          [
           "United States of America"
          ],
          [
           "United States of America"
          ],
          [
           "United States of America"
          ],
          [
           "United States of America"
          ],
          [
           "United States of America"
          ],
          [
           "United States of America"
          ],
          [
           "United States of America"
          ],
          [
           "United States of America"
          ],
          [
           "United States of America"
          ],
          [
           "United States of America"
          ],
          [
           "United States of America"
          ],
          [
           "United States of America"
          ],
          [
           "United States of America"
          ],
          [
           "United States of America"
          ],
          [
           "United States of America"
          ],
          [
           "United States of America"
          ],
          [
           "United States of America"
          ],
          [
           "United States of America"
          ],
          [
           "United States of America"
          ],
          [
           "United States of America"
          ],
          [
           "United States of America"
          ],
          [
           "United States of America"
          ],
          [
           "United States of America"
          ],
          [
           "United States of America"
          ],
          [
           "United States of America"
          ],
          [
           "United States of America"
          ],
          [
           "United States of America"
          ],
          [
           "United States of America"
          ],
          [
           "United States of America"
          ],
          [
           "United States of America"
          ],
          [
           "United States of America"
          ],
          [
           "United States of America"
          ],
          [
           "United States of America"
          ],
          [
           "United States of America"
          ],
          [
           "United States of America"
          ],
          [
           "United States of America"
          ],
          [
           "United States of America"
          ],
          [
           "United States of America"
          ],
          [
           "United States of America"
          ],
          [
           "United States of America"
          ],
          [
           "United States of America"
          ],
          [
           "United States of America"
          ],
          [
           "United States of America"
          ],
          [
           "United States of America"
          ],
          [
           "United States of America"
          ],
          [
           "United States of America"
          ],
          [
           "United States of America"
          ],
          [
           "United States of America"
          ],
          [
           "United States of America"
          ],
          [
           "United States of America"
          ],
          [
           "United States of America"
          ],
          [
           "United States of America"
          ],
          [
           "United States of America"
          ],
          [
           "United States of America"
          ],
          [
           "United States of America"
          ],
          [
           "United States of America"
          ],
          [
           "United States of America"
          ],
          [
           "United States of America"
          ],
          [
           "United States of America"
          ],
          [
           "United States of America"
          ],
          [
           "United States of America"
          ],
          [
           "United States of America"
          ],
          [
           "United States of America"
          ],
          [
           "United States of America"
          ],
          [
           "United States of America"
          ],
          [
           "United States of America"
          ]
         ],
         "hovertemplate": "Primary Fuel=Coal<br>Plant Capacity MW=%{x}<br>CO2 Cumulative Emissions (lbs)=%{marker.size}<br>Country=%{customdata[0]}<extra></extra>",
         "legendgroup": "Coal",
         "marker": {
          "color": "#636EFA",
          "opacity": 0.5,
          "size": [
           32595190352,
           29800995136,
           27682893568,
           27459488736,
           26333641168,
           25965134048,
           24421098400,
           24128095904,
           23741781024,
           23335390240,
           22348398480,
           22151987872,
           21729931296,
           21551122480,
           21464112784,
           21267961936,
           21220313392,
           20687088496,
           19976491920,
           19451321872,
           18546644720,
           18217415704,
           18201742816,
           17885011696,
           17631886352,
           17608720256,
           17514366784,
           17347392032,
           17229302800,
           16988827912,
           16653983952,
           16512398048,
           16402403120,
           16353985392,
           16154372016,
           16025660624,
           16016937136,
           15973560280,
           15843013728,
           15762580992,
           15708488880,
           15392906240,
           15178355288,
           15001146152,
           14430089208,
           14201667200,
           14089052928,
           13993227184,
           13968185056,
           13943839568,
           13774737944,
           13759767264,
           13713797088,
           13550386592,
           13282082656,
           13074080800,
           13043273216,
           12934120448,
           12696764464,
           12612903728,
           12509430528,
           12237662672,
           12223148632,
           12003107696,
           11796073184,
           11671945816,
           11514957000,
           11510256872,
           11430875584,
           11421156792,
           11206273616,
           11077025532,
           11076821528,
           11075403488,
           10647677026,
           10383311776,
           10162587656,
           10103793024,
           9899336912,
           9853994504,
           9814994824,
           9795578680,
           9424368496,
           9296146472,
           9144129696,
           9084619632,
           9043558232,
           9035506080,
           8945820536,
           8941892664,
           8915451720,
           8884229528,
           8852689704,
           8845654048,
           8816549352,
           8782579280,
           8748667472,
           8743517764,
           8428625368,
           8331656904,
           8270618156,
           8258453832,
           8165720136,
           8017154296,
           8015786212,
           7923732376,
           7906062720,
           7849426616,
           7824550528,
           7812772232,
           7728447688,
           7654233256,
           7633914248,
           7550134240,
           7412578456,
           7349853544,
           7338110352,
           7326091480,
           7293838016,
           7186979848,
           7080600464,
           6929028976,
           6926474520,
           6911419864,
           6881717432,
           6862340416,
           6850918412,
           6786799072,
           6703845336,
           6598201056,
           6535475528,
           6504465964,
           6483707248,
           6461862352,
           6443768308,
           6438099616,
           6387127184,
           6311659590,
           6266801200,
           6259729152,
           6232558936,
           6232166592,
           6161868032,
           6153737552,
           6137476232,
           6082697844,
           6078406856,
           6028022992,
           6022074796,
           5962291940,
           5958131464,
           5906378732,
           5816324288,
           5798862088,
           5716294610,
           5642276140,
           5625709268,
           5532283336,
           5518201596,
           5421404448,
           5252457080,
           5200371728,
           5085377976,
           5063100172,
           4949626518,
           4896893988,
           4884756184,
           4866992470,
           4857747032,
           4840432636,
           4778456048,
           4758239898,
           4746666240,
           4741015064,
           4656168076,
           4653345272,
           4646173142,
           4563389608,
           4531725712,
           4473384844,
           4471066428,
           4330030232,
           4056876308,
           4050064418,
           4009530084,
           3980115858,
           3800878378,
           3764293940,
           3726805284,
           3587495194,
           3515844792,
           3454249576,
           3363088402,
           3323165772,
           3268316244,
           3245892888,
           3164748248,
           3091811830,
           3056946632,
           3056068774,
           2944242916,
           2916866324,
           2794119048,
           2738169002,
           2732503308,
           2726769368,
           2637324702,
           2568766240,
           2534412462,
           2521153102,
           2510729280,
           2502728060,
           2491178216
          ],
          "sizemode": "area",
          "sizeref": 81487975.88,
          "symbol": "circle"
         },
         "mode": "markers",
         "name": "Coal",
         "showlegend": true,
         "type": "scatter",
         "x": [
          2822,
          2389.4,
          3339.5,
          2272,
          2600,
          2379.600000000001,
          2052,
          2409.3,
          3293.0999999999995,
          3564,
          2441.9,
          1795.4,
          2932.6,
          1710,
          1884,
          1884,
          1690,
          3498.6,
          1880.4,
          4008.4,
          2469.3,
          1300,
          34.7,
          1849.8,
          1427.6,
          1577.2,
          1215.6,
          1779.2000000000005,
          1766,
          1579.4,
          1389.6,
          1471.8,
          1648.3,
          1362.6,
          1640,
          602,
          1800,
          1181.7,
          1402.6,
          1635.3,
          454.3,
          2160,
          2491.2,
          1640,
          1444,
          1717.1999999999996,
          2600,
          2390.1,
          1180.8000000000004,
          1800,
          1894.1,
          1425.6,
          2119,
          1980,
          1152,
          1841.4000000000005,
          2600,
          2442.7,
          869.8,
          1186.8,
          924,
          1664.4,
          1608.5,
          1578,
          2225.9,
          1300,
          1368,
          1632.6,
          1073.3,
          1008,
          1242,
          2154.8,
          1116,
          1636.2,
          1680.9,
          922.2,
          1575,
          1112,
          1303.8,
          1086.5,
          721,
          734,
          1005.4,
          1080,
          1729.3000000000004,
          807.5,
          1037.3,
          1700,
          720,
          661.5,
          725.9,
          689.3000000000002,
          1433.6,
          1530.5,
          1166.7,
          1716,
          590.6,
          1099.4,
          772,
          1319,
          656,
          1459.8,
          1235.2,
          1103.4,
          1080,
          1138,
          609,
          1402.1999999999996,
          499.5,
          622.4,
          1785.6,
          668,
          771.8,
          811.9,
          1358,
          1184.8999999999996,
          1099.8,
          764.7,
          1262,
          552.3,
          821.8,
          1370,
          1240,
          804.5,
          644.3,
          627.2,
          720,
          617.4,
          2594.1,
          2012,
          598.4,
          1918.4,
          2201.4,
          483.7,
          1135.8,
          509.4,
          1407.1,
          839.9,
          950,
          465.4,
          1135.1,
          1902.9,
          1775.1,
          1956.8,
          1070.3,
          832,
          517,
          450,
          558,
          706.8000000000002,
          488,
          642.2,
          763.2,
          848,
          2558.2,
          1548,
          586,
          410,
          932,
          513.7,
          441,
          644.7,
          445.3,
          584.1,
          2468.1,
          1610.8000000000006,
          535.5,
          2741.100000000001,
          713.5,
          720.7,
          822.8,
          1903.5,
          402.3,
          24.9,
          422,
          417.3,
          1799.5000000000002,
          695.9,
          349.2,
          451,
          446,
          350,
          585,
          598.4,
          603,
          453.5,
          793.7,
          306.3,
          261,
          348.7,
          617.8000000000002,
          324.3,
          469,
          660.7,
          450,
          345.6,
          368.9,
          540,
          257,
          405,
          637,
          538,
          30,
          212.8,
          6,
          1041,
          641,
          1148.4,
          387,
          131.6,
          1260,
          154.7,
          13.3
         ],
         "xaxis": "x",
         "y": [
          32595190352,
          29800995136,
          27682893568,
          27459488736,
          26333641168,
          25965134048,
          24421098400,
          24128095904,
          23741781024,
          23335390240,
          22348398480,
          22151987872,
          21729931296,
          21551122480,
          21464112784,
          21267961936,
          21220313392,
          20687088496,
          19976491920,
          19451321872,
          18546644720,
          18217415704,
          18201742816,
          17885011696,
          17631886352,
          17608720256,
          17514366784,
          17347392032,
          17229302800,
          16988827912,
          16653983952,
          16512398048,
          16402403120,
          16353985392,
          16154372016,
          16025660624,
          16016937136,
          15973560280,
          15843013728,
          15762580992,
          15708488880,
          15392906240,
          15178355288,
          15001146152,
          14430089208,
          14201667200,
          14089052928,
          13993227184,
          13968185056,
          13943839568,
          13774737944,
          13759767264,
          13713797088,
          13550386592,
          13282082656,
          13074080800,
          13043273216,
          12934120448,
          12696764464,
          12612903728,
          12509430528,
          12237662672,
          12223148632,
          12003107696,
          11796073184,
          11671945816,
          11514957000,
          11510256872,
          11430875584,
          11421156792,
          11206273616,
          11077025532,
          11076821528,
          11075403488,
          10647677026,
          10383311776,
          10162587656,
          10103793024,
          9899336912,
          9853994504,
          9814994824,
          9795578680,
          9424368496,
          9296146472,
          9144129696,
          9084619632,
          9043558232,
          9035506080,
          8945820536,
          8941892664,
          8915451720,
          8884229528,
          8852689704,
          8845654048,
          8816549352,
          8782579280,
          8748667472,
          8743517764,
          8428625368,
          8331656904,
          8270618156,
          8258453832,
          8165720136,
          8017154296,
          8015786212,
          7923732376,
          7906062720,
          7849426616,
          7824550528,
          7812772232,
          7728447688,
          7654233256,
          7633914248,
          7550134240,
          7412578456,
          7349853544,
          7338110352,
          7326091480,
          7293838016,
          7186979848,
          7080600464,
          6929028976,
          6926474520,
          6911419864,
          6881717432,
          6862340416,
          6850918412,
          6786799072,
          6703845336,
          6598201056,
          6535475528,
          6504465964,
          6483707248,
          6461862352,
          6443768308,
          6438099616,
          6387127184,
          6311659590,
          6266801200,
          6259729152,
          6232558936,
          6232166592,
          6161868032,
          6153737552,
          6137476232,
          6082697844,
          6078406856,
          6028022992,
          6022074796,
          5962291940,
          5958131464,
          5906378732,
          5816324288,
          5798862088,
          5716294610,
          5642276140,
          5625709268,
          5532283336,
          5518201596,
          5421404448,
          5252457080,
          5200371728,
          5085377976,
          5063100172,
          4949626518,
          4896893988,
          4884756184,
          4866992470,
          4857747032,
          4840432636,
          4778456048,
          4758239898,
          4746666240,
          4741015064,
          4656168076,
          4653345272,
          4646173142,
          4563389608,
          4531725712,
          4473384844,
          4471066428,
          4330030232,
          4056876308,
          4050064418,
          4009530084,
          3980115858,
          3800878378,
          3764293940,
          3726805284,
          3587495194,
          3515844792,
          3454249576,
          3363088402,
          3323165772,
          3268316244,
          3245892888,
          3164748248,
          3091811830,
          3056946632,
          3056068774,
          2944242916,
          2916866324,
          2794119048,
          2738169002,
          2732503308,
          2726769368,
          2637324702,
          2568766240,
          2534412462,
          2521153102,
          2510729280,
          2502728060,
          2491178216
         ],
         "yaxis": "y"
        },
        {
         "alignmentgroup": "True",
         "bingroup": "x",
         "hovertemplate": "Primary Fuel=Coal<br>Plant Capacity MW=%{x}<br>count=%{y}<extra></extra>",
         "legendgroup": "Coal",
         "marker": {
          "color": "#636EFA"
         },
         "name": "Coal",
         "offsetgroup": "Coal",
         "opacity": 0.5,
         "showlegend": false,
         "type": "histogram",
         "x": [
          2822,
          2389.4,
          3339.5,
          2272,
          2600,
          2379.600000000001,
          2052,
          2409.3,
          3293.0999999999995,
          3564,
          2441.9,
          1795.4,
          2932.6,
          1710,
          1884,
          1884,
          1690,
          3498.6,
          1880.4,
          4008.4,
          2469.3,
          1300,
          34.7,
          1849.8,
          1427.6,
          1577.2,
          1215.6,
          1779.2000000000005,
          1766,
          1579.4,
          1389.6,
          1471.8,
          1648.3,
          1362.6,
          1640,
          602,
          1800,
          1181.7,
          1402.6,
          1635.3,
          454.3,
          2160,
          2491.2,
          1640,
          1444,
          1717.1999999999996,
          2600,
          2390.1,
          1180.8000000000004,
          1800,
          1894.1,
          1425.6,
          2119,
          1980,
          1152,
          1841.4000000000005,
          2600,
          2442.7,
          869.8,
          1186.8,
          924,
          1664.4,
          1608.5,
          1578,
          2225.9,
          1300,
          1368,
          1632.6,
          1073.3,
          1008,
          1242,
          2154.8,
          1116,
          1636.2,
          1680.9,
          922.2,
          1575,
          1112,
          1303.8,
          1086.5,
          721,
          734,
          1005.4,
          1080,
          1729.3000000000004,
          807.5,
          1037.3,
          1700,
          720,
          661.5,
          725.9,
          689.3000000000002,
          1433.6,
          1530.5,
          1166.7,
          1716,
          590.6,
          1099.4,
          772,
          1319,
          656,
          1459.8,
          1235.2,
          1103.4,
          1080,
          1138,
          609,
          1402.1999999999996,
          499.5,
          622.4,
          1785.6,
          668,
          771.8,
          811.9,
          1358,
          1184.8999999999996,
          1099.8,
          764.7,
          1262,
          552.3,
          821.8,
          1370,
          1240,
          804.5,
          644.3,
          627.2,
          720,
          617.4,
          2594.1,
          2012,
          598.4,
          1918.4,
          2201.4,
          483.7,
          1135.8,
          509.4,
          1407.1,
          839.9,
          950,
          465.4,
          1135.1,
          1902.9,
          1775.1,
          1956.8,
          1070.3,
          832,
          517,
          450,
          558,
          706.8000000000002,
          488,
          642.2,
          763.2,
          848,
          2558.2,
          1548,
          586,
          410,
          932,
          513.7,
          441,
          644.7,
          445.3,
          584.1,
          2468.1,
          1610.8000000000006,
          535.5,
          2741.100000000001,
          713.5,
          720.7,
          822.8,
          1903.5,
          402.3,
          24.9,
          422,
          417.3,
          1799.5000000000002,
          695.9,
          349.2,
          451,
          446,
          350,
          585,
          598.4,
          603,
          453.5,
          793.7,
          306.3,
          261,
          348.7,
          617.8000000000002,
          324.3,
          469,
          660.7,
          450,
          345.6,
          368.9,
          540,
          257,
          405,
          637,
          538,
          30,
          212.8,
          6,
          1041,
          641,
          1148.4,
          387,
          131.6,
          1260,
          154.7,
          13.3
         ],
         "xaxis": "x3",
         "yaxis": "y3"
        },
        {
         "alignmentgroup": "True",
         "bingroup": "y",
         "hovertemplate": "Primary Fuel=Coal<br>CO2 Cumulative Emissions (lbs)=%{y}<br>count=%{x}<extra></extra>",
         "legendgroup": "Coal",
         "marker": {
          "color": "#636EFA"
         },
         "name": "Coal",
         "offsetgroup": "Coal",
         "opacity": 0.5,
         "showlegend": false,
         "type": "histogram",
         "xaxis": "x2",
         "y": [
          32595190352,
          29800995136,
          27682893568,
          27459488736,
          26333641168,
          25965134048,
          24421098400,
          24128095904,
          23741781024,
          23335390240,
          22348398480,
          22151987872,
          21729931296,
          21551122480,
          21464112784,
          21267961936,
          21220313392,
          20687088496,
          19976491920,
          19451321872,
          18546644720,
          18217415704,
          18201742816,
          17885011696,
          17631886352,
          17608720256,
          17514366784,
          17347392032,
          17229302800,
          16988827912,
          16653983952,
          16512398048,
          16402403120,
          16353985392,
          16154372016,
          16025660624,
          16016937136,
          15973560280,
          15843013728,
          15762580992,
          15708488880,
          15392906240,
          15178355288,
          15001146152,
          14430089208,
          14201667200,
          14089052928,
          13993227184,
          13968185056,
          13943839568,
          13774737944,
          13759767264,
          13713797088,
          13550386592,
          13282082656,
          13074080800,
          13043273216,
          12934120448,
          12696764464,
          12612903728,
          12509430528,
          12237662672,
          12223148632,
          12003107696,
          11796073184,
          11671945816,
          11514957000,
          11510256872,
          11430875584,
          11421156792,
          11206273616,
          11077025532,
          11076821528,
          11075403488,
          10647677026,
          10383311776,
          10162587656,
          10103793024,
          9899336912,
          9853994504,
          9814994824,
          9795578680,
          9424368496,
          9296146472,
          9144129696,
          9084619632,
          9043558232,
          9035506080,
          8945820536,
          8941892664,
          8915451720,
          8884229528,
          8852689704,
          8845654048,
          8816549352,
          8782579280,
          8748667472,
          8743517764,
          8428625368,
          8331656904,
          8270618156,
          8258453832,
          8165720136,
          8017154296,
          8015786212,
          7923732376,
          7906062720,
          7849426616,
          7824550528,
          7812772232,
          7728447688,
          7654233256,
          7633914248,
          7550134240,
          7412578456,
          7349853544,
          7338110352,
          7326091480,
          7293838016,
          7186979848,
          7080600464,
          6929028976,
          6926474520,
          6911419864,
          6881717432,
          6862340416,
          6850918412,
          6786799072,
          6703845336,
          6598201056,
          6535475528,
          6504465964,
          6483707248,
          6461862352,
          6443768308,
          6438099616,
          6387127184,
          6311659590,
          6266801200,
          6259729152,
          6232558936,
          6232166592,
          6161868032,
          6153737552,
          6137476232,
          6082697844,
          6078406856,
          6028022992,
          6022074796,
          5962291940,
          5958131464,
          5906378732,
          5816324288,
          5798862088,
          5716294610,
          5642276140,
          5625709268,
          5532283336,
          5518201596,
          5421404448,
          5252457080,
          5200371728,
          5085377976,
          5063100172,
          4949626518,
          4896893988,
          4884756184,
          4866992470,
          4857747032,
          4840432636,
          4778456048,
          4758239898,
          4746666240,
          4741015064,
          4656168076,
          4653345272,
          4646173142,
          4563389608,
          4531725712,
          4473384844,
          4471066428,
          4330030232,
          4056876308,
          4050064418,
          4009530084,
          3980115858,
          3800878378,
          3764293940,
          3726805284,
          3587495194,
          3515844792,
          3454249576,
          3363088402,
          3323165772,
          3268316244,
          3245892888,
          3164748248,
          3091811830,
          3056946632,
          3056068774,
          2944242916,
          2916866324,
          2794119048,
          2738169002,
          2732503308,
          2726769368,
          2637324702,
          2568766240,
          2534412462,
          2521153102,
          2510729280,
          2502728060,
          2491178216
         ],
         "yaxis": "y2"
        },
        {
         "customdata": [
          [
           "United States of America"
          ],
          [
           "United States of America"
          ],
          [
           "United States of America"
          ],
          [
           "United States of America"
          ],
          [
           "United States of America"
          ],
          [
           "United States of America"
          ],
          [
           "United States of America"
          ],
          [
           "United States of America"
          ],
          [
           "United States of America"
          ],
          [
           "United States of America"
          ],
          [
           "United States of America"
          ],
          [
           "United States of America"
          ],
          [
           "United States of America"
          ],
          [
           "United States of America"
          ],
          [
           "United States of America"
          ],
          [
           "United States of America"
          ],
          [
           "United States of America"
          ],
          [
           "United States of America"
          ],
          [
           "United States of America"
          ],
          [
           "United States of America"
          ],
          [
           "United States of America"
          ],
          [
           "United States of America"
          ],
          [
           "United States of America"
          ],
          [
           "United States of America"
          ],
          [
           "United States of America"
          ],
          [
           "United States of America"
          ],
          [
           "United States of America"
          ],
          [
           "United States of America"
          ],
          [
           "United States of America"
          ],
          [
           "United States of America"
          ],
          [
           "United States of America"
          ],
          [
           "United States of America"
          ],
          [
           "United States of America"
          ],
          [
           "United States of America"
          ],
          [
           "United States of America"
          ],
          [
           "United States of America"
          ],
          [
           "United States of America"
          ],
          [
           "United States of America"
          ],
          [
           "United States of America"
          ],
          [
           "United States of America"
          ],
          [
           "United States of America"
          ],
          [
           "United States of America"
          ],
          [
           "United States of America"
          ],
          [
           "United States of America"
          ],
          [
           "United States of America"
          ],
          [
           "United States of America"
          ],
          [
           "United States of America"
          ],
          [
           "United States of America"
          ],
          [
           "United States of America"
          ],
          [
           "United States of America"
          ],
          [
           "United States of America"
          ],
          [
           "United States of America"
          ],
          [
           "United States of America"
          ],
          [
           "United States of America"
          ],
          [
           "United States of America"
          ],
          [
           "United States of America"
          ],
          [
           "United States of America"
          ],
          [
           "United States of America"
          ],
          [
           "United States of America"
          ],
          [
           "United States of America"
          ],
          [
           "United States of America"
          ],
          [
           "United States of America"
          ],
          [
           "United States of America"
          ],
          [
           "United States of America"
          ],
          [
           "United States of America"
          ],
          [
           "United States of America"
          ],
          [
           "United States of America"
          ],
          [
           "United States of America"
          ],
          [
           "United States of America"
          ],
          [
           "United States of America"
          ],
          [
           "United States of America"
          ],
          [
           "United States of America"
          ],
          [
           "United States of America"
          ],
          [
           "United States of America"
          ],
          [
           "United States of America"
          ],
          [
           "United States of America"
          ],
          [
           "United States of America"
          ],
          [
           "United States of America"
          ],
          [
           "United States of America"
          ],
          [
           "United States of America"
          ],
          [
           "United States of America"
          ],
          [
           "United States of America"
          ],
          [
           "United States of America"
          ],
          [
           "United States of America"
          ],
          [
           "United States of America"
          ],
          [
           "United States of America"
          ],
          [
           "United States of America"
          ],
          [
           "United States of America"
          ],
          [
           "United States of America"
          ],
          [
           "United States of America"
          ],
          [
           "United States of America"
          ],
          [
           "United States of America"
          ],
          [
           "United States of America"
          ],
          [
           "United States of America"
          ],
          [
           "United States of America"
          ],
          [
           "United States of America"
          ],
          [
           "United States of America"
          ],
          [
           "United States of America"
          ],
          [
           "United States of America"
          ],
          [
           "United States of America"
          ],
          [
           "United States of America"
          ],
          [
           "United States of America"
          ],
          [
           "United States of America"
          ],
          [
           "United States of America"
          ],
          [
           "United States of America"
          ],
          [
           "United States of America"
          ],
          [
           "United States of America"
          ],
          [
           "United States of America"
          ],
          [
           "United States of America"
          ],
          [
           "United States of America"
          ],
          [
           "United States of America"
          ],
          [
           "United States of America"
          ],
          [
           "United States of America"
          ],
          [
           "United States of America"
          ],
          [
           "United States of America"
          ],
          [
           "United States of America"
          ],
          [
           "United States of America"
          ],
          [
           "United States of America"
          ],
          [
           "United States of America"
          ],
          [
           "United States of America"
          ],
          [
           "United States of America"
          ],
          [
           "United States of America"
          ],
          [
           "United States of America"
          ],
          [
           "United States of America"
          ],
          [
           "United States of America"
          ],
          [
           "United States of America"
          ],
          [
           "United States of America"
          ],
          [
           "United States of America"
          ],
          [
           "United States of America"
          ],
          [
           "United States of America"
          ],
          [
           "United States of America"
          ],
          [
           "United States of America"
          ],
          [
           "United States of America"
          ],
          [
           "United States of America"
          ],
          [
           "United States of America"
          ],
          [
           "United States of America"
          ],
          [
           "United States of America"
          ],
          [
           "United States of America"
          ],
          [
           "United States of America"
          ],
          [
           "United States of America"
          ],
          [
           "United States of America"
          ],
          [
           "United States of America"
          ],
          [
           "United States of America"
          ],
          [
           "United States of America"
          ],
          [
           "United States of America"
          ],
          [
           "United States of America"
          ],
          [
           "United States of America"
          ],
          [
           "United States of America"
          ],
          [
           "United States of America"
          ],
          [
           "United States of America"
          ],
          [
           "United States of America"
          ],
          [
           "United States of America"
          ],
          [
           "United States of America"
          ],
          [
           "United States of America"
          ],
          [
           "United States of America"
          ],
          [
           "United States of America"
          ],
          [
           "United States of America"
          ],
          [
           "United States of America"
          ],
          [
           "United States of America"
          ],
          [
           "United States of America"
          ],
          [
           "United States of America"
          ],
          [
           "United States of America"
          ],
          [
           "United States of America"
          ],
          [
           "United States of America"
          ],
          [
           "United States of America"
          ],
          [
           "United States of America"
          ],
          [
           "United States of America"
          ],
          [
           "United States of America"
          ],
          [
           "United States of America"
          ],
          [
           "United States of America"
          ],
          [
           "United States of America"
          ],
          [
           "United States of America"
          ],
          [
           "United States of America"
          ],
          [
           "United States of America"
          ],
          [
           "United States of America"
          ],
          [
           "United States of America"
          ],
          [
           "United States of America"
          ],
          [
           "United States of America"
          ],
          [
           "United States of America"
          ],
          [
           "United States of America"
          ],
          [
           "United States of America"
          ],
          [
           "United States of America"
          ],
          [
           "United States of America"
          ],
          [
           "United States of America"
          ],
          [
           "United States of America"
          ],
          [
           "United States of America"
          ],
          [
           "United States of America"
          ],
          [
           "United States of America"
          ],
          [
           "United States of America"
          ],
          [
           "United States of America"
          ],
          [
           "United States of America"
          ],
          [
           "United States of America"
          ],
          [
           "United States of America"
          ],
          [
           "United States of America"
          ],
          [
           "United States of America"
          ],
          [
           "United States of America"
          ],
          [
           "United States of America"
          ],
          [
           "United States of America"
          ],
          [
           "United States of America"
          ],
          [
           "United States of America"
          ],
          [
           "United States of America"
          ],
          [
           "United States of America"
          ],
          [
           "United States of America"
          ],
          [
           "United States of America"
          ],
          [
           "United States of America"
          ],
          [
           "United States of America"
          ],
          [
           "United States of America"
          ],
          [
           "United States of America"
          ],
          [
           "United States of America"
          ],
          [
           "United States of America"
          ],
          [
           "United States of America"
          ],
          [
           "United States of America"
          ],
          [
           "United States of America"
          ],
          [
           "United States of America"
          ],
          [
           "United States of America"
          ],
          [
           "United States of America"
          ],
          [
           "United States of America"
          ],
          [
           "United States of America"
          ],
          [
           "United States of America"
          ],
          [
           "United States of America"
          ],
          [
           "United States of America"
          ],
          [
           "United States of America"
          ],
          [
           "United States of America"
          ],
          [
           "United States of America"
          ],
          [
           "United States of America"
          ],
          [
           "United States of America"
          ],
          [
           "United States of America"
          ],
          [
           "United States of America"
          ],
          [
           "United States of America"
          ],
          [
           "United States of America"
          ],
          [
           "United States of America"
          ],
          [
           "United States of America"
          ],
          [
           "United States of America"
          ],
          [
           "United States of America"
          ],
          [
           "United States of America"
          ],
          [
           "United States of America"
          ],
          [
           "United States of America"
          ],
          [
           "United States of America"
          ],
          [
           "United States of America"
          ],
          [
           "United States of America"
          ],
          [
           "United States of America"
          ],
          [
           "United States of America"
          ],
          [
           "United States of America"
          ],
          [
           "United States of America"
          ],
          [
           "United States of America"
          ],
          [
           "United States of America"
          ],
          [
           "United States of America"
          ]
         ],
         "hovertemplate": "Primary Fuel=Gas<br>Plant Capacity MW=%{x}<br>CO2 Cumulative Emissions (lbs)=%{marker.size}<br>Country=%{customdata[0]}<extra></extra>",
         "legendgroup": "Gas",
         "marker": {
          "color": "#00CC96",
          "opacity": 0.5,
          "size": [
           14895531264,
           13958590848,
           12565520784,
           12396046256,
           10555764192,
           9678710472,
           9677048472,
           9556729616,
           9547388736,
           9502312824,
           9446727664,
           9346521304,
           9098708912,
           9014287904,
           8806235992,
           8423410680,
           8392391744,
           8311794720,
           8229667440,
           8223640320,
           8191118408,
           8127313136,
           7451446248,
           7421562416,
           7421262832,
           7166238332,
           7148287844,
           7114813738,
           7107039024,
           7104259964,
           6980096688,
           6949814672,
           6930977624,
           6908033272,
           6706643240,
           6423595504,
           6096257320,
           6034201516,
           5940215968,
           5732425854.5,
           5659141124,
           5576468576,
           5566155536,
           5501283336,
           5472058759,
           5327061128,
           5260719306,
           5109366012,
           5078037404,
           5062970788,
           4992939208,
           4891233444,
           4887184908,
           4713089704,
           4609134978,
           4600673388,
           4598949648,
           4576015230,
           4568280172.25,
           4536650256,
           4534758792,
           4508199652,
           4506785804,
           4399749888,
           4391865816,
           4380966476,
           4351545296,
           4293178976,
           4235775720,
           4213693268,
           4180773292,
           4173367884,
           4159751498,
           4142946510,
           4119388132,
           4040754848,
           4031850452,
           4004181744,
           3945223532,
           3941624726,
           3935575272,
           3906982484,
           3871749616,
           3846752720,
           3835025972,
           3812715584,
           3785969094,
           3763564432,
           3759013176,
           3757699792,
           3705990844,
           3650563968,
           3616876500,
           3609523604,
           3538110568,
           3524471596,
           3498170484,
           3493615304,
           3471600340,
           3443771398,
           3442308548,
           3431807198,
           3423587940,
           3416345276,
           3414673724,
           3407538854,
           3404443096,
           3389504540,
           3385499270,
           3376183206,
           3366464828,
           3361084612,
           3351468832,
           3350804836,
           3344311168,
           3342872622,
           3335122956,
           3334376288,
           3323858582,
           3319372870,
           3291503628,
           3270325510,
           3266897576,
           3266315500,
           3262034692,
           3259989780,
           3251993510,
           3240497742,
           3237518578,
           3237365632,
           3227141260,
           3215725400,
           3208531962,
           3204616818,
           3202231930,
           3198254492,
           3185259268,
           3185169034,
           3181795272,
           3181081640,
           3166820310,
           3153045643,
           3149873428,
           3149263842,
           3139868186,
           3131700570,
           3121816808,
           3113449084,
           3101867132,
           3084881396,
           3084419236,
           3081987960,
           3077902656,
           3077090342,
           3070404518,
           3065826316,
           3064425576,
           3057607912,
           3056886298,
           3047814504,
           3046705540,
           3027517766,
           3026817042.375,
           3020641250,
           3020463458,
           2998776930,
           2995241840,
           2975261468,
           2966947922,
           2964409692,
           2962600028,
           2945876552,
           2930929878,
           2928849888,
           2926786416,
           2916342284,
           2914580668,
           2912140456,
           2904507946,
           2893502714,
           2885358448,
           2872418084,
           2870499562,
           2841029674,
           2832995426,
           2830531010,
           2811454402,
           2809394036,
           2793271198,
           2790472788,
           2783321392,
           2760158972,
           2756793868,
           2749879162,
           2748824746,
           2747432706,
           2742729013,
           2735958690,
           2726559048,
           2725666788,
           2723398070,
           2716134284,
           2712751100,
           2706878664,
           2687163444,
           2686031068,
           2677544082,
           2674119858,
           2664271718,
           2662663220,
           2657604966,
           2655257150,
           2652278422,
           2642672526,
           2641144516,
           2631241266,
           2626018994,
           2617773284,
           2606331610,
           2601715804,
           2600173642,
           2599346011.25,
           2598104804,
           2586992892,
           2586855388,
           2585990968,
           2576719898,
           2568136572,
           2564591520,
           2560737368,
           2557374532,
           2550322986,
           2546887134,
           2538866346,
           2535657956,
           2530350002,
           2529987656,
           2528530110,
           2521100398,
           2520380490,
           2516225024,
           2508630058,
           2508617434,
           2502244582,
           2501902968,
           2496267718,
           2493754662
          ],
          "sizemode": "area",
          "sizeref": 81487975.88,
          "symbol": "circle"
         },
         "mode": "markers",
         "name": "Gas",
         "showlegend": true,
         "type": "scatter",
         "x": [
          194.8,
          2603.6,
          2263,
          4263,
          2569.4999999999995,
          24.4,
          15.200000000000005,
          13.5,
          16.9,
          29.9,
          18.7,
          26.1,
          39,
          2439.7,
          1995.7,
          4,
          2428,
          20.7,
          11.5,
          1472.2,
          1429.8000000000004,
          13.4,
          2229,
          2680.9,
          21.9,
          1472.2,
          11.8,
          1477.5,
          1176,
          2244.8,
          2377.8,
          1376.6,
          1239,
          1232,
          1894.2000000000005,
          918.3,
          1433.6,
          619,
          842.5,
          619,
          1338,
          987,
          4317.499999999999,
          1853.8,
          619,
          1475.6000000000006,
          22.5,
          572,
          1036,
          619,
          861,
          609,
          1176,
          1465.6,
          2294.0000000000005,
          1230.3,
          1192,
          1231.2,
          2310.2,
          1061.5,
          1152.8,
          894.2,
          1069.6,
          920,
          1492.5,
          11.8,
          22,
          1256,
          273.3,
          450.9,
          974.1,
          1102,
          1433.6,
          1370,
          1001.7,
          1208.8000000000004,
          301.5,
          456,
          303.4000000000001,
          1088.2,
          1389.1999999999996,
          899,
          822.8,
          643.6,
          921.6,
          1606.4,
          1530,
          851,
          1112.6,
          677.8,
          560,
          946.1,
          836.0999999999998,
          2034,
          1288.4,
          697.9000000000002,
          1153,
          823.3,
          697.9000000000002,
          1138,
          923.8,
          927.1,
          1701,
          624,
          595,
          1002.9,
          678.1,
          840,
          903.9,
          821.0999999999998,
          1295,
          1112.4,
          714.9000000000002,
          716.2,
          1325.9999999999998,
          30.7,
          689.4,
          665.6,
          32.6,
          1811.8,
          803.2,
          650,
          536,
          493,
          996.9,
          754.6,
          903.9,
          517,
          1027.9,
          812,
          381.8,
          870,
          1946.3,
          939.6,
          939,
          832.3,
          559,
          72,
          126.9,
          464.5,
          783.1,
          100.8,
          570,
          1214,
          20.7,
          1625.2000000000005,
          795,
          932.9,
          897,
          800.4,
          43.40000000000001,
          777.5999999999998,
          840,
          735.5,
          891,
          1385,
          1352,
          714.8,
          500,
          913,
          542.8,
          2.8,
          12.7,
          940.2,
          815,
          661.5,
          19.1,
          551.3,
          801,
          898,
          287,
          623,
          22.3,
          497.9,
          697.8,
          1747.6999999999996,
          824.1,
          1564,
          850.5,
          922.8,
          870,
          1295,
          501.5,
          872.2,
          2375.6,
          601.1,
          618.8,
          467.7,
          746,
          266.29999999999995,
          130.1,
          1304,
          739.5,
          807,
          280.5,
          1192,
          33.8,
          4.3,
          22.5,
          614,
          807.4,
          890.4,
          989,
          1006.4,
          654,
          788.4000000000002,
          1140.3000000000004,
          801,
          1003.5,
          521,
          507,
          1032.9,
          357.7,
          939.4,
          689.4,
          1036.8,
          903.9,
          678.3,
          939.7,
          16,
          5,
          684,
          94.2,
          593.3,
          306,
          691.6,
          405,
          3.9,
          712.4,
          5.6,
          621.2,
          483,
          644,
          580.1,
          1325.1,
          705.9,
          758.8999999999999,
          860.4000000000002,
          3.4000000000000004,
          619.7,
          943.5,
          968.2,
          1193,
          655,
          380.7000000000001,
          1148.5,
          605.4
         ],
         "xaxis": "x",
         "y": [
          14895531264,
          13958590848,
          12565520784,
          12396046256,
          10555764192,
          9678710472,
          9677048472,
          9556729616,
          9547388736,
          9502312824,
          9446727664,
          9346521304,
          9098708912,
          9014287904,
          8806235992,
          8423410680,
          8392391744,
          8311794720,
          8229667440,
          8223640320,
          8191118408,
          8127313136,
          7451446248,
          7421562416,
          7421262832,
          7166238332,
          7148287844,
          7114813738,
          7107039024,
          7104259964,
          6980096688,
          6949814672,
          6930977624,
          6908033272,
          6706643240,
          6423595504,
          6096257320,
          6034201516,
          5940215968,
          5732425854.5,
          5659141124,
          5576468576,
          5566155536,
          5501283336,
          5472058759,
          5327061128,
          5260719306,
          5109366012,
          5078037404,
          5062970788,
          4992939208,
          4891233444,
          4887184908,
          4713089704,
          4609134978,
          4600673388,
          4598949648,
          4576015230,
          4568280172.25,
          4536650256,
          4534758792,
          4508199652,
          4506785804,
          4399749888,
          4391865816,
          4380966476,
          4351545296,
          4293178976,
          4235775720,
          4213693268,
          4180773292,
          4173367884,
          4159751498,
          4142946510,
          4119388132,
          4040754848,
          4031850452,
          4004181744,
          3945223532,
          3941624726,
          3935575272,
          3906982484,
          3871749616,
          3846752720,
          3835025972,
          3812715584,
          3785969094,
          3763564432,
          3759013176,
          3757699792,
          3705990844,
          3650563968,
          3616876500,
          3609523604,
          3538110568,
          3524471596,
          3498170484,
          3493615304,
          3471600340,
          3443771398,
          3442308548,
          3431807198,
          3423587940,
          3416345276,
          3414673724,
          3407538854,
          3404443096,
          3389504540,
          3385499270,
          3376183206,
          3366464828,
          3361084612,
          3351468832,
          3350804836,
          3344311168,
          3342872622,
          3335122956,
          3334376288,
          3323858582,
          3319372870,
          3291503628,
          3270325510,
          3266897576,
          3266315500,
          3262034692,
          3259989780,
          3251993510,
          3240497742,
          3237518578,
          3237365632,
          3227141260,
          3215725400,
          3208531962,
          3204616818,
          3202231930,
          3198254492,
          3185259268,
          3185169034,
          3181795272,
          3181081640,
          3166820310,
          3153045643,
          3149873428,
          3149263842,
          3139868186,
          3131700570,
          3121816808,
          3113449084,
          3101867132,
          3084881396,
          3084419236,
          3081987960,
          3077902656,
          3077090342,
          3070404518,
          3065826316,
          3064425576,
          3057607912,
          3056886298,
          3047814504,
          3046705540,
          3027517766,
          3026817042.375,
          3020641250,
          3020463458,
          2998776930,
          2995241840,
          2975261468,
          2966947922,
          2964409692,
          2962600028,
          2945876552,
          2930929878,
          2928849888,
          2926786416,
          2916342284,
          2914580668,
          2912140456,
          2904507946,
          2893502714,
          2885358448,
          2872418084,
          2870499562,
          2841029674,
          2832995426,
          2830531010,
          2811454402,
          2809394036,
          2793271198,
          2790472788,
          2783321392,
          2760158972,
          2756793868,
          2749879162,
          2748824746,
          2747432706,
          2742729013,
          2735958690,
          2726559048,
          2725666788,
          2723398070,
          2716134284,
          2712751100,
          2706878664,
          2687163444,
          2686031068,
          2677544082,
          2674119858,
          2664271718,
          2662663220,
          2657604966,
          2655257150,
          2652278422,
          2642672526,
          2641144516,
          2631241266,
          2626018994,
          2617773284,
          2606331610,
          2601715804,
          2600173642,
          2599346011.25,
          2598104804,
          2586992892,
          2586855388,
          2585990968,
          2576719898,
          2568136572,
          2564591520,
          2560737368,
          2557374532,
          2550322986,
          2546887134,
          2538866346,
          2535657956,
          2530350002,
          2529987656,
          2528530110,
          2521100398,
          2520380490,
          2516225024,
          2508630058,
          2508617434,
          2502244582,
          2501902968,
          2496267718,
          2493754662
         ],
         "yaxis": "y"
        },
        {
         "alignmentgroup": "True",
         "bingroup": "x",
         "hovertemplate": "Primary Fuel=Gas<br>Plant Capacity MW=%{x}<br>count=%{y}<extra></extra>",
         "legendgroup": "Gas",
         "marker": {
          "color": "#00CC96"
         },
         "name": "Gas",
         "offsetgroup": "Gas",
         "opacity": 0.5,
         "showlegend": false,
         "type": "histogram",
         "x": [
          194.8,
          2603.6,
          2263,
          4263,
          2569.4999999999995,
          24.4,
          15.200000000000005,
          13.5,
          16.9,
          29.9,
          18.7,
          26.1,
          39,
          2439.7,
          1995.7,
          4,
          2428,
          20.7,
          11.5,
          1472.2,
          1429.8000000000004,
          13.4,
          2229,
          2680.9,
          21.9,
          1472.2,
          11.8,
          1477.5,
          1176,
          2244.8,
          2377.8,
          1376.6,
          1239,
          1232,
          1894.2000000000005,
          918.3,
          1433.6,
          619,
          842.5,
          619,
          1338,
          987,
          4317.499999999999,
          1853.8,
          619,
          1475.6000000000006,
          22.5,
          572,
          1036,
          619,
          861,
          609,
          1176,
          1465.6,
          2294.0000000000005,
          1230.3,
          1192,
          1231.2,
          2310.2,
          1061.5,
          1152.8,
          894.2,
          1069.6,
          920,
          1492.5,
          11.8,
          22,
          1256,
          273.3,
          450.9,
          974.1,
          1102,
          1433.6,
          1370,
          1001.7,
          1208.8000000000004,
          301.5,
          456,
          303.4000000000001,
          1088.2,
          1389.1999999999996,
          899,
          822.8,
          643.6,
          921.6,
          1606.4,
          1530,
          851,
          1112.6,
          677.8,
          560,
          946.1,
          836.0999999999998,
          2034,
          1288.4,
          697.9000000000002,
          1153,
          823.3,
          697.9000000000002,
          1138,
          923.8,
          927.1,
          1701,
          624,
          595,
          1002.9,
          678.1,
          840,
          903.9,
          821.0999999999998,
          1295,
          1112.4,
          714.9000000000002,
          716.2,
          1325.9999999999998,
          30.7,
          689.4,
          665.6,
          32.6,
          1811.8,
          803.2,
          650,
          536,
          493,
          996.9,
          754.6,
          903.9,
          517,
          1027.9,
          812,
          381.8,
          870,
          1946.3,
          939.6,
          939,
          832.3,
          559,
          72,
          126.9,
          464.5,
          783.1,
          100.8,
          570,
          1214,
          20.7,
          1625.2000000000005,
          795,
          932.9,
          897,
          800.4,
          43.40000000000001,
          777.5999999999998,
          840,
          735.5,
          891,
          1385,
          1352,
          714.8,
          500,
          913,
          542.8,
          2.8,
          12.7,
          940.2,
          815,
          661.5,
          19.1,
          551.3,
          801,
          898,
          287,
          623,
          22.3,
          497.9,
          697.8,
          1747.6999999999996,
          824.1,
          1564,
          850.5,
          922.8,
          870,
          1295,
          501.5,
          872.2,
          2375.6,
          601.1,
          618.8,
          467.7,
          746,
          266.29999999999995,
          130.1,
          1304,
          739.5,
          807,
          280.5,
          1192,
          33.8,
          4.3,
          22.5,
          614,
          807.4,
          890.4,
          989,
          1006.4,
          654,
          788.4000000000002,
          1140.3000000000004,
          801,
          1003.5,
          521,
          507,
          1032.9,
          357.7,
          939.4,
          689.4,
          1036.8,
          903.9,
          678.3,
          939.7,
          16,
          5,
          684,
          94.2,
          593.3,
          306,
          691.6,
          405,
          3.9,
          712.4,
          5.6,
          621.2,
          483,
          644,
          580.1,
          1325.1,
          705.9,
          758.8999999999999,
          860.4000000000002,
          3.4000000000000004,
          619.7,
          943.5,
          968.2,
          1193,
          655,
          380.7000000000001,
          1148.5,
          605.4
         ],
         "xaxis": "x3",
         "yaxis": "y3"
        },
        {
         "alignmentgroup": "True",
         "bingroup": "y",
         "hovertemplate": "Primary Fuel=Gas<br>CO2 Cumulative Emissions (lbs)=%{y}<br>count=%{x}<extra></extra>",
         "legendgroup": "Gas",
         "marker": {
          "color": "#00CC96"
         },
         "name": "Gas",
         "offsetgroup": "Gas",
         "opacity": 0.5,
         "showlegend": false,
         "type": "histogram",
         "xaxis": "x2",
         "y": [
          14895531264,
          13958590848,
          12565520784,
          12396046256,
          10555764192,
          9678710472,
          9677048472,
          9556729616,
          9547388736,
          9502312824,
          9446727664,
          9346521304,
          9098708912,
          9014287904,
          8806235992,
          8423410680,
          8392391744,
          8311794720,
          8229667440,
          8223640320,
          8191118408,
          8127313136,
          7451446248,
          7421562416,
          7421262832,
          7166238332,
          7148287844,
          7114813738,
          7107039024,
          7104259964,
          6980096688,
          6949814672,
          6930977624,
          6908033272,
          6706643240,
          6423595504,
          6096257320,
          6034201516,
          5940215968,
          5732425854.5,
          5659141124,
          5576468576,
          5566155536,
          5501283336,
          5472058759,
          5327061128,
          5260719306,
          5109366012,
          5078037404,
          5062970788,
          4992939208,
          4891233444,
          4887184908,
          4713089704,
          4609134978,
          4600673388,
          4598949648,
          4576015230,
          4568280172.25,
          4536650256,
          4534758792,
          4508199652,
          4506785804,
          4399749888,
          4391865816,
          4380966476,
          4351545296,
          4293178976,
          4235775720,
          4213693268,
          4180773292,
          4173367884,
          4159751498,
          4142946510,
          4119388132,
          4040754848,
          4031850452,
          4004181744,
          3945223532,
          3941624726,
          3935575272,
          3906982484,
          3871749616,
          3846752720,
          3835025972,
          3812715584,
          3785969094,
          3763564432,
          3759013176,
          3757699792,
          3705990844,
          3650563968,
          3616876500,
          3609523604,
          3538110568,
          3524471596,
          3498170484,
          3493615304,
          3471600340,
          3443771398,
          3442308548,
          3431807198,
          3423587940,
          3416345276,
          3414673724,
          3407538854,
          3404443096,
          3389504540,
          3385499270,
          3376183206,
          3366464828,
          3361084612,
          3351468832,
          3350804836,
          3344311168,
          3342872622,
          3335122956,
          3334376288,
          3323858582,
          3319372870,
          3291503628,
          3270325510,
          3266897576,
          3266315500,
          3262034692,
          3259989780,
          3251993510,
          3240497742,
          3237518578,
          3237365632,
          3227141260,
          3215725400,
          3208531962,
          3204616818,
          3202231930,
          3198254492,
          3185259268,
          3185169034,
          3181795272,
          3181081640,
          3166820310,
          3153045643,
          3149873428,
          3149263842,
          3139868186,
          3131700570,
          3121816808,
          3113449084,
          3101867132,
          3084881396,
          3084419236,
          3081987960,
          3077902656,
          3077090342,
          3070404518,
          3065826316,
          3064425576,
          3057607912,
          3056886298,
          3047814504,
          3046705540,
          3027517766,
          3026817042.375,
          3020641250,
          3020463458,
          2998776930,
          2995241840,
          2975261468,
          2966947922,
          2964409692,
          2962600028,
          2945876552,
          2930929878,
          2928849888,
          2926786416,
          2916342284,
          2914580668,
          2912140456,
          2904507946,
          2893502714,
          2885358448,
          2872418084,
          2870499562,
          2841029674,
          2832995426,
          2830531010,
          2811454402,
          2809394036,
          2793271198,
          2790472788,
          2783321392,
          2760158972,
          2756793868,
          2749879162,
          2748824746,
          2747432706,
          2742729013,
          2735958690,
          2726559048,
          2725666788,
          2723398070,
          2716134284,
          2712751100,
          2706878664,
          2687163444,
          2686031068,
          2677544082,
          2674119858,
          2664271718,
          2662663220,
          2657604966,
          2655257150,
          2652278422,
          2642672526,
          2641144516,
          2631241266,
          2626018994,
          2617773284,
          2606331610,
          2601715804,
          2600173642,
          2599346011.25,
          2598104804,
          2586992892,
          2586855388,
          2585990968,
          2576719898,
          2568136572,
          2564591520,
          2560737368,
          2557374532,
          2550322986,
          2546887134,
          2538866346,
          2535657956,
          2530350002,
          2529987656,
          2528530110,
          2521100398,
          2520380490,
          2516225024,
          2508630058,
          2508617434,
          2502244582,
          2501902968,
          2496267718,
          2493754662
         ],
         "yaxis": "y2"
        },
        {
         "customdata": [
          [
           "United States of America"
          ],
          [
           "United States of America"
          ],
          [
           "United States of America"
          ],
          [
           "United States of America"
          ],
          [
           "United States of America"
          ],
          [
           "United States of America"
          ],
          [
           "United States of America"
          ],
          [
           "United States of America"
          ],
          [
           "United States of America"
          ],
          [
           "United States of America"
          ],
          [
           "United States of America"
          ],
          [
           "United States of America"
          ],
          [
           "United States of America"
          ],
          [
           "United States of America"
          ],
          [
           "United States of America"
          ],
          [
           "United States of America"
          ],
          [
           "United States of America"
          ],
          [
           "United States of America"
          ],
          [
           "United States of America"
          ],
          [
           "United States of America"
          ],
          [
           "United States of America"
          ],
          [
           "United States of America"
          ],
          [
           "United States of America"
          ],
          [
           "United States of America"
          ],
          [
           "United States of America"
          ],
          [
           "United States of America"
          ],
          [
           "United States of America"
          ],
          [
           "United States of America"
          ],
          [
           "United States of America"
          ],
          [
           "United States of America"
          ],
          [
           "United States of America"
          ],
          [
           "United States of America"
          ],
          [
           "United States of America"
          ],
          [
           "United States of America"
          ],
          [
           "United States of America"
          ],
          [
           "United States of America"
          ],
          [
           "United States of America"
          ],
          [
           "United States of America"
          ],
          [
           "United States of America"
          ]
         ],
         "hovertemplate": "Primary Fuel=Oil<br>Plant Capacity MW=%{x}<br>CO2 Cumulative Emissions (lbs)=%{marker.size}<br>Country=%{customdata[0]}<extra></extra>",
         "legendgroup": "Oil",
         "marker": {
          "color": "#EF553B",
          "opacity": 0.5,
          "size": [
           10856369568,
           10503461744,
           10500121600,
           8931927136,
           8865240576,
           8743785704,
           8565814356,
           8524955280,
           8455637648,
           8360137248,
           8313676888,
           6881692504,
           6076476258,
           4879272676,
           4508229850,
           4302782256,
           4156874408,
           3203914662,
           3203046068,
           3159707312,
           3152700746,
           3079166372,
           3074699216.5,
           2939173240,
           2901806876,
           2883886682,
           2871494606,
           2845049982,
           2813659182,
           2800870632,
           2798104556,
           2797169334,
           2741897466,
           2691765814,
           2681800852,
           2607679650,
           2564500336,
           2525075250,
           2501751804
          ],
          "sizemode": "area",
          "sizeref": 81487975.88,
          "symbol": "circle"
         },
         "mode": "markers",
         "name": "Oil",
         "showlegend": true,
         "type": "scatter",
         "x": [
          1492,
          17.2,
          36,
          8,
          21.800000000000004,
          11.5,
          7.8,
          6.4,
          6,
          13.5,
          10,
          22,
          2951.1999999999994,
          14,
          13.5,
          864,
          990,
          602,
          1943.9,
          609.6999999999998,
          111.5,
          1.5,
          5.5,
          4.800000000000002,
          20,
          500.59999999999985,
          60.7,
          1.7000000000000002,
          1.6,
          3.4,
          5.1,
          6.4,
          50,
          16,
          5.1,
          4,
          67.39999999999999,
          18,
          6
         ],
         "xaxis": "x",
         "y": [
          10856369568,
          10503461744,
          10500121600,
          8931927136,
          8865240576,
          8743785704,
          8565814356,
          8524955280,
          8455637648,
          8360137248,
          8313676888,
          6881692504,
          6076476258,
          4879272676,
          4508229850,
          4302782256,
          4156874408,
          3203914662,
          3203046068,
          3159707312,
          3152700746,
          3079166372,
          3074699216.5,
          2939173240,
          2901806876,
          2883886682,
          2871494606,
          2845049982,
          2813659182,
          2800870632,
          2798104556,
          2797169334,
          2741897466,
          2691765814,
          2681800852,
          2607679650,
          2564500336,
          2525075250,
          2501751804
         ],
         "yaxis": "y"
        },
        {
         "alignmentgroup": "True",
         "bingroup": "x",
         "hovertemplate": "Primary Fuel=Oil<br>Plant Capacity MW=%{x}<br>count=%{y}<extra></extra>",
         "legendgroup": "Oil",
         "marker": {
          "color": "#EF553B"
         },
         "name": "Oil",
         "offsetgroup": "Oil",
         "opacity": 0.5,
         "showlegend": false,
         "type": "histogram",
         "x": [
          1492,
          17.2,
          36,
          8,
          21.800000000000004,
          11.5,
          7.8,
          6.4,
          6,
          13.5,
          10,
          22,
          2951.1999999999994,
          14,
          13.5,
          864,
          990,
          602,
          1943.9,
          609.6999999999998,
          111.5,
          1.5,
          5.5,
          4.800000000000002,
          20,
          500.59999999999985,
          60.7,
          1.7000000000000002,
          1.6,
          3.4,
          5.1,
          6.4,
          50,
          16,
          5.1,
          4,
          67.39999999999999,
          18,
          6
         ],
         "xaxis": "x3",
         "yaxis": "y3"
        },
        {
         "alignmentgroup": "True",
         "bingroup": "y",
         "hovertemplate": "Primary Fuel=Oil<br>CO2 Cumulative Emissions (lbs)=%{y}<br>count=%{x}<extra></extra>",
         "legendgroup": "Oil",
         "marker": {
          "color": "#EF553B"
         },
         "name": "Oil",
         "offsetgroup": "Oil",
         "opacity": 0.5,
         "showlegend": false,
         "type": "histogram",
         "xaxis": "x2",
         "y": [
          10856369568,
          10503461744,
          10500121600,
          8931927136,
          8865240576,
          8743785704,
          8565814356,
          8524955280,
          8455637648,
          8360137248,
          8313676888,
          6881692504,
          6076476258,
          4879272676,
          4508229850,
          4302782256,
          4156874408,
          3203914662,
          3203046068,
          3159707312,
          3152700746,
          3079166372,
          3074699216.5,
          2939173240,
          2901806876,
          2883886682,
          2871494606,
          2845049982,
          2813659182,
          2800870632,
          2798104556,
          2797169334,
          2741897466,
          2691765814,
          2681800852,
          2607679650,
          2564500336,
          2525075250,
          2501751804
         ],
         "yaxis": "y2"
        },
        {
         "customdata": [
          [
           "United States of America"
          ]
         ],
         "hovertemplate": "Primary Fuel=Petcoke<br>Plant Capacity MW=%{x}<br>CO2 Cumulative Emissions (lbs)=%{marker.size}<br>Country=%{customdata[0]}<extra></extra>",
         "legendgroup": "Petcoke",
         "marker": {
          "color": "#AB63FA",
          "opacity": 0.5,
          "size": [
           9393399156
          ],
          "sizemode": "area",
          "sizeref": 81487975.88,
          "symbol": "circle"
         },
         "mode": "markers",
         "name": "Petcoke",
         "showlegend": true,
         "type": "scatter",
         "x": [
          1707.3
         ],
         "xaxis": "x",
         "y": [
          9393399156
         ],
         "yaxis": "y"
        },
        {
         "alignmentgroup": "True",
         "bingroup": "x",
         "hovertemplate": "Primary Fuel=Petcoke<br>Plant Capacity MW=%{x}<br>count=%{y}<extra></extra>",
         "legendgroup": "Petcoke",
         "marker": {
          "color": "#AB63FA"
         },
         "name": "Petcoke",
         "offsetgroup": "Petcoke",
         "opacity": 0.5,
         "showlegend": false,
         "type": "histogram",
         "x": [
          1707.3
         ],
         "xaxis": "x3",
         "yaxis": "y3"
        },
        {
         "alignmentgroup": "True",
         "bingroup": "y",
         "hovertemplate": "Primary Fuel=Petcoke<br>CO2 Cumulative Emissions (lbs)=%{y}<br>count=%{x}<extra></extra>",
         "legendgroup": "Petcoke",
         "marker": {
          "color": "#AB63FA"
         },
         "name": "Petcoke",
         "offsetgroup": "Petcoke",
         "opacity": 0.5,
         "showlegend": false,
         "type": "histogram",
         "xaxis": "x2",
         "y": [
          9393399156
         ],
         "yaxis": "y2"
        }
       ],
       "layout": {
        "barmode": "overlay",
        "legend": {
         "itemsizing": "constant",
         "title": {
          "text": "Primary Fuel"
         },
         "tracegroupgap": 0
        },
        "margin": {
         "t": 60
        },
        "showlegend": false,
        "template": {
         "data": {
          "bar": [
           {
            "error_x": {
             "color": "#2a3f5f"
            },
            "error_y": {
             "color": "#2a3f5f"
            },
            "marker": {
             "line": {
              "color": "#E5ECF6",
              "width": 0.5
             }
            },
            "type": "bar"
           }
          ],
          "barpolar": [
           {
            "marker": {
             "line": {
              "color": "#E5ECF6",
              "width": 0.5
             }
            },
            "type": "barpolar"
           }
          ],
          "carpet": [
           {
            "aaxis": {
             "endlinecolor": "#2a3f5f",
             "gridcolor": "white",
             "linecolor": "white",
             "minorgridcolor": "white",
             "startlinecolor": "#2a3f5f"
            },
            "baxis": {
             "endlinecolor": "#2a3f5f",
             "gridcolor": "white",
             "linecolor": "white",
             "minorgridcolor": "white",
             "startlinecolor": "#2a3f5f"
            },
            "type": "carpet"
           }
          ],
          "choropleth": [
           {
            "colorbar": {
             "outlinewidth": 0,
             "ticks": ""
            },
            "type": "choropleth"
           }
          ],
          "contour": [
           {
            "colorbar": {
             "outlinewidth": 0,
             "ticks": ""
            },
            "colorscale": [
             [
              0,
              "#0d0887"
             ],
             [
              0.1111111111111111,
              "#46039f"
             ],
             [
              0.2222222222222222,
              "#7201a8"
             ],
             [
              0.3333333333333333,
              "#9c179e"
             ],
             [
              0.4444444444444444,
              "#bd3786"
             ],
             [
              0.5555555555555556,
              "#d8576b"
             ],
             [
              0.6666666666666666,
              "#ed7953"
             ],
             [
              0.7777777777777778,
              "#fb9f3a"
             ],
             [
              0.8888888888888888,
              "#fdca26"
             ],
             [
              1,
              "#f0f921"
             ]
            ],
            "type": "contour"
           }
          ],
          "contourcarpet": [
           {
            "colorbar": {
             "outlinewidth": 0,
             "ticks": ""
            },
            "type": "contourcarpet"
           }
          ],
          "heatmap": [
           {
            "colorbar": {
             "outlinewidth": 0,
             "ticks": ""
            },
            "colorscale": [
             [
              0,
              "#0d0887"
             ],
             [
              0.1111111111111111,
              "#46039f"
             ],
             [
              0.2222222222222222,
              "#7201a8"
             ],
             [
              0.3333333333333333,
              "#9c179e"
             ],
             [
              0.4444444444444444,
              "#bd3786"
             ],
             [
              0.5555555555555556,
              "#d8576b"
             ],
             [
              0.6666666666666666,
              "#ed7953"
             ],
             [
              0.7777777777777778,
              "#fb9f3a"
             ],
             [
              0.8888888888888888,
              "#fdca26"
             ],
             [
              1,
              "#f0f921"
             ]
            ],
            "type": "heatmap"
           }
          ],
          "heatmapgl": [
           {
            "colorbar": {
             "outlinewidth": 0,
             "ticks": ""
            },
            "colorscale": [
             [
              0,
              "#0d0887"
             ],
             [
              0.1111111111111111,
              "#46039f"
             ],
             [
              0.2222222222222222,
              "#7201a8"
             ],
             [
              0.3333333333333333,
              "#9c179e"
             ],
             [
              0.4444444444444444,
              "#bd3786"
             ],
             [
              0.5555555555555556,
              "#d8576b"
             ],
             [
              0.6666666666666666,
              "#ed7953"
             ],
             [
              0.7777777777777778,
              "#fb9f3a"
             ],
             [
              0.8888888888888888,
              "#fdca26"
             ],
             [
              1,
              "#f0f921"
             ]
            ],
            "type": "heatmapgl"
           }
          ],
          "histogram": [
           {
            "marker": {
             "colorbar": {
              "outlinewidth": 0,
              "ticks": ""
             }
            },
            "type": "histogram"
           }
          ],
          "histogram2d": [
           {
            "colorbar": {
             "outlinewidth": 0,
             "ticks": ""
            },
            "colorscale": [
             [
              0,
              "#0d0887"
             ],
             [
              0.1111111111111111,
              "#46039f"
             ],
             [
              0.2222222222222222,
              "#7201a8"
             ],
             [
              0.3333333333333333,
              "#9c179e"
             ],
             [
              0.4444444444444444,
              "#bd3786"
             ],
             [
              0.5555555555555556,
              "#d8576b"
             ],
             [
              0.6666666666666666,
              "#ed7953"
             ],
             [
              0.7777777777777778,
              "#fb9f3a"
             ],
             [
              0.8888888888888888,
              "#fdca26"
             ],
             [
              1,
              "#f0f921"
             ]
            ],
            "type": "histogram2d"
           }
          ],
          "histogram2dcontour": [
           {
            "colorbar": {
             "outlinewidth": 0,
             "ticks": ""
            },
            "colorscale": [
             [
              0,
              "#0d0887"
             ],
             [
              0.1111111111111111,
              "#46039f"
             ],
             [
              0.2222222222222222,
              "#7201a8"
             ],
             [
              0.3333333333333333,
              "#9c179e"
             ],
             [
              0.4444444444444444,
              "#bd3786"
             ],
             [
              0.5555555555555556,
              "#d8576b"
             ],
             [
              0.6666666666666666,
              "#ed7953"
             ],
             [
              0.7777777777777778,
              "#fb9f3a"
             ],
             [
              0.8888888888888888,
              "#fdca26"
             ],
             [
              1,
              "#f0f921"
             ]
            ],
            "type": "histogram2dcontour"
           }
          ],
          "mesh3d": [
           {
            "colorbar": {
             "outlinewidth": 0,
             "ticks": ""
            },
            "type": "mesh3d"
           }
          ],
          "parcoords": [
           {
            "line": {
             "colorbar": {
              "outlinewidth": 0,
              "ticks": ""
             }
            },
            "type": "parcoords"
           }
          ],
          "pie": [
           {
            "automargin": true,
            "type": "pie"
           }
          ],
          "scatter": [
           {
            "marker": {
             "colorbar": {
              "outlinewidth": 0,
              "ticks": ""
             }
            },
            "type": "scatter"
           }
          ],
          "scatter3d": [
           {
            "line": {
             "colorbar": {
              "outlinewidth": 0,
              "ticks": ""
             }
            },
            "marker": {
             "colorbar": {
              "outlinewidth": 0,
              "ticks": ""
             }
            },
            "type": "scatter3d"
           }
          ],
          "scattercarpet": [
           {
            "marker": {
             "colorbar": {
              "outlinewidth": 0,
              "ticks": ""
             }
            },
            "type": "scattercarpet"
           }
          ],
          "scattergeo": [
           {
            "marker": {
             "colorbar": {
              "outlinewidth": 0,
              "ticks": ""
             }
            },
            "type": "scattergeo"
           }
          ],
          "scattergl": [
           {
            "marker": {
             "colorbar": {
              "outlinewidth": 0,
              "ticks": ""
             }
            },
            "type": "scattergl"
           }
          ],
          "scattermapbox": [
           {
            "marker": {
             "colorbar": {
              "outlinewidth": 0,
              "ticks": ""
             }
            },
            "type": "scattermapbox"
           }
          ],
          "scatterpolar": [
           {
            "marker": {
             "colorbar": {
              "outlinewidth": 0,
              "ticks": ""
             }
            },
            "type": "scatterpolar"
           }
          ],
          "scatterpolargl": [
           {
            "marker": {
             "colorbar": {
              "outlinewidth": 0,
              "ticks": ""
             }
            },
            "type": "scatterpolargl"
           }
          ],
          "scatterternary": [
           {
            "marker": {
             "colorbar": {
              "outlinewidth": 0,
              "ticks": ""
             }
            },
            "type": "scatterternary"
           }
          ],
          "surface": [
           {
            "colorbar": {
             "outlinewidth": 0,
             "ticks": ""
            },
            "colorscale": [
             [
              0,
              "#0d0887"
             ],
             [
              0.1111111111111111,
              "#46039f"
             ],
             [
              0.2222222222222222,
              "#7201a8"
             ],
             [
              0.3333333333333333,
              "#9c179e"
             ],
             [
              0.4444444444444444,
              "#bd3786"
             ],
             [
              0.5555555555555556,
              "#d8576b"
             ],
             [
              0.6666666666666666,
              "#ed7953"
             ],
             [
              0.7777777777777778,
              "#fb9f3a"
             ],
             [
              0.8888888888888888,
              "#fdca26"
             ],
             [
              1,
              "#f0f921"
             ]
            ],
            "type": "surface"
           }
          ],
          "table": [
           {
            "cells": {
             "fill": {
              "color": "#EBF0F8"
             },
             "line": {
              "color": "white"
             }
            },
            "header": {
             "fill": {
              "color": "#C8D4E3"
             },
             "line": {
              "color": "white"
             }
            },
            "type": "table"
           }
          ]
         },
         "layout": {
          "annotationdefaults": {
           "arrowcolor": "#2a3f5f",
           "arrowhead": 0,
           "arrowwidth": 1
          },
          "coloraxis": {
           "colorbar": {
            "outlinewidth": 0,
            "ticks": ""
           }
          },
          "colorscale": {
           "diverging": [
            [
             0,
             "#8e0152"
            ],
            [
             0.1,
             "#c51b7d"
            ],
            [
             0.2,
             "#de77ae"
            ],
            [
             0.3,
             "#f1b6da"
            ],
            [
             0.4,
             "#fde0ef"
            ],
            [
             0.5,
             "#f7f7f7"
            ],
            [
             0.6,
             "#e6f5d0"
            ],
            [
             0.7,
             "#b8e186"
            ],
            [
             0.8,
             "#7fbc41"
            ],
            [
             0.9,
             "#4d9221"
            ],
            [
             1,
             "#276419"
            ]
           ],
           "sequential": [
            [
             0,
             "#0d0887"
            ],
            [
             0.1111111111111111,
             "#46039f"
            ],
            [
             0.2222222222222222,
             "#7201a8"
            ],
            [
             0.3333333333333333,
             "#9c179e"
            ],
            [
             0.4444444444444444,
             "#bd3786"
            ],
            [
             0.5555555555555556,
             "#d8576b"
            ],
            [
             0.6666666666666666,
             "#ed7953"
            ],
            [
             0.7777777777777778,
             "#fb9f3a"
            ],
            [
             0.8888888888888888,
             "#fdca26"
            ],
            [
             1,
             "#f0f921"
            ]
           ],
           "sequentialminus": [
            [
             0,
             "#0d0887"
            ],
            [
             0.1111111111111111,
             "#46039f"
            ],
            [
             0.2222222222222222,
             "#7201a8"
            ],
            [
             0.3333333333333333,
             "#9c179e"
            ],
            [
             0.4444444444444444,
             "#bd3786"
            ],
            [
             0.5555555555555556,
             "#d8576b"
            ],
            [
             0.6666666666666666,
             "#ed7953"
            ],
            [
             0.7777777777777778,
             "#fb9f3a"
            ],
            [
             0.8888888888888888,
             "#fdca26"
            ],
            [
             1,
             "#f0f921"
            ]
           ]
          },
          "colorway": [
           "#636efa",
           "#EF553B",
           "#00cc96",
           "#ab63fa",
           "#FFA15A",
           "#19d3f3",
           "#FF6692",
           "#B6E880",
           "#FF97FF",
           "#FECB52"
          ],
          "font": {
           "color": "#2a3f5f"
          },
          "geo": {
           "bgcolor": "white",
           "lakecolor": "white",
           "landcolor": "#E5ECF6",
           "showlakes": true,
           "showland": true,
           "subunitcolor": "white"
          },
          "hoverlabel": {
           "align": "left"
          },
          "hovermode": "closest",
          "mapbox": {
           "style": "light"
          },
          "paper_bgcolor": "white",
          "plot_bgcolor": "#E5ECF6",
          "polar": {
           "angularaxis": {
            "gridcolor": "white",
            "linecolor": "white",
            "ticks": ""
           },
           "bgcolor": "#E5ECF6",
           "radialaxis": {
            "gridcolor": "white",
            "linecolor": "white",
            "ticks": ""
           }
          },
          "scene": {
           "xaxis": {
            "backgroundcolor": "#E5ECF6",
            "gridcolor": "white",
            "gridwidth": 2,
            "linecolor": "white",
            "showbackground": true,
            "ticks": "",
            "zerolinecolor": "white"
           },
           "yaxis": {
            "backgroundcolor": "#E5ECF6",
            "gridcolor": "white",
            "gridwidth": 2,
            "linecolor": "white",
            "showbackground": true,
            "ticks": "",
            "zerolinecolor": "white"
           },
           "zaxis": {
            "backgroundcolor": "#E5ECF6",
            "gridcolor": "white",
            "gridwidth": 2,
            "linecolor": "white",
            "showbackground": true,
            "ticks": "",
            "zerolinecolor": "white"
           }
          },
          "shapedefaults": {
           "line": {
            "color": "#2a3f5f"
           }
          },
          "ternary": {
           "aaxis": {
            "gridcolor": "white",
            "linecolor": "white",
            "ticks": ""
           },
           "baxis": {
            "gridcolor": "white",
            "linecolor": "white",
            "ticks": ""
           },
           "bgcolor": "#E5ECF6",
           "caxis": {
            "gridcolor": "white",
            "linecolor": "white",
            "ticks": ""
           }
          },
          "title": {
           "x": 0.05
          },
          "xaxis": {
           "automargin": true,
           "gridcolor": "white",
           "linecolor": "white",
           "ticks": "",
           "title": {
            "standoff": 15
           },
           "zerolinecolor": "white",
           "zerolinewidth": 2
          },
          "yaxis": {
           "automargin": true,
           "gridcolor": "white",
           "linecolor": "white",
           "ticks": "",
           "title": {
            "standoff": 15
           },
           "zerolinecolor": "white",
           "zerolinewidth": 2
          }
         }
        },
        "xaxis": {
         "anchor": "y",
         "domain": [
          0,
          0.7363
         ],
         "title": {
          "text": "Capacity (MW)"
         }
        },
        "xaxis2": {
         "anchor": "y2",
         "domain": [
          0.7413,
          1
         ],
         "matches": "x2",
         "showgrid": true,
         "showline": false,
         "showticklabels": false,
         "ticks": ""
        },
        "xaxis3": {
         "anchor": "y3",
         "domain": [
          0,
          0.7363
         ],
         "matches": "x",
         "showgrid": true,
         "showticklabels": false
        },
        "xaxis4": {
         "anchor": "y4",
         "domain": [
          0.7413,
          1
         ],
         "matches": "x2",
         "showgrid": true,
         "showline": false,
         "showticklabels": false,
         "ticks": ""
        },
        "yaxis": {
         "anchor": "x",
         "domain": [
          0,
          0.7326
         ],
         "title": {
          "text": "CO2 Cumulative Emissions (lbs)"
         }
        },
        "yaxis2": {
         "anchor": "x2",
         "domain": [
          0,
          0.7326
         ],
         "matches": "y",
         "showgrid": true,
         "showticklabels": false
        },
        "yaxis3": {
         "anchor": "x3",
         "domain": [
          0.7426,
          1
         ],
         "matches": "y3",
         "showgrid": true,
         "showline": false,
         "showticklabels": false,
         "ticks": ""
        },
        "yaxis4": {
         "anchor": "x4",
         "domain": [
          0.7426,
          1
         ],
         "matches": "y3",
         "showgrid": true,
         "showline": false,
         "showticklabels": false,
         "ticks": ""
        }
       }
      },
      "text/html": "<div>\n        \n        \n            <div id=\"55becba5-59ff-49c5-8581-1942d9b98f17\" class=\"plotly-graph-div\" style=\"height:525px; width:100%;\"></div>\n            <script type=\"text/javascript\">\n                require([\"plotly\"], function(Plotly) {\n                    window.PLOTLYENV=window.PLOTLYENV || {};\n                    \n                if (document.getElementById(\"55becba5-59ff-49c5-8581-1942d9b98f17\")) {\n                    Plotly.newPlot(\n                        '55becba5-59ff-49c5-8581-1942d9b98f17',\n                        [{\"customdata\": [[\"United States of America\"], [\"United States of America\"], [\"United States of America\"], [\"United States of America\"], [\"United States of America\"], [\"United States of America\"], [\"United States of America\"], [\"United States of America\"], [\"United States of America\"], [\"United States of America\"], [\"United States of America\"], [\"United States of America\"], [\"United States of America\"], [\"United States of America\"], [\"United States of America\"], [\"United States of America\"], [\"United States of America\"], [\"United States of America\"], [\"United States of America\"], [\"United States of America\"], [\"United States of America\"], [\"United States of America\"], [\"United States of America\"], [\"United States of America\"], [\"United States of America\"], [\"United States of America\"], [\"United States of America\"], [\"United States of America\"], [\"United States of America\"], [\"United States of America\"], [\"United States of America\"], [\"United States of America\"], [\"United States of America\"], [\"United States of America\"], [\"United States of America\"], [\"United States of America\"], [\"United States of America\"], [\"United States of America\"], [\"United States of America\"], [\"United States of America\"], [\"United States of America\"], [\"United States of America\"], [\"United States of America\"], [\"United States of America\"], [\"United States of America\"], [\"United States of America\"], [\"United States of America\"], [\"United States of America\"], [\"United States of America\"], [\"United States of America\"], [\"United States of America\"], [\"United States of America\"], [\"United States of America\"], [\"United States of America\"], [\"United States of America\"], [\"United States of America\"], [\"United States of America\"], [\"United States of America\"], [\"United States of America\"], [\"United States of America\"], [\"United States of America\"], [\"United States of America\"], [\"United States of America\"], [\"United States of America\"], [\"United States of America\"], [\"United States of America\"], [\"United States of America\"], [\"United States of America\"], [\"United States of America\"], [\"United States of America\"], [\"United States of America\"], [\"United States of America\"], [\"United States of America\"], [\"United States of America\"], [\"United States of America\"], [\"United States of America\"], [\"United States of America\"], [\"United States of America\"], [\"United States of America\"], [\"United States of America\"], [\"United States of America\"], [\"United States of America\"], [\"United States of America\"], [\"United States of America\"], [\"United States of America\"], [\"United States of America\"], [\"United States of America\"], [\"United States of America\"], [\"United States of America\"], [\"United States of America\"], [\"United States of America\"], [\"United States of America\"], [\"United States of America\"], [\"United States of America\"], [\"United States of America\"], [\"United States of America\"], [\"United States of America\"], [\"United States of America\"], [\"United States of America\"], [\"United States of America\"], [\"United States of America\"], [\"United States of America\"], [\"United States of America\"], [\"United States of America\"], [\"United States of America\"], [\"United States of America\"], [\"United States of America\"], [\"United States of America\"], [\"United States of America\"], [\"United States of America\"], [\"United States of America\"], [\"United States of America\"], [\"United States of America\"], [\"United States of America\"], [\"United States of America\"], [\"United States of America\"], [\"United States of America\"], [\"United States of America\"], [\"United States of America\"], [\"United States of America\"], [\"United States of America\"], [\"United States of America\"], [\"United States of America\"], [\"United States of America\"], [\"United States of America\"], [\"United States of America\"], [\"United States of America\"], [\"United States of America\"], [\"United States of America\"], [\"United States of America\"], [\"United States of America\"], [\"United States of America\"], [\"United States of America\"], [\"United States of America\"], [\"United States of America\"], [\"United States of America\"], [\"United States of America\"], [\"United States of America\"], [\"United States of America\"], [\"United States of America\"], [\"United States of America\"], [\"United States of America\"], [\"United States of America\"], [\"United States of America\"], [\"United States of America\"], [\"United States of America\"], [\"United States of America\"], [\"United States of America\"], [\"United States of America\"], [\"United States of America\"], [\"United States of America\"], [\"United States of America\"], [\"United States of America\"], [\"United States of America\"], [\"United States of America\"], [\"United States of America\"], [\"United States of America\"], [\"United States of America\"], [\"United States of America\"], [\"United States of America\"], [\"United States of America\"], [\"United States of America\"], [\"United States of America\"], [\"United States of America\"], [\"United States of America\"], [\"United States of America\"], [\"United States of America\"], [\"United States of America\"], [\"United States of America\"], [\"United States of America\"], [\"United States of America\"], [\"United States of America\"], [\"United States of America\"], [\"United States of America\"], [\"United States of America\"], [\"United States of America\"], [\"United States of America\"], [\"United States of America\"], [\"United States of America\"], [\"United States of America\"], [\"United States of America\"], [\"United States of America\"], [\"United States of America\"], [\"United States of America\"], [\"United States of America\"], [\"United States of America\"], [\"United States of America\"], [\"United States of America\"], [\"United States of America\"], [\"United States of America\"], [\"United States of America\"], [\"United States of America\"], [\"United States of America\"], [\"United States of America\"], [\"United States of America\"], [\"United States of America\"], [\"United States of America\"], [\"United States of America\"], [\"United States of America\"], [\"United States of America\"], [\"United States of America\"], [\"United States of America\"], [\"United States of America\"], [\"United States of America\"], [\"United States of America\"], [\"United States of America\"], [\"United States of America\"], [\"United States of America\"], [\"United States of America\"], [\"United States of America\"], [\"United States of America\"], [\"United States of America\"], [\"United States of America\"]], \"hovertemplate\": \"Primary Fuel=Coal<br>Plant Capacity MW=%{x}<br>CO2 Cumulative Emissions (lbs)=%{marker.size}<br>Country=%{customdata[0]}<extra></extra>\", \"legendgroup\": \"Coal\", \"marker\": {\"color\": \"#636EFA\", \"opacity\": 0.5, \"size\": [32595190352.0, 29800995136.0, 27682893568.0, 27459488736.0, 26333641168.0, 25965134048.0, 24421098400.0, 24128095904.0, 23741781024.0, 23335390240.0, 22348398480.0, 22151987872.0, 21729931296.0, 21551122480.0, 21464112784.0, 21267961936.0, 21220313392.0, 20687088496.0, 19976491920.0, 19451321872.0, 18546644720.0, 18217415704.0, 18201742816.0, 17885011696.0, 17631886352.0, 17608720256.0, 17514366784.0, 17347392032.0, 17229302800.0, 16988827912.0, 16653983952.0, 16512398048.0, 16402403120.0, 16353985392.0, 16154372016.0, 16025660624.0, 16016937136.0, 15973560280.0, 15843013728.0, 15762580992.0, 15708488880.0, 15392906240.0, 15178355288.0, 15001146152.0, 14430089208.0, 14201667200.0, 14089052928.0, 13993227184.0, 13968185056.0, 13943839568.0, 13774737944.0, 13759767264.0, 13713797088.0, 13550386592.0, 13282082656.0, 13074080800.0, 13043273216.0, 12934120448.0, 12696764464.0, 12612903728.0, 12509430528.0, 12237662672.0, 12223148632.0, 12003107696.0, 11796073184.0, 11671945816.0, 11514957000.0, 11510256872.0, 11430875584.0, 11421156792.0, 11206273616.0, 11077025532.0, 11076821528.0, 11075403488.0, 10647677026.0, 10383311776.0, 10162587656.0, 10103793024.0, 9899336912.0, 9853994504.0, 9814994824.0, 9795578680.0, 9424368496.0, 9296146472.0, 9144129696.0, 9084619632.0, 9043558232.0, 9035506080.0, 8945820536.0, 8941892664.0, 8915451720.0, 8884229528.0, 8852689704.0, 8845654048.0, 8816549352.0, 8782579280.0, 8748667472.0, 8743517764.0, 8428625368.0, 8331656904.0, 8270618156.0, 8258453832.0, 8165720136.0, 8017154296.0, 8015786212.0, 7923732376.0, 7906062720.0, 7849426616.0, 7824550528.0, 7812772232.0, 7728447688.0, 7654233256.0, 7633914248.0, 7550134240.0, 7412578456.0, 7349853544.0, 7338110352.0, 7326091480.0, 7293838016.0, 7186979848.0, 7080600464.0, 6929028976.0, 6926474520.0, 6911419864.0, 6881717432.0, 6862340416.0, 6850918412.0, 6786799072.0, 6703845336.0, 6598201056.0, 6535475528.0, 6504465964.0, 6483707248.0, 6461862352.0, 6443768308.0, 6438099616.0, 6387127184.0, 6311659590.0, 6266801200.0, 6259729152.0, 6232558936.0, 6232166592.0, 6161868032.0, 6153737552.0, 6137476232.0, 6082697844.0, 6078406856.0, 6028022992.0, 6022074796.0, 5962291940.0, 5958131464.0, 5906378732.0, 5816324288.0, 5798862088.0, 5716294610.0, 5642276140.0, 5625709268.0, 5532283336.0, 5518201596.0, 5421404448.0, 5252457080.0, 5200371728.0, 5085377976.0, 5063100172.0, 4949626518.0, 4896893988.0, 4884756184.0, 4866992470.0, 4857747032.0, 4840432636.0, 4778456048.0, 4758239898.0, 4746666240.0, 4741015064.0, 4656168076.0, 4653345272.0, 4646173142.0, 4563389608.0, 4531725712.0, 4473384844.0, 4471066428.0, 4330030232.0, 4056876308.0, 4050064418.0, 4009530084.0, 3980115858.0, 3800878378.0, 3764293940.0, 3726805284.0, 3587495194.0, 3515844792.0, 3454249576.0, 3363088402.0, 3323165772.0, 3268316244.0, 3245892888.0, 3164748248.0, 3091811830.0, 3056946632.0, 3056068774.0, 2944242916.0, 2916866324.0, 2794119048.0, 2738169002.0, 2732503308.0, 2726769368.0, 2637324702.0, 2568766240.0, 2534412462.0, 2521153102.0, 2510729280.0, 2502728060.0, 2491178216.0], \"sizemode\": \"area\", \"sizeref\": 81487975.88, \"symbol\": \"circle\"}, \"mode\": \"markers\", \"name\": \"Coal\", \"showlegend\": true, \"type\": \"scatter\", \"x\": [2822.0, 2389.4, 3339.5, 2272.0, 2600.0, 2379.600000000001, 2052.0, 2409.3, 3293.0999999999995, 3564.0, 2441.9, 1795.4, 2932.6, 1710.0, 1884.0, 1884.0, 1690.0, 3498.6, 1880.4, 4008.4, 2469.3, 1300.0, 34.7, 1849.8, 1427.6, 1577.2, 1215.6, 1779.2000000000005, 1766.0, 1579.4, 1389.6, 1471.8, 1648.3, 1362.6, 1640.0, 602.0, 1800.0, 1181.7, 1402.6, 1635.3, 454.3, 2160.0, 2491.2, 1640.0, 1444.0, 1717.1999999999996, 2600.0, 2390.1, 1180.8000000000004, 1800.0, 1894.1, 1425.6, 2119.0, 1980.0, 1152.0, 1841.4000000000005, 2600.0, 2442.7, 869.8, 1186.8, 924.0, 1664.4, 1608.5, 1578.0, 2225.9, 1300.0, 1368.0, 1632.6, 1073.3, 1008.0, 1242.0, 2154.8, 1116.0, 1636.2, 1680.9, 922.2, 1575.0, 1112.0, 1303.8, 1086.5, 721.0, 734.0, 1005.4, 1080.0, 1729.3000000000004, 807.5, 1037.3, 1700.0, 720.0, 661.5, 725.9, 689.3000000000002, 1433.6, 1530.5, 1166.7, 1716.0, 590.6, 1099.4, 772.0, 1319.0, 656.0, 1459.8, 1235.2, 1103.4, 1080.0, 1138.0, 609.0, 1402.1999999999996, 499.5, 622.4, 1785.6, 668.0, 771.8, 811.9, 1358.0, 1184.8999999999996, 1099.8, 764.7, 1262.0, 552.3, 821.8, 1370.0, 1240.0, 804.5, 644.3, 627.2, 720.0, 617.4, 2594.1, 2012.0, 598.4, 1918.4, 2201.4, 483.7, 1135.8, 509.4, 1407.1, 839.9, 950.0, 465.4, 1135.1, 1902.9, 1775.1, 1956.8, 1070.3, 832.0, 517.0, 450.0, 558.0, 706.8000000000002, 488.0, 642.2, 763.2, 848.0, 2558.2, 1548.0, 586.0, 410.0, 932.0, 513.7, 441.0, 644.7, 445.3, 584.1, 2468.1, 1610.8000000000006, 535.5, 2741.100000000001, 713.5, 720.7, 822.8, 1903.5, 402.3, 24.9, 422.0, 417.3, 1799.5000000000002, 695.9, 349.2, 451.0, 446.0, 350.0, 585.0, 598.4, 603.0, 453.5, 793.7, 306.3, 261.0, 348.7, 617.8000000000002, 324.3, 469.0, 660.7, 450.0, 345.6, 368.9, 540.0, 257.0, 405.0, 637.0, 538.0, 30.0, 212.8, 6.0, 1041.0, 641.0, 1148.4, 387.0, 131.6, 1260.0, 154.7, 13.3], \"xaxis\": \"x\", \"y\": [32595190352.0, 29800995136.0, 27682893568.0, 27459488736.0, 26333641168.0, 25965134048.0, 24421098400.0, 24128095904.0, 23741781024.0, 23335390240.0, 22348398480.0, 22151987872.0, 21729931296.0, 21551122480.0, 21464112784.0, 21267961936.0, 21220313392.0, 20687088496.0, 19976491920.0, 19451321872.0, 18546644720.0, 18217415704.0, 18201742816.0, 17885011696.0, 17631886352.0, 17608720256.0, 17514366784.0, 17347392032.0, 17229302800.0, 16988827912.0, 16653983952.0, 16512398048.0, 16402403120.0, 16353985392.0, 16154372016.0, 16025660624.0, 16016937136.0, 15973560280.0, 15843013728.0, 15762580992.0, 15708488880.0, 15392906240.0, 15178355288.0, 15001146152.0, 14430089208.0, 14201667200.0, 14089052928.0, 13993227184.0, 13968185056.0, 13943839568.0, 13774737944.0, 13759767264.0, 13713797088.0, 13550386592.0, 13282082656.0, 13074080800.0, 13043273216.0, 12934120448.0, 12696764464.0, 12612903728.0, 12509430528.0, 12237662672.0, 12223148632.0, 12003107696.0, 11796073184.0, 11671945816.0, 11514957000.0, 11510256872.0, 11430875584.0, 11421156792.0, 11206273616.0, 11077025532.0, 11076821528.0, 11075403488.0, 10647677026.0, 10383311776.0, 10162587656.0, 10103793024.0, 9899336912.0, 9853994504.0, 9814994824.0, 9795578680.0, 9424368496.0, 9296146472.0, 9144129696.0, 9084619632.0, 9043558232.0, 9035506080.0, 8945820536.0, 8941892664.0, 8915451720.0, 8884229528.0, 8852689704.0, 8845654048.0, 8816549352.0, 8782579280.0, 8748667472.0, 8743517764.0, 8428625368.0, 8331656904.0, 8270618156.0, 8258453832.0, 8165720136.0, 8017154296.0, 8015786212.0, 7923732376.0, 7906062720.0, 7849426616.0, 7824550528.0, 7812772232.0, 7728447688.0, 7654233256.0, 7633914248.0, 7550134240.0, 7412578456.0, 7349853544.0, 7338110352.0, 7326091480.0, 7293838016.0, 7186979848.0, 7080600464.0, 6929028976.0, 6926474520.0, 6911419864.0, 6881717432.0, 6862340416.0, 6850918412.0, 6786799072.0, 6703845336.0, 6598201056.0, 6535475528.0, 6504465964.0, 6483707248.0, 6461862352.0, 6443768308.0, 6438099616.0, 6387127184.0, 6311659590.0, 6266801200.0, 6259729152.0, 6232558936.0, 6232166592.0, 6161868032.0, 6153737552.0, 6137476232.0, 6082697844.0, 6078406856.0, 6028022992.0, 6022074796.0, 5962291940.0, 5958131464.0, 5906378732.0, 5816324288.0, 5798862088.0, 5716294610.0, 5642276140.0, 5625709268.0, 5532283336.0, 5518201596.0, 5421404448.0, 5252457080.0, 5200371728.0, 5085377976.0, 5063100172.0, 4949626518.0, 4896893988.0, 4884756184.0, 4866992470.0, 4857747032.0, 4840432636.0, 4778456048.0, 4758239898.0, 4746666240.0, 4741015064.0, 4656168076.0, 4653345272.0, 4646173142.0, 4563389608.0, 4531725712.0, 4473384844.0, 4471066428.0, 4330030232.0, 4056876308.0, 4050064418.0, 4009530084.0, 3980115858.0, 3800878378.0, 3764293940.0, 3726805284.0, 3587495194.0, 3515844792.0, 3454249576.0, 3363088402.0, 3323165772.0, 3268316244.0, 3245892888.0, 3164748248.0, 3091811830.0, 3056946632.0, 3056068774.0, 2944242916.0, 2916866324.0, 2794119048.0, 2738169002.0, 2732503308.0, 2726769368.0, 2637324702.0, 2568766240.0, 2534412462.0, 2521153102.0, 2510729280.0, 2502728060.0, 2491178216.0], \"yaxis\": \"y\"}, {\"alignmentgroup\": \"True\", \"bingroup\": \"x\", \"hovertemplate\": \"Primary Fuel=Coal<br>Plant Capacity MW=%{x}<br>count=%{y}<extra></extra>\", \"legendgroup\": \"Coal\", \"marker\": {\"color\": \"#636EFA\"}, \"name\": \"Coal\", \"offsetgroup\": \"Coal\", \"opacity\": 0.5, \"showlegend\": false, \"type\": \"histogram\", \"x\": [2822.0, 2389.4, 3339.5, 2272.0, 2600.0, 2379.600000000001, 2052.0, 2409.3, 3293.0999999999995, 3564.0, 2441.9, 1795.4, 2932.6, 1710.0, 1884.0, 1884.0, 1690.0, 3498.6, 1880.4, 4008.4, 2469.3, 1300.0, 34.7, 1849.8, 1427.6, 1577.2, 1215.6, 1779.2000000000005, 1766.0, 1579.4, 1389.6, 1471.8, 1648.3, 1362.6, 1640.0, 602.0, 1800.0, 1181.7, 1402.6, 1635.3, 454.3, 2160.0, 2491.2, 1640.0, 1444.0, 1717.1999999999996, 2600.0, 2390.1, 1180.8000000000004, 1800.0, 1894.1, 1425.6, 2119.0, 1980.0, 1152.0, 1841.4000000000005, 2600.0, 2442.7, 869.8, 1186.8, 924.0, 1664.4, 1608.5, 1578.0, 2225.9, 1300.0, 1368.0, 1632.6, 1073.3, 1008.0, 1242.0, 2154.8, 1116.0, 1636.2, 1680.9, 922.2, 1575.0, 1112.0, 1303.8, 1086.5, 721.0, 734.0, 1005.4, 1080.0, 1729.3000000000004, 807.5, 1037.3, 1700.0, 720.0, 661.5, 725.9, 689.3000000000002, 1433.6, 1530.5, 1166.7, 1716.0, 590.6, 1099.4, 772.0, 1319.0, 656.0, 1459.8, 1235.2, 1103.4, 1080.0, 1138.0, 609.0, 1402.1999999999996, 499.5, 622.4, 1785.6, 668.0, 771.8, 811.9, 1358.0, 1184.8999999999996, 1099.8, 764.7, 1262.0, 552.3, 821.8, 1370.0, 1240.0, 804.5, 644.3, 627.2, 720.0, 617.4, 2594.1, 2012.0, 598.4, 1918.4, 2201.4, 483.7, 1135.8, 509.4, 1407.1, 839.9, 950.0, 465.4, 1135.1, 1902.9, 1775.1, 1956.8, 1070.3, 832.0, 517.0, 450.0, 558.0, 706.8000000000002, 488.0, 642.2, 763.2, 848.0, 2558.2, 1548.0, 586.0, 410.0, 932.0, 513.7, 441.0, 644.7, 445.3, 584.1, 2468.1, 1610.8000000000006, 535.5, 2741.100000000001, 713.5, 720.7, 822.8, 1903.5, 402.3, 24.9, 422.0, 417.3, 1799.5000000000002, 695.9, 349.2, 451.0, 446.0, 350.0, 585.0, 598.4, 603.0, 453.5, 793.7, 306.3, 261.0, 348.7, 617.8000000000002, 324.3, 469.0, 660.7, 450.0, 345.6, 368.9, 540.0, 257.0, 405.0, 637.0, 538.0, 30.0, 212.8, 6.0, 1041.0, 641.0, 1148.4, 387.0, 131.6, 1260.0, 154.7, 13.3], \"xaxis\": \"x3\", \"yaxis\": \"y3\"}, {\"alignmentgroup\": \"True\", \"bingroup\": \"y\", \"hovertemplate\": \"Primary Fuel=Coal<br>CO2 Cumulative Emissions (lbs)=%{y}<br>count=%{x}<extra></extra>\", \"legendgroup\": \"Coal\", \"marker\": {\"color\": \"#636EFA\"}, \"name\": \"Coal\", \"offsetgroup\": \"Coal\", \"opacity\": 0.5, \"showlegend\": false, \"type\": \"histogram\", \"xaxis\": \"x2\", \"y\": [32595190352.0, 29800995136.0, 27682893568.0, 27459488736.0, 26333641168.0, 25965134048.0, 24421098400.0, 24128095904.0, 23741781024.0, 23335390240.0, 22348398480.0, 22151987872.0, 21729931296.0, 21551122480.0, 21464112784.0, 21267961936.0, 21220313392.0, 20687088496.0, 19976491920.0, 19451321872.0, 18546644720.0, 18217415704.0, 18201742816.0, 17885011696.0, 17631886352.0, 17608720256.0, 17514366784.0, 17347392032.0, 17229302800.0, 16988827912.0, 16653983952.0, 16512398048.0, 16402403120.0, 16353985392.0, 16154372016.0, 16025660624.0, 16016937136.0, 15973560280.0, 15843013728.0, 15762580992.0, 15708488880.0, 15392906240.0, 15178355288.0, 15001146152.0, 14430089208.0, 14201667200.0, 14089052928.0, 13993227184.0, 13968185056.0, 13943839568.0, 13774737944.0, 13759767264.0, 13713797088.0, 13550386592.0, 13282082656.0, 13074080800.0, 13043273216.0, 12934120448.0, 12696764464.0, 12612903728.0, 12509430528.0, 12237662672.0, 12223148632.0, 12003107696.0, 11796073184.0, 11671945816.0, 11514957000.0, 11510256872.0, 11430875584.0, 11421156792.0, 11206273616.0, 11077025532.0, 11076821528.0, 11075403488.0, 10647677026.0, 10383311776.0, 10162587656.0, 10103793024.0, 9899336912.0, 9853994504.0, 9814994824.0, 9795578680.0, 9424368496.0, 9296146472.0, 9144129696.0, 9084619632.0, 9043558232.0, 9035506080.0, 8945820536.0, 8941892664.0, 8915451720.0, 8884229528.0, 8852689704.0, 8845654048.0, 8816549352.0, 8782579280.0, 8748667472.0, 8743517764.0, 8428625368.0, 8331656904.0, 8270618156.0, 8258453832.0, 8165720136.0, 8017154296.0, 8015786212.0, 7923732376.0, 7906062720.0, 7849426616.0, 7824550528.0, 7812772232.0, 7728447688.0, 7654233256.0, 7633914248.0, 7550134240.0, 7412578456.0, 7349853544.0, 7338110352.0, 7326091480.0, 7293838016.0, 7186979848.0, 7080600464.0, 6929028976.0, 6926474520.0, 6911419864.0, 6881717432.0, 6862340416.0, 6850918412.0, 6786799072.0, 6703845336.0, 6598201056.0, 6535475528.0, 6504465964.0, 6483707248.0, 6461862352.0, 6443768308.0, 6438099616.0, 6387127184.0, 6311659590.0, 6266801200.0, 6259729152.0, 6232558936.0, 6232166592.0, 6161868032.0, 6153737552.0, 6137476232.0, 6082697844.0, 6078406856.0, 6028022992.0, 6022074796.0, 5962291940.0, 5958131464.0, 5906378732.0, 5816324288.0, 5798862088.0, 5716294610.0, 5642276140.0, 5625709268.0, 5532283336.0, 5518201596.0, 5421404448.0, 5252457080.0, 5200371728.0, 5085377976.0, 5063100172.0, 4949626518.0, 4896893988.0, 4884756184.0, 4866992470.0, 4857747032.0, 4840432636.0, 4778456048.0, 4758239898.0, 4746666240.0, 4741015064.0, 4656168076.0, 4653345272.0, 4646173142.0, 4563389608.0, 4531725712.0, 4473384844.0, 4471066428.0, 4330030232.0, 4056876308.0, 4050064418.0, 4009530084.0, 3980115858.0, 3800878378.0, 3764293940.0, 3726805284.0, 3587495194.0, 3515844792.0, 3454249576.0, 3363088402.0, 3323165772.0, 3268316244.0, 3245892888.0, 3164748248.0, 3091811830.0, 3056946632.0, 3056068774.0, 2944242916.0, 2916866324.0, 2794119048.0, 2738169002.0, 2732503308.0, 2726769368.0, 2637324702.0, 2568766240.0, 2534412462.0, 2521153102.0, 2510729280.0, 2502728060.0, 2491178216.0], \"yaxis\": \"y2\"}, {\"customdata\": [[\"United States of America\"], [\"United States of America\"], [\"United States of America\"], [\"United States of America\"], [\"United States of America\"], [\"United States of America\"], [\"United States of America\"], [\"United States of America\"], [\"United States of America\"], [\"United States of America\"], [\"United States of America\"], [\"United States of America\"], [\"United States of America\"], [\"United States of America\"], [\"United States of America\"], [\"United States of America\"], [\"United States of America\"], [\"United States of America\"], [\"United States of America\"], [\"United States of America\"], [\"United States of America\"], [\"United States of America\"], [\"United States of America\"], [\"United States of America\"], [\"United States of America\"], [\"United States of America\"], [\"United States of America\"], [\"United States of America\"], [\"United States of America\"], [\"United States of America\"], [\"United States of America\"], [\"United States of America\"], [\"United States of America\"], [\"United States of America\"], [\"United States of America\"], [\"United States of America\"], [\"United States of America\"], [\"United States of America\"], [\"United States of America\"], [\"United States of America\"], [\"United States of America\"], [\"United States of America\"], [\"United States of America\"], [\"United States of America\"], [\"United States of America\"], [\"United States of America\"], [\"United States of America\"], [\"United States of America\"], [\"United States of America\"], [\"United States of America\"], [\"United States of America\"], [\"United States of America\"], [\"United States of America\"], [\"United States of America\"], [\"United States of America\"], [\"United States of America\"], [\"United States of America\"], [\"United States of America\"], [\"United States of America\"], [\"United States of America\"], [\"United States of America\"], [\"United States of America\"], [\"United States of America\"], [\"United States of America\"], [\"United States of America\"], [\"United States of America\"], [\"United States of America\"], [\"United States of America\"], [\"United States of America\"], [\"United States of America\"], [\"United States of America\"], [\"United States of America\"], [\"United States of America\"], [\"United States of America\"], [\"United States of America\"], [\"United States of America\"], [\"United States of America\"], [\"United States of America\"], [\"United States of America\"], [\"United States of America\"], [\"United States of America\"], [\"United States of America\"], [\"United States of America\"], [\"United States of America\"], [\"United States of America\"], [\"United States of America\"], [\"United States of America\"], [\"United States of America\"], [\"United States of America\"], [\"United States of America\"], [\"United States of America\"], [\"United States of America\"], [\"United States of America\"], [\"United States of America\"], [\"United States of America\"], [\"United States of America\"], [\"United States of America\"], [\"United States of America\"], [\"United States of America\"], [\"United States of America\"], [\"United States of America\"], [\"United States of America\"], [\"United States of America\"], [\"United States of America\"], [\"United States of America\"], [\"United States of America\"], [\"United States of America\"], [\"United States of America\"], [\"United States of America\"], [\"United States of America\"], [\"United States of America\"], [\"United States of America\"], [\"United States of America\"], [\"United States of America\"], [\"United States of America\"], [\"United States of America\"], [\"United States of America\"], [\"United States of America\"], [\"United States of America\"], [\"United States of America\"], [\"United States of America\"], [\"United States of America\"], [\"United States of America\"], [\"United States of America\"], [\"United States of America\"], [\"United States of America\"], [\"United States of America\"], [\"United States of America\"], [\"United States of America\"], [\"United States of America\"], [\"United States of America\"], [\"United States of America\"], [\"United States of America\"], [\"United States of America\"], [\"United States of America\"], [\"United States of America\"], [\"United States of America\"], [\"United States of America\"], [\"United States of America\"], [\"United States of America\"], [\"United States of America\"], [\"United States of America\"], [\"United States of America\"], [\"United States of America\"], [\"United States of America\"], [\"United States of America\"], [\"United States of America\"], [\"United States of America\"], [\"United States of America\"], [\"United States of America\"], [\"United States of America\"], [\"United States of America\"], [\"United States of America\"], [\"United States of America\"], [\"United States of America\"], [\"United States of America\"], [\"United States of America\"], [\"United States of America\"], [\"United States of America\"], [\"United States of America\"], [\"United States of America\"], [\"United States of America\"], [\"United States of America\"], [\"United States of America\"], [\"United States of America\"], [\"United States of America\"], [\"United States of America\"], [\"United States of America\"], [\"United States of America\"], [\"United States of America\"], [\"United States of America\"], [\"United States of America\"], [\"United States of America\"], [\"United States of America\"], [\"United States of America\"], [\"United States of America\"], [\"United States of America\"], [\"United States of America\"], [\"United States of America\"], [\"United States of America\"], [\"United States of America\"], [\"United States of America\"], [\"United States of America\"], [\"United States of America\"], [\"United States of America\"], [\"United States of America\"], [\"United States of America\"], [\"United States of America\"], [\"United States of America\"], [\"United States of America\"], [\"United States of America\"], [\"United States of America\"], [\"United States of America\"], [\"United States of America\"], [\"United States of America\"], [\"United States of America\"], [\"United States of America\"], [\"United States of America\"], [\"United States of America\"], [\"United States of America\"], [\"United States of America\"], [\"United States of America\"], [\"United States of America\"], [\"United States of America\"], [\"United States of America\"], [\"United States of America\"], [\"United States of America\"], [\"United States of America\"], [\"United States of America\"], [\"United States of America\"], [\"United States of America\"], [\"United States of America\"], [\"United States of America\"], [\"United States of America\"], [\"United States of America\"], [\"United States of America\"], [\"United States of America\"], [\"United States of America\"], [\"United States of America\"], [\"United States of America\"], [\"United States of America\"], [\"United States of America\"], [\"United States of America\"], [\"United States of America\"], [\"United States of America\"], [\"United States of America\"], [\"United States of America\"], [\"United States of America\"], [\"United States of America\"], [\"United States of America\"], [\"United States of America\"], [\"United States of America\"], [\"United States of America\"], [\"United States of America\"], [\"United States of America\"], [\"United States of America\"], [\"United States of America\"], [\"United States of America\"], [\"United States of America\"], [\"United States of America\"], [\"United States of America\"], [\"United States of America\"], [\"United States of America\"], [\"United States of America\"], [\"United States of America\"], [\"United States of America\"], [\"United States of America\"]], \"hovertemplate\": \"Primary Fuel=Gas<br>Plant Capacity MW=%{x}<br>CO2 Cumulative Emissions (lbs)=%{marker.size}<br>Country=%{customdata[0]}<extra></extra>\", \"legendgroup\": \"Gas\", \"marker\": {\"color\": \"#00CC96\", \"opacity\": 0.5, \"size\": [14895531264.0, 13958590848.0, 12565520784.0, 12396046256.0, 10555764192.0, 9678710472.0, 9677048472.0, 9556729616.0, 9547388736.0, 9502312824.0, 9446727664.0, 9346521304.0, 9098708912.0, 9014287904.0, 8806235992.0, 8423410680.0, 8392391744.0, 8311794720.0, 8229667440.0, 8223640320.0, 8191118408.0, 8127313136.0, 7451446248.0, 7421562416.0, 7421262832.0, 7166238332.0, 7148287844.0, 7114813738.0, 7107039024.0, 7104259964.0, 6980096688.0, 6949814672.0, 6930977624.0, 6908033272.0, 6706643240.0, 6423595504.0, 6096257320.0, 6034201516.0, 5940215968.0, 5732425854.5, 5659141124.0, 5576468576.0, 5566155536.0, 5501283336.0, 5472058759.0, 5327061128.0, 5260719306.0, 5109366012.0, 5078037404.0, 5062970788.0, 4992939208.0, 4891233444.0, 4887184908.0, 4713089704.0, 4609134978.0, 4600673388.0, 4598949648.0, 4576015230.0, 4568280172.25, 4536650256.0, 4534758792.0, 4508199652.0, 4506785804.0, 4399749888.0, 4391865816.0, 4380966476.0, 4351545296.0, 4293178976.0, 4235775720.0, 4213693268.0, 4180773292.0, 4173367884.0, 4159751498.0, 4142946510.0, 4119388132.0, 4040754848.0, 4031850452.0, 4004181744.0, 3945223532.0, 3941624726.0, 3935575272.0, 3906982484.0, 3871749616.0, 3846752720.0, 3835025972.0, 3812715584.0, 3785969094.0, 3763564432.0, 3759013176.0, 3757699792.0, 3705990844.0, 3650563968.0, 3616876500.0, 3609523604.0, 3538110568.0, 3524471596.0, 3498170484.0, 3493615304.0, 3471600340.0, 3443771398.0, 3442308548.0, 3431807198.0, 3423587940.0, 3416345276.0, 3414673724.0, 3407538854.0, 3404443096.0, 3389504540.0, 3385499270.0, 3376183206.0, 3366464828.0, 3361084612.0, 3351468832.0, 3350804836.0, 3344311168.0, 3342872622.0, 3335122956.0, 3334376288.0, 3323858582.0, 3319372870.0, 3291503628.0, 3270325510.0, 3266897576.0, 3266315500.0, 3262034692.0, 3259989780.0, 3251993510.0, 3240497742.0, 3237518578.0, 3237365632.0, 3227141260.0, 3215725400.0, 3208531962.0, 3204616818.0, 3202231930.0, 3198254492.0, 3185259268.0, 3185169034.0, 3181795272.0, 3181081640.0, 3166820310.0, 3153045643.0, 3149873428.0, 3149263842.0, 3139868186.0, 3131700570.0, 3121816808.0, 3113449084.0, 3101867132.0, 3084881396.0, 3084419236.0, 3081987960.0, 3077902656.0, 3077090342.0, 3070404518.0, 3065826316.0, 3064425576.0, 3057607912.0, 3056886298.0, 3047814504.0, 3046705540.0, 3027517766.0, 3026817042.375, 3020641250.0, 3020463458.0, 2998776930.0, 2995241840.0, 2975261468.0, 2966947922.0, 2964409692.0, 2962600028.0, 2945876552.0, 2930929878.0, 2928849888.0, 2926786416.0, 2916342284.0, 2914580668.0, 2912140456.0, 2904507946.0, 2893502714.0, 2885358448.0, 2872418084.0, 2870499562.0, 2841029674.0, 2832995426.0, 2830531010.0, 2811454402.0, 2809394036.0, 2793271198.0, 2790472788.0, 2783321392.0, 2760158972.0, 2756793868.0, 2749879162.0, 2748824746.0, 2747432706.0, 2742729013.0, 2735958690.0, 2726559048.0, 2725666788.0, 2723398070.0, 2716134284.0, 2712751100.0, 2706878664.0, 2687163444.0, 2686031068.0, 2677544082.0, 2674119858.0, 2664271718.0, 2662663220.0, 2657604966.0, 2655257150.0, 2652278422.0, 2642672526.0, 2641144516.0, 2631241266.0, 2626018994.0, 2617773284.0, 2606331610.0, 2601715804.0, 2600173642.0, 2599346011.25, 2598104804.0, 2586992892.0, 2586855388.0, 2585990968.0, 2576719898.0, 2568136572.0, 2564591520.0, 2560737368.0, 2557374532.0, 2550322986.0, 2546887134.0, 2538866346.0, 2535657956.0, 2530350002.0, 2529987656.0, 2528530110.0, 2521100398.0, 2520380490.0, 2516225024.0, 2508630058.0, 2508617434.0, 2502244582.0, 2501902968.0, 2496267718.0, 2493754662.0], \"sizemode\": \"area\", \"sizeref\": 81487975.88, \"symbol\": \"circle\"}, \"mode\": \"markers\", \"name\": \"Gas\", \"showlegend\": true, \"type\": \"scatter\", \"x\": [194.8, 2603.6, 2263.0, 4263.0, 2569.4999999999995, 24.4, 15.200000000000005, 13.5, 16.9, 29.9, 18.7, 26.1, 39.0, 2439.7, 1995.7, 4.0, 2428.0, 20.7, 11.5, 1472.2, 1429.8000000000004, 13.4, 2229.0, 2680.9, 21.9, 1472.2, 11.8, 1477.5, 1176.0, 2244.8, 2377.8, 1376.6, 1239.0, 1232.0, 1894.2000000000005, 918.3, 1433.6, 619.0, 842.5, 619.0, 1338.0, 987.0, 4317.499999999999, 1853.8, 619.0, 1475.6000000000006, 22.5, 572.0, 1036.0, 619.0, 861.0, 609.0, 1176.0, 1465.6, 2294.0000000000005, 1230.3, 1192.0, 1231.2, 2310.2, 1061.5, 1152.8, 894.2, 1069.6, 920.0, 1492.5, 11.8, 22.0, 1256.0, 273.3, 450.9, 974.1, 1102.0, 1433.6, 1370.0, 1001.7, 1208.8000000000004, 301.5, 456.0, 303.4000000000001, 1088.2, 1389.1999999999996, 899.0, 822.8, 643.6, 921.6, 1606.4, 1530.0, 851.0, 1112.6, 677.8, 560.0, 946.1, 836.0999999999998, 2034.0, 1288.4, 697.9000000000002, 1153.0, 823.3, 697.9000000000002, 1138.0, 923.8, 927.1, 1701.0, 624.0, 595.0, 1002.9, 678.1, 840.0, 903.9, 821.0999999999998, 1295.0, 1112.4, 714.9000000000002, 716.2, 1325.9999999999998, 30.7, 689.4, 665.6, 32.6, 1811.8, 803.2, 650.0, 536.0, 493.0, 996.9, 754.6, 903.9, 517.0, 1027.9, 812.0, 381.8, 870.0, 1946.3, 939.6, 939.0, 832.3, 559.0, 72.0, 126.9, 464.5, 783.1, 100.8, 570.0, 1214.0, 20.7, 1625.2000000000005, 795.0, 932.9, 897.0, 800.4, 43.40000000000001, 777.5999999999998, 840.0, 735.5, 891.0, 1385.0, 1352.0, 714.8, 500.0, 913.0, 542.8, 2.8, 12.7, 940.2, 815.0, 661.5, 19.1, 551.3, 801.0, 898.0, 287.0, 623.0, 22.3, 497.9, 697.8, 1747.6999999999996, 824.1, 1564.0, 850.5, 922.8, 870.0, 1295.0, 501.5, 872.2, 2375.6, 601.1, 618.8, 467.7, 746.0, 266.29999999999995, 130.1, 1304.0, 739.5, 807.0, 280.5, 1192.0, 33.8, 4.3, 22.5, 614.0, 807.4, 890.4, 989.0, 1006.4, 654.0, 788.4000000000002, 1140.3000000000004, 801.0, 1003.5, 521.0, 507.0, 1032.9, 357.7, 939.4, 689.4, 1036.8, 903.9, 678.3, 939.7, 16.0, 5.0, 684.0, 94.2, 593.3, 306.0, 691.6, 405.0, 3.9, 712.4, 5.6, 621.2, 483.0, 644.0, 580.1, 1325.1, 705.9, 758.8999999999999, 860.4000000000002, 3.4000000000000004, 619.7, 943.5, 968.2, 1193.0, 655.0, 380.7000000000001, 1148.5, 605.4], \"xaxis\": \"x\", \"y\": [14895531264.0, 13958590848.0, 12565520784.0, 12396046256.0, 10555764192.0, 9678710472.0, 9677048472.0, 9556729616.0, 9547388736.0, 9502312824.0, 9446727664.0, 9346521304.0, 9098708912.0, 9014287904.0, 8806235992.0, 8423410680.0, 8392391744.0, 8311794720.0, 8229667440.0, 8223640320.0, 8191118408.0, 8127313136.0, 7451446248.0, 7421562416.0, 7421262832.0, 7166238332.0, 7148287844.0, 7114813738.0, 7107039024.0, 7104259964.0, 6980096688.0, 6949814672.0, 6930977624.0, 6908033272.0, 6706643240.0, 6423595504.0, 6096257320.0, 6034201516.0, 5940215968.0, 5732425854.5, 5659141124.0, 5576468576.0, 5566155536.0, 5501283336.0, 5472058759.0, 5327061128.0, 5260719306.0, 5109366012.0, 5078037404.0, 5062970788.0, 4992939208.0, 4891233444.0, 4887184908.0, 4713089704.0, 4609134978.0, 4600673388.0, 4598949648.0, 4576015230.0, 4568280172.25, 4536650256.0, 4534758792.0, 4508199652.0, 4506785804.0, 4399749888.0, 4391865816.0, 4380966476.0, 4351545296.0, 4293178976.0, 4235775720.0, 4213693268.0, 4180773292.0, 4173367884.0, 4159751498.0, 4142946510.0, 4119388132.0, 4040754848.0, 4031850452.0, 4004181744.0, 3945223532.0, 3941624726.0, 3935575272.0, 3906982484.0, 3871749616.0, 3846752720.0, 3835025972.0, 3812715584.0, 3785969094.0, 3763564432.0, 3759013176.0, 3757699792.0, 3705990844.0, 3650563968.0, 3616876500.0, 3609523604.0, 3538110568.0, 3524471596.0, 3498170484.0, 3493615304.0, 3471600340.0, 3443771398.0, 3442308548.0, 3431807198.0, 3423587940.0, 3416345276.0, 3414673724.0, 3407538854.0, 3404443096.0, 3389504540.0, 3385499270.0, 3376183206.0, 3366464828.0, 3361084612.0, 3351468832.0, 3350804836.0, 3344311168.0, 3342872622.0, 3335122956.0, 3334376288.0, 3323858582.0, 3319372870.0, 3291503628.0, 3270325510.0, 3266897576.0, 3266315500.0, 3262034692.0, 3259989780.0, 3251993510.0, 3240497742.0, 3237518578.0, 3237365632.0, 3227141260.0, 3215725400.0, 3208531962.0, 3204616818.0, 3202231930.0, 3198254492.0, 3185259268.0, 3185169034.0, 3181795272.0, 3181081640.0, 3166820310.0, 3153045643.0, 3149873428.0, 3149263842.0, 3139868186.0, 3131700570.0, 3121816808.0, 3113449084.0, 3101867132.0, 3084881396.0, 3084419236.0, 3081987960.0, 3077902656.0, 3077090342.0, 3070404518.0, 3065826316.0, 3064425576.0, 3057607912.0, 3056886298.0, 3047814504.0, 3046705540.0, 3027517766.0, 3026817042.375, 3020641250.0, 3020463458.0, 2998776930.0, 2995241840.0, 2975261468.0, 2966947922.0, 2964409692.0, 2962600028.0, 2945876552.0, 2930929878.0, 2928849888.0, 2926786416.0, 2916342284.0, 2914580668.0, 2912140456.0, 2904507946.0, 2893502714.0, 2885358448.0, 2872418084.0, 2870499562.0, 2841029674.0, 2832995426.0, 2830531010.0, 2811454402.0, 2809394036.0, 2793271198.0, 2790472788.0, 2783321392.0, 2760158972.0, 2756793868.0, 2749879162.0, 2748824746.0, 2747432706.0, 2742729013.0, 2735958690.0, 2726559048.0, 2725666788.0, 2723398070.0, 2716134284.0, 2712751100.0, 2706878664.0, 2687163444.0, 2686031068.0, 2677544082.0, 2674119858.0, 2664271718.0, 2662663220.0, 2657604966.0, 2655257150.0, 2652278422.0, 2642672526.0, 2641144516.0, 2631241266.0, 2626018994.0, 2617773284.0, 2606331610.0, 2601715804.0, 2600173642.0, 2599346011.25, 2598104804.0, 2586992892.0, 2586855388.0, 2585990968.0, 2576719898.0, 2568136572.0, 2564591520.0, 2560737368.0, 2557374532.0, 2550322986.0, 2546887134.0, 2538866346.0, 2535657956.0, 2530350002.0, 2529987656.0, 2528530110.0, 2521100398.0, 2520380490.0, 2516225024.0, 2508630058.0, 2508617434.0, 2502244582.0, 2501902968.0, 2496267718.0, 2493754662.0], \"yaxis\": \"y\"}, {\"alignmentgroup\": \"True\", \"bingroup\": \"x\", \"hovertemplate\": \"Primary Fuel=Gas<br>Plant Capacity MW=%{x}<br>count=%{y}<extra></extra>\", \"legendgroup\": \"Gas\", \"marker\": {\"color\": \"#00CC96\"}, \"name\": \"Gas\", \"offsetgroup\": \"Gas\", \"opacity\": 0.5, \"showlegend\": false, \"type\": \"histogram\", \"x\": [194.8, 2603.6, 2263.0, 4263.0, 2569.4999999999995, 24.4, 15.200000000000005, 13.5, 16.9, 29.9, 18.7, 26.1, 39.0, 2439.7, 1995.7, 4.0, 2428.0, 20.7, 11.5, 1472.2, 1429.8000000000004, 13.4, 2229.0, 2680.9, 21.9, 1472.2, 11.8, 1477.5, 1176.0, 2244.8, 2377.8, 1376.6, 1239.0, 1232.0, 1894.2000000000005, 918.3, 1433.6, 619.0, 842.5, 619.0, 1338.0, 987.0, 4317.499999999999, 1853.8, 619.0, 1475.6000000000006, 22.5, 572.0, 1036.0, 619.0, 861.0, 609.0, 1176.0, 1465.6, 2294.0000000000005, 1230.3, 1192.0, 1231.2, 2310.2, 1061.5, 1152.8, 894.2, 1069.6, 920.0, 1492.5, 11.8, 22.0, 1256.0, 273.3, 450.9, 974.1, 1102.0, 1433.6, 1370.0, 1001.7, 1208.8000000000004, 301.5, 456.0, 303.4000000000001, 1088.2, 1389.1999999999996, 899.0, 822.8, 643.6, 921.6, 1606.4, 1530.0, 851.0, 1112.6, 677.8, 560.0, 946.1, 836.0999999999998, 2034.0, 1288.4, 697.9000000000002, 1153.0, 823.3, 697.9000000000002, 1138.0, 923.8, 927.1, 1701.0, 624.0, 595.0, 1002.9, 678.1, 840.0, 903.9, 821.0999999999998, 1295.0, 1112.4, 714.9000000000002, 716.2, 1325.9999999999998, 30.7, 689.4, 665.6, 32.6, 1811.8, 803.2, 650.0, 536.0, 493.0, 996.9, 754.6, 903.9, 517.0, 1027.9, 812.0, 381.8, 870.0, 1946.3, 939.6, 939.0, 832.3, 559.0, 72.0, 126.9, 464.5, 783.1, 100.8, 570.0, 1214.0, 20.7, 1625.2000000000005, 795.0, 932.9, 897.0, 800.4, 43.40000000000001, 777.5999999999998, 840.0, 735.5, 891.0, 1385.0, 1352.0, 714.8, 500.0, 913.0, 542.8, 2.8, 12.7, 940.2, 815.0, 661.5, 19.1, 551.3, 801.0, 898.0, 287.0, 623.0, 22.3, 497.9, 697.8, 1747.6999999999996, 824.1, 1564.0, 850.5, 922.8, 870.0, 1295.0, 501.5, 872.2, 2375.6, 601.1, 618.8, 467.7, 746.0, 266.29999999999995, 130.1, 1304.0, 739.5, 807.0, 280.5, 1192.0, 33.8, 4.3, 22.5, 614.0, 807.4, 890.4, 989.0, 1006.4, 654.0, 788.4000000000002, 1140.3000000000004, 801.0, 1003.5, 521.0, 507.0, 1032.9, 357.7, 939.4, 689.4, 1036.8, 903.9, 678.3, 939.7, 16.0, 5.0, 684.0, 94.2, 593.3, 306.0, 691.6, 405.0, 3.9, 712.4, 5.6, 621.2, 483.0, 644.0, 580.1, 1325.1, 705.9, 758.8999999999999, 860.4000000000002, 3.4000000000000004, 619.7, 943.5, 968.2, 1193.0, 655.0, 380.7000000000001, 1148.5, 605.4], \"xaxis\": \"x3\", \"yaxis\": \"y3\"}, {\"alignmentgroup\": \"True\", \"bingroup\": \"y\", \"hovertemplate\": \"Primary Fuel=Gas<br>CO2 Cumulative Emissions (lbs)=%{y}<br>count=%{x}<extra></extra>\", \"legendgroup\": \"Gas\", \"marker\": {\"color\": \"#00CC96\"}, \"name\": \"Gas\", \"offsetgroup\": \"Gas\", \"opacity\": 0.5, \"showlegend\": false, \"type\": \"histogram\", \"xaxis\": \"x2\", \"y\": [14895531264.0, 13958590848.0, 12565520784.0, 12396046256.0, 10555764192.0, 9678710472.0, 9677048472.0, 9556729616.0, 9547388736.0, 9502312824.0, 9446727664.0, 9346521304.0, 9098708912.0, 9014287904.0, 8806235992.0, 8423410680.0, 8392391744.0, 8311794720.0, 8229667440.0, 8223640320.0, 8191118408.0, 8127313136.0, 7451446248.0, 7421562416.0, 7421262832.0, 7166238332.0, 7148287844.0, 7114813738.0, 7107039024.0, 7104259964.0, 6980096688.0, 6949814672.0, 6930977624.0, 6908033272.0, 6706643240.0, 6423595504.0, 6096257320.0, 6034201516.0, 5940215968.0, 5732425854.5, 5659141124.0, 5576468576.0, 5566155536.0, 5501283336.0, 5472058759.0, 5327061128.0, 5260719306.0, 5109366012.0, 5078037404.0, 5062970788.0, 4992939208.0, 4891233444.0, 4887184908.0, 4713089704.0, 4609134978.0, 4600673388.0, 4598949648.0, 4576015230.0, 4568280172.25, 4536650256.0, 4534758792.0, 4508199652.0, 4506785804.0, 4399749888.0, 4391865816.0, 4380966476.0, 4351545296.0, 4293178976.0, 4235775720.0, 4213693268.0, 4180773292.0, 4173367884.0, 4159751498.0, 4142946510.0, 4119388132.0, 4040754848.0, 4031850452.0, 4004181744.0, 3945223532.0, 3941624726.0, 3935575272.0, 3906982484.0, 3871749616.0, 3846752720.0, 3835025972.0, 3812715584.0, 3785969094.0, 3763564432.0, 3759013176.0, 3757699792.0, 3705990844.0, 3650563968.0, 3616876500.0, 3609523604.0, 3538110568.0, 3524471596.0, 3498170484.0, 3493615304.0, 3471600340.0, 3443771398.0, 3442308548.0, 3431807198.0, 3423587940.0, 3416345276.0, 3414673724.0, 3407538854.0, 3404443096.0, 3389504540.0, 3385499270.0, 3376183206.0, 3366464828.0, 3361084612.0, 3351468832.0, 3350804836.0, 3344311168.0, 3342872622.0, 3335122956.0, 3334376288.0, 3323858582.0, 3319372870.0, 3291503628.0, 3270325510.0, 3266897576.0, 3266315500.0, 3262034692.0, 3259989780.0, 3251993510.0, 3240497742.0, 3237518578.0, 3237365632.0, 3227141260.0, 3215725400.0, 3208531962.0, 3204616818.0, 3202231930.0, 3198254492.0, 3185259268.0, 3185169034.0, 3181795272.0, 3181081640.0, 3166820310.0, 3153045643.0, 3149873428.0, 3149263842.0, 3139868186.0, 3131700570.0, 3121816808.0, 3113449084.0, 3101867132.0, 3084881396.0, 3084419236.0, 3081987960.0, 3077902656.0, 3077090342.0, 3070404518.0, 3065826316.0, 3064425576.0, 3057607912.0, 3056886298.0, 3047814504.0, 3046705540.0, 3027517766.0, 3026817042.375, 3020641250.0, 3020463458.0, 2998776930.0, 2995241840.0, 2975261468.0, 2966947922.0, 2964409692.0, 2962600028.0, 2945876552.0, 2930929878.0, 2928849888.0, 2926786416.0, 2916342284.0, 2914580668.0, 2912140456.0, 2904507946.0, 2893502714.0, 2885358448.0, 2872418084.0, 2870499562.0, 2841029674.0, 2832995426.0, 2830531010.0, 2811454402.0, 2809394036.0, 2793271198.0, 2790472788.0, 2783321392.0, 2760158972.0, 2756793868.0, 2749879162.0, 2748824746.0, 2747432706.0, 2742729013.0, 2735958690.0, 2726559048.0, 2725666788.0, 2723398070.0, 2716134284.0, 2712751100.0, 2706878664.0, 2687163444.0, 2686031068.0, 2677544082.0, 2674119858.0, 2664271718.0, 2662663220.0, 2657604966.0, 2655257150.0, 2652278422.0, 2642672526.0, 2641144516.0, 2631241266.0, 2626018994.0, 2617773284.0, 2606331610.0, 2601715804.0, 2600173642.0, 2599346011.25, 2598104804.0, 2586992892.0, 2586855388.0, 2585990968.0, 2576719898.0, 2568136572.0, 2564591520.0, 2560737368.0, 2557374532.0, 2550322986.0, 2546887134.0, 2538866346.0, 2535657956.0, 2530350002.0, 2529987656.0, 2528530110.0, 2521100398.0, 2520380490.0, 2516225024.0, 2508630058.0, 2508617434.0, 2502244582.0, 2501902968.0, 2496267718.0, 2493754662.0], \"yaxis\": \"y2\"}, {\"customdata\": [[\"United States of America\"], [\"United States of America\"], [\"United States of America\"], [\"United States of America\"], [\"United States of America\"], [\"United States of America\"], [\"United States of America\"], [\"United States of America\"], [\"United States of America\"], [\"United States of America\"], [\"United States of America\"], [\"United States of America\"], [\"United States of America\"], [\"United States of America\"], [\"United States of America\"], [\"United States of America\"], [\"United States of America\"], [\"United States of America\"], [\"United States of America\"], [\"United States of America\"], [\"United States of America\"], [\"United States of America\"], [\"United States of America\"], [\"United States of America\"], [\"United States of America\"], [\"United States of America\"], [\"United States of America\"], [\"United States of America\"], [\"United States of America\"], [\"United States of America\"], [\"United States of America\"], [\"United States of America\"], [\"United States of America\"], [\"United States of America\"], [\"United States of America\"], [\"United States of America\"], [\"United States of America\"], [\"United States of America\"], [\"United States of America\"]], \"hovertemplate\": \"Primary Fuel=Oil<br>Plant Capacity MW=%{x}<br>CO2 Cumulative Emissions (lbs)=%{marker.size}<br>Country=%{customdata[0]}<extra></extra>\", \"legendgroup\": \"Oil\", \"marker\": {\"color\": \"#EF553B\", \"opacity\": 0.5, \"size\": [10856369568.0, 10503461744.0, 10500121600.0, 8931927136.0, 8865240576.0, 8743785704.0, 8565814356.0, 8524955280.0, 8455637648.0, 8360137248.0, 8313676888.0, 6881692504.0, 6076476258.0, 4879272676.0, 4508229850.0, 4302782256.0, 4156874408.0, 3203914662.0, 3203046068.0, 3159707312.0, 3152700746.0, 3079166372.0, 3074699216.5, 2939173240.0, 2901806876.0, 2883886682.0, 2871494606.0, 2845049982.0, 2813659182.0, 2800870632.0, 2798104556.0, 2797169334.0, 2741897466.0, 2691765814.0, 2681800852.0, 2607679650.0, 2564500336.0, 2525075250.0, 2501751804.0], \"sizemode\": \"area\", \"sizeref\": 81487975.88, \"symbol\": \"circle\"}, \"mode\": \"markers\", \"name\": \"Oil\", \"showlegend\": true, \"type\": \"scatter\", \"x\": [1492.0, 17.2, 36.0, 8.0, 21.800000000000004, 11.5, 7.8, 6.4, 6.0, 13.5, 10.0, 22.0, 2951.1999999999994, 14.0, 13.5, 864.0, 990.0, 602.0, 1943.9, 609.6999999999998, 111.5, 1.5, 5.5, 4.800000000000002, 20.0, 500.59999999999985, 60.7, 1.7000000000000002, 1.6, 3.4, 5.1, 6.4, 50.0, 16.0, 5.1, 4.0, 67.39999999999999, 18.0, 6.0], \"xaxis\": \"x\", \"y\": [10856369568.0, 10503461744.0, 10500121600.0, 8931927136.0, 8865240576.0, 8743785704.0, 8565814356.0, 8524955280.0, 8455637648.0, 8360137248.0, 8313676888.0, 6881692504.0, 6076476258.0, 4879272676.0, 4508229850.0, 4302782256.0, 4156874408.0, 3203914662.0, 3203046068.0, 3159707312.0, 3152700746.0, 3079166372.0, 3074699216.5, 2939173240.0, 2901806876.0, 2883886682.0, 2871494606.0, 2845049982.0, 2813659182.0, 2800870632.0, 2798104556.0, 2797169334.0, 2741897466.0, 2691765814.0, 2681800852.0, 2607679650.0, 2564500336.0, 2525075250.0, 2501751804.0], \"yaxis\": \"y\"}, {\"alignmentgroup\": \"True\", \"bingroup\": \"x\", \"hovertemplate\": \"Primary Fuel=Oil<br>Plant Capacity MW=%{x}<br>count=%{y}<extra></extra>\", \"legendgroup\": \"Oil\", \"marker\": {\"color\": \"#EF553B\"}, \"name\": \"Oil\", \"offsetgroup\": \"Oil\", \"opacity\": 0.5, \"showlegend\": false, \"type\": \"histogram\", \"x\": [1492.0, 17.2, 36.0, 8.0, 21.800000000000004, 11.5, 7.8, 6.4, 6.0, 13.5, 10.0, 22.0, 2951.1999999999994, 14.0, 13.5, 864.0, 990.0, 602.0, 1943.9, 609.6999999999998, 111.5, 1.5, 5.5, 4.800000000000002, 20.0, 500.59999999999985, 60.7, 1.7000000000000002, 1.6, 3.4, 5.1, 6.4, 50.0, 16.0, 5.1, 4.0, 67.39999999999999, 18.0, 6.0], \"xaxis\": \"x3\", \"yaxis\": \"y3\"}, {\"alignmentgroup\": \"True\", \"bingroup\": \"y\", \"hovertemplate\": \"Primary Fuel=Oil<br>CO2 Cumulative Emissions (lbs)=%{y}<br>count=%{x}<extra></extra>\", \"legendgroup\": \"Oil\", \"marker\": {\"color\": \"#EF553B\"}, \"name\": \"Oil\", \"offsetgroup\": \"Oil\", \"opacity\": 0.5, \"showlegend\": false, \"type\": \"histogram\", \"xaxis\": \"x2\", \"y\": [10856369568.0, 10503461744.0, 10500121600.0, 8931927136.0, 8865240576.0, 8743785704.0, 8565814356.0, 8524955280.0, 8455637648.0, 8360137248.0, 8313676888.0, 6881692504.0, 6076476258.0, 4879272676.0, 4508229850.0, 4302782256.0, 4156874408.0, 3203914662.0, 3203046068.0, 3159707312.0, 3152700746.0, 3079166372.0, 3074699216.5, 2939173240.0, 2901806876.0, 2883886682.0, 2871494606.0, 2845049982.0, 2813659182.0, 2800870632.0, 2798104556.0, 2797169334.0, 2741897466.0, 2691765814.0, 2681800852.0, 2607679650.0, 2564500336.0, 2525075250.0, 2501751804.0], \"yaxis\": \"y2\"}, {\"customdata\": [[\"United States of America\"]], \"hovertemplate\": \"Primary Fuel=Petcoke<br>Plant Capacity MW=%{x}<br>CO2 Cumulative Emissions (lbs)=%{marker.size}<br>Country=%{customdata[0]}<extra></extra>\", \"legendgroup\": \"Petcoke\", \"marker\": {\"color\": \"#AB63FA\", \"opacity\": 0.5, \"size\": [9393399156.0], \"sizemode\": \"area\", \"sizeref\": 81487975.88, \"symbol\": \"circle\"}, \"mode\": \"markers\", \"name\": \"Petcoke\", \"showlegend\": true, \"type\": \"scatter\", \"x\": [1707.3], \"xaxis\": \"x\", \"y\": [9393399156.0], \"yaxis\": \"y\"}, {\"alignmentgroup\": \"True\", \"bingroup\": \"x\", \"hovertemplate\": \"Primary Fuel=Petcoke<br>Plant Capacity MW=%{x}<br>count=%{y}<extra></extra>\", \"legendgroup\": \"Petcoke\", \"marker\": {\"color\": \"#AB63FA\"}, \"name\": \"Petcoke\", \"offsetgroup\": \"Petcoke\", \"opacity\": 0.5, \"showlegend\": false, \"type\": \"histogram\", \"x\": [1707.3], \"xaxis\": \"x3\", \"yaxis\": \"y3\"}, {\"alignmentgroup\": \"True\", \"bingroup\": \"y\", \"hovertemplate\": \"Primary Fuel=Petcoke<br>CO2 Cumulative Emissions (lbs)=%{y}<br>count=%{x}<extra></extra>\", \"legendgroup\": \"Petcoke\", \"marker\": {\"color\": \"#AB63FA\"}, \"name\": \"Petcoke\", \"offsetgroup\": \"Petcoke\", \"opacity\": 0.5, \"showlegend\": false, \"type\": \"histogram\", \"xaxis\": \"x2\", \"y\": [9393399156.0], \"yaxis\": \"y2\"}],\n                        {\"barmode\": \"overlay\", \"legend\": {\"itemsizing\": \"constant\", \"title\": {\"text\": \"Primary Fuel\"}, \"tracegroupgap\": 0}, \"margin\": {\"t\": 60}, \"showlegend\": false, \"template\": {\"data\": {\"bar\": [{\"error_x\": {\"color\": \"#2a3f5f\"}, \"error_y\": {\"color\": \"#2a3f5f\"}, \"marker\": {\"line\": {\"color\": \"#E5ECF6\", \"width\": 0.5}}, \"type\": \"bar\"}], \"barpolar\": [{\"marker\": {\"line\": {\"color\": \"#E5ECF6\", \"width\": 0.5}}, \"type\": \"barpolar\"}], \"carpet\": [{\"aaxis\": {\"endlinecolor\": \"#2a3f5f\", \"gridcolor\": \"white\", \"linecolor\": \"white\", \"minorgridcolor\": \"white\", \"startlinecolor\": \"#2a3f5f\"}, \"baxis\": {\"endlinecolor\": \"#2a3f5f\", \"gridcolor\": \"white\", \"linecolor\": \"white\", \"minorgridcolor\": \"white\", \"startlinecolor\": \"#2a3f5f\"}, \"type\": \"carpet\"}], \"choropleth\": [{\"colorbar\": {\"outlinewidth\": 0, \"ticks\": \"\"}, \"type\": \"choropleth\"}], \"contour\": [{\"colorbar\": {\"outlinewidth\": 0, \"ticks\": \"\"}, \"colorscale\": [[0.0, \"#0d0887\"], [0.1111111111111111, \"#46039f\"], [0.2222222222222222, \"#7201a8\"], [0.3333333333333333, \"#9c179e\"], [0.4444444444444444, \"#bd3786\"], [0.5555555555555556, \"#d8576b\"], [0.6666666666666666, \"#ed7953\"], [0.7777777777777778, \"#fb9f3a\"], [0.8888888888888888, \"#fdca26\"], [1.0, \"#f0f921\"]], \"type\": \"contour\"}], \"contourcarpet\": [{\"colorbar\": {\"outlinewidth\": 0, \"ticks\": \"\"}, \"type\": \"contourcarpet\"}], \"heatmap\": [{\"colorbar\": {\"outlinewidth\": 0, \"ticks\": \"\"}, \"colorscale\": [[0.0, \"#0d0887\"], [0.1111111111111111, \"#46039f\"], [0.2222222222222222, \"#7201a8\"], [0.3333333333333333, \"#9c179e\"], [0.4444444444444444, \"#bd3786\"], [0.5555555555555556, \"#d8576b\"], [0.6666666666666666, \"#ed7953\"], [0.7777777777777778, \"#fb9f3a\"], [0.8888888888888888, \"#fdca26\"], [1.0, \"#f0f921\"]], \"type\": \"heatmap\"}], \"heatmapgl\": [{\"colorbar\": {\"outlinewidth\": 0, \"ticks\": \"\"}, \"colorscale\": [[0.0, \"#0d0887\"], [0.1111111111111111, \"#46039f\"], [0.2222222222222222, \"#7201a8\"], [0.3333333333333333, \"#9c179e\"], [0.4444444444444444, \"#bd3786\"], [0.5555555555555556, \"#d8576b\"], [0.6666666666666666, \"#ed7953\"], [0.7777777777777778, \"#fb9f3a\"], [0.8888888888888888, \"#fdca26\"], [1.0, \"#f0f921\"]], \"type\": \"heatmapgl\"}], \"histogram\": [{\"marker\": {\"colorbar\": {\"outlinewidth\": 0, \"ticks\": \"\"}}, \"type\": \"histogram\"}], \"histogram2d\": [{\"colorbar\": {\"outlinewidth\": 0, \"ticks\": \"\"}, \"colorscale\": [[0.0, \"#0d0887\"], [0.1111111111111111, \"#46039f\"], [0.2222222222222222, \"#7201a8\"], [0.3333333333333333, \"#9c179e\"], [0.4444444444444444, \"#bd3786\"], [0.5555555555555556, \"#d8576b\"], [0.6666666666666666, \"#ed7953\"], [0.7777777777777778, \"#fb9f3a\"], [0.8888888888888888, \"#fdca26\"], [1.0, \"#f0f921\"]], \"type\": \"histogram2d\"}], \"histogram2dcontour\": [{\"colorbar\": {\"outlinewidth\": 0, \"ticks\": \"\"}, \"colorscale\": [[0.0, \"#0d0887\"], [0.1111111111111111, \"#46039f\"], [0.2222222222222222, \"#7201a8\"], [0.3333333333333333, \"#9c179e\"], [0.4444444444444444, \"#bd3786\"], [0.5555555555555556, \"#d8576b\"], [0.6666666666666666, \"#ed7953\"], [0.7777777777777778, \"#fb9f3a\"], [0.8888888888888888, \"#fdca26\"], [1.0, \"#f0f921\"]], \"type\": \"histogram2dcontour\"}], \"mesh3d\": [{\"colorbar\": {\"outlinewidth\": 0, \"ticks\": \"\"}, \"type\": \"mesh3d\"}], \"parcoords\": [{\"line\": {\"colorbar\": {\"outlinewidth\": 0, \"ticks\": \"\"}}, \"type\": \"parcoords\"}], \"pie\": [{\"automargin\": true, \"type\": \"pie\"}], \"scatter\": [{\"marker\": {\"colorbar\": {\"outlinewidth\": 0, \"ticks\": \"\"}}, \"type\": \"scatter\"}], \"scatter3d\": [{\"line\": {\"colorbar\": {\"outlinewidth\": 0, \"ticks\": \"\"}}, \"marker\": {\"colorbar\": {\"outlinewidth\": 0, \"ticks\": \"\"}}, \"type\": \"scatter3d\"}], \"scattercarpet\": [{\"marker\": {\"colorbar\": {\"outlinewidth\": 0, \"ticks\": \"\"}}, \"type\": \"scattercarpet\"}], \"scattergeo\": [{\"marker\": {\"colorbar\": {\"outlinewidth\": 0, \"ticks\": \"\"}}, \"type\": \"scattergeo\"}], \"scattergl\": [{\"marker\": {\"colorbar\": {\"outlinewidth\": 0, \"ticks\": \"\"}}, \"type\": \"scattergl\"}], \"scattermapbox\": [{\"marker\": {\"colorbar\": {\"outlinewidth\": 0, \"ticks\": \"\"}}, \"type\": \"scattermapbox\"}], \"scatterpolar\": [{\"marker\": {\"colorbar\": {\"outlinewidth\": 0, \"ticks\": \"\"}}, \"type\": \"scatterpolar\"}], \"scatterpolargl\": [{\"marker\": {\"colorbar\": {\"outlinewidth\": 0, \"ticks\": \"\"}}, \"type\": \"scatterpolargl\"}], \"scatterternary\": [{\"marker\": {\"colorbar\": {\"outlinewidth\": 0, \"ticks\": \"\"}}, \"type\": \"scatterternary\"}], \"surface\": [{\"colorbar\": {\"outlinewidth\": 0, \"ticks\": \"\"}, \"colorscale\": [[0.0, \"#0d0887\"], [0.1111111111111111, \"#46039f\"], [0.2222222222222222, \"#7201a8\"], [0.3333333333333333, \"#9c179e\"], [0.4444444444444444, \"#bd3786\"], [0.5555555555555556, \"#d8576b\"], [0.6666666666666666, \"#ed7953\"], [0.7777777777777778, \"#fb9f3a\"], [0.8888888888888888, \"#fdca26\"], [1.0, \"#f0f921\"]], \"type\": \"surface\"}], \"table\": [{\"cells\": {\"fill\": {\"color\": \"#EBF0F8\"}, \"line\": {\"color\": \"white\"}}, \"header\": {\"fill\": {\"color\": \"#C8D4E3\"}, \"line\": {\"color\": \"white\"}}, \"type\": \"table\"}]}, \"layout\": {\"annotationdefaults\": {\"arrowcolor\": \"#2a3f5f\", \"arrowhead\": 0, \"arrowwidth\": 1}, \"coloraxis\": {\"colorbar\": {\"outlinewidth\": 0, \"ticks\": \"\"}}, \"colorscale\": {\"diverging\": [[0, \"#8e0152\"], [0.1, \"#c51b7d\"], [0.2, \"#de77ae\"], [0.3, \"#f1b6da\"], [0.4, \"#fde0ef\"], [0.5, \"#f7f7f7\"], [0.6, \"#e6f5d0\"], [0.7, \"#b8e186\"], [0.8, \"#7fbc41\"], [0.9, \"#4d9221\"], [1, \"#276419\"]], \"sequential\": [[0.0, \"#0d0887\"], [0.1111111111111111, \"#46039f\"], [0.2222222222222222, \"#7201a8\"], [0.3333333333333333, \"#9c179e\"], [0.4444444444444444, \"#bd3786\"], [0.5555555555555556, \"#d8576b\"], [0.6666666666666666, \"#ed7953\"], [0.7777777777777778, \"#fb9f3a\"], [0.8888888888888888, \"#fdca26\"], [1.0, \"#f0f921\"]], \"sequentialminus\": [[0.0, \"#0d0887\"], [0.1111111111111111, \"#46039f\"], [0.2222222222222222, \"#7201a8\"], [0.3333333333333333, \"#9c179e\"], [0.4444444444444444, \"#bd3786\"], [0.5555555555555556, \"#d8576b\"], [0.6666666666666666, \"#ed7953\"], [0.7777777777777778, \"#fb9f3a\"], [0.8888888888888888, \"#fdca26\"], [1.0, \"#f0f921\"]]}, \"colorway\": [\"#636efa\", \"#EF553B\", \"#00cc96\", \"#ab63fa\", \"#FFA15A\", \"#19d3f3\", \"#FF6692\", \"#B6E880\", \"#FF97FF\", \"#FECB52\"], \"font\": {\"color\": \"#2a3f5f\"}, \"geo\": {\"bgcolor\": \"white\", \"lakecolor\": \"white\", \"landcolor\": \"#E5ECF6\", \"showlakes\": true, \"showland\": true, \"subunitcolor\": \"white\"}, \"hoverlabel\": {\"align\": \"left\"}, \"hovermode\": \"closest\", \"mapbox\": {\"style\": \"light\"}, \"paper_bgcolor\": \"white\", \"plot_bgcolor\": \"#E5ECF6\", \"polar\": {\"angularaxis\": {\"gridcolor\": \"white\", \"linecolor\": \"white\", \"ticks\": \"\"}, \"bgcolor\": \"#E5ECF6\", \"radialaxis\": {\"gridcolor\": \"white\", \"linecolor\": \"white\", \"ticks\": \"\"}}, \"scene\": {\"xaxis\": {\"backgroundcolor\": \"#E5ECF6\", \"gridcolor\": \"white\", \"gridwidth\": 2, \"linecolor\": \"white\", \"showbackground\": true, \"ticks\": \"\", \"zerolinecolor\": \"white\"}, \"yaxis\": {\"backgroundcolor\": \"#E5ECF6\", \"gridcolor\": \"white\", \"gridwidth\": 2, \"linecolor\": \"white\", \"showbackground\": true, \"ticks\": \"\", \"zerolinecolor\": \"white\"}, \"zaxis\": {\"backgroundcolor\": \"#E5ECF6\", \"gridcolor\": \"white\", \"gridwidth\": 2, \"linecolor\": \"white\", \"showbackground\": true, \"ticks\": \"\", \"zerolinecolor\": \"white\"}}, \"shapedefaults\": {\"line\": {\"color\": \"#2a3f5f\"}}, \"ternary\": {\"aaxis\": {\"gridcolor\": \"white\", \"linecolor\": \"white\", \"ticks\": \"\"}, \"baxis\": {\"gridcolor\": \"white\", \"linecolor\": \"white\", \"ticks\": \"\"}, \"bgcolor\": \"#E5ECF6\", \"caxis\": {\"gridcolor\": \"white\", \"linecolor\": \"white\", \"ticks\": \"\"}}, \"title\": {\"x\": 0.05}, \"xaxis\": {\"automargin\": true, \"gridcolor\": \"white\", \"linecolor\": \"white\", \"ticks\": \"\", \"title\": {\"standoff\": 15}, \"zerolinecolor\": \"white\", \"zerolinewidth\": 2}, \"yaxis\": {\"automargin\": true, \"gridcolor\": \"white\", \"linecolor\": \"white\", \"ticks\": \"\", \"title\": {\"standoff\": 15}, \"zerolinecolor\": \"white\", \"zerolinewidth\": 2}}}, \"xaxis\": {\"anchor\": \"y\", \"domain\": [0.0, 0.7363], \"title\": {\"text\": \"Capacity (MW)\"}}, \"xaxis2\": {\"anchor\": \"y2\", \"domain\": [0.7413, 1.0], \"matches\": \"x2\", \"showgrid\": true, \"showline\": false, \"showticklabels\": false, \"ticks\": \"\"}, \"xaxis3\": {\"anchor\": \"y3\", \"domain\": [0.0, 0.7363], \"matches\": \"x\", \"showgrid\": true, \"showticklabels\": false}, \"xaxis4\": {\"anchor\": \"y4\", \"domain\": [0.7413, 1.0], \"matches\": \"x2\", \"showgrid\": true, \"showline\": false, \"showticklabels\": false, \"ticks\": \"\"}, \"yaxis\": {\"anchor\": \"x\", \"domain\": [0.0, 0.7326], \"title\": {\"text\": \"CO2 Cumulative Emissions (lbs)\"}}, \"yaxis2\": {\"anchor\": \"x2\", \"domain\": [0.0, 0.7326], \"matches\": \"y\", \"showgrid\": true, \"showticklabels\": false}, \"yaxis3\": {\"anchor\": \"x3\", \"domain\": [0.7426, 1.0], \"matches\": \"y3\", \"showgrid\": true, \"showline\": false, \"showticklabels\": false, \"ticks\": \"\"}, \"yaxis4\": {\"anchor\": \"x4\", \"domain\": [0.7426, 1.0], \"matches\": \"y3\", \"showgrid\": true, \"showline\": false, \"showticklabels\": false, \"ticks\": \"\"}},\n                        {\"responsive\": true}\n                    ).then(function(){\n                            \nvar gd = document.getElementById('55becba5-59ff-49c5-8581-1942d9b98f17');\nvar x = new MutationObserver(function (mutations, observer) {{\n        var display = window.getComputedStyle(gd).display;\n        if (!display || display === 'none') {{\n            console.log([gd, 'removed!']);\n            Plotly.purge(gd);\n            observer.disconnect();\n        }}\n}});\n\n// Listen for the removal of the full notebook cells\nvar notebookContainer = gd.closest('#notebook-container');\nif (notebookContainer) {{\n    x.observe(notebookContainer, {childList: true});\n}}\n\n// Listen for the clearing of the current output cell\nvar outputEl = gd.closest('.output');\nif (outputEl) {{\n    x.observe(outputEl, {childList: true});\n}}\n\n                        })\n                };\n                });\n            </script>\n        </div>"
     },
     "metadata": {}
    }
   ],
   "source": [
    "switches = {'emission':'co2_lbs', 'country_long':'United States of America'}\n",
    "switches['emission_label'] = f\"{switches['emission'].replace('_lbs','').upper()} Cumulative Emissions (lbs)\"\n",
    "\n",
    "if switches['country_long'] == 'World':\n",
    "    query = f\"\"\"\n",
    "            SELECT\n",
    "                a.plant_id_wri,\n",
    "                a.country_long, \n",
    "                a.primary_fuel,\n",
    "                a.cum_{switches['emission']},\n",
    "                a.capacity_mw\n",
    "            FROM {Config.SCHEMA}.plant a\n",
    "            ORDER BY a.cum_{switches['emission']} DESC\n",
    "            LIMIT 500\n",
    "            \"\"\"\n",
    "else:\n",
    "    query = f\"\"\"\n",
    "        SELECT\n",
    "            a.plant_id_wri,\n",
    "            a.country_long, \n",
    "            a.primary_fuel,\n",
    "            a.cum_{switches['emission']},\n",
    "            a.capacity_mw\n",
    "        FROM {Config.SCHEMA}.plant a\n",
    "        WHERE a.country_long = '{switches['country_long']}'\n",
    "        ORDER BY a.cum_{switches['emission']} DESC\n",
    "        LIMIT 500\n",
    "        \"\"\"\n",
    "\n",
    "df = pd.read_sql(query, engine)\n",
    "df.columns = ['WRI Plant ID', 'Country', 'Primary Fuel', switches['emission_label'], \"Plant Capacity MW\"]\n",
    "\n",
    "fig = px.scatter(df, x=\"Plant Capacity MW\", y=switches['emission_label'],\n",
    "                color='Primary Fuel', size=switches['emission_label'], opacity=0.5,\n",
    "                hover_data=['Country'],\n",
    "                marginal_x='histogram', marginal_y='histogram', color_discrete_map=primary_fuel_cmap)\n",
    "\n",
    "fig.update_layout(xaxis_title='Capacity (MW)', yaxis_title=switches['emission_label'])\n",
    "fig.update_layout(showlegend=False)\n",
    "\n"
   ]
  },
  {
   "cell_type": "code",
   "execution_count": 109,
   "metadata": {},
   "outputs": [
    {
     "output_type": "display_data",
     "data": {
      "application/vnd.plotly.v1+json": {
       "config": {
        "plotlyServerURL": "https://plot.ly"
       },
       "data": [
        {
         "customdata": [
          [
           "United States of America"
          ],
          [
           "United States of America"
          ],
          [
           "United States of America"
          ],
          [
           "United States of America"
          ],
          [
           "United States of America"
          ],
          [
           "United States of America"
          ],
          [
           "United States of America"
          ],
          [
           "United States of America"
          ],
          [
           "United States of America"
          ],
          [
           "United States of America"
          ],
          [
           "United States of America"
          ],
          [
           "United States of America"
          ],
          [
           "United States of America"
          ],
          [
           "United States of America"
          ],
          [
           "United States of America"
          ],
          [
           "United States of America"
          ],
          [
           "United States of America"
          ],
          [
           "United States of America"
          ],
          [
           "United States of America"
          ],
          [
           "United States of America"
          ],
          [
           "United States of America"
          ],
          [
           "United States of America"
          ],
          [
           "United States of America"
          ],
          [
           "United States of America"
          ],
          [
           "United States of America"
          ],
          [
           "United States of America"
          ],
          [
           "United States of America"
          ],
          [
           "United States of America"
          ],
          [
           "United States of America"
          ],
          [
           "United States of America"
          ],
          [
           "United States of America"
          ],
          [
           "United States of America"
          ],
          [
           "United States of America"
          ],
          [
           "United States of America"
          ],
          [
           "United States of America"
          ],
          [
           "United States of America"
          ],
          [
           "United States of America"
          ],
          [
           "United States of America"
          ],
          [
           "United States of America"
          ],
          [
           "United States of America"
          ],
          [
           "United States of America"
          ],
          [
           "United States of America"
          ],
          [
           "United States of America"
          ],
          [
           "United States of America"
          ],
          [
           "United States of America"
          ],
          [
           "United States of America"
          ],
          [
           "United States of America"
          ],
          [
           "United States of America"
          ],
          [
           "United States of America"
          ],
          [
           "United States of America"
          ],
          [
           "United States of America"
          ],
          [
           "United States of America"
          ],
          [
           "United States of America"
          ],
          [
           "United States of America"
          ],
          [
           "United States of America"
          ],
          [
           "United States of America"
          ],
          [
           "United States of America"
          ],
          [
           "United States of America"
          ],
          [
           "United States of America"
          ],
          [
           "United States of America"
          ],
          [
           "United States of America"
          ],
          [
           "United States of America"
          ],
          [
           "United States of America"
          ],
          [
           "United States of America"
          ],
          [
           "United States of America"
          ],
          [
           "United States of America"
          ],
          [
           "United States of America"
          ],
          [
           "United States of America"
          ],
          [
           "United States of America"
          ],
          [
           "United States of America"
          ],
          [
           "United States of America"
          ],
          [
           "United States of America"
          ],
          [
           "United States of America"
          ],
          [
           "United States of America"
          ],
          [
           "United States of America"
          ],
          [
           "United States of America"
          ],
          [
           "United States of America"
          ],
          [
           "United States of America"
          ],
          [
           "United States of America"
          ],
          [
           "United States of America"
          ],
          [
           "United States of America"
          ],
          [
           "United States of America"
          ],
          [
           "United States of America"
          ],
          [
           "United States of America"
          ],
          [
           "United States of America"
          ],
          [
           "United States of America"
          ],
          [
           "United States of America"
          ],
          [
           "United States of America"
          ],
          [
           "United States of America"
          ],
          [
           "United States of America"
          ],
          [
           "United States of America"
          ],
          [
           "United States of America"
          ],
          [
           "United States of America"
          ],
          [
           "United States of America"
          ],
          [
           "United States of America"
          ],
          [
           "United States of America"
          ],
          [
           "United States of America"
          ],
          [
           "United States of America"
          ],
          [
           "United States of America"
          ],
          [
           "United States of America"
          ],
          [
           "United States of America"
          ],
          [
           "United States of America"
          ],
          [
           "United States of America"
          ],
          [
           "United States of America"
          ],
          [
           "United States of America"
          ],
          [
           "United States of America"
          ],
          [
           "United States of America"
          ],
          [
           "United States of America"
          ],
          [
           "United States of America"
          ],
          [
           "United States of America"
          ],
          [
           "United States of America"
          ],
          [
           "United States of America"
          ],
          [
           "United States of America"
          ],
          [
           "United States of America"
          ],
          [
           "United States of America"
          ],
          [
           "United States of America"
          ],
          [
           "United States of America"
          ],
          [
           "United States of America"
          ],
          [
           "United States of America"
          ],
          [
           "United States of America"
          ],
          [
           "United States of America"
          ],
          [
           "United States of America"
          ],
          [
           "United States of America"
          ],
          [
           "United States of America"
          ],
          [
           "United States of America"
          ],
          [
           "United States of America"
          ],
          [
           "United States of America"
          ],
          [
           "United States of America"
          ],
          [
           "United States of America"
          ],
          [
           "United States of America"
          ],
          [
           "United States of America"
          ],
          [
           "United States of America"
          ],
          [
           "United States of America"
          ],
          [
           "United States of America"
          ],
          [
           "United States of America"
          ],
          [
           "United States of America"
          ],
          [
           "United States of America"
          ],
          [
           "United States of America"
          ],
          [
           "United States of America"
          ],
          [
           "United States of America"
          ],
          [
           "United States of America"
          ],
          [
           "United States of America"
          ],
          [
           "United States of America"
          ],
          [
           "United States of America"
          ],
          [
           "United States of America"
          ],
          [
           "United States of America"
          ],
          [
           "United States of America"
          ],
          [
           "United States of America"
          ],
          [
           "United States of America"
          ],
          [
           "United States of America"
          ],
          [
           "United States of America"
          ],
          [
           "United States of America"
          ],
          [
           "United States of America"
          ],
          [
           "United States of America"
          ],
          [
           "United States of America"
          ],
          [
           "United States of America"
          ],
          [
           "United States of America"
          ],
          [
           "United States of America"
          ],
          [
           "United States of America"
          ],
          [
           "United States of America"
          ],
          [
           "United States of America"
          ],
          [
           "United States of America"
          ],
          [
           "United States of America"
          ],
          [
           "United States of America"
          ],
          [
           "United States of America"
          ],
          [
           "United States of America"
          ],
          [
           "United States of America"
          ],
          [
           "United States of America"
          ],
          [
           "United States of America"
          ],
          [
           "United States of America"
          ],
          [
           "United States of America"
          ],
          [
           "United States of America"
          ],
          [
           "United States of America"
          ],
          [
           "United States of America"
          ],
          [
           "United States of America"
          ],
          [
           "United States of America"
          ],
          [
           "United States of America"
          ],
          [
           "United States of America"
          ],
          [
           "United States of America"
          ],
          [
           "United States of America"
          ],
          [
           "United States of America"
          ],
          [
           "United States of America"
          ],
          [
           "United States of America"
          ],
          [
           "United States of America"
          ],
          [
           "United States of America"
          ],
          [
           "United States of America"
          ],
          [
           "United States of America"
          ],
          [
           "United States of America"
          ],
          [
           "United States of America"
          ],
          [
           "United States of America"
          ],
          [
           "United States of America"
          ],
          [
           "United States of America"
          ],
          [
           "United States of America"
          ],
          [
           "United States of America"
          ],
          [
           "United States of America"
          ],
          [
           "United States of America"
          ],
          [
           "United States of America"
          ],
          [
           "United States of America"
          ],
          [
           "United States of America"
          ],
          [
           "United States of America"
          ],
          [
           "United States of America"
          ],
          [
           "United States of America"
          ],
          [
           "United States of America"
          ],
          [
           "United States of America"
          ],
          [
           "United States of America"
          ]
         ],
         "hovertemplate": "Primary Fuel=Coal<br>Plant Cumulative Load (MWh)=%{x}<br>Mean CO2 Emissions lbs/MWh=%{marker.size}<br>Country=%{customdata[0]}<extra></extra>",
         "legendgroup": "Coal",
         "marker": {
          "color": "#636EFA",
          "opacity": 0.5,
          "size": [
           1911.635220607325,
           1995.5801099898315,
           1950.110471505172,
           2054.6319013703182,
           1992.6893461362222,
           2090.9165166413127,
           1937.4558235178117,
           1884.434559524453,
           2021.1074152971203,
           1691.5442314265551,
           2074.826241007435,
           2704.743831471707,
           1958.339022380109,
           2702.4320776102772,
           2141.156727567688,
           2103.634674576216,
           2196.5432462742,
           1648.6815821298767,
           2170.408298779065,
           1501.8529245370198,
           2527.8569290347255,
           2176.359169286051,
           2046.6254009975062,
           2233.758155999663,
           2100.1459312502607,
           2164.10085801874,
           2213.419890679216,
           1978.8785561297288,
           2021.2658018721113,
           2089.9867728837758,
           2073.046806992686,
           2230.338306573188,
           2024.7188300549249,
           1838.1577179172064,
           2292.8074817226016,
           1987.2506901373806,
           1970.6363790618718,
           1766.0505704301777,
           4154.932384468147,
           2209.7004418864803,
           2134.755680467197,
           1998.9076299093508,
           2344.7199404649405,
           1878.554321549597,
           1295.793058458234,
           1993.6405860283476,
           2024.6641792781538,
           2086.61425541644,
           2051.6091826838065,
           1821.5176344211595,
           1926.4363068520147,
           1869.3728688781891,
           2065.8154671332827,
           3479.2229600663823,
           1501.189065806185,
           1824.3432150530073,
           2374.9525696996798,
           1866.4640302962364,
           2445.112628594638,
           2192.3243374555964,
           2236.588478019546,
           2755.007760153019,
           1900.380541139658,
           1864.6125374824082,
           1930.426996435538,
           1987.8564178078745,
           2217.2437523777203,
           2001.7246604766326,
           1855.6704084599846,
           1914.293584165715,
           2365.906089394497,
           2594.766894269639,
           2278.133128265356,
           2689.3855750155994,
           1896.3285856065647,
           1879.7251664095386,
           1993.012490913949,
           2472.0692296659995,
           2534.127557415437,
           2043.7441270916104,
           2401.301875269719,
           2306.2121071588094,
           2564.942192977721,
           2269.59449529246,
           2296.9953299691806,
           3000.3195028216087,
           2234.082612108815,
           2107.2379263547205,
           2327.321451141259,
           2229.47377395268,
           1903.081885123075,
           2157.0586833942593,
           2222.1599157836263,
           2010.8624440620345,
           2275.8320419824818,
           2279.6855103023927,
           2153.922840574625,
           2801.8007106378122,
           1987.4333976697926,
           2776.3683584583564,
           2081.7618626675885,
           1947.7932902165373,
           2127.9102466129657,
           2034.38194520018,
           2186.1170105165893,
           2117.761009899457,
           1967.1798788901174,
           2204.96623136035,
           2354.4416285023467,
           2343.6914039673784,
           2270.809705524247,
           2089.7071738767822,
           1751.1045909961508,
           2062.599001820972,
           1940.0306805203747,
           2215.153235612338,
           1497.152308747978,
           2337.4316433520153,
           2346.6327630973747,
           2263.920660923178,
           2075.1965592672937,
           1908.1420891780504,
           2078.898137099631,
           3350.586077302603,
           2071.7830818736647,
           1635.558577678653,
           2296.401463638607,
           2300.260608355018,
           1777.3353378790887,
           2035.5690398765844,
           2068.116233170623,
           2506.506972755599,
           2484.843123348346,
           1846.9425616373012,
           2327.2221724167616,
           2161.5821945839075,
           2292.14462275166,
           1662.336481172282,
           1879.0113080894334,
           2994.4181493023675,
           2254.278023091022,
           1754.3320547796677,
           2615.003015835271,
           2646.5810929117974,
           2546.286404244268,
           2443.605881469275,
           3017.4204394310386,
           2649.024252278934,
           2830.74857878424,
           3294.1142055254113,
           2098.6325430968986,
           2197.947667771179,
           2790.9579706129775,
           2333.2746250297328,
           1771.2629453181369,
           1572.9517712438976,
           2348.5239095695647,
           2987.269023724286,
           3091.087934885943,
           2937.2332536225304,
           2738.257415304422,
           2084.575183819897,
           1267.7544138142548,
           3451.5763819124013,
           651.8641455667059,
           2091.033851235647,
           2089.8506843948358,
           2670.5829817263407,
           1530.3298464470029,
           3066.921690889718,
           2943.3100295857316,
           1938.3840329344473,
           1262.7464821199703,
           2105.8761502290818,
           1994.2019400258105,
           2691.0214400704067,
           2606.272147508855,
           2304.872721727968,
           2414.069597455756,
           2596.3341765503137,
           2147.1714944844352,
           2542.049168040724,
           2637.924819569231,
           2220.368789506313,
           2868.7749341508193,
           2585.455694804996,
           2647.0345417122853,
           2229.4285942781444,
           1604.595930183975,
           2118.374431629962,
           2209.1150190974186,
           2611.2633908415646,
           2110.347421381442,
           2460.150670303727,
           2248.5701547255762,
           2376.879000911279,
           1891.8204035366227,
           2939.5188568155777,
           2592.475821793824,
           1975.597129313271,
           2303.505937883175,
           1767.9164619730707,
           5247.814971155368,
           1711.6858266955426,
           2593.5981444047043
          ],
          "sizemode": "area",
          "sizeref": 13.11953742788842,
          "symbol": "circle"
         },
         "mode": "markers",
         "name": "Coal",
         "showlegend": true,
         "type": "scatter",
         "x": [
          17050946.75,
          14933499.78125,
          14195551.46875,
          13364675.549759615,
          13215126.190673077,
          12418063.486201923,
          12604725.28125,
          12803891.640625,
          11746916.984375,
          13795317.796875,
          10771214.494158654,
          8190050.2421875,
          11096102.895192306,
          7974713.8359375,
          10024540.7109375,
          10110102.3828125,
          9660776.5078125,
          12547655.484375,
          9204024.8515625,
          12951549.0859375,
          7336904.4375,
          8370592.483581732,
          8738781.2578125,
          7893373.015625,
          8384522.234375,
          8093137.95108173,
          7837370.625,
          8706599.375,
          8405043.95625,
          7968463.8046875,
          7965279.8925240375,
          7354222.035132211,
          8077163.677860577,
          8788349.2578125,
          6985731.363701923,
          8038019.7421875,
          8039541.894350961,
          8925328.21875,
          3780684.5999999996,
          6966060.171875,
          7110113.549236779,
          7504672.015625,
          6154291.162439904,
          7559891.6875,
          10872918.971153848,
          7018931.73828125,
          6899013.277836538,
          6682519.076923077,
          6714114.00390625,
          7554012.65625,
          7118738.90625,
          7248626.96875,
          6429462.295793269,
          3757758.830078125,
          8688627.910432693,
          7089740.7578125,
          5346112.85546875,
          6757646.2890625,
          5116095.83203125,
          5582049.36328125,
          5465086.113125,
          4356832.626610577,
          6207216.359375,
          6259716.47265625,
          5964979.26171875,
          5790285.84201923,
          5155443.8125,
          5705658.234375,
          6038935.34375,
          5786482.0859375,
          4681851.734375,
          4268361.64453125,
          4673860.756376202,
          3860849.0625,
          5359085.83203125,
          5375143.7734375,
          4967022.01171875,
          3986132.09765625,
          3873125.8003485575,
          4792957.469651442,
          3924691.265625,
          4030915.6487139426,
          3565043.1892908653,
          4002750.1171875,
          3937125.21484375,
          3011514.630859375,
          4004247.8677884624,
          4243418.625,
          3830777.959627404,
          3984899.76953125,
          4651764.999290866,
          4100794.34375,
          3967558.4503966346,
          4367568.40625,
          3844162.18359375,
          3835405.2453665864,
          3913151.0234375,
          2973679.345703125,
          4161456.7641346157,
          2974552.640625,
          3922504.43359375,
          4116019.054110577,
          3766975.7099759616,
          3894908.915552884,
          3616486.529296875,
          3706474.233545673,
          3977547.051983172,
          3543261.625,
          3282497.044921875,
          3265887.8396033654,
          3361758.684326923,
          3613010.6334435097,
          4233087.21484375,
          3563394.30859375,
          3782471.2906250004,
          3307261.7109375,
          4871807.61328125,
          3074733.701171875,
          3017344.927313702,
          3060632.4221514426,
          3337743.833984375,
          3622067.71875,
          3310271.5853125,
          2044692.5564483178,
          3275825.1244441103,
          4098810.90625,
          2873278.544921875,
          2841189.169723558,
          3659672.896484375,
          3185206.259765625,
          3124516.0442908653,
          2570816.03125,
          2590948.1188191106,
          3458216.469026442,
          2712100.1444591344,
          2899173.2147415862,
          2730948.6015264424,
          3749276.398966346,
          3316726.49609375,
          2057784.759765625,
          2729804.171875,
          3498468.9559074524,
          2326076.798828125,
          2296701.534020433,
          2367378.2265625,
          2464421.468972356,
          1975956.6357031248,
          2249179.658840144,
          2086507.7090444718,
          1765671.7178305285,
          2763162.187241587,
          2600741.907470703,
          2021627.0540114183,
          2411078.9221514426,
          3123355.202920674,
          3508182.321213943,
          2308430.595877404,
          1758280.5694050482,
          1682375.861685697,
          1731349.721622596,
          1849022.7192307692,
          2374405.3735351562,
          3862651.8942788467,
          1415224.7099609375,
          7466268.091442307,
          2323131.7030709134,
          2316161.949819711,
          1789293.2294921875,
          3109290.3984375,
          1547697.2412109375,
          1581949.5836989186,
          2400631.2438281253,
          3679418.796875,
          2166979.1015504804,
          2272450.7588942307,
          1662337.125,
          1715502.5166015625,
          1878641.7970853364,
          1680513.400390625,
          1544304.3196108774,
          1853655.31734375,
          1495202.5420222357,
          1426990.6071905047,
          1678462.2904146635,
          1250532.1178365385,
          1359854.9760742188,
          1304950.6991947116,
          1508497.922127404,
          2071029.6651562504,
          1542841.621953125,
          1469318.1930048077,
          1211960.5625,
          1465072.432469952,
          1242585.1265534859,
          1359116.489017428,
          1238701.2190655046,
          1541830.4605168267,
          931502.4449158653,
          1051801.2723888217,
          1334950.6652283655,
          1115155.032923678,
          1433558.947220553,
          480419.5871724758,
          1466816.655745192,
          964963.6993299279
         ],
         "xaxis": "x",
         "y": [
          1911.635220607325,
          1995.5801099898315,
          1950.110471505172,
          2054.6319013703182,
          1992.6893461362222,
          2090.9165166413127,
          1937.4558235178117,
          1884.434559524453,
          2021.1074152971203,
          1691.5442314265551,
          2074.826241007435,
          2704.743831471707,
          1958.339022380109,
          2702.4320776102772,
          2141.156727567688,
          2103.634674576216,
          2196.5432462742,
          1648.6815821298767,
          2170.408298779065,
          1501.8529245370198,
          2527.8569290347255,
          2176.359169286051,
          2046.6254009975062,
          2233.758155999663,
          2100.1459312502607,
          2164.10085801874,
          2213.419890679216,
          1978.8785561297288,
          2021.2658018721113,
          2089.9867728837758,
          2073.046806992686,
          2230.338306573188,
          2024.7188300549249,
          1838.1577179172064,
          2292.8074817226016,
          1987.2506901373806,
          1970.6363790618718,
          1766.0505704301777,
          4154.932384468147,
          2209.7004418864803,
          2134.755680467197,
          1998.9076299093508,
          2344.7199404649405,
          1878.554321549597,
          1295.793058458234,
          1993.6405860283476,
          2024.6641792781538,
          2086.61425541644,
          2051.6091826838065,
          1821.5176344211595,
          1926.4363068520147,
          1869.3728688781891,
          2065.8154671332827,
          3479.2229600663823,
          1501.189065806185,
          1824.3432150530073,
          2374.9525696996798,
          1866.4640302962364,
          2445.112628594638,
          2192.3243374555964,
          2236.588478019546,
          2755.007760153019,
          1900.380541139658,
          1864.6125374824082,
          1930.426996435538,
          1987.8564178078745,
          2217.2437523777203,
          2001.7246604766326,
          1855.6704084599846,
          1914.293584165715,
          2365.906089394497,
          2594.766894269639,
          2278.133128265356,
          2689.3855750155994,
          1896.3285856065647,
          1879.7251664095386,
          1993.012490913949,
          2472.0692296659995,
          2534.127557415437,
          2043.7441270916104,
          2401.301875269719,
          2306.2121071588094,
          2564.942192977721,
          2269.59449529246,
          2296.9953299691806,
          3000.3195028216087,
          2234.082612108815,
          2107.2379263547205,
          2327.321451141259,
          2229.47377395268,
          1903.081885123075,
          2157.0586833942593,
          2222.1599157836263,
          2010.8624440620345,
          2275.8320419824818,
          2279.6855103023927,
          2153.922840574625,
          2801.8007106378122,
          1987.4333976697926,
          2776.3683584583564,
          2081.7618626675885,
          1947.7932902165373,
          2127.9102466129657,
          2034.38194520018,
          2186.1170105165893,
          2117.761009899457,
          1967.1798788901174,
          2204.96623136035,
          2354.4416285023467,
          2343.6914039673784,
          2270.809705524247,
          2089.7071738767822,
          1751.1045909961508,
          2062.599001820972,
          1940.0306805203747,
          2215.153235612338,
          1497.152308747978,
          2337.4316433520153,
          2346.6327630973747,
          2263.920660923178,
          2075.1965592672937,
          1908.1420891780504,
          2078.898137099631,
          3350.586077302603,
          2071.7830818736647,
          1635.558577678653,
          2296.401463638607,
          2300.260608355018,
          1777.3353378790887,
          2035.5690398765844,
          2068.116233170623,
          2506.506972755599,
          2484.843123348346,
          1846.9425616373012,
          2327.2221724167616,
          2161.5821945839075,
          2292.14462275166,
          1662.336481172282,
          1879.0113080894334,
          2994.4181493023675,
          2254.278023091022,
          1754.3320547796677,
          2615.003015835271,
          2646.5810929117974,
          2546.286404244268,
          2443.605881469275,
          3017.4204394310386,
          2649.024252278934,
          2830.74857878424,
          3294.1142055254113,
          2098.6325430968986,
          2197.947667771179,
          2790.9579706129775,
          2333.2746250297328,
          1771.2629453181369,
          1572.9517712438976,
          2348.5239095695647,
          2987.269023724286,
          3091.087934885943,
          2937.2332536225304,
          2738.257415304422,
          2084.575183819897,
          1267.7544138142548,
          3451.5763819124013,
          651.8641455667059,
          2091.033851235647,
          2089.8506843948358,
          2670.5829817263407,
          1530.3298464470029,
          3066.921690889718,
          2943.3100295857316,
          1938.3840329344473,
          1262.7464821199703,
          2105.8761502290818,
          1994.2019400258105,
          2691.0214400704067,
          2606.272147508855,
          2304.872721727968,
          2414.069597455756,
          2596.3341765503137,
          2147.1714944844352,
          2542.049168040724,
          2637.924819569231,
          2220.368789506313,
          2868.7749341508193,
          2585.455694804996,
          2647.0345417122853,
          2229.4285942781444,
          1604.595930183975,
          2118.374431629962,
          2209.1150190974186,
          2611.2633908415646,
          2110.347421381442,
          2460.150670303727,
          2248.5701547255762,
          2376.879000911279,
          1891.8204035366227,
          2939.5188568155777,
          2592.475821793824,
          1975.597129313271,
          2303.505937883175,
          1767.9164619730707,
          5247.814971155368,
          1711.6858266955426,
          2593.5981444047043
         ],
         "yaxis": "y"
        },
        {
         "alignmentgroup": "True",
         "bingroup": "x",
         "hovertemplate": "Primary Fuel=Coal<br>Plant Cumulative Load (MWh)=%{x}<br>count=%{y}<extra></extra>",
         "legendgroup": "Coal",
         "marker": {
          "color": "#636EFA"
         },
         "name": "Coal",
         "offsetgroup": "Coal",
         "opacity": 0.5,
         "showlegend": false,
         "type": "histogram",
         "x": [
          17050946.75,
          14933499.78125,
          14195551.46875,
          13364675.549759615,
          13215126.190673077,
          12418063.486201923,
          12604725.28125,
          12803891.640625,
          11746916.984375,
          13795317.796875,
          10771214.494158654,
          8190050.2421875,
          11096102.895192306,
          7974713.8359375,
          10024540.7109375,
          10110102.3828125,
          9660776.5078125,
          12547655.484375,
          9204024.8515625,
          12951549.0859375,
          7336904.4375,
          8370592.483581732,
          8738781.2578125,
          7893373.015625,
          8384522.234375,
          8093137.95108173,
          7837370.625,
          8706599.375,
          8405043.95625,
          7968463.8046875,
          7965279.8925240375,
          7354222.035132211,
          8077163.677860577,
          8788349.2578125,
          6985731.363701923,
          8038019.7421875,
          8039541.894350961,
          8925328.21875,
          3780684.5999999996,
          6966060.171875,
          7110113.549236779,
          7504672.015625,
          6154291.162439904,
          7559891.6875,
          10872918.971153848,
          7018931.73828125,
          6899013.277836538,
          6682519.076923077,
          6714114.00390625,
          7554012.65625,
          7118738.90625,
          7248626.96875,
          6429462.295793269,
          3757758.830078125,
          8688627.910432693,
          7089740.7578125,
          5346112.85546875,
          6757646.2890625,
          5116095.83203125,
          5582049.36328125,
          5465086.113125,
          4356832.626610577,
          6207216.359375,
          6259716.47265625,
          5964979.26171875,
          5790285.84201923,
          5155443.8125,
          5705658.234375,
          6038935.34375,
          5786482.0859375,
          4681851.734375,
          4268361.64453125,
          4673860.756376202,
          3860849.0625,
          5359085.83203125,
          5375143.7734375,
          4967022.01171875,
          3986132.09765625,
          3873125.8003485575,
          4792957.469651442,
          3924691.265625,
          4030915.6487139426,
          3565043.1892908653,
          4002750.1171875,
          3937125.21484375,
          3011514.630859375,
          4004247.8677884624,
          4243418.625,
          3830777.959627404,
          3984899.76953125,
          4651764.999290866,
          4100794.34375,
          3967558.4503966346,
          4367568.40625,
          3844162.18359375,
          3835405.2453665864,
          3913151.0234375,
          2973679.345703125,
          4161456.7641346157,
          2974552.640625,
          3922504.43359375,
          4116019.054110577,
          3766975.7099759616,
          3894908.915552884,
          3616486.529296875,
          3706474.233545673,
          3977547.051983172,
          3543261.625,
          3282497.044921875,
          3265887.8396033654,
          3361758.684326923,
          3613010.6334435097,
          4233087.21484375,
          3563394.30859375,
          3782471.2906250004,
          3307261.7109375,
          4871807.61328125,
          3074733.701171875,
          3017344.927313702,
          3060632.4221514426,
          3337743.833984375,
          3622067.71875,
          3310271.5853125,
          2044692.5564483178,
          3275825.1244441103,
          4098810.90625,
          2873278.544921875,
          2841189.169723558,
          3659672.896484375,
          3185206.259765625,
          3124516.0442908653,
          2570816.03125,
          2590948.1188191106,
          3458216.469026442,
          2712100.1444591344,
          2899173.2147415862,
          2730948.6015264424,
          3749276.398966346,
          3316726.49609375,
          2057784.759765625,
          2729804.171875,
          3498468.9559074524,
          2326076.798828125,
          2296701.534020433,
          2367378.2265625,
          2464421.468972356,
          1975956.6357031248,
          2249179.658840144,
          2086507.7090444718,
          1765671.7178305285,
          2763162.187241587,
          2600741.907470703,
          2021627.0540114183,
          2411078.9221514426,
          3123355.202920674,
          3508182.321213943,
          2308430.595877404,
          1758280.5694050482,
          1682375.861685697,
          1731349.721622596,
          1849022.7192307692,
          2374405.3735351562,
          3862651.8942788467,
          1415224.7099609375,
          7466268.091442307,
          2323131.7030709134,
          2316161.949819711,
          1789293.2294921875,
          3109290.3984375,
          1547697.2412109375,
          1581949.5836989186,
          2400631.2438281253,
          3679418.796875,
          2166979.1015504804,
          2272450.7588942307,
          1662337.125,
          1715502.5166015625,
          1878641.7970853364,
          1680513.400390625,
          1544304.3196108774,
          1853655.31734375,
          1495202.5420222357,
          1426990.6071905047,
          1678462.2904146635,
          1250532.1178365385,
          1359854.9760742188,
          1304950.6991947116,
          1508497.922127404,
          2071029.6651562504,
          1542841.621953125,
          1469318.1930048077,
          1211960.5625,
          1465072.432469952,
          1242585.1265534859,
          1359116.489017428,
          1238701.2190655046,
          1541830.4605168267,
          931502.4449158653,
          1051801.2723888217,
          1334950.6652283655,
          1115155.032923678,
          1433558.947220553,
          480419.5871724758,
          1466816.655745192,
          964963.6993299279
         ],
         "xaxis": "x3",
         "yaxis": "y3"
        },
        {
         "alignmentgroup": "True",
         "bingroup": "y",
         "hovertemplate": "Primary Fuel=Coal<br>Mean CO2 Emissions lbs/MWh=%{y}<br>count=%{x}<extra></extra>",
         "legendgroup": "Coal",
         "marker": {
          "color": "#636EFA"
         },
         "name": "Coal",
         "offsetgroup": "Coal",
         "opacity": 0.5,
         "showlegend": false,
         "type": "histogram",
         "xaxis": "x2",
         "y": [
          1911.635220607325,
          1995.5801099898315,
          1950.110471505172,
          2054.6319013703182,
          1992.6893461362222,
          2090.9165166413127,
          1937.4558235178117,
          1884.434559524453,
          2021.1074152971203,
          1691.5442314265551,
          2074.826241007435,
          2704.743831471707,
          1958.339022380109,
          2702.4320776102772,
          2141.156727567688,
          2103.634674576216,
          2196.5432462742,
          1648.6815821298767,
          2170.408298779065,
          1501.8529245370198,
          2527.8569290347255,
          2176.359169286051,
          2046.6254009975062,
          2233.758155999663,
          2100.1459312502607,
          2164.10085801874,
          2213.419890679216,
          1978.8785561297288,
          2021.2658018721113,
          2089.9867728837758,
          2073.046806992686,
          2230.338306573188,
          2024.7188300549249,
          1838.1577179172064,
          2292.8074817226016,
          1987.2506901373806,
          1970.6363790618718,
          1766.0505704301777,
          4154.932384468147,
          2209.7004418864803,
          2134.755680467197,
          1998.9076299093508,
          2344.7199404649405,
          1878.554321549597,
          1295.793058458234,
          1993.6405860283476,
          2024.6641792781538,
          2086.61425541644,
          2051.6091826838065,
          1821.5176344211595,
          1926.4363068520147,
          1869.3728688781891,
          2065.8154671332827,
          3479.2229600663823,
          1501.189065806185,
          1824.3432150530073,
          2374.9525696996798,
          1866.4640302962364,
          2445.112628594638,
          2192.3243374555964,
          2236.588478019546,
          2755.007760153019,
          1900.380541139658,
          1864.6125374824082,
          1930.426996435538,
          1987.8564178078745,
          2217.2437523777203,
          2001.7246604766326,
          1855.6704084599846,
          1914.293584165715,
          2365.906089394497,
          2594.766894269639,
          2278.133128265356,
          2689.3855750155994,
          1896.3285856065647,
          1879.7251664095386,
          1993.012490913949,
          2472.0692296659995,
          2534.127557415437,
          2043.7441270916104,
          2401.301875269719,
          2306.2121071588094,
          2564.942192977721,
          2269.59449529246,
          2296.9953299691806,
          3000.3195028216087,
          2234.082612108815,
          2107.2379263547205,
          2327.321451141259,
          2229.47377395268,
          1903.081885123075,
          2157.0586833942593,
          2222.1599157836263,
          2010.8624440620345,
          2275.8320419824818,
          2279.6855103023927,
          2153.922840574625,
          2801.8007106378122,
          1987.4333976697926,
          2776.3683584583564,
          2081.7618626675885,
          1947.7932902165373,
          2127.9102466129657,
          2034.38194520018,
          2186.1170105165893,
          2117.761009899457,
          1967.1798788901174,
          2204.96623136035,
          2354.4416285023467,
          2343.6914039673784,
          2270.809705524247,
          2089.7071738767822,
          1751.1045909961508,
          2062.599001820972,
          1940.0306805203747,
          2215.153235612338,
          1497.152308747978,
          2337.4316433520153,
          2346.6327630973747,
          2263.920660923178,
          2075.1965592672937,
          1908.1420891780504,
          2078.898137099631,
          3350.586077302603,
          2071.7830818736647,
          1635.558577678653,
          2296.401463638607,
          2300.260608355018,
          1777.3353378790887,
          2035.5690398765844,
          2068.116233170623,
          2506.506972755599,
          2484.843123348346,
          1846.9425616373012,
          2327.2221724167616,
          2161.5821945839075,
          2292.14462275166,
          1662.336481172282,
          1879.0113080894334,
          2994.4181493023675,
          2254.278023091022,
          1754.3320547796677,
          2615.003015835271,
          2646.5810929117974,
          2546.286404244268,
          2443.605881469275,
          3017.4204394310386,
          2649.024252278934,
          2830.74857878424,
          3294.1142055254113,
          2098.6325430968986,
          2197.947667771179,
          2790.9579706129775,
          2333.2746250297328,
          1771.2629453181369,
          1572.9517712438976,
          2348.5239095695647,
          2987.269023724286,
          3091.087934885943,
          2937.2332536225304,
          2738.257415304422,
          2084.575183819897,
          1267.7544138142548,
          3451.5763819124013,
          651.8641455667059,
          2091.033851235647,
          2089.8506843948358,
          2670.5829817263407,
          1530.3298464470029,
          3066.921690889718,
          2943.3100295857316,
          1938.3840329344473,
          1262.7464821199703,
          2105.8761502290818,
          1994.2019400258105,
          2691.0214400704067,
          2606.272147508855,
          2304.872721727968,
          2414.069597455756,
          2596.3341765503137,
          2147.1714944844352,
          2542.049168040724,
          2637.924819569231,
          2220.368789506313,
          2868.7749341508193,
          2585.455694804996,
          2647.0345417122853,
          2229.4285942781444,
          1604.595930183975,
          2118.374431629962,
          2209.1150190974186,
          2611.2633908415646,
          2110.347421381442,
          2460.150670303727,
          2248.5701547255762,
          2376.879000911279,
          1891.8204035366227,
          2939.5188568155777,
          2592.475821793824,
          1975.597129313271,
          2303.505937883175,
          1767.9164619730707,
          5247.814971155368,
          1711.6858266955426,
          2593.5981444047043
         ],
         "yaxis": "y2"
        },
        {
         "customdata": [
          [
           "United States of America"
          ],
          [
           "United States of America"
          ],
          [
           "United States of America"
          ],
          [
           "United States of America"
          ],
          [
           "United States of America"
          ],
          [
           "United States of America"
          ],
          [
           "United States of America"
          ],
          [
           "United States of America"
          ],
          [
           "United States of America"
          ],
          [
           "United States of America"
          ],
          [
           "United States of America"
          ],
          [
           "United States of America"
          ],
          [
           "United States of America"
          ],
          [
           "United States of America"
          ],
          [
           "United States of America"
          ],
          [
           "United States of America"
          ],
          [
           "United States of America"
          ],
          [
           "United States of America"
          ],
          [
           "United States of America"
          ],
          [
           "United States of America"
          ],
          [
           "United States of America"
          ],
          [
           "United States of America"
          ],
          [
           "United States of America"
          ],
          [
           "United States of America"
          ],
          [
           "United States of America"
          ],
          [
           "United States of America"
          ],
          [
           "United States of America"
          ],
          [
           "United States of America"
          ],
          [
           "United States of America"
          ],
          [
           "United States of America"
          ],
          [
           "United States of America"
          ],
          [
           "United States of America"
          ],
          [
           "United States of America"
          ],
          [
           "United States of America"
          ],
          [
           "United States of America"
          ],
          [
           "United States of America"
          ],
          [
           "United States of America"
          ],
          [
           "United States of America"
          ],
          [
           "United States of America"
          ],
          [
           "United States of America"
          ],
          [
           "United States of America"
          ],
          [
           "United States of America"
          ],
          [
           "United States of America"
          ],
          [
           "United States of America"
          ],
          [
           "United States of America"
          ],
          [
           "United States of America"
          ],
          [
           "United States of America"
          ],
          [
           "United States of America"
          ],
          [
           "United States of America"
          ],
          [
           "United States of America"
          ],
          [
           "United States of America"
          ],
          [
           "United States of America"
          ],
          [
           "United States of America"
          ],
          [
           "United States of America"
          ],
          [
           "United States of America"
          ],
          [
           "United States of America"
          ],
          [
           "United States of America"
          ],
          [
           "United States of America"
          ],
          [
           "United States of America"
          ],
          [
           "United States of America"
          ],
          [
           "United States of America"
          ],
          [
           "United States of America"
          ],
          [
           "United States of America"
          ],
          [
           "United States of America"
          ],
          [
           "United States of America"
          ],
          [
           "United States of America"
          ],
          [
           "United States of America"
          ],
          [
           "United States of America"
          ],
          [
           "United States of America"
          ],
          [
           "United States of America"
          ],
          [
           "United States of America"
          ],
          [
           "United States of America"
          ],
          [
           "United States of America"
          ],
          [
           "United States of America"
          ],
          [
           "United States of America"
          ],
          [
           "United States of America"
          ],
          [
           "United States of America"
          ],
          [
           "United States of America"
          ],
          [
           "United States of America"
          ],
          [
           "United States of America"
          ],
          [
           "United States of America"
          ],
          [
           "United States of America"
          ],
          [
           "United States of America"
          ],
          [
           "United States of America"
          ],
          [
           "United States of America"
          ],
          [
           "United States of America"
          ],
          [
           "United States of America"
          ],
          [
           "United States of America"
          ],
          [
           "United States of America"
          ],
          [
           "United States of America"
          ],
          [
           "United States of America"
          ],
          [
           "United States of America"
          ],
          [
           "United States of America"
          ],
          [
           "United States of America"
          ],
          [
           "United States of America"
          ],
          [
           "United States of America"
          ],
          [
           "United States of America"
          ],
          [
           "United States of America"
          ],
          [
           "United States of America"
          ],
          [
           "United States of America"
          ],
          [
           "United States of America"
          ],
          [
           "United States of America"
          ],
          [
           "United States of America"
          ],
          [
           "United States of America"
          ],
          [
           "United States of America"
          ],
          [
           "United States of America"
          ],
          [
           "United States of America"
          ],
          [
           "United States of America"
          ],
          [
           "United States of America"
          ],
          [
           "United States of America"
          ],
          [
           "United States of America"
          ],
          [
           "United States of America"
          ],
          [
           "United States of America"
          ],
          [
           "United States of America"
          ],
          [
           "United States of America"
          ],
          [
           "United States of America"
          ],
          [
           "United States of America"
          ],
          [
           "United States of America"
          ],
          [
           "United States of America"
          ],
          [
           "United States of America"
          ],
          [
           "United States of America"
          ],
          [
           "United States of America"
          ],
          [
           "United States of America"
          ],
          [
           "United States of America"
          ],
          [
           "United States of America"
          ],
          [
           "United States of America"
          ],
          [
           "United States of America"
          ],
          [
           "United States of America"
          ],
          [
           "United States of America"
          ],
          [
           "United States of America"
          ],
          [
           "United States of America"
          ],
          [
           "United States of America"
          ],
          [
           "United States of America"
          ],
          [
           "United States of America"
          ],
          [
           "United States of America"
          ],
          [
           "United States of America"
          ],
          [
           "United States of America"
          ],
          [
           "United States of America"
          ],
          [
           "United States of America"
          ],
          [
           "United States of America"
          ],
          [
           "United States of America"
          ],
          [
           "United States of America"
          ],
          [
           "United States of America"
          ],
          [
           "United States of America"
          ],
          [
           "United States of America"
          ],
          [
           "United States of America"
          ],
          [
           "United States of America"
          ],
          [
           "United States of America"
          ],
          [
           "United States of America"
          ],
          [
           "United States of America"
          ],
          [
           "United States of America"
          ],
          [
           "United States of America"
          ],
          [
           "United States of America"
          ],
          [
           "United States of America"
          ],
          [
           "United States of America"
          ],
          [
           "United States of America"
          ],
          [
           "United States of America"
          ],
          [
           "United States of America"
          ],
          [
           "United States of America"
          ],
          [
           "United States of America"
          ],
          [
           "United States of America"
          ],
          [
           "United States of America"
          ],
          [
           "United States of America"
          ],
          [
           "United States of America"
          ],
          [
           "United States of America"
          ],
          [
           "United States of America"
          ],
          [
           "United States of America"
          ],
          [
           "United States of America"
          ],
          [
           "United States of America"
          ],
          [
           "United States of America"
          ],
          [
           "United States of America"
          ],
          [
           "United States of America"
          ],
          [
           "United States of America"
          ],
          [
           "United States of America"
          ],
          [
           "United States of America"
          ],
          [
           "United States of America"
          ],
          [
           "United States of America"
          ],
          [
           "United States of America"
          ],
          [
           "United States of America"
          ],
          [
           "United States of America"
          ],
          [
           "United States of America"
          ],
          [
           "United States of America"
          ],
          [
           "United States of America"
          ],
          [
           "United States of America"
          ],
          [
           "United States of America"
          ],
          [
           "United States of America"
          ],
          [
           "United States of America"
          ],
          [
           "United States of America"
          ],
          [
           "United States of America"
          ],
          [
           "United States of America"
          ],
          [
           "United States of America"
          ],
          [
           "United States of America"
          ],
          [
           "United States of America"
          ],
          [
           "United States of America"
          ],
          [
           "United States of America"
          ],
          [
           "United States of America"
          ],
          [
           "United States of America"
          ],
          [
           "United States of America"
          ],
          [
           "United States of America"
          ],
          [
           "United States of America"
          ],
          [
           "United States of America"
          ]
         ],
         "hovertemplate": "Primary Fuel=Gas<br>Plant Cumulative Load (MWh)=%{x}<br>Mean CO2 Emissions lbs/MWh=%{marker.size}<br>Country=%{customdata[0]}<extra></extra>",
         "legendgroup": "Gas",
         "marker": {
          "color": "#00CC96",
          "opacity": 0.5,
          "size": [
           831.1332673474072,
           1070.917349158752,
           945.7571955300489,
           1175.3530315126363,
           1055.058327055773,
           819.6528355009276,
           961.0314914550773,
           977.3869282905442,
           875.6882838119022,
           971.87686315525,
           990.767961191245,
           845.0669056113325,
           2006.9237929229434,
           1285.3020714302263,
           1097.590146016579,
           1006.2295303114479,
           902.2210732687603,
           836.9171146313073,
           1244.139855282737,
           844.5305834069728,
           1008.3822665190918,
           937.0494148859595,
           4196.738385835324,
           783.7260483868209,
           1005.1104988000862,
           639.4756321116074,
           1247.4154444274295,
           2011.1543172708487,
           926.7809750164772,
           1549.269156722996,
           846.2612512538528,
           1170.4713447198037,
           2319.767161418153,
           1399.605693901738,
           782.6575616947856,
           882.1303108685853,
           1189.3537432306214,
           683.6919246651033,
           836.8243985179531,
           671.079399852242,
           1637.6135954352053,
           708.5917858002,
           872.0947200551415,
           1218.7169870233035,
           1317.1235530083134,
           736.1422572883814,
           732.0065249996999,
           1076.2303240638353,
           1548.519139280826,
           766.7516788791634,
           815.8335199392736,
           875.2796309594839,
           1190.1742069884021,
           738.0038755327461,
           717.2272415958215,
           898.3707420502409,
           862.1424421890936,
           1241.1735618022612,
           1021.1440155891414,
           1289.611112149607,
           889.0086483929799,
           1050.5443940392468,
           2028.594189137909,
           999.1337320261413,
           878.4560220942111,
           736.4660751363101,
           1875.983391162432,
           708.136212241282,
           986.5300475691141,
           928.5549536252723,
           3416.550285041761,
           852.8008661037484,
           914.4872931957664,
           822.6586081374702,
           807.3970740525873,
           860.1240568965144,
           1024.8298715533472,
           3246.735254516217,
           953.6116211822853,
           936.4924963996698,
           1469.0924155040757,
           1154.9895997408473,
           936.8304833135559,
           814.0598249394913,
           1084.8078611608644,
           786.3962409117986,
           1110.3544049780546,
           773.023913334195,
           1417.4265901088709,
           918.9175685571505,
           891.8362577997152,
           921.2797940882606,
           1241.390042863768,
           923.0478877722836,
           1179.9732305762548,
           2509.051291400289,
           1104.6419063043265,
           709.9561453284035,
           784.320021663693,
           898.9142533620874,
           1114.8357669059556,
           2112.2441690202227,
           869.7802157220657,
           1303.2131007281982,
           758.5819959492784,
           1416.4816994813893,
           1061.3823151366014,
           841.4167672290723,
           952.7483256789711,
           835.3061582160215,
           1479.776259697289,
           1096.2707183439964,
           1022.3106042619469,
           808.0899965506131,
           859.4877269470853,
           720.717160388407,
           842.3032820945855,
           1127.2771498990655,
           1318.0929653441037,
           860.7250954340991,
           794.6992878827863,
           868.748741160177,
           1038.034510236195,
           849.0946605130216,
           723.410435297548,
           896.7106006036861,
           953.3845980836281,
           1350.5895080525459,
           1404.6072712855223,
           1004.9748590140941,
           838.5599388026992,
           790.5543292263932,
           862.9158912022807,
           896.847674989381,
           914.1485005633292,
           1513.494848924582,
           793.6093972798332,
           1002.8996044717131,
           915.6706605409352,
           1683.6742885592319,
           1326.9098544600806,
           1617.1680720105303,
           904.0186355709758,
           1016.0124414518891,
           782.1245057974816,
           788.7144920684543,
           1099.1671545158172,
           801.4776893782024,
           1240.821040211473,
           945.4414122813944,
           798.2275103123394,
           1121.0737232675747,
           1261.7286914553324,
           1860.386435073683,
           845.8164354338963,
           1314.641015042436,
           905.1090072116289,
           3901.0688119892066,
           998.4009823089059,
           1279.6546331704033,
           4607.4700409807865,
           862.1917782507677,
           991.8281217432678,
           761.7890734689663,
           882.0381193664467,
           972.6748009695436,
           837.1130367172805,
           900.5876461563686,
           787.4444849540823,
           1508.9177207998569,
           858.8401136859845,
           764.4100348069142,
           1393.1212867121997,
           1900.2480055439753,
           749.2850333814561,
           791.0052227772355,
           944.7929244738519,
           623.5866675377929,
           795.4117222076289,
           4951.451015546814,
           985.9181369655737,
           1519.207664808849,
           1117.532728481683,
           1145.8956699757991,
           1136.8159275717883,
           1217.998942355609,
           1157.4734197267321,
           1422.572579382064,
           1339.3246588135498,
           1218.7818910736612,
           1034.6474002510213,
           1242.6224502412367,
           2132.2519323595952,
           758.8276620026886,
           4229.909347499013,
           734.866691686849,
           768.7110857891431,
           1145.010511619363,
           1516.3754417787213,
           844.0657847504223,
           842.3065946573219
          ],
          "sizemode": "area",
          "sizeref": 13.11953742788842,
          "symbol": "circle"
         },
         "mode": "markers",
         "name": "Gas",
         "showlegend": true,
         "type": "scatter",
         "x": [
          16794648.21875,
          11733417.890625,
          13107007.078125,
          8980930.7578125,
          8543876.364783654,
          10743860.828125,
          8732691.715745192,
          8413904.546875,
          9353920.292668266,
          7667068.2578125,
          7490717.006105769,
          8480083.984375,
          3545133.9822115386,
          5529469.828125,
          6472598.1640625,
          6936883.1640625,
          7703006.3671875,
          8281557.997596154,
          5552457.1796875,
          7941267.458834134,
          6370198.799879809,
          6505801.319711538,
          1437831.230168269,
          7220815.405649038,
          5548114.941250001,
          8704249.6328125,
          4410145.28125,
          2720854.740985577,
          5747918.0859375,
          3297920.177283654,
          6000555.26171875,
          4325582.860990085,
          2152344.9814453125,
          3494722.453125,
          6244346.374699519,
          5342849.7421875,
          3875327.255859375,
          6729161.515625,
          5495716.4921875,
          6818887.9453125,
          2789595.900390625,
          6402346.6640625,
          5199846.631009614,
          3699135.8125,
          3421687.9606370186,
          5976765.828125,
          5999763.20703125,
          3989089.3984375,
          2721111.519459135,
          5452577.942980769,
          5115465.08203125,
          4752482.921875,
          3480958.0695613003,
          5581797.424879808,
          5633855.790264424,
          4387525.707932691,
          4564878.237530047,
          3147813.169921875,
          3791580.3813100965,
          2982878.0814302885,
          4313823.01953125,
          3629276.026442308,
          1866301.852914664,
          3766827.5140384613,
          4279113.673828125,
          5102339.291466344,
          1975492.3532151445,
          5155171.9921875,
          3666260.859375,
          3887248.234375,
          1035579.8313551686,
          4132818.96875,
          3825280.5807451922,
          4246737.673978366,
          4299743.5234375,
          4002107.045372596,
          3348660.390625,
          1054470.9289855957,
          3582533.182391825,
          3646237.1424519233,
          2319485.7028996395,
          2947596.321875,
          3618055.34765625,
          4158784.3623798075,
          3112240.7265625,
          4280876.04296875,
          3027037.670973557,
          4335530.6015625,
          2364005.9099939903,
          3639402.795673077,
          3739613.5521875,
          3619287.33203125,
          2673916.138671875,
          3565907.7623197115,
          2771525.1712980773,
          1302044.9550781248,
          2956899.8617187506,
          4594698.860576923,
          4156453.603064904,
          3617690.450270433,
          2906704.1426141826,
          1532738.7929311898,
          3722050.20703125,
          2476295.90141226,
          4239126.97265625,
          2265141.8392307693,
          3019286.050180289,
          3805761.965673077,
          3356872.330078125,
          3813283.592692308,
          2149704.469951923,
          2888721.05859375,
          3081131.521935096,
          3897169.690805289,
          3643682.709843749,
          4331542.21875,
          3696351.599459135,
          2751645.53125,
          2340412.6090564905,
          3580687.9296875,
          3873040.6619591354,
          3541979.626802885,
          2957902.158090445,
          3610700.2653245195,
          4236081.51953125,
          3409804.579026442,
          3206351.669771635,
          2256654.953876202,
          2169079.9999999995,
          3005688.374098558,
          3601964.890324519,
          3793258.501201923,
          3447915.953725962,
          3308196.034555288,
          3242809.7734375,
          1957456.300631009,
          3711998.0712139425,
          2920381.9354807697,
          3196330.8885216354,
          1732129.7259314908,
          2196517.4636418256,
          1800765.4902433897,
          3212885.035456731,
          2847900.8680889416,
          3689129.322265625,
          3641898.447265625,
          2611522.3241586527,
          3544739.5625,
          2283161.982421875,
          2993872.463413461,
          3522121.6578966347,
          2505985.0906250007,
          2213844.55859375,
          1499942.5578425482,
          3263307.328125,
          2096993.655649038,
          3038174.5625,
          704633.7500000001,
          2751832.935546875,
          2130001.890625,
          591083.1857346757,
          3150266.973677885,
          2735102.0207331735,
          3553317.7860817304,
          3046538.90234375,
          2761489.313100962,
          3198545.434795673,
          2969305.5078125,
          3383440.6982421875,
          1764617.9001652643,
          3094411.78125,
          3473603.2091346155,
          1903838.845402644,
          1390698.7500000002,
          3524886.256009615,
          3326452.4559795675,
          2779465.135667067,
          4197930.16796875,
          3276707.568209135,
          524715.8450810359,
          2623942.8964783642,
          1702766.1510156253,
          2314018.106219952,
          2248651.396033654,
          2255942.6357421875,
          2099652.5063100955,
          2203353.3924278845,
          1790338.9752572868,
          1895631.7493990385,
          2080485.4211989183,
          2445615.7734375,
          2036006.7174939904,
          1185849.6041796876,
          3321413.564903845,
          594864.9999999999,
          3413721.272686299,
          3263407.3846153845,
          2185346.384690505,
          1649923.1648497595,
          2957432.6588040874,
          2960625.831280048
         ],
         "xaxis": "x",
         "y": [
          831.1332673474072,
          1070.917349158752,
          945.7571955300489,
          1175.3530315126363,
          1055.058327055773,
          819.6528355009276,
          961.0314914550773,
          977.3869282905442,
          875.6882838119022,
          971.87686315525,
          990.767961191245,
          845.0669056113325,
          2006.9237929229434,
          1285.3020714302263,
          1097.590146016579,
          1006.2295303114479,
          902.2210732687603,
          836.9171146313073,
          1244.139855282737,
          844.5305834069728,
          1008.3822665190918,
          937.0494148859595,
          4196.738385835324,
          783.7260483868209,
          1005.1104988000862,
          639.4756321116074,
          1247.4154444274295,
          2011.1543172708487,
          926.7809750164772,
          1549.269156722996,
          846.2612512538528,
          1170.4713447198037,
          2319.767161418153,
          1399.605693901738,
          782.6575616947856,
          882.1303108685853,
          1189.3537432306214,
          683.6919246651033,
          836.8243985179531,
          671.079399852242,
          1637.6135954352053,
          708.5917858002,
          872.0947200551415,
          1218.7169870233035,
          1317.1235530083134,
          736.1422572883814,
          732.0065249996999,
          1076.2303240638353,
          1548.519139280826,
          766.7516788791634,
          815.8335199392736,
          875.2796309594839,
          1190.1742069884021,
          738.0038755327461,
          717.2272415958215,
          898.3707420502409,
          862.1424421890936,
          1241.1735618022612,
          1021.1440155891414,
          1289.611112149607,
          889.0086483929799,
          1050.5443940392468,
          2028.594189137909,
          999.1337320261413,
          878.4560220942111,
          736.4660751363101,
          1875.983391162432,
          708.136212241282,
          986.5300475691141,
          928.5549536252723,
          3416.550285041761,
          852.8008661037484,
          914.4872931957664,
          822.6586081374702,
          807.3970740525873,
          860.1240568965144,
          1024.8298715533472,
          3246.735254516217,
          953.6116211822853,
          936.4924963996698,
          1469.0924155040757,
          1154.9895997408473,
          936.8304833135559,
          814.0598249394913,
          1084.8078611608644,
          786.3962409117986,
          1110.3544049780546,
          773.023913334195,
          1417.4265901088709,
          918.9175685571505,
          891.8362577997152,
          921.2797940882606,
          1241.390042863768,
          923.0478877722836,
          1179.9732305762548,
          2509.051291400289,
          1104.6419063043265,
          709.9561453284035,
          784.320021663693,
          898.9142533620874,
          1114.8357669059556,
          2112.2441690202227,
          869.7802157220657,
          1303.2131007281982,
          758.5819959492784,
          1416.4816994813893,
          1061.3823151366014,
          841.4167672290723,
          952.7483256789711,
          835.3061582160215,
          1479.776259697289,
          1096.2707183439964,
          1022.3106042619469,
          808.0899965506131,
          859.4877269470853,
          720.717160388407,
          842.3032820945855,
          1127.2771498990655,
          1318.0929653441037,
          860.7250954340991,
          794.6992878827863,
          868.748741160177,
          1038.034510236195,
          849.0946605130216,
          723.410435297548,
          896.7106006036861,
          953.3845980836281,
          1350.5895080525459,
          1404.6072712855223,
          1004.9748590140941,
          838.5599388026992,
          790.5543292263932,
          862.9158912022807,
          896.847674989381,
          914.1485005633292,
          1513.494848924582,
          793.6093972798332,
          1002.8996044717131,
          915.6706605409352,
          1683.6742885592319,
          1326.9098544600806,
          1617.1680720105303,
          904.0186355709758,
          1016.0124414518891,
          782.1245057974816,
          788.7144920684543,
          1099.1671545158172,
          801.4776893782024,
          1240.821040211473,
          945.4414122813944,
          798.2275103123394,
          1121.0737232675747,
          1261.7286914553324,
          1860.386435073683,
          845.8164354338963,
          1314.641015042436,
          905.1090072116289,
          3901.0688119892066,
          998.4009823089059,
          1279.6546331704033,
          4607.4700409807865,
          862.1917782507677,
          991.8281217432678,
          761.7890734689663,
          882.0381193664467,
          972.6748009695436,
          837.1130367172805,
          900.5876461563686,
          787.4444849540823,
          1508.9177207998569,
          858.8401136859845,
          764.4100348069142,
          1393.1212867121997,
          1900.2480055439753,
          749.2850333814561,
          791.0052227772355,
          944.7929244738519,
          623.5866675377929,
          795.4117222076289,
          4951.451015546814,
          985.9181369655737,
          1519.207664808849,
          1117.532728481683,
          1145.8956699757991,
          1136.8159275717883,
          1217.998942355609,
          1157.4734197267321,
          1422.572579382064,
          1339.3246588135498,
          1218.7818910736612,
          1034.6474002510213,
          1242.6224502412367,
          2132.2519323595952,
          758.8276620026886,
          4229.909347499013,
          734.866691686849,
          768.7110857891431,
          1145.010511619363,
          1516.3754417787213,
          844.0657847504223,
          842.3065946573219
         ],
         "yaxis": "y"
        },
        {
         "alignmentgroup": "True",
         "bingroup": "x",
         "hovertemplate": "Primary Fuel=Gas<br>Plant Cumulative Load (MWh)=%{x}<br>count=%{y}<extra></extra>",
         "legendgroup": "Gas",
         "marker": {
          "color": "#00CC96"
         },
         "name": "Gas",
         "offsetgroup": "Gas",
         "opacity": 0.5,
         "showlegend": false,
         "type": "histogram",
         "x": [
          16794648.21875,
          11733417.890625,
          13107007.078125,
          8980930.7578125,
          8543876.364783654,
          10743860.828125,
          8732691.715745192,
          8413904.546875,
          9353920.292668266,
          7667068.2578125,
          7490717.006105769,
          8480083.984375,
          3545133.9822115386,
          5529469.828125,
          6472598.1640625,
          6936883.1640625,
          7703006.3671875,
          8281557.997596154,
          5552457.1796875,
          7941267.458834134,
          6370198.799879809,
          6505801.319711538,
          1437831.230168269,
          7220815.405649038,
          5548114.941250001,
          8704249.6328125,
          4410145.28125,
          2720854.740985577,
          5747918.0859375,
          3297920.177283654,
          6000555.26171875,
          4325582.860990085,
          2152344.9814453125,
          3494722.453125,
          6244346.374699519,
          5342849.7421875,
          3875327.255859375,
          6729161.515625,
          5495716.4921875,
          6818887.9453125,
          2789595.900390625,
          6402346.6640625,
          5199846.631009614,
          3699135.8125,
          3421687.9606370186,
          5976765.828125,
          5999763.20703125,
          3989089.3984375,
          2721111.519459135,
          5452577.942980769,
          5115465.08203125,
          4752482.921875,
          3480958.0695613003,
          5581797.424879808,
          5633855.790264424,
          4387525.707932691,
          4564878.237530047,
          3147813.169921875,
          3791580.3813100965,
          2982878.0814302885,
          4313823.01953125,
          3629276.026442308,
          1866301.852914664,
          3766827.5140384613,
          4279113.673828125,
          5102339.291466344,
          1975492.3532151445,
          5155171.9921875,
          3666260.859375,
          3887248.234375,
          1035579.8313551686,
          4132818.96875,
          3825280.5807451922,
          4246737.673978366,
          4299743.5234375,
          4002107.045372596,
          3348660.390625,
          1054470.9289855957,
          3582533.182391825,
          3646237.1424519233,
          2319485.7028996395,
          2947596.321875,
          3618055.34765625,
          4158784.3623798075,
          3112240.7265625,
          4280876.04296875,
          3027037.670973557,
          4335530.6015625,
          2364005.9099939903,
          3639402.795673077,
          3739613.5521875,
          3619287.33203125,
          2673916.138671875,
          3565907.7623197115,
          2771525.1712980773,
          1302044.9550781248,
          2956899.8617187506,
          4594698.860576923,
          4156453.603064904,
          3617690.450270433,
          2906704.1426141826,
          1532738.7929311898,
          3722050.20703125,
          2476295.90141226,
          4239126.97265625,
          2265141.8392307693,
          3019286.050180289,
          3805761.965673077,
          3356872.330078125,
          3813283.592692308,
          2149704.469951923,
          2888721.05859375,
          3081131.521935096,
          3897169.690805289,
          3643682.709843749,
          4331542.21875,
          3696351.599459135,
          2751645.53125,
          2340412.6090564905,
          3580687.9296875,
          3873040.6619591354,
          3541979.626802885,
          2957902.158090445,
          3610700.2653245195,
          4236081.51953125,
          3409804.579026442,
          3206351.669771635,
          2256654.953876202,
          2169079.9999999995,
          3005688.374098558,
          3601964.890324519,
          3793258.501201923,
          3447915.953725962,
          3308196.034555288,
          3242809.7734375,
          1957456.300631009,
          3711998.0712139425,
          2920381.9354807697,
          3196330.8885216354,
          1732129.7259314908,
          2196517.4636418256,
          1800765.4902433897,
          3212885.035456731,
          2847900.8680889416,
          3689129.322265625,
          3641898.447265625,
          2611522.3241586527,
          3544739.5625,
          2283161.982421875,
          2993872.463413461,
          3522121.6578966347,
          2505985.0906250007,
          2213844.55859375,
          1499942.5578425482,
          3263307.328125,
          2096993.655649038,
          3038174.5625,
          704633.7500000001,
          2751832.935546875,
          2130001.890625,
          591083.1857346757,
          3150266.973677885,
          2735102.0207331735,
          3553317.7860817304,
          3046538.90234375,
          2761489.313100962,
          3198545.434795673,
          2969305.5078125,
          3383440.6982421875,
          1764617.9001652643,
          3094411.78125,
          3473603.2091346155,
          1903838.845402644,
          1390698.7500000002,
          3524886.256009615,
          3326452.4559795675,
          2779465.135667067,
          4197930.16796875,
          3276707.568209135,
          524715.8450810359,
          2623942.8964783642,
          1702766.1510156253,
          2314018.106219952,
          2248651.396033654,
          2255942.6357421875,
          2099652.5063100955,
          2203353.3924278845,
          1790338.9752572868,
          1895631.7493990385,
          2080485.4211989183,
          2445615.7734375,
          2036006.7174939904,
          1185849.6041796876,
          3321413.564903845,
          594864.9999999999,
          3413721.272686299,
          3263407.3846153845,
          2185346.384690505,
          1649923.1648497595,
          2957432.6588040874,
          2960625.831280048
         ],
         "xaxis": "x3",
         "yaxis": "y3"
        },
        {
         "alignmentgroup": "True",
         "bingroup": "y",
         "hovertemplate": "Primary Fuel=Gas<br>Mean CO2 Emissions lbs/MWh=%{y}<br>count=%{x}<extra></extra>",
         "legendgroup": "Gas",
         "marker": {
          "color": "#00CC96"
         },
         "name": "Gas",
         "offsetgroup": "Gas",
         "opacity": 0.5,
         "showlegend": false,
         "type": "histogram",
         "xaxis": "x2",
         "y": [
          831.1332673474072,
          1070.917349158752,
          945.7571955300489,
          1175.3530315126363,
          1055.058327055773,
          819.6528355009276,
          961.0314914550773,
          977.3869282905442,
          875.6882838119022,
          971.87686315525,
          990.767961191245,
          845.0669056113325,
          2006.9237929229434,
          1285.3020714302263,
          1097.590146016579,
          1006.2295303114479,
          902.2210732687603,
          836.9171146313073,
          1244.139855282737,
          844.5305834069728,
          1008.3822665190918,
          937.0494148859595,
          4196.738385835324,
          783.7260483868209,
          1005.1104988000862,
          639.4756321116074,
          1247.4154444274295,
          2011.1543172708487,
          926.7809750164772,
          1549.269156722996,
          846.2612512538528,
          1170.4713447198037,
          2319.767161418153,
          1399.605693901738,
          782.6575616947856,
          882.1303108685853,
          1189.3537432306214,
          683.6919246651033,
          836.8243985179531,
          671.079399852242,
          1637.6135954352053,
          708.5917858002,
          872.0947200551415,
          1218.7169870233035,
          1317.1235530083134,
          736.1422572883814,
          732.0065249996999,
          1076.2303240638353,
          1548.519139280826,
          766.7516788791634,
          815.8335199392736,
          875.2796309594839,
          1190.1742069884021,
          738.0038755327461,
          717.2272415958215,
          898.3707420502409,
          862.1424421890936,
          1241.1735618022612,
          1021.1440155891414,
          1289.611112149607,
          889.0086483929799,
          1050.5443940392468,
          2028.594189137909,
          999.1337320261413,
          878.4560220942111,
          736.4660751363101,
          1875.983391162432,
          708.136212241282,
          986.5300475691141,
          928.5549536252723,
          3416.550285041761,
          852.8008661037484,
          914.4872931957664,
          822.6586081374702,
          807.3970740525873,
          860.1240568965144,
          1024.8298715533472,
          3246.735254516217,
          953.6116211822853,
          936.4924963996698,
          1469.0924155040757,
          1154.9895997408473,
          936.8304833135559,
          814.0598249394913,
          1084.8078611608644,
          786.3962409117986,
          1110.3544049780546,
          773.023913334195,
          1417.4265901088709,
          918.9175685571505,
          891.8362577997152,
          921.2797940882606,
          1241.390042863768,
          923.0478877722836,
          1179.9732305762548,
          2509.051291400289,
          1104.6419063043265,
          709.9561453284035,
          784.320021663693,
          898.9142533620874,
          1114.8357669059556,
          2112.2441690202227,
          869.7802157220657,
          1303.2131007281982,
          758.5819959492784,
          1416.4816994813893,
          1061.3823151366014,
          841.4167672290723,
          952.7483256789711,
          835.3061582160215,
          1479.776259697289,
          1096.2707183439964,
          1022.3106042619469,
          808.0899965506131,
          859.4877269470853,
          720.717160388407,
          842.3032820945855,
          1127.2771498990655,
          1318.0929653441037,
          860.7250954340991,
          794.6992878827863,
          868.748741160177,
          1038.034510236195,
          849.0946605130216,
          723.410435297548,
          896.7106006036861,
          953.3845980836281,
          1350.5895080525459,
          1404.6072712855223,
          1004.9748590140941,
          838.5599388026992,
          790.5543292263932,
          862.9158912022807,
          896.847674989381,
          914.1485005633292,
          1513.494848924582,
          793.6093972798332,
          1002.8996044717131,
          915.6706605409352,
          1683.6742885592319,
          1326.9098544600806,
          1617.1680720105303,
          904.0186355709758,
          1016.0124414518891,
          782.1245057974816,
          788.7144920684543,
          1099.1671545158172,
          801.4776893782024,
          1240.821040211473,
          945.4414122813944,
          798.2275103123394,
          1121.0737232675747,
          1261.7286914553324,
          1860.386435073683,
          845.8164354338963,
          1314.641015042436,
          905.1090072116289,
          3901.0688119892066,
          998.4009823089059,
          1279.6546331704033,
          4607.4700409807865,
          862.1917782507677,
          991.8281217432678,
          761.7890734689663,
          882.0381193664467,
          972.6748009695436,
          837.1130367172805,
          900.5876461563686,
          787.4444849540823,
          1508.9177207998569,
          858.8401136859845,
          764.4100348069142,
          1393.1212867121997,
          1900.2480055439753,
          749.2850333814561,
          791.0052227772355,
          944.7929244738519,
          623.5866675377929,
          795.4117222076289,
          4951.451015546814,
          985.9181369655737,
          1519.207664808849,
          1117.532728481683,
          1145.8956699757991,
          1136.8159275717883,
          1217.998942355609,
          1157.4734197267321,
          1422.572579382064,
          1339.3246588135498,
          1218.7818910736612,
          1034.6474002510213,
          1242.6224502412367,
          2132.2519323595952,
          758.8276620026886,
          4229.909347499013,
          734.866691686849,
          768.7110857891431,
          1145.010511619363,
          1516.3754417787213,
          844.0657847504223,
          842.3065946573219
         ],
         "yaxis": "y2"
        },
        {
         "customdata": [
          [
           "United States of America"
          ],
          [
           "United States of America"
          ],
          [
           "United States of America"
          ],
          [
           "United States of America"
          ],
          [
           "United States of America"
          ],
          [
           "United States of America"
          ],
          [
           "United States of America"
          ],
          [
           "United States of America"
          ]
         ],
         "hovertemplate": "Primary Fuel=Oil<br>Plant Cumulative Load (MWh)=%{x}<br>Mean CO2 Emissions lbs/MWh=%{marker.size}<br>Country=%{customdata[0]}<extra></extra>",
         "legendgroup": "Oil",
         "marker": {
          "color": "#EF553B",
          "opacity": 0.5,
          "size": [
           1190.2346378717573,
           973.0105923091245,
           1618.1607091147614,
           1224.7751027724005,
           2565.4611619464476,
           1248.4587192971217,
           2135.2498543173724,
           4706.737964596032
          ],
          "sizemode": "area",
          "sizeref": 13.11953742788842,
          "symbol": "circle"
         },
         "mode": "markers",
         "name": "Oil",
         "showlegend": true,
         "type": "scatter",
         "x": [
          9121201.167033862,
          6245025.805504807,
          2659057.4296875,
          3393989.96484375,
          1248865.003112793,
          2565600.302590145,
          1479783.4106445312,
          544857.2568284253
         ],
         "xaxis": "x",
         "y": [
          1190.2346378717573,
          973.0105923091245,
          1618.1607091147614,
          1224.7751027724005,
          2565.4611619464476,
          1248.4587192971217,
          2135.2498543173724,
          4706.737964596032
         ],
         "yaxis": "y"
        },
        {
         "alignmentgroup": "True",
         "bingroup": "x",
         "hovertemplate": "Primary Fuel=Oil<br>Plant Cumulative Load (MWh)=%{x}<br>count=%{y}<extra></extra>",
         "legendgroup": "Oil",
         "marker": {
          "color": "#EF553B"
         },
         "name": "Oil",
         "offsetgroup": "Oil",
         "opacity": 0.5,
         "showlegend": false,
         "type": "histogram",
         "x": [
          9121201.167033862,
          6245025.805504807,
          2659057.4296875,
          3393989.96484375,
          1248865.003112793,
          2565600.302590145,
          1479783.4106445312,
          544857.2568284253
         ],
         "xaxis": "x3",
         "yaxis": "y3"
        },
        {
         "alignmentgroup": "True",
         "bingroup": "y",
         "hovertemplate": "Primary Fuel=Oil<br>Mean CO2 Emissions lbs/MWh=%{y}<br>count=%{x}<extra></extra>",
         "legendgroup": "Oil",
         "marker": {
          "color": "#EF553B"
         },
         "name": "Oil",
         "offsetgroup": "Oil",
         "opacity": 0.5,
         "showlegend": false,
         "type": "histogram",
         "xaxis": "x2",
         "y": [
          1190.2346378717573,
          973.0105923091245,
          1618.1607091147614,
          1224.7751027724005,
          2565.4611619464476,
          1248.4587192971217,
          2135.2498543173724,
          4706.737964596032
         ],
         "yaxis": "y2"
        },
        {
         "customdata": [
          [
           "United States of America"
          ]
         ],
         "hovertemplate": "Primary Fuel=Petcoke<br>Plant Cumulative Load (MWh)=%{x}<br>Mean CO2 Emissions lbs/MWh=%{marker.size}<br>Country=%{customdata[0]}<extra></extra>",
         "legendgroup": "Petcoke",
         "marker": {
          "color": "#AB63FA",
          "opacity": 0.5,
          "size": [
           2085.1566992512276
          ],
          "sizemode": "area",
          "sizeref": 13.11953742788842,
          "symbol": "circle"
         },
         "mode": "markers",
         "name": "Petcoke",
         "showlegend": true,
         "type": "scatter",
         "x": [
          4504888.845703125
         ],
         "xaxis": "x",
         "y": [
          2085.1566992512276
         ],
         "yaxis": "y"
        },
        {
         "alignmentgroup": "True",
         "bingroup": "x",
         "hovertemplate": "Primary Fuel=Petcoke<br>Plant Cumulative Load (MWh)=%{x}<br>count=%{y}<extra></extra>",
         "legendgroup": "Petcoke",
         "marker": {
          "color": "#AB63FA"
         },
         "name": "Petcoke",
         "offsetgroup": "Petcoke",
         "opacity": 0.5,
         "showlegend": false,
         "type": "histogram",
         "x": [
          4504888.845703125
         ],
         "xaxis": "x3",
         "yaxis": "y3"
        },
        {
         "alignmentgroup": "True",
         "bingroup": "y",
         "hovertemplate": "Primary Fuel=Petcoke<br>Mean CO2 Emissions lbs/MWh=%{y}<br>count=%{x}<extra></extra>",
         "legendgroup": "Petcoke",
         "marker": {
          "color": "#AB63FA"
         },
         "name": "Petcoke",
         "offsetgroup": "Petcoke",
         "opacity": 0.5,
         "showlegend": false,
         "type": "histogram",
         "xaxis": "x2",
         "y": [
          2085.1566992512276
         ],
         "yaxis": "y2"
        }
       ],
       "layout": {
        "barmode": "overlay",
        "legend": {
         "itemsizing": "constant",
         "title": {
          "text": "Primary Fuel"
         },
         "tracegroupgap": 0
        },
        "margin": {
         "t": 60
        },
        "showlegend": false,
        "template": {
         "data": {
          "bar": [
           {
            "error_x": {
             "color": "#2a3f5f"
            },
            "error_y": {
             "color": "#2a3f5f"
            },
            "marker": {
             "line": {
              "color": "#E5ECF6",
              "width": 0.5
             }
            },
            "type": "bar"
           }
          ],
          "barpolar": [
           {
            "marker": {
             "line": {
              "color": "#E5ECF6",
              "width": 0.5
             }
            },
            "type": "barpolar"
           }
          ],
          "carpet": [
           {
            "aaxis": {
             "endlinecolor": "#2a3f5f",
             "gridcolor": "white",
             "linecolor": "white",
             "minorgridcolor": "white",
             "startlinecolor": "#2a3f5f"
            },
            "baxis": {
             "endlinecolor": "#2a3f5f",
             "gridcolor": "white",
             "linecolor": "white",
             "minorgridcolor": "white",
             "startlinecolor": "#2a3f5f"
            },
            "type": "carpet"
           }
          ],
          "choropleth": [
           {
            "colorbar": {
             "outlinewidth": 0,
             "ticks": ""
            },
            "type": "choropleth"
           }
          ],
          "contour": [
           {
            "colorbar": {
             "outlinewidth": 0,
             "ticks": ""
            },
            "colorscale": [
             [
              0,
              "#0d0887"
             ],
             [
              0.1111111111111111,
              "#46039f"
             ],
             [
              0.2222222222222222,
              "#7201a8"
             ],
             [
              0.3333333333333333,
              "#9c179e"
             ],
             [
              0.4444444444444444,
              "#bd3786"
             ],
             [
              0.5555555555555556,
              "#d8576b"
             ],
             [
              0.6666666666666666,
              "#ed7953"
             ],
             [
              0.7777777777777778,
              "#fb9f3a"
             ],
             [
              0.8888888888888888,
              "#fdca26"
             ],
             [
              1,
              "#f0f921"
             ]
            ],
            "type": "contour"
           }
          ],
          "contourcarpet": [
           {
            "colorbar": {
             "outlinewidth": 0,
             "ticks": ""
            },
            "type": "contourcarpet"
           }
          ],
          "heatmap": [
           {
            "colorbar": {
             "outlinewidth": 0,
             "ticks": ""
            },
            "colorscale": [
             [
              0,
              "#0d0887"
             ],
             [
              0.1111111111111111,
              "#46039f"
             ],
             [
              0.2222222222222222,
              "#7201a8"
             ],
             [
              0.3333333333333333,
              "#9c179e"
             ],
             [
              0.4444444444444444,
              "#bd3786"
             ],
             [
              0.5555555555555556,
              "#d8576b"
             ],
             [
              0.6666666666666666,
              "#ed7953"
             ],
             [
              0.7777777777777778,
              "#fb9f3a"
             ],
             [
              0.8888888888888888,
              "#fdca26"
             ],
             [
              1,
              "#f0f921"
             ]
            ],
            "type": "heatmap"
           }
          ],
          "heatmapgl": [
           {
            "colorbar": {
             "outlinewidth": 0,
             "ticks": ""
            },
            "colorscale": [
             [
              0,
              "#0d0887"
             ],
             [
              0.1111111111111111,
              "#46039f"
             ],
             [
              0.2222222222222222,
              "#7201a8"
             ],
             [
              0.3333333333333333,
              "#9c179e"
             ],
             [
              0.4444444444444444,
              "#bd3786"
             ],
             [
              0.5555555555555556,
              "#d8576b"
             ],
             [
              0.6666666666666666,
              "#ed7953"
             ],
             [
              0.7777777777777778,
              "#fb9f3a"
             ],
             [
              0.8888888888888888,
              "#fdca26"
             ],
             [
              1,
              "#f0f921"
             ]
            ],
            "type": "heatmapgl"
           }
          ],
          "histogram": [
           {
            "marker": {
             "colorbar": {
              "outlinewidth": 0,
              "ticks": ""
             }
            },
            "type": "histogram"
           }
          ],
          "histogram2d": [
           {
            "colorbar": {
             "outlinewidth": 0,
             "ticks": ""
            },
            "colorscale": [
             [
              0,
              "#0d0887"
             ],
             [
              0.1111111111111111,
              "#46039f"
             ],
             [
              0.2222222222222222,
              "#7201a8"
             ],
             [
              0.3333333333333333,
              "#9c179e"
             ],
             [
              0.4444444444444444,
              "#bd3786"
             ],
             [
              0.5555555555555556,
              "#d8576b"
             ],
             [
              0.6666666666666666,
              "#ed7953"
             ],
             [
              0.7777777777777778,
              "#fb9f3a"
             ],
             [
              0.8888888888888888,
              "#fdca26"
             ],
             [
              1,
              "#f0f921"
             ]
            ],
            "type": "histogram2d"
           }
          ],
          "histogram2dcontour": [
           {
            "colorbar": {
             "outlinewidth": 0,
             "ticks": ""
            },
            "colorscale": [
             [
              0,
              "#0d0887"
             ],
             [
              0.1111111111111111,
              "#46039f"
             ],
             [
              0.2222222222222222,
              "#7201a8"
             ],
             [
              0.3333333333333333,
              "#9c179e"
             ],
             [
              0.4444444444444444,
              "#bd3786"
             ],
             [
              0.5555555555555556,
              "#d8576b"
             ],
             [
              0.6666666666666666,
              "#ed7953"
             ],
             [
              0.7777777777777778,
              "#fb9f3a"
             ],
             [
              0.8888888888888888,
              "#fdca26"
             ],
             [
              1,
              "#f0f921"
             ]
            ],
            "type": "histogram2dcontour"
           }
          ],
          "mesh3d": [
           {
            "colorbar": {
             "outlinewidth": 0,
             "ticks": ""
            },
            "type": "mesh3d"
           }
          ],
          "parcoords": [
           {
            "line": {
             "colorbar": {
              "outlinewidth": 0,
              "ticks": ""
             }
            },
            "type": "parcoords"
           }
          ],
          "pie": [
           {
            "automargin": true,
            "type": "pie"
           }
          ],
          "scatter": [
           {
            "marker": {
             "colorbar": {
              "outlinewidth": 0,
              "ticks": ""
             }
            },
            "type": "scatter"
           }
          ],
          "scatter3d": [
           {
            "line": {
             "colorbar": {
              "outlinewidth": 0,
              "ticks": ""
             }
            },
            "marker": {
             "colorbar": {
              "outlinewidth": 0,
              "ticks": ""
             }
            },
            "type": "scatter3d"
           }
          ],
          "scattercarpet": [
           {
            "marker": {
             "colorbar": {
              "outlinewidth": 0,
              "ticks": ""
             }
            },
            "type": "scattercarpet"
           }
          ],
          "scattergeo": [
           {
            "marker": {
             "colorbar": {
              "outlinewidth": 0,
              "ticks": ""
             }
            },
            "type": "scattergeo"
           }
          ],
          "scattergl": [
           {
            "marker": {
             "colorbar": {
              "outlinewidth": 0,
              "ticks": ""
             }
            },
            "type": "scattergl"
           }
          ],
          "scattermapbox": [
           {
            "marker": {
             "colorbar": {
              "outlinewidth": 0,
              "ticks": ""
             }
            },
            "type": "scattermapbox"
           }
          ],
          "scatterpolar": [
           {
            "marker": {
             "colorbar": {
              "outlinewidth": 0,
              "ticks": ""
             }
            },
            "type": "scatterpolar"
           }
          ],
          "scatterpolargl": [
           {
            "marker": {
             "colorbar": {
              "outlinewidth": 0,
              "ticks": ""
             }
            },
            "type": "scatterpolargl"
           }
          ],
          "scatterternary": [
           {
            "marker": {
             "colorbar": {
              "outlinewidth": 0,
              "ticks": ""
             }
            },
            "type": "scatterternary"
           }
          ],
          "surface": [
           {
            "colorbar": {
             "outlinewidth": 0,
             "ticks": ""
            },
            "colorscale": [
             [
              0,
              "#0d0887"
             ],
             [
              0.1111111111111111,
              "#46039f"
             ],
             [
              0.2222222222222222,
              "#7201a8"
             ],
             [
              0.3333333333333333,
              "#9c179e"
             ],
             [
              0.4444444444444444,
              "#bd3786"
             ],
             [
              0.5555555555555556,
              "#d8576b"
             ],
             [
              0.6666666666666666,
              "#ed7953"
             ],
             [
              0.7777777777777778,
              "#fb9f3a"
             ],
             [
              0.8888888888888888,
              "#fdca26"
             ],
             [
              1,
              "#f0f921"
             ]
            ],
            "type": "surface"
           }
          ],
          "table": [
           {
            "cells": {
             "fill": {
              "color": "#EBF0F8"
             },
             "line": {
              "color": "white"
             }
            },
            "header": {
             "fill": {
              "color": "#C8D4E3"
             },
             "line": {
              "color": "white"
             }
            },
            "type": "table"
           }
          ]
         },
         "layout": {
          "annotationdefaults": {
           "arrowcolor": "#2a3f5f",
           "arrowhead": 0,
           "arrowwidth": 1
          },
          "coloraxis": {
           "colorbar": {
            "outlinewidth": 0,
            "ticks": ""
           }
          },
          "colorscale": {
           "diverging": [
            [
             0,
             "#8e0152"
            ],
            [
             0.1,
             "#c51b7d"
            ],
            [
             0.2,
             "#de77ae"
            ],
            [
             0.3,
             "#f1b6da"
            ],
            [
             0.4,
             "#fde0ef"
            ],
            [
             0.5,
             "#f7f7f7"
            ],
            [
             0.6,
             "#e6f5d0"
            ],
            [
             0.7,
             "#b8e186"
            ],
            [
             0.8,
             "#7fbc41"
            ],
            [
             0.9,
             "#4d9221"
            ],
            [
             1,
             "#276419"
            ]
           ],
           "sequential": [
            [
             0,
             "#0d0887"
            ],
            [
             0.1111111111111111,
             "#46039f"
            ],
            [
             0.2222222222222222,
             "#7201a8"
            ],
            [
             0.3333333333333333,
             "#9c179e"
            ],
            [
             0.4444444444444444,
             "#bd3786"
            ],
            [
             0.5555555555555556,
             "#d8576b"
            ],
            [
             0.6666666666666666,
             "#ed7953"
            ],
            [
             0.7777777777777778,
             "#fb9f3a"
            ],
            [
             0.8888888888888888,
             "#fdca26"
            ],
            [
             1,
             "#f0f921"
            ]
           ],
           "sequentialminus": [
            [
             0,
             "#0d0887"
            ],
            [
             0.1111111111111111,
             "#46039f"
            ],
            [
             0.2222222222222222,
             "#7201a8"
            ],
            [
             0.3333333333333333,
             "#9c179e"
            ],
            [
             0.4444444444444444,
             "#bd3786"
            ],
            [
             0.5555555555555556,
             "#d8576b"
            ],
            [
             0.6666666666666666,
             "#ed7953"
            ],
            [
             0.7777777777777778,
             "#fb9f3a"
            ],
            [
             0.8888888888888888,
             "#fdca26"
            ],
            [
             1,
             "#f0f921"
            ]
           ]
          },
          "colorway": [
           "#636efa",
           "#EF553B",
           "#00cc96",
           "#ab63fa",
           "#FFA15A",
           "#19d3f3",
           "#FF6692",
           "#B6E880",
           "#FF97FF",
           "#FECB52"
          ],
          "font": {
           "color": "#2a3f5f"
          },
          "geo": {
           "bgcolor": "white",
           "lakecolor": "white",
           "landcolor": "#E5ECF6",
           "showlakes": true,
           "showland": true,
           "subunitcolor": "white"
          },
          "hoverlabel": {
           "align": "left"
          },
          "hovermode": "closest",
          "mapbox": {
           "style": "light"
          },
          "paper_bgcolor": "white",
          "plot_bgcolor": "#E5ECF6",
          "polar": {
           "angularaxis": {
            "gridcolor": "white",
            "linecolor": "white",
            "ticks": ""
           },
           "bgcolor": "#E5ECF6",
           "radialaxis": {
            "gridcolor": "white",
            "linecolor": "white",
            "ticks": ""
           }
          },
          "scene": {
           "xaxis": {
            "backgroundcolor": "#E5ECF6",
            "gridcolor": "white",
            "gridwidth": 2,
            "linecolor": "white",
            "showbackground": true,
            "ticks": "",
            "zerolinecolor": "white"
           },
           "yaxis": {
            "backgroundcolor": "#E5ECF6",
            "gridcolor": "white",
            "gridwidth": 2,
            "linecolor": "white",
            "showbackground": true,
            "ticks": "",
            "zerolinecolor": "white"
           },
           "zaxis": {
            "backgroundcolor": "#E5ECF6",
            "gridcolor": "white",
            "gridwidth": 2,
            "linecolor": "white",
            "showbackground": true,
            "ticks": "",
            "zerolinecolor": "white"
           }
          },
          "shapedefaults": {
           "line": {
            "color": "#2a3f5f"
           }
          },
          "ternary": {
           "aaxis": {
            "gridcolor": "white",
            "linecolor": "white",
            "ticks": ""
           },
           "baxis": {
            "gridcolor": "white",
            "linecolor": "white",
            "ticks": ""
           },
           "bgcolor": "#E5ECF6",
           "caxis": {
            "gridcolor": "white",
            "linecolor": "white",
            "ticks": ""
           }
          },
          "title": {
           "x": 0.05
          },
          "xaxis": {
           "automargin": true,
           "gridcolor": "white",
           "linecolor": "white",
           "ticks": "",
           "title": {
            "standoff": 15
           },
           "zerolinecolor": "white",
           "zerolinewidth": 2
          },
          "yaxis": {
           "automargin": true,
           "gridcolor": "white",
           "linecolor": "white",
           "ticks": "",
           "title": {
            "standoff": 15
           },
           "zerolinecolor": "white",
           "zerolinewidth": 2
          }
         }
        },
        "xaxis": {
         "anchor": "y",
         "domain": [
          0,
          0.7363
         ],
         "title": {
          "text": "Plant Cumulative Load (MWh)"
         }
        },
        "xaxis2": {
         "anchor": "y2",
         "domain": [
          0.7413,
          1
         ],
         "matches": "x2",
         "showgrid": true,
         "showline": false,
         "showticklabels": false,
         "ticks": ""
        },
        "xaxis3": {
         "anchor": "y3",
         "domain": [
          0,
          0.7363
         ],
         "matches": "x",
         "showgrid": true,
         "showticklabels": false
        },
        "xaxis4": {
         "anchor": "y4",
         "domain": [
          0.7413,
          1
         ],
         "matches": "x2",
         "showgrid": true,
         "showline": false,
         "showticklabels": false,
         "ticks": ""
        },
        "yaxis": {
         "anchor": "x",
         "domain": [
          0,
          0.7326
         ],
         "title": {
          "text": "Mean CO2 Emissions lbs/MWh"
         }
        },
        "yaxis2": {
         "anchor": "x2",
         "domain": [
          0,
          0.7326
         ],
         "matches": "y",
         "showgrid": true,
         "showticklabels": false
        },
        "yaxis3": {
         "anchor": "x3",
         "domain": [
          0.7426,
          1
         ],
         "matches": "y3",
         "showgrid": true,
         "showline": false,
         "showticklabels": false,
         "ticks": ""
        },
        "yaxis4": {
         "anchor": "x4",
         "domain": [
          0.7426,
          1
         ],
         "matches": "y3",
         "showgrid": true,
         "showline": false,
         "showticklabels": false,
         "ticks": ""
        }
       }
      },
      "text/html": "<div>\n        \n        \n            <div id=\"b484669e-f48b-44b1-b41f-94e1c6bd8a3d\" class=\"plotly-graph-div\" style=\"height:525px; width:100%;\"></div>\n            <script type=\"text/javascript\">\n                require([\"plotly\"], function(Plotly) {\n                    window.PLOTLYENV=window.PLOTLYENV || {};\n                    \n                if (document.getElementById(\"b484669e-f48b-44b1-b41f-94e1c6bd8a3d\")) {\n                    Plotly.newPlot(\n                        'b484669e-f48b-44b1-b41f-94e1c6bd8a3d',\n                        [{\"customdata\": [[\"United States of America\"], [\"United States of America\"], [\"United States of America\"], [\"United States of America\"], [\"United States of America\"], [\"United States of America\"], [\"United States of America\"], [\"United States of America\"], [\"United States of America\"], [\"United States of America\"], [\"United States of America\"], [\"United States of America\"], [\"United States of America\"], [\"United States of America\"], [\"United States of America\"], [\"United States of America\"], [\"United States of America\"], [\"United States of America\"], [\"United States of America\"], [\"United States of America\"], [\"United States of America\"], [\"United States of America\"], [\"United States of America\"], [\"United States of America\"], [\"United States of America\"], [\"United States of America\"], [\"United States of America\"], [\"United States of America\"], [\"United States of America\"], [\"United States of America\"], [\"United States of America\"], [\"United States of America\"], [\"United States of America\"], [\"United States of America\"], [\"United States of America\"], [\"United States of America\"], [\"United States of America\"], [\"United States of America\"], [\"United States of America\"], [\"United States of America\"], [\"United States of America\"], [\"United States of America\"], [\"United States of America\"], [\"United States of America\"], [\"United States of America\"], [\"United States of America\"], [\"United States of America\"], [\"United States of America\"], [\"United States of America\"], [\"United States of America\"], [\"United States of America\"], [\"United States of America\"], [\"United States of America\"], [\"United States of America\"], [\"United States of America\"], [\"United States of America\"], [\"United States of America\"], [\"United States of America\"], [\"United States of America\"], [\"United States of America\"], [\"United States of America\"], [\"United States of America\"], [\"United States of America\"], [\"United States of America\"], [\"United States of America\"], [\"United States of America\"], [\"United States of America\"], [\"United States of America\"], [\"United States of America\"], [\"United States of America\"], [\"United States of America\"], [\"United States of America\"], [\"United States of America\"], [\"United States of America\"], [\"United States of America\"], [\"United States of America\"], [\"United States of America\"], [\"United States of America\"], [\"United States of America\"], [\"United States of America\"], [\"United States of America\"], [\"United States of America\"], [\"United States of America\"], [\"United States of America\"], [\"United States of America\"], [\"United States of America\"], [\"United States of America\"], [\"United States of America\"], [\"United States of America\"], [\"United States of America\"], [\"United States of America\"], [\"United States of America\"], [\"United States of America\"], [\"United States of America\"], [\"United States of America\"], [\"United States of America\"], [\"United States of America\"], [\"United States of America\"], [\"United States of America\"], [\"United States of America\"], [\"United States of America\"], [\"United States of America\"], [\"United States of America\"], [\"United States of America\"], [\"United States of America\"], [\"United States of America\"], [\"United States of America\"], [\"United States of America\"], [\"United States of America\"], [\"United States of America\"], [\"United States of America\"], [\"United States of America\"], [\"United States of America\"], [\"United States of America\"], [\"United States of America\"], [\"United States of America\"], [\"United States of America\"], [\"United States of America\"], [\"United States of America\"], [\"United States of America\"], [\"United States of America\"], [\"United States of America\"], [\"United States of America\"], [\"United States of America\"], [\"United States of America\"], [\"United States of America\"], [\"United States of America\"], [\"United States of America\"], [\"United States of America\"], [\"United States of America\"], [\"United States of America\"], [\"United States of America\"], [\"United States of America\"], [\"United States of America\"], [\"United States of America\"], [\"United States of America\"], [\"United States of America\"], [\"United States of America\"], [\"United States of America\"], [\"United States of America\"], [\"United States of America\"], [\"United States of America\"], [\"United States of America\"], [\"United States of America\"], [\"United States of America\"], [\"United States of America\"], [\"United States of America\"], [\"United States of America\"], [\"United States of America\"], [\"United States of America\"], [\"United States of America\"], [\"United States of America\"], [\"United States of America\"], [\"United States of America\"], [\"United States of America\"], [\"United States of America\"], [\"United States of America\"], [\"United States of America\"], [\"United States of America\"], [\"United States of America\"], [\"United States of America\"], [\"United States of America\"], [\"United States of America\"], [\"United States of America\"], [\"United States of America\"], [\"United States of America\"], [\"United States of America\"], [\"United States of America\"], [\"United States of America\"], [\"United States of America\"], [\"United States of America\"], [\"United States of America\"], [\"United States of America\"], [\"United States of America\"], [\"United States of America\"], [\"United States of America\"], [\"United States of America\"], [\"United States of America\"], [\"United States of America\"], [\"United States of America\"], [\"United States of America\"], [\"United States of America\"], [\"United States of America\"], [\"United States of America\"], [\"United States of America\"], [\"United States of America\"], [\"United States of America\"], [\"United States of America\"], [\"United States of America\"], [\"United States of America\"], [\"United States of America\"], [\"United States of America\"], [\"United States of America\"], [\"United States of America\"], [\"United States of America\"], [\"United States of America\"], [\"United States of America\"], [\"United States of America\"], [\"United States of America\"], [\"United States of America\"], [\"United States of America\"], [\"United States of America\"], [\"United States of America\"], [\"United States of America\"], [\"United States of America\"]], \"hovertemplate\": \"Primary Fuel=Coal<br>Plant Cumulative Load (MWh)=%{x}<br>Mean CO2 Emissions lbs/MWh=%{marker.size}<br>Country=%{customdata[0]}<extra></extra>\", \"legendgroup\": \"Coal\", \"marker\": {\"color\": \"#636EFA\", \"opacity\": 0.5, \"size\": [1911.635220607325, 1995.5801099898315, 1950.110471505172, 2054.6319013703182, 1992.6893461362222, 2090.9165166413127, 1937.4558235178117, 1884.434559524453, 2021.1074152971203, 1691.5442314265551, 2074.826241007435, 2704.743831471707, 1958.339022380109, 2702.4320776102772, 2141.156727567688, 2103.634674576216, 2196.5432462742, 1648.6815821298767, 2170.408298779065, 1501.8529245370198, 2527.8569290347255, 2176.359169286051, 2046.6254009975062, 2233.758155999663, 2100.1459312502607, 2164.10085801874, 2213.419890679216, 1978.8785561297288, 2021.2658018721113, 2089.9867728837758, 2073.046806992686, 2230.338306573188, 2024.7188300549249, 1838.1577179172064, 2292.8074817226016, 1987.2506901373806, 1970.6363790618718, 1766.0505704301777, 4154.932384468147, 2209.7004418864803, 2134.755680467197, 1998.9076299093508, 2344.7199404649405, 1878.554321549597, 1295.793058458234, 1993.6405860283476, 2024.6641792781538, 2086.61425541644, 2051.6091826838065, 1821.5176344211595, 1926.4363068520147, 1869.3728688781891, 2065.8154671332827, 3479.2229600663823, 1501.189065806185, 1824.3432150530073, 2374.9525696996798, 1866.4640302962364, 2445.112628594638, 2192.3243374555964, 2236.588478019546, 2755.007760153019, 1900.380541139658, 1864.6125374824082, 1930.426996435538, 1987.8564178078745, 2217.2437523777203, 2001.7246604766326, 1855.6704084599846, 1914.293584165715, 2365.906089394497, 2594.766894269639, 2278.133128265356, 2689.3855750155994, 1896.3285856065647, 1879.7251664095386, 1993.012490913949, 2472.0692296659995, 2534.127557415437, 2043.7441270916104, 2401.301875269719, 2306.2121071588094, 2564.942192977721, 2269.59449529246, 2296.9953299691806, 3000.3195028216087, 2234.082612108815, 2107.2379263547205, 2327.321451141259, 2229.47377395268, 1903.081885123075, 2157.0586833942593, 2222.1599157836263, 2010.8624440620345, 2275.8320419824818, 2279.6855103023927, 2153.922840574625, 2801.8007106378122, 1987.4333976697926, 2776.3683584583564, 2081.7618626675885, 1947.7932902165373, 2127.9102466129657, 2034.38194520018, 2186.1170105165893, 2117.761009899457, 1967.1798788901174, 2204.96623136035, 2354.4416285023467, 2343.6914039673784, 2270.809705524247, 2089.7071738767822, 1751.1045909961508, 2062.599001820972, 1940.0306805203747, 2215.153235612338, 1497.152308747978, 2337.4316433520153, 2346.6327630973747, 2263.920660923178, 2075.1965592672937, 1908.1420891780504, 2078.898137099631, 3350.586077302603, 2071.7830818736647, 1635.558577678653, 2296.401463638607, 2300.260608355018, 1777.3353378790887, 2035.5690398765844, 2068.116233170623, 2506.506972755599, 2484.843123348346, 1846.9425616373012, 2327.2221724167616, 2161.5821945839075, 2292.14462275166, 1662.336481172282, 1879.0113080894334, 2994.4181493023675, 2254.278023091022, 1754.3320547796677, 2615.003015835271, 2646.5810929117974, 2546.286404244268, 2443.605881469275, 3017.4204394310386, 2649.024252278934, 2830.74857878424, 3294.1142055254113, 2098.6325430968986, 2197.947667771179, 2790.9579706129775, 2333.2746250297328, 1771.2629453181369, 1572.9517712438976, 2348.5239095695647, 2987.269023724286, 3091.087934885943, 2937.2332536225304, 2738.257415304422, 2084.575183819897, 1267.7544138142548, 3451.5763819124013, 651.8641455667059, 2091.033851235647, 2089.8506843948358, 2670.5829817263407, 1530.3298464470029, 3066.921690889718, 2943.3100295857316, 1938.3840329344473, 1262.7464821199703, 2105.8761502290818, 1994.2019400258105, 2691.0214400704067, 2606.272147508855, 2304.872721727968, 2414.069597455756, 2596.3341765503137, 2147.1714944844352, 2542.049168040724, 2637.924819569231, 2220.368789506313, 2868.7749341508193, 2585.455694804996, 2647.0345417122853, 2229.4285942781444, 1604.595930183975, 2118.374431629962, 2209.1150190974186, 2611.2633908415646, 2110.347421381442, 2460.150670303727, 2248.5701547255762, 2376.879000911279, 1891.8204035366227, 2939.5188568155777, 2592.475821793824, 1975.597129313271, 2303.505937883175, 1767.9164619730707, 5247.814971155368, 1711.6858266955426, 2593.5981444047043], \"sizemode\": \"area\", \"sizeref\": 13.11953742788842, \"symbol\": \"circle\"}, \"mode\": \"markers\", \"name\": \"Coal\", \"showlegend\": true, \"type\": \"scatter\", \"x\": [17050946.75, 14933499.78125, 14195551.46875, 13364675.549759615, 13215126.190673077, 12418063.486201923, 12604725.28125, 12803891.640625, 11746916.984375, 13795317.796875, 10771214.494158654, 8190050.2421875, 11096102.895192306, 7974713.8359375, 10024540.7109375, 10110102.3828125, 9660776.5078125, 12547655.484375, 9204024.8515625, 12951549.0859375, 7336904.4375, 8370592.483581732, 8738781.2578125, 7893373.015625, 8384522.234375, 8093137.95108173, 7837370.625, 8706599.375, 8405043.95625, 7968463.8046875, 7965279.8925240375, 7354222.035132211, 8077163.677860577, 8788349.2578125, 6985731.363701923, 8038019.7421875, 8039541.894350961, 8925328.21875, 3780684.5999999996, 6966060.171875, 7110113.549236779, 7504672.015625, 6154291.162439904, 7559891.6875, 10872918.971153848, 7018931.73828125, 6899013.277836538, 6682519.076923077, 6714114.00390625, 7554012.65625, 7118738.90625, 7248626.96875, 6429462.295793269, 3757758.830078125, 8688627.910432693, 7089740.7578125, 5346112.85546875, 6757646.2890625, 5116095.83203125, 5582049.36328125, 5465086.113125, 4356832.626610577, 6207216.359375, 6259716.47265625, 5964979.26171875, 5790285.84201923, 5155443.8125, 5705658.234375, 6038935.34375, 5786482.0859375, 4681851.734375, 4268361.64453125, 4673860.756376202, 3860849.0625, 5359085.83203125, 5375143.7734375, 4967022.01171875, 3986132.09765625, 3873125.8003485575, 4792957.469651442, 3924691.265625, 4030915.6487139426, 3565043.1892908653, 4002750.1171875, 3937125.21484375, 3011514.630859375, 4004247.8677884624, 4243418.625, 3830777.959627404, 3984899.76953125, 4651764.999290866, 4100794.34375, 3967558.4503966346, 4367568.40625, 3844162.18359375, 3835405.2453665864, 3913151.0234375, 2973679.345703125, 4161456.7641346157, 2974552.640625, 3922504.43359375, 4116019.054110577, 3766975.7099759616, 3894908.915552884, 3616486.529296875, 3706474.233545673, 3977547.051983172, 3543261.625, 3282497.044921875, 3265887.8396033654, 3361758.684326923, 3613010.6334435097, 4233087.21484375, 3563394.30859375, 3782471.2906250004, 3307261.7109375, 4871807.61328125, 3074733.701171875, 3017344.927313702, 3060632.4221514426, 3337743.833984375, 3622067.71875, 3310271.5853125, 2044692.5564483178, 3275825.1244441103, 4098810.90625, 2873278.544921875, 2841189.169723558, 3659672.896484375, 3185206.259765625, 3124516.0442908653, 2570816.03125, 2590948.1188191106, 3458216.469026442, 2712100.1444591344, 2899173.2147415862, 2730948.6015264424, 3749276.398966346, 3316726.49609375, 2057784.759765625, 2729804.171875, 3498468.9559074524, 2326076.798828125, 2296701.534020433, 2367378.2265625, 2464421.468972356, 1975956.6357031248, 2249179.658840144, 2086507.7090444718, 1765671.7178305285, 2763162.187241587, 2600741.907470703, 2021627.0540114183, 2411078.9221514426, 3123355.202920674, 3508182.321213943, 2308430.595877404, 1758280.5694050482, 1682375.861685697, 1731349.721622596, 1849022.7192307692, 2374405.3735351562, 3862651.8942788467, 1415224.7099609375, 7466268.091442307, 2323131.7030709134, 2316161.949819711, 1789293.2294921875, 3109290.3984375, 1547697.2412109375, 1581949.5836989186, 2400631.2438281253, 3679418.796875, 2166979.1015504804, 2272450.7588942307, 1662337.125, 1715502.5166015625, 1878641.7970853364, 1680513.400390625, 1544304.3196108774, 1853655.31734375, 1495202.5420222357, 1426990.6071905047, 1678462.2904146635, 1250532.1178365385, 1359854.9760742188, 1304950.6991947116, 1508497.922127404, 2071029.6651562504, 1542841.621953125, 1469318.1930048077, 1211960.5625, 1465072.432469952, 1242585.1265534859, 1359116.489017428, 1238701.2190655046, 1541830.4605168267, 931502.4449158653, 1051801.2723888217, 1334950.6652283655, 1115155.032923678, 1433558.947220553, 480419.5871724758, 1466816.655745192, 964963.6993299279], \"xaxis\": \"x\", \"y\": [1911.635220607325, 1995.5801099898315, 1950.110471505172, 2054.6319013703182, 1992.6893461362222, 2090.9165166413127, 1937.4558235178117, 1884.434559524453, 2021.1074152971203, 1691.5442314265551, 2074.826241007435, 2704.743831471707, 1958.339022380109, 2702.4320776102772, 2141.156727567688, 2103.634674576216, 2196.5432462742, 1648.6815821298767, 2170.408298779065, 1501.8529245370198, 2527.8569290347255, 2176.359169286051, 2046.6254009975062, 2233.758155999663, 2100.1459312502607, 2164.10085801874, 2213.419890679216, 1978.8785561297288, 2021.2658018721113, 2089.9867728837758, 2073.046806992686, 2230.338306573188, 2024.7188300549249, 1838.1577179172064, 2292.8074817226016, 1987.2506901373806, 1970.6363790618718, 1766.0505704301777, 4154.932384468147, 2209.7004418864803, 2134.755680467197, 1998.9076299093508, 2344.7199404649405, 1878.554321549597, 1295.793058458234, 1993.6405860283476, 2024.6641792781538, 2086.61425541644, 2051.6091826838065, 1821.5176344211595, 1926.4363068520147, 1869.3728688781891, 2065.8154671332827, 3479.2229600663823, 1501.189065806185, 1824.3432150530073, 2374.9525696996798, 1866.4640302962364, 2445.112628594638, 2192.3243374555964, 2236.588478019546, 2755.007760153019, 1900.380541139658, 1864.6125374824082, 1930.426996435538, 1987.8564178078745, 2217.2437523777203, 2001.7246604766326, 1855.6704084599846, 1914.293584165715, 2365.906089394497, 2594.766894269639, 2278.133128265356, 2689.3855750155994, 1896.3285856065647, 1879.7251664095386, 1993.012490913949, 2472.0692296659995, 2534.127557415437, 2043.7441270916104, 2401.301875269719, 2306.2121071588094, 2564.942192977721, 2269.59449529246, 2296.9953299691806, 3000.3195028216087, 2234.082612108815, 2107.2379263547205, 2327.321451141259, 2229.47377395268, 1903.081885123075, 2157.0586833942593, 2222.1599157836263, 2010.8624440620345, 2275.8320419824818, 2279.6855103023927, 2153.922840574625, 2801.8007106378122, 1987.4333976697926, 2776.3683584583564, 2081.7618626675885, 1947.7932902165373, 2127.9102466129657, 2034.38194520018, 2186.1170105165893, 2117.761009899457, 1967.1798788901174, 2204.96623136035, 2354.4416285023467, 2343.6914039673784, 2270.809705524247, 2089.7071738767822, 1751.1045909961508, 2062.599001820972, 1940.0306805203747, 2215.153235612338, 1497.152308747978, 2337.4316433520153, 2346.6327630973747, 2263.920660923178, 2075.1965592672937, 1908.1420891780504, 2078.898137099631, 3350.586077302603, 2071.7830818736647, 1635.558577678653, 2296.401463638607, 2300.260608355018, 1777.3353378790887, 2035.5690398765844, 2068.116233170623, 2506.506972755599, 2484.843123348346, 1846.9425616373012, 2327.2221724167616, 2161.5821945839075, 2292.14462275166, 1662.336481172282, 1879.0113080894334, 2994.4181493023675, 2254.278023091022, 1754.3320547796677, 2615.003015835271, 2646.5810929117974, 2546.286404244268, 2443.605881469275, 3017.4204394310386, 2649.024252278934, 2830.74857878424, 3294.1142055254113, 2098.6325430968986, 2197.947667771179, 2790.9579706129775, 2333.2746250297328, 1771.2629453181369, 1572.9517712438976, 2348.5239095695647, 2987.269023724286, 3091.087934885943, 2937.2332536225304, 2738.257415304422, 2084.575183819897, 1267.7544138142548, 3451.5763819124013, 651.8641455667059, 2091.033851235647, 2089.8506843948358, 2670.5829817263407, 1530.3298464470029, 3066.921690889718, 2943.3100295857316, 1938.3840329344473, 1262.7464821199703, 2105.8761502290818, 1994.2019400258105, 2691.0214400704067, 2606.272147508855, 2304.872721727968, 2414.069597455756, 2596.3341765503137, 2147.1714944844352, 2542.049168040724, 2637.924819569231, 2220.368789506313, 2868.7749341508193, 2585.455694804996, 2647.0345417122853, 2229.4285942781444, 1604.595930183975, 2118.374431629962, 2209.1150190974186, 2611.2633908415646, 2110.347421381442, 2460.150670303727, 2248.5701547255762, 2376.879000911279, 1891.8204035366227, 2939.5188568155777, 2592.475821793824, 1975.597129313271, 2303.505937883175, 1767.9164619730707, 5247.814971155368, 1711.6858266955426, 2593.5981444047043], \"yaxis\": \"y\"}, {\"alignmentgroup\": \"True\", \"bingroup\": \"x\", \"hovertemplate\": \"Primary Fuel=Coal<br>Plant Cumulative Load (MWh)=%{x}<br>count=%{y}<extra></extra>\", \"legendgroup\": \"Coal\", \"marker\": {\"color\": \"#636EFA\"}, \"name\": \"Coal\", \"offsetgroup\": \"Coal\", \"opacity\": 0.5, \"showlegend\": false, \"type\": \"histogram\", \"x\": [17050946.75, 14933499.78125, 14195551.46875, 13364675.549759615, 13215126.190673077, 12418063.486201923, 12604725.28125, 12803891.640625, 11746916.984375, 13795317.796875, 10771214.494158654, 8190050.2421875, 11096102.895192306, 7974713.8359375, 10024540.7109375, 10110102.3828125, 9660776.5078125, 12547655.484375, 9204024.8515625, 12951549.0859375, 7336904.4375, 8370592.483581732, 8738781.2578125, 7893373.015625, 8384522.234375, 8093137.95108173, 7837370.625, 8706599.375, 8405043.95625, 7968463.8046875, 7965279.8925240375, 7354222.035132211, 8077163.677860577, 8788349.2578125, 6985731.363701923, 8038019.7421875, 8039541.894350961, 8925328.21875, 3780684.5999999996, 6966060.171875, 7110113.549236779, 7504672.015625, 6154291.162439904, 7559891.6875, 10872918.971153848, 7018931.73828125, 6899013.277836538, 6682519.076923077, 6714114.00390625, 7554012.65625, 7118738.90625, 7248626.96875, 6429462.295793269, 3757758.830078125, 8688627.910432693, 7089740.7578125, 5346112.85546875, 6757646.2890625, 5116095.83203125, 5582049.36328125, 5465086.113125, 4356832.626610577, 6207216.359375, 6259716.47265625, 5964979.26171875, 5790285.84201923, 5155443.8125, 5705658.234375, 6038935.34375, 5786482.0859375, 4681851.734375, 4268361.64453125, 4673860.756376202, 3860849.0625, 5359085.83203125, 5375143.7734375, 4967022.01171875, 3986132.09765625, 3873125.8003485575, 4792957.469651442, 3924691.265625, 4030915.6487139426, 3565043.1892908653, 4002750.1171875, 3937125.21484375, 3011514.630859375, 4004247.8677884624, 4243418.625, 3830777.959627404, 3984899.76953125, 4651764.999290866, 4100794.34375, 3967558.4503966346, 4367568.40625, 3844162.18359375, 3835405.2453665864, 3913151.0234375, 2973679.345703125, 4161456.7641346157, 2974552.640625, 3922504.43359375, 4116019.054110577, 3766975.7099759616, 3894908.915552884, 3616486.529296875, 3706474.233545673, 3977547.051983172, 3543261.625, 3282497.044921875, 3265887.8396033654, 3361758.684326923, 3613010.6334435097, 4233087.21484375, 3563394.30859375, 3782471.2906250004, 3307261.7109375, 4871807.61328125, 3074733.701171875, 3017344.927313702, 3060632.4221514426, 3337743.833984375, 3622067.71875, 3310271.5853125, 2044692.5564483178, 3275825.1244441103, 4098810.90625, 2873278.544921875, 2841189.169723558, 3659672.896484375, 3185206.259765625, 3124516.0442908653, 2570816.03125, 2590948.1188191106, 3458216.469026442, 2712100.1444591344, 2899173.2147415862, 2730948.6015264424, 3749276.398966346, 3316726.49609375, 2057784.759765625, 2729804.171875, 3498468.9559074524, 2326076.798828125, 2296701.534020433, 2367378.2265625, 2464421.468972356, 1975956.6357031248, 2249179.658840144, 2086507.7090444718, 1765671.7178305285, 2763162.187241587, 2600741.907470703, 2021627.0540114183, 2411078.9221514426, 3123355.202920674, 3508182.321213943, 2308430.595877404, 1758280.5694050482, 1682375.861685697, 1731349.721622596, 1849022.7192307692, 2374405.3735351562, 3862651.8942788467, 1415224.7099609375, 7466268.091442307, 2323131.7030709134, 2316161.949819711, 1789293.2294921875, 3109290.3984375, 1547697.2412109375, 1581949.5836989186, 2400631.2438281253, 3679418.796875, 2166979.1015504804, 2272450.7588942307, 1662337.125, 1715502.5166015625, 1878641.7970853364, 1680513.400390625, 1544304.3196108774, 1853655.31734375, 1495202.5420222357, 1426990.6071905047, 1678462.2904146635, 1250532.1178365385, 1359854.9760742188, 1304950.6991947116, 1508497.922127404, 2071029.6651562504, 1542841.621953125, 1469318.1930048077, 1211960.5625, 1465072.432469952, 1242585.1265534859, 1359116.489017428, 1238701.2190655046, 1541830.4605168267, 931502.4449158653, 1051801.2723888217, 1334950.6652283655, 1115155.032923678, 1433558.947220553, 480419.5871724758, 1466816.655745192, 964963.6993299279], \"xaxis\": \"x3\", \"yaxis\": \"y3\"}, {\"alignmentgroup\": \"True\", \"bingroup\": \"y\", \"hovertemplate\": \"Primary Fuel=Coal<br>Mean CO2 Emissions lbs/MWh=%{y}<br>count=%{x}<extra></extra>\", \"legendgroup\": \"Coal\", \"marker\": {\"color\": \"#636EFA\"}, \"name\": \"Coal\", \"offsetgroup\": \"Coal\", \"opacity\": 0.5, \"showlegend\": false, \"type\": \"histogram\", \"xaxis\": \"x2\", \"y\": [1911.635220607325, 1995.5801099898315, 1950.110471505172, 2054.6319013703182, 1992.6893461362222, 2090.9165166413127, 1937.4558235178117, 1884.434559524453, 2021.1074152971203, 1691.5442314265551, 2074.826241007435, 2704.743831471707, 1958.339022380109, 2702.4320776102772, 2141.156727567688, 2103.634674576216, 2196.5432462742, 1648.6815821298767, 2170.408298779065, 1501.8529245370198, 2527.8569290347255, 2176.359169286051, 2046.6254009975062, 2233.758155999663, 2100.1459312502607, 2164.10085801874, 2213.419890679216, 1978.8785561297288, 2021.2658018721113, 2089.9867728837758, 2073.046806992686, 2230.338306573188, 2024.7188300549249, 1838.1577179172064, 2292.8074817226016, 1987.2506901373806, 1970.6363790618718, 1766.0505704301777, 4154.932384468147, 2209.7004418864803, 2134.755680467197, 1998.9076299093508, 2344.7199404649405, 1878.554321549597, 1295.793058458234, 1993.6405860283476, 2024.6641792781538, 2086.61425541644, 2051.6091826838065, 1821.5176344211595, 1926.4363068520147, 1869.3728688781891, 2065.8154671332827, 3479.2229600663823, 1501.189065806185, 1824.3432150530073, 2374.9525696996798, 1866.4640302962364, 2445.112628594638, 2192.3243374555964, 2236.588478019546, 2755.007760153019, 1900.380541139658, 1864.6125374824082, 1930.426996435538, 1987.8564178078745, 2217.2437523777203, 2001.7246604766326, 1855.6704084599846, 1914.293584165715, 2365.906089394497, 2594.766894269639, 2278.133128265356, 2689.3855750155994, 1896.3285856065647, 1879.7251664095386, 1993.012490913949, 2472.0692296659995, 2534.127557415437, 2043.7441270916104, 2401.301875269719, 2306.2121071588094, 2564.942192977721, 2269.59449529246, 2296.9953299691806, 3000.3195028216087, 2234.082612108815, 2107.2379263547205, 2327.321451141259, 2229.47377395268, 1903.081885123075, 2157.0586833942593, 2222.1599157836263, 2010.8624440620345, 2275.8320419824818, 2279.6855103023927, 2153.922840574625, 2801.8007106378122, 1987.4333976697926, 2776.3683584583564, 2081.7618626675885, 1947.7932902165373, 2127.9102466129657, 2034.38194520018, 2186.1170105165893, 2117.761009899457, 1967.1798788901174, 2204.96623136035, 2354.4416285023467, 2343.6914039673784, 2270.809705524247, 2089.7071738767822, 1751.1045909961508, 2062.599001820972, 1940.0306805203747, 2215.153235612338, 1497.152308747978, 2337.4316433520153, 2346.6327630973747, 2263.920660923178, 2075.1965592672937, 1908.1420891780504, 2078.898137099631, 3350.586077302603, 2071.7830818736647, 1635.558577678653, 2296.401463638607, 2300.260608355018, 1777.3353378790887, 2035.5690398765844, 2068.116233170623, 2506.506972755599, 2484.843123348346, 1846.9425616373012, 2327.2221724167616, 2161.5821945839075, 2292.14462275166, 1662.336481172282, 1879.0113080894334, 2994.4181493023675, 2254.278023091022, 1754.3320547796677, 2615.003015835271, 2646.5810929117974, 2546.286404244268, 2443.605881469275, 3017.4204394310386, 2649.024252278934, 2830.74857878424, 3294.1142055254113, 2098.6325430968986, 2197.947667771179, 2790.9579706129775, 2333.2746250297328, 1771.2629453181369, 1572.9517712438976, 2348.5239095695647, 2987.269023724286, 3091.087934885943, 2937.2332536225304, 2738.257415304422, 2084.575183819897, 1267.7544138142548, 3451.5763819124013, 651.8641455667059, 2091.033851235647, 2089.8506843948358, 2670.5829817263407, 1530.3298464470029, 3066.921690889718, 2943.3100295857316, 1938.3840329344473, 1262.7464821199703, 2105.8761502290818, 1994.2019400258105, 2691.0214400704067, 2606.272147508855, 2304.872721727968, 2414.069597455756, 2596.3341765503137, 2147.1714944844352, 2542.049168040724, 2637.924819569231, 2220.368789506313, 2868.7749341508193, 2585.455694804996, 2647.0345417122853, 2229.4285942781444, 1604.595930183975, 2118.374431629962, 2209.1150190974186, 2611.2633908415646, 2110.347421381442, 2460.150670303727, 2248.5701547255762, 2376.879000911279, 1891.8204035366227, 2939.5188568155777, 2592.475821793824, 1975.597129313271, 2303.505937883175, 1767.9164619730707, 5247.814971155368, 1711.6858266955426, 2593.5981444047043], \"yaxis\": \"y2\"}, {\"customdata\": [[\"United States of America\"], [\"United States of America\"], [\"United States of America\"], [\"United States of America\"], [\"United States of America\"], [\"United States of America\"], [\"United States of America\"], [\"United States of America\"], [\"United States of America\"], [\"United States of America\"], [\"United States of America\"], [\"United States of America\"], [\"United States of America\"], [\"United States of America\"], [\"United States of America\"], [\"United States of America\"], [\"United States of America\"], [\"United States of America\"], [\"United States of America\"], [\"United States of America\"], [\"United States of America\"], [\"United States of America\"], [\"United States of America\"], [\"United States of America\"], [\"United States of America\"], [\"United States of America\"], [\"United States of America\"], [\"United States of America\"], [\"United States of America\"], [\"United States of America\"], [\"United States of America\"], [\"United States of America\"], [\"United States of America\"], [\"United States of America\"], [\"United States of America\"], [\"United States of America\"], [\"United States of America\"], [\"United States of America\"], [\"United States of America\"], [\"United States of America\"], [\"United States of America\"], [\"United States of America\"], [\"United States of America\"], [\"United States of America\"], [\"United States of America\"], [\"United States of America\"], [\"United States of America\"], [\"United States of America\"], [\"United States of America\"], [\"United States of America\"], [\"United States of America\"], [\"United States of America\"], [\"United States of America\"], [\"United States of America\"], [\"United States of America\"], [\"United States of America\"], [\"United States of America\"], [\"United States of America\"], [\"United States of America\"], [\"United States of America\"], [\"United States of America\"], [\"United States of America\"], [\"United States of America\"], [\"United States of America\"], [\"United States of America\"], [\"United States of America\"], [\"United States of America\"], [\"United States of America\"], [\"United States of America\"], [\"United States of America\"], [\"United States of America\"], [\"United States of America\"], [\"United States of America\"], [\"United States of America\"], [\"United States of America\"], [\"United States of America\"], [\"United States of America\"], [\"United States of America\"], [\"United States of America\"], [\"United States of America\"], [\"United States of America\"], [\"United States of America\"], [\"United States of America\"], [\"United States of America\"], [\"United States of America\"], [\"United States of America\"], [\"United States of America\"], [\"United States of America\"], [\"United States of America\"], [\"United States of America\"], [\"United States of America\"], [\"United States of America\"], [\"United States of America\"], [\"United States of America\"], [\"United States of America\"], [\"United States of America\"], [\"United States of America\"], [\"United States of America\"], [\"United States of America\"], [\"United States of America\"], [\"United States of America\"], [\"United States of America\"], [\"United States of America\"], [\"United States of America\"], [\"United States of America\"], [\"United States of America\"], [\"United States of America\"], [\"United States of America\"], [\"United States of America\"], [\"United States of America\"], [\"United States of America\"], [\"United States of America\"], [\"United States of America\"], [\"United States of America\"], [\"United States of America\"], [\"United States of America\"], [\"United States of America\"], [\"United States of America\"], [\"United States of America\"], [\"United States of America\"], [\"United States of America\"], [\"United States of America\"], [\"United States of America\"], [\"United States of America\"], [\"United States of America\"], [\"United States of America\"], [\"United States of America\"], [\"United States of America\"], [\"United States of America\"], [\"United States of America\"], [\"United States of America\"], [\"United States of America\"], [\"United States of America\"], [\"United States of America\"], [\"United States of America\"], [\"United States of America\"], [\"United States of America\"], [\"United States of America\"], [\"United States of America\"], [\"United States of America\"], [\"United States of America\"], [\"United States of America\"], [\"United States of America\"], [\"United States of America\"], [\"United States of America\"], [\"United States of America\"], [\"United States of America\"], [\"United States of America\"], [\"United States of America\"], [\"United States of America\"], [\"United States of America\"], [\"United States of America\"], [\"United States of America\"], [\"United States of America\"], [\"United States of America\"], [\"United States of America\"], [\"United States of America\"], [\"United States of America\"], [\"United States of America\"], [\"United States of America\"], [\"United States of America\"], [\"United States of America\"], [\"United States of America\"], [\"United States of America\"], [\"United States of America\"], [\"United States of America\"], [\"United States of America\"], [\"United States of America\"], [\"United States of America\"], [\"United States of America\"], [\"United States of America\"], [\"United States of America\"], [\"United States of America\"], [\"United States of America\"], [\"United States of America\"], [\"United States of America\"], [\"United States of America\"], [\"United States of America\"], [\"United States of America\"], [\"United States of America\"], [\"United States of America\"], [\"United States of America\"], [\"United States of America\"], [\"United States of America\"], [\"United States of America\"], [\"United States of America\"], [\"United States of America\"], [\"United States of America\"], [\"United States of America\"], [\"United States of America\"], [\"United States of America\"], [\"United States of America\"], [\"United States of America\"], [\"United States of America\"], [\"United States of America\"], [\"United States of America\"], [\"United States of America\"], [\"United States of America\"], [\"United States of America\"], [\"United States of America\"], [\"United States of America\"]], \"hovertemplate\": \"Primary Fuel=Gas<br>Plant Cumulative Load (MWh)=%{x}<br>Mean CO2 Emissions lbs/MWh=%{marker.size}<br>Country=%{customdata[0]}<extra></extra>\", \"legendgroup\": \"Gas\", \"marker\": {\"color\": \"#00CC96\", \"opacity\": 0.5, \"size\": [831.1332673474072, 1070.917349158752, 945.7571955300489, 1175.3530315126363, 1055.058327055773, 819.6528355009276, 961.0314914550773, 977.3869282905442, 875.6882838119022, 971.87686315525, 990.767961191245, 845.0669056113325, 2006.9237929229434, 1285.3020714302263, 1097.590146016579, 1006.2295303114479, 902.2210732687603, 836.9171146313073, 1244.139855282737, 844.5305834069728, 1008.3822665190918, 937.0494148859595, 4196.738385835324, 783.7260483868209, 1005.1104988000862, 639.4756321116074, 1247.4154444274295, 2011.1543172708487, 926.7809750164772, 1549.269156722996, 846.2612512538528, 1170.4713447198037, 2319.767161418153, 1399.605693901738, 782.6575616947856, 882.1303108685853, 1189.3537432306214, 683.6919246651033, 836.8243985179531, 671.079399852242, 1637.6135954352053, 708.5917858002, 872.0947200551415, 1218.7169870233035, 1317.1235530083134, 736.1422572883814, 732.0065249996999, 1076.2303240638353, 1548.519139280826, 766.7516788791634, 815.8335199392736, 875.2796309594839, 1190.1742069884021, 738.0038755327461, 717.2272415958215, 898.3707420502409, 862.1424421890936, 1241.1735618022612, 1021.1440155891414, 1289.611112149607, 889.0086483929799, 1050.5443940392468, 2028.594189137909, 999.1337320261413, 878.4560220942111, 736.4660751363101, 1875.983391162432, 708.136212241282, 986.5300475691141, 928.5549536252723, 3416.550285041761, 852.8008661037484, 914.4872931957664, 822.6586081374702, 807.3970740525873, 860.1240568965144, 1024.8298715533472, 3246.735254516217, 953.6116211822853, 936.4924963996698, 1469.0924155040757, 1154.9895997408473, 936.8304833135559, 814.0598249394913, 1084.8078611608644, 786.3962409117986, 1110.3544049780546, 773.023913334195, 1417.4265901088709, 918.9175685571505, 891.8362577997152, 921.2797940882606, 1241.390042863768, 923.0478877722836, 1179.9732305762548, 2509.051291400289, 1104.6419063043265, 709.9561453284035, 784.320021663693, 898.9142533620874, 1114.8357669059556, 2112.2441690202227, 869.7802157220657, 1303.2131007281982, 758.5819959492784, 1416.4816994813893, 1061.3823151366014, 841.4167672290723, 952.7483256789711, 835.3061582160215, 1479.776259697289, 1096.2707183439964, 1022.3106042619469, 808.0899965506131, 859.4877269470853, 720.717160388407, 842.3032820945855, 1127.2771498990655, 1318.0929653441037, 860.7250954340991, 794.6992878827863, 868.748741160177, 1038.034510236195, 849.0946605130216, 723.410435297548, 896.7106006036861, 953.3845980836281, 1350.5895080525459, 1404.6072712855223, 1004.9748590140941, 838.5599388026992, 790.5543292263932, 862.9158912022807, 896.847674989381, 914.1485005633292, 1513.494848924582, 793.6093972798332, 1002.8996044717131, 915.6706605409352, 1683.6742885592319, 1326.9098544600806, 1617.1680720105303, 904.0186355709758, 1016.0124414518891, 782.1245057974816, 788.7144920684543, 1099.1671545158172, 801.4776893782024, 1240.821040211473, 945.4414122813944, 798.2275103123394, 1121.0737232675747, 1261.7286914553324, 1860.386435073683, 845.8164354338963, 1314.641015042436, 905.1090072116289, 3901.0688119892066, 998.4009823089059, 1279.6546331704033, 4607.4700409807865, 862.1917782507677, 991.8281217432678, 761.7890734689663, 882.0381193664467, 972.6748009695436, 837.1130367172805, 900.5876461563686, 787.4444849540823, 1508.9177207998569, 858.8401136859845, 764.4100348069142, 1393.1212867121997, 1900.2480055439753, 749.2850333814561, 791.0052227772355, 944.7929244738519, 623.5866675377929, 795.4117222076289, 4951.451015546814, 985.9181369655737, 1519.207664808849, 1117.532728481683, 1145.8956699757991, 1136.8159275717883, 1217.998942355609, 1157.4734197267321, 1422.572579382064, 1339.3246588135498, 1218.7818910736612, 1034.6474002510213, 1242.6224502412367, 2132.2519323595952, 758.8276620026886, 4229.909347499013, 734.866691686849, 768.7110857891431, 1145.010511619363, 1516.3754417787213, 844.0657847504223, 842.3065946573219], \"sizemode\": \"area\", \"sizeref\": 13.11953742788842, \"symbol\": \"circle\"}, \"mode\": \"markers\", \"name\": \"Gas\", \"showlegend\": true, \"type\": \"scatter\", \"x\": [16794648.21875, 11733417.890625, 13107007.078125, 8980930.7578125, 8543876.364783654, 10743860.828125, 8732691.715745192, 8413904.546875, 9353920.292668266, 7667068.2578125, 7490717.006105769, 8480083.984375, 3545133.9822115386, 5529469.828125, 6472598.1640625, 6936883.1640625, 7703006.3671875, 8281557.997596154, 5552457.1796875, 7941267.458834134, 6370198.799879809, 6505801.319711538, 1437831.230168269, 7220815.405649038, 5548114.941250001, 8704249.6328125, 4410145.28125, 2720854.740985577, 5747918.0859375, 3297920.177283654, 6000555.26171875, 4325582.860990085, 2152344.9814453125, 3494722.453125, 6244346.374699519, 5342849.7421875, 3875327.255859375, 6729161.515625, 5495716.4921875, 6818887.9453125, 2789595.900390625, 6402346.6640625, 5199846.631009614, 3699135.8125, 3421687.9606370186, 5976765.828125, 5999763.20703125, 3989089.3984375, 2721111.519459135, 5452577.942980769, 5115465.08203125, 4752482.921875, 3480958.0695613003, 5581797.424879808, 5633855.790264424, 4387525.707932691, 4564878.237530047, 3147813.169921875, 3791580.3813100965, 2982878.0814302885, 4313823.01953125, 3629276.026442308, 1866301.852914664, 3766827.5140384613, 4279113.673828125, 5102339.291466344, 1975492.3532151445, 5155171.9921875, 3666260.859375, 3887248.234375, 1035579.8313551686, 4132818.96875, 3825280.5807451922, 4246737.673978366, 4299743.5234375, 4002107.045372596, 3348660.390625, 1054470.9289855957, 3582533.182391825, 3646237.1424519233, 2319485.7028996395, 2947596.321875, 3618055.34765625, 4158784.3623798075, 3112240.7265625, 4280876.04296875, 3027037.670973557, 4335530.6015625, 2364005.9099939903, 3639402.795673077, 3739613.5521875, 3619287.33203125, 2673916.138671875, 3565907.7623197115, 2771525.1712980773, 1302044.9550781248, 2956899.8617187506, 4594698.860576923, 4156453.603064904, 3617690.450270433, 2906704.1426141826, 1532738.7929311898, 3722050.20703125, 2476295.90141226, 4239126.97265625, 2265141.8392307693, 3019286.050180289, 3805761.965673077, 3356872.330078125, 3813283.592692308, 2149704.469951923, 2888721.05859375, 3081131.521935096, 3897169.690805289, 3643682.709843749, 4331542.21875, 3696351.599459135, 2751645.53125, 2340412.6090564905, 3580687.9296875, 3873040.6619591354, 3541979.626802885, 2957902.158090445, 3610700.2653245195, 4236081.51953125, 3409804.579026442, 3206351.669771635, 2256654.953876202, 2169079.9999999995, 3005688.374098558, 3601964.890324519, 3793258.501201923, 3447915.953725962, 3308196.034555288, 3242809.7734375, 1957456.300631009, 3711998.0712139425, 2920381.9354807697, 3196330.8885216354, 1732129.7259314908, 2196517.4636418256, 1800765.4902433897, 3212885.035456731, 2847900.8680889416, 3689129.322265625, 3641898.447265625, 2611522.3241586527, 3544739.5625, 2283161.982421875, 2993872.463413461, 3522121.6578966347, 2505985.0906250007, 2213844.55859375, 1499942.5578425482, 3263307.328125, 2096993.655649038, 3038174.5625, 704633.7500000001, 2751832.935546875, 2130001.890625, 591083.1857346757, 3150266.973677885, 2735102.0207331735, 3553317.7860817304, 3046538.90234375, 2761489.313100962, 3198545.434795673, 2969305.5078125, 3383440.6982421875, 1764617.9001652643, 3094411.78125, 3473603.2091346155, 1903838.845402644, 1390698.7500000002, 3524886.256009615, 3326452.4559795675, 2779465.135667067, 4197930.16796875, 3276707.568209135, 524715.8450810359, 2623942.8964783642, 1702766.1510156253, 2314018.106219952, 2248651.396033654, 2255942.6357421875, 2099652.5063100955, 2203353.3924278845, 1790338.9752572868, 1895631.7493990385, 2080485.4211989183, 2445615.7734375, 2036006.7174939904, 1185849.6041796876, 3321413.564903845, 594864.9999999999, 3413721.272686299, 3263407.3846153845, 2185346.384690505, 1649923.1648497595, 2957432.6588040874, 2960625.831280048], \"xaxis\": \"x\", \"y\": [831.1332673474072, 1070.917349158752, 945.7571955300489, 1175.3530315126363, 1055.058327055773, 819.6528355009276, 961.0314914550773, 977.3869282905442, 875.6882838119022, 971.87686315525, 990.767961191245, 845.0669056113325, 2006.9237929229434, 1285.3020714302263, 1097.590146016579, 1006.2295303114479, 902.2210732687603, 836.9171146313073, 1244.139855282737, 844.5305834069728, 1008.3822665190918, 937.0494148859595, 4196.738385835324, 783.7260483868209, 1005.1104988000862, 639.4756321116074, 1247.4154444274295, 2011.1543172708487, 926.7809750164772, 1549.269156722996, 846.2612512538528, 1170.4713447198037, 2319.767161418153, 1399.605693901738, 782.6575616947856, 882.1303108685853, 1189.3537432306214, 683.6919246651033, 836.8243985179531, 671.079399852242, 1637.6135954352053, 708.5917858002, 872.0947200551415, 1218.7169870233035, 1317.1235530083134, 736.1422572883814, 732.0065249996999, 1076.2303240638353, 1548.519139280826, 766.7516788791634, 815.8335199392736, 875.2796309594839, 1190.1742069884021, 738.0038755327461, 717.2272415958215, 898.3707420502409, 862.1424421890936, 1241.1735618022612, 1021.1440155891414, 1289.611112149607, 889.0086483929799, 1050.5443940392468, 2028.594189137909, 999.1337320261413, 878.4560220942111, 736.4660751363101, 1875.983391162432, 708.136212241282, 986.5300475691141, 928.5549536252723, 3416.550285041761, 852.8008661037484, 914.4872931957664, 822.6586081374702, 807.3970740525873, 860.1240568965144, 1024.8298715533472, 3246.735254516217, 953.6116211822853, 936.4924963996698, 1469.0924155040757, 1154.9895997408473, 936.8304833135559, 814.0598249394913, 1084.8078611608644, 786.3962409117986, 1110.3544049780546, 773.023913334195, 1417.4265901088709, 918.9175685571505, 891.8362577997152, 921.2797940882606, 1241.390042863768, 923.0478877722836, 1179.9732305762548, 2509.051291400289, 1104.6419063043265, 709.9561453284035, 784.320021663693, 898.9142533620874, 1114.8357669059556, 2112.2441690202227, 869.7802157220657, 1303.2131007281982, 758.5819959492784, 1416.4816994813893, 1061.3823151366014, 841.4167672290723, 952.7483256789711, 835.3061582160215, 1479.776259697289, 1096.2707183439964, 1022.3106042619469, 808.0899965506131, 859.4877269470853, 720.717160388407, 842.3032820945855, 1127.2771498990655, 1318.0929653441037, 860.7250954340991, 794.6992878827863, 868.748741160177, 1038.034510236195, 849.0946605130216, 723.410435297548, 896.7106006036861, 953.3845980836281, 1350.5895080525459, 1404.6072712855223, 1004.9748590140941, 838.5599388026992, 790.5543292263932, 862.9158912022807, 896.847674989381, 914.1485005633292, 1513.494848924582, 793.6093972798332, 1002.8996044717131, 915.6706605409352, 1683.6742885592319, 1326.9098544600806, 1617.1680720105303, 904.0186355709758, 1016.0124414518891, 782.1245057974816, 788.7144920684543, 1099.1671545158172, 801.4776893782024, 1240.821040211473, 945.4414122813944, 798.2275103123394, 1121.0737232675747, 1261.7286914553324, 1860.386435073683, 845.8164354338963, 1314.641015042436, 905.1090072116289, 3901.0688119892066, 998.4009823089059, 1279.6546331704033, 4607.4700409807865, 862.1917782507677, 991.8281217432678, 761.7890734689663, 882.0381193664467, 972.6748009695436, 837.1130367172805, 900.5876461563686, 787.4444849540823, 1508.9177207998569, 858.8401136859845, 764.4100348069142, 1393.1212867121997, 1900.2480055439753, 749.2850333814561, 791.0052227772355, 944.7929244738519, 623.5866675377929, 795.4117222076289, 4951.451015546814, 985.9181369655737, 1519.207664808849, 1117.532728481683, 1145.8956699757991, 1136.8159275717883, 1217.998942355609, 1157.4734197267321, 1422.572579382064, 1339.3246588135498, 1218.7818910736612, 1034.6474002510213, 1242.6224502412367, 2132.2519323595952, 758.8276620026886, 4229.909347499013, 734.866691686849, 768.7110857891431, 1145.010511619363, 1516.3754417787213, 844.0657847504223, 842.3065946573219], \"yaxis\": \"y\"}, {\"alignmentgroup\": \"True\", \"bingroup\": \"x\", \"hovertemplate\": \"Primary Fuel=Gas<br>Plant Cumulative Load (MWh)=%{x}<br>count=%{y}<extra></extra>\", \"legendgroup\": \"Gas\", \"marker\": {\"color\": \"#00CC96\"}, \"name\": \"Gas\", \"offsetgroup\": \"Gas\", \"opacity\": 0.5, \"showlegend\": false, \"type\": \"histogram\", \"x\": [16794648.21875, 11733417.890625, 13107007.078125, 8980930.7578125, 8543876.364783654, 10743860.828125, 8732691.715745192, 8413904.546875, 9353920.292668266, 7667068.2578125, 7490717.006105769, 8480083.984375, 3545133.9822115386, 5529469.828125, 6472598.1640625, 6936883.1640625, 7703006.3671875, 8281557.997596154, 5552457.1796875, 7941267.458834134, 6370198.799879809, 6505801.319711538, 1437831.230168269, 7220815.405649038, 5548114.941250001, 8704249.6328125, 4410145.28125, 2720854.740985577, 5747918.0859375, 3297920.177283654, 6000555.26171875, 4325582.860990085, 2152344.9814453125, 3494722.453125, 6244346.374699519, 5342849.7421875, 3875327.255859375, 6729161.515625, 5495716.4921875, 6818887.9453125, 2789595.900390625, 6402346.6640625, 5199846.631009614, 3699135.8125, 3421687.9606370186, 5976765.828125, 5999763.20703125, 3989089.3984375, 2721111.519459135, 5452577.942980769, 5115465.08203125, 4752482.921875, 3480958.0695613003, 5581797.424879808, 5633855.790264424, 4387525.707932691, 4564878.237530047, 3147813.169921875, 3791580.3813100965, 2982878.0814302885, 4313823.01953125, 3629276.026442308, 1866301.852914664, 3766827.5140384613, 4279113.673828125, 5102339.291466344, 1975492.3532151445, 5155171.9921875, 3666260.859375, 3887248.234375, 1035579.8313551686, 4132818.96875, 3825280.5807451922, 4246737.673978366, 4299743.5234375, 4002107.045372596, 3348660.390625, 1054470.9289855957, 3582533.182391825, 3646237.1424519233, 2319485.7028996395, 2947596.321875, 3618055.34765625, 4158784.3623798075, 3112240.7265625, 4280876.04296875, 3027037.670973557, 4335530.6015625, 2364005.9099939903, 3639402.795673077, 3739613.5521875, 3619287.33203125, 2673916.138671875, 3565907.7623197115, 2771525.1712980773, 1302044.9550781248, 2956899.8617187506, 4594698.860576923, 4156453.603064904, 3617690.450270433, 2906704.1426141826, 1532738.7929311898, 3722050.20703125, 2476295.90141226, 4239126.97265625, 2265141.8392307693, 3019286.050180289, 3805761.965673077, 3356872.330078125, 3813283.592692308, 2149704.469951923, 2888721.05859375, 3081131.521935096, 3897169.690805289, 3643682.709843749, 4331542.21875, 3696351.599459135, 2751645.53125, 2340412.6090564905, 3580687.9296875, 3873040.6619591354, 3541979.626802885, 2957902.158090445, 3610700.2653245195, 4236081.51953125, 3409804.579026442, 3206351.669771635, 2256654.953876202, 2169079.9999999995, 3005688.374098558, 3601964.890324519, 3793258.501201923, 3447915.953725962, 3308196.034555288, 3242809.7734375, 1957456.300631009, 3711998.0712139425, 2920381.9354807697, 3196330.8885216354, 1732129.7259314908, 2196517.4636418256, 1800765.4902433897, 3212885.035456731, 2847900.8680889416, 3689129.322265625, 3641898.447265625, 2611522.3241586527, 3544739.5625, 2283161.982421875, 2993872.463413461, 3522121.6578966347, 2505985.0906250007, 2213844.55859375, 1499942.5578425482, 3263307.328125, 2096993.655649038, 3038174.5625, 704633.7500000001, 2751832.935546875, 2130001.890625, 591083.1857346757, 3150266.973677885, 2735102.0207331735, 3553317.7860817304, 3046538.90234375, 2761489.313100962, 3198545.434795673, 2969305.5078125, 3383440.6982421875, 1764617.9001652643, 3094411.78125, 3473603.2091346155, 1903838.845402644, 1390698.7500000002, 3524886.256009615, 3326452.4559795675, 2779465.135667067, 4197930.16796875, 3276707.568209135, 524715.8450810359, 2623942.8964783642, 1702766.1510156253, 2314018.106219952, 2248651.396033654, 2255942.6357421875, 2099652.5063100955, 2203353.3924278845, 1790338.9752572868, 1895631.7493990385, 2080485.4211989183, 2445615.7734375, 2036006.7174939904, 1185849.6041796876, 3321413.564903845, 594864.9999999999, 3413721.272686299, 3263407.3846153845, 2185346.384690505, 1649923.1648497595, 2957432.6588040874, 2960625.831280048], \"xaxis\": \"x3\", \"yaxis\": \"y3\"}, {\"alignmentgroup\": \"True\", \"bingroup\": \"y\", \"hovertemplate\": \"Primary Fuel=Gas<br>Mean CO2 Emissions lbs/MWh=%{y}<br>count=%{x}<extra></extra>\", \"legendgroup\": \"Gas\", \"marker\": {\"color\": \"#00CC96\"}, \"name\": \"Gas\", \"offsetgroup\": \"Gas\", \"opacity\": 0.5, \"showlegend\": false, \"type\": \"histogram\", \"xaxis\": \"x2\", \"y\": [831.1332673474072, 1070.917349158752, 945.7571955300489, 1175.3530315126363, 1055.058327055773, 819.6528355009276, 961.0314914550773, 977.3869282905442, 875.6882838119022, 971.87686315525, 990.767961191245, 845.0669056113325, 2006.9237929229434, 1285.3020714302263, 1097.590146016579, 1006.2295303114479, 902.2210732687603, 836.9171146313073, 1244.139855282737, 844.5305834069728, 1008.3822665190918, 937.0494148859595, 4196.738385835324, 783.7260483868209, 1005.1104988000862, 639.4756321116074, 1247.4154444274295, 2011.1543172708487, 926.7809750164772, 1549.269156722996, 846.2612512538528, 1170.4713447198037, 2319.767161418153, 1399.605693901738, 782.6575616947856, 882.1303108685853, 1189.3537432306214, 683.6919246651033, 836.8243985179531, 671.079399852242, 1637.6135954352053, 708.5917858002, 872.0947200551415, 1218.7169870233035, 1317.1235530083134, 736.1422572883814, 732.0065249996999, 1076.2303240638353, 1548.519139280826, 766.7516788791634, 815.8335199392736, 875.2796309594839, 1190.1742069884021, 738.0038755327461, 717.2272415958215, 898.3707420502409, 862.1424421890936, 1241.1735618022612, 1021.1440155891414, 1289.611112149607, 889.0086483929799, 1050.5443940392468, 2028.594189137909, 999.1337320261413, 878.4560220942111, 736.4660751363101, 1875.983391162432, 708.136212241282, 986.5300475691141, 928.5549536252723, 3416.550285041761, 852.8008661037484, 914.4872931957664, 822.6586081374702, 807.3970740525873, 860.1240568965144, 1024.8298715533472, 3246.735254516217, 953.6116211822853, 936.4924963996698, 1469.0924155040757, 1154.9895997408473, 936.8304833135559, 814.0598249394913, 1084.8078611608644, 786.3962409117986, 1110.3544049780546, 773.023913334195, 1417.4265901088709, 918.9175685571505, 891.8362577997152, 921.2797940882606, 1241.390042863768, 923.0478877722836, 1179.9732305762548, 2509.051291400289, 1104.6419063043265, 709.9561453284035, 784.320021663693, 898.9142533620874, 1114.8357669059556, 2112.2441690202227, 869.7802157220657, 1303.2131007281982, 758.5819959492784, 1416.4816994813893, 1061.3823151366014, 841.4167672290723, 952.7483256789711, 835.3061582160215, 1479.776259697289, 1096.2707183439964, 1022.3106042619469, 808.0899965506131, 859.4877269470853, 720.717160388407, 842.3032820945855, 1127.2771498990655, 1318.0929653441037, 860.7250954340991, 794.6992878827863, 868.748741160177, 1038.034510236195, 849.0946605130216, 723.410435297548, 896.7106006036861, 953.3845980836281, 1350.5895080525459, 1404.6072712855223, 1004.9748590140941, 838.5599388026992, 790.5543292263932, 862.9158912022807, 896.847674989381, 914.1485005633292, 1513.494848924582, 793.6093972798332, 1002.8996044717131, 915.6706605409352, 1683.6742885592319, 1326.9098544600806, 1617.1680720105303, 904.0186355709758, 1016.0124414518891, 782.1245057974816, 788.7144920684543, 1099.1671545158172, 801.4776893782024, 1240.821040211473, 945.4414122813944, 798.2275103123394, 1121.0737232675747, 1261.7286914553324, 1860.386435073683, 845.8164354338963, 1314.641015042436, 905.1090072116289, 3901.0688119892066, 998.4009823089059, 1279.6546331704033, 4607.4700409807865, 862.1917782507677, 991.8281217432678, 761.7890734689663, 882.0381193664467, 972.6748009695436, 837.1130367172805, 900.5876461563686, 787.4444849540823, 1508.9177207998569, 858.8401136859845, 764.4100348069142, 1393.1212867121997, 1900.2480055439753, 749.2850333814561, 791.0052227772355, 944.7929244738519, 623.5866675377929, 795.4117222076289, 4951.451015546814, 985.9181369655737, 1519.207664808849, 1117.532728481683, 1145.8956699757991, 1136.8159275717883, 1217.998942355609, 1157.4734197267321, 1422.572579382064, 1339.3246588135498, 1218.7818910736612, 1034.6474002510213, 1242.6224502412367, 2132.2519323595952, 758.8276620026886, 4229.909347499013, 734.866691686849, 768.7110857891431, 1145.010511619363, 1516.3754417787213, 844.0657847504223, 842.3065946573219], \"yaxis\": \"y2\"}, {\"customdata\": [[\"United States of America\"], [\"United States of America\"], [\"United States of America\"], [\"United States of America\"], [\"United States of America\"], [\"United States of America\"], [\"United States of America\"], [\"United States of America\"]], \"hovertemplate\": \"Primary Fuel=Oil<br>Plant Cumulative Load (MWh)=%{x}<br>Mean CO2 Emissions lbs/MWh=%{marker.size}<br>Country=%{customdata[0]}<extra></extra>\", \"legendgroup\": \"Oil\", \"marker\": {\"color\": \"#EF553B\", \"opacity\": 0.5, \"size\": [1190.2346378717573, 973.0105923091245, 1618.1607091147614, 1224.7751027724005, 2565.4611619464476, 1248.4587192971217, 2135.2498543173724, 4706.737964596032], \"sizemode\": \"area\", \"sizeref\": 13.11953742788842, \"symbol\": \"circle\"}, \"mode\": \"markers\", \"name\": \"Oil\", \"showlegend\": true, \"type\": \"scatter\", \"x\": [9121201.167033862, 6245025.805504807, 2659057.4296875, 3393989.96484375, 1248865.003112793, 2565600.302590145, 1479783.4106445312, 544857.2568284253], \"xaxis\": \"x\", \"y\": [1190.2346378717573, 973.0105923091245, 1618.1607091147614, 1224.7751027724005, 2565.4611619464476, 1248.4587192971217, 2135.2498543173724, 4706.737964596032], \"yaxis\": \"y\"}, {\"alignmentgroup\": \"True\", \"bingroup\": \"x\", \"hovertemplate\": \"Primary Fuel=Oil<br>Plant Cumulative Load (MWh)=%{x}<br>count=%{y}<extra></extra>\", \"legendgroup\": \"Oil\", \"marker\": {\"color\": \"#EF553B\"}, \"name\": \"Oil\", \"offsetgroup\": \"Oil\", \"opacity\": 0.5, \"showlegend\": false, \"type\": \"histogram\", \"x\": [9121201.167033862, 6245025.805504807, 2659057.4296875, 3393989.96484375, 1248865.003112793, 2565600.302590145, 1479783.4106445312, 544857.2568284253], \"xaxis\": \"x3\", \"yaxis\": \"y3\"}, {\"alignmentgroup\": \"True\", \"bingroup\": \"y\", \"hovertemplate\": \"Primary Fuel=Oil<br>Mean CO2 Emissions lbs/MWh=%{y}<br>count=%{x}<extra></extra>\", \"legendgroup\": \"Oil\", \"marker\": {\"color\": \"#EF553B\"}, \"name\": \"Oil\", \"offsetgroup\": \"Oil\", \"opacity\": 0.5, \"showlegend\": false, \"type\": \"histogram\", \"xaxis\": \"x2\", \"y\": [1190.2346378717573, 973.0105923091245, 1618.1607091147614, 1224.7751027724005, 2565.4611619464476, 1248.4587192971217, 2135.2498543173724, 4706.737964596032], \"yaxis\": \"y2\"}, {\"customdata\": [[\"United States of America\"]], \"hovertemplate\": \"Primary Fuel=Petcoke<br>Plant Cumulative Load (MWh)=%{x}<br>Mean CO2 Emissions lbs/MWh=%{marker.size}<br>Country=%{customdata[0]}<extra></extra>\", \"legendgroup\": \"Petcoke\", \"marker\": {\"color\": \"#AB63FA\", \"opacity\": 0.5, \"size\": [2085.1566992512276], \"sizemode\": \"area\", \"sizeref\": 13.11953742788842, \"symbol\": \"circle\"}, \"mode\": \"markers\", \"name\": \"Petcoke\", \"showlegend\": true, \"type\": \"scatter\", \"x\": [4504888.845703125], \"xaxis\": \"x\", \"y\": [2085.1566992512276], \"yaxis\": \"y\"}, {\"alignmentgroup\": \"True\", \"bingroup\": \"x\", \"hovertemplate\": \"Primary Fuel=Petcoke<br>Plant Cumulative Load (MWh)=%{x}<br>count=%{y}<extra></extra>\", \"legendgroup\": \"Petcoke\", \"marker\": {\"color\": \"#AB63FA\"}, \"name\": \"Petcoke\", \"offsetgroup\": \"Petcoke\", \"opacity\": 0.5, \"showlegend\": false, \"type\": \"histogram\", \"x\": [4504888.845703125], \"xaxis\": \"x3\", \"yaxis\": \"y3\"}, {\"alignmentgroup\": \"True\", \"bingroup\": \"y\", \"hovertemplate\": \"Primary Fuel=Petcoke<br>Mean CO2 Emissions lbs/MWh=%{y}<br>count=%{x}<extra></extra>\", \"legendgroup\": \"Petcoke\", \"marker\": {\"color\": \"#AB63FA\"}, \"name\": \"Petcoke\", \"offsetgroup\": \"Petcoke\", \"opacity\": 0.5, \"showlegend\": false, \"type\": \"histogram\", \"xaxis\": \"x2\", \"y\": [2085.1566992512276], \"yaxis\": \"y2\"}],\n                        {\"barmode\": \"overlay\", \"legend\": {\"itemsizing\": \"constant\", \"title\": {\"text\": \"Primary Fuel\"}, \"tracegroupgap\": 0}, \"margin\": {\"t\": 60}, \"showlegend\": false, \"template\": {\"data\": {\"bar\": [{\"error_x\": {\"color\": \"#2a3f5f\"}, \"error_y\": {\"color\": \"#2a3f5f\"}, \"marker\": {\"line\": {\"color\": \"#E5ECF6\", \"width\": 0.5}}, \"type\": \"bar\"}], \"barpolar\": [{\"marker\": {\"line\": {\"color\": \"#E5ECF6\", \"width\": 0.5}}, \"type\": \"barpolar\"}], \"carpet\": [{\"aaxis\": {\"endlinecolor\": \"#2a3f5f\", \"gridcolor\": \"white\", \"linecolor\": \"white\", \"minorgridcolor\": \"white\", \"startlinecolor\": \"#2a3f5f\"}, \"baxis\": {\"endlinecolor\": \"#2a3f5f\", \"gridcolor\": \"white\", \"linecolor\": \"white\", \"minorgridcolor\": \"white\", \"startlinecolor\": \"#2a3f5f\"}, \"type\": \"carpet\"}], \"choropleth\": [{\"colorbar\": {\"outlinewidth\": 0, \"ticks\": \"\"}, \"type\": \"choropleth\"}], \"contour\": [{\"colorbar\": {\"outlinewidth\": 0, \"ticks\": \"\"}, \"colorscale\": [[0.0, \"#0d0887\"], [0.1111111111111111, \"#46039f\"], [0.2222222222222222, \"#7201a8\"], [0.3333333333333333, \"#9c179e\"], [0.4444444444444444, \"#bd3786\"], [0.5555555555555556, \"#d8576b\"], [0.6666666666666666, \"#ed7953\"], [0.7777777777777778, \"#fb9f3a\"], [0.8888888888888888, \"#fdca26\"], [1.0, \"#f0f921\"]], \"type\": \"contour\"}], \"contourcarpet\": [{\"colorbar\": {\"outlinewidth\": 0, \"ticks\": \"\"}, \"type\": \"contourcarpet\"}], \"heatmap\": [{\"colorbar\": {\"outlinewidth\": 0, \"ticks\": \"\"}, \"colorscale\": [[0.0, \"#0d0887\"], [0.1111111111111111, \"#46039f\"], [0.2222222222222222, \"#7201a8\"], [0.3333333333333333, \"#9c179e\"], [0.4444444444444444, \"#bd3786\"], [0.5555555555555556, \"#d8576b\"], [0.6666666666666666, \"#ed7953\"], [0.7777777777777778, \"#fb9f3a\"], [0.8888888888888888, \"#fdca26\"], [1.0, \"#f0f921\"]], \"type\": \"heatmap\"}], \"heatmapgl\": [{\"colorbar\": {\"outlinewidth\": 0, \"ticks\": \"\"}, \"colorscale\": [[0.0, \"#0d0887\"], [0.1111111111111111, \"#46039f\"], [0.2222222222222222, \"#7201a8\"], [0.3333333333333333, \"#9c179e\"], [0.4444444444444444, \"#bd3786\"], [0.5555555555555556, \"#d8576b\"], [0.6666666666666666, \"#ed7953\"], [0.7777777777777778, \"#fb9f3a\"], [0.8888888888888888, \"#fdca26\"], [1.0, \"#f0f921\"]], \"type\": \"heatmapgl\"}], \"histogram\": [{\"marker\": {\"colorbar\": {\"outlinewidth\": 0, \"ticks\": \"\"}}, \"type\": \"histogram\"}], \"histogram2d\": [{\"colorbar\": {\"outlinewidth\": 0, \"ticks\": \"\"}, \"colorscale\": [[0.0, \"#0d0887\"], [0.1111111111111111, \"#46039f\"], [0.2222222222222222, \"#7201a8\"], [0.3333333333333333, \"#9c179e\"], [0.4444444444444444, \"#bd3786\"], [0.5555555555555556, \"#d8576b\"], [0.6666666666666666, \"#ed7953\"], [0.7777777777777778, \"#fb9f3a\"], [0.8888888888888888, \"#fdca26\"], [1.0, \"#f0f921\"]], \"type\": \"histogram2d\"}], \"histogram2dcontour\": [{\"colorbar\": {\"outlinewidth\": 0, \"ticks\": \"\"}, \"colorscale\": [[0.0, \"#0d0887\"], [0.1111111111111111, \"#46039f\"], [0.2222222222222222, \"#7201a8\"], [0.3333333333333333, \"#9c179e\"], [0.4444444444444444, \"#bd3786\"], [0.5555555555555556, \"#d8576b\"], [0.6666666666666666, \"#ed7953\"], [0.7777777777777778, \"#fb9f3a\"], [0.8888888888888888, \"#fdca26\"], [1.0, \"#f0f921\"]], \"type\": \"histogram2dcontour\"}], \"mesh3d\": [{\"colorbar\": {\"outlinewidth\": 0, \"ticks\": \"\"}, \"type\": \"mesh3d\"}], \"parcoords\": [{\"line\": {\"colorbar\": {\"outlinewidth\": 0, \"ticks\": \"\"}}, \"type\": \"parcoords\"}], \"pie\": [{\"automargin\": true, \"type\": \"pie\"}], \"scatter\": [{\"marker\": {\"colorbar\": {\"outlinewidth\": 0, \"ticks\": \"\"}}, \"type\": \"scatter\"}], \"scatter3d\": [{\"line\": {\"colorbar\": {\"outlinewidth\": 0, \"ticks\": \"\"}}, \"marker\": {\"colorbar\": {\"outlinewidth\": 0, \"ticks\": \"\"}}, \"type\": \"scatter3d\"}], \"scattercarpet\": [{\"marker\": {\"colorbar\": {\"outlinewidth\": 0, \"ticks\": \"\"}}, \"type\": \"scattercarpet\"}], \"scattergeo\": [{\"marker\": {\"colorbar\": {\"outlinewidth\": 0, \"ticks\": \"\"}}, \"type\": \"scattergeo\"}], \"scattergl\": [{\"marker\": {\"colorbar\": {\"outlinewidth\": 0, \"ticks\": \"\"}}, \"type\": \"scattergl\"}], \"scattermapbox\": [{\"marker\": {\"colorbar\": {\"outlinewidth\": 0, \"ticks\": \"\"}}, \"type\": \"scattermapbox\"}], \"scatterpolar\": [{\"marker\": {\"colorbar\": {\"outlinewidth\": 0, \"ticks\": \"\"}}, \"type\": \"scatterpolar\"}], \"scatterpolargl\": [{\"marker\": {\"colorbar\": {\"outlinewidth\": 0, \"ticks\": \"\"}}, \"type\": \"scatterpolargl\"}], \"scatterternary\": [{\"marker\": {\"colorbar\": {\"outlinewidth\": 0, \"ticks\": \"\"}}, \"type\": \"scatterternary\"}], \"surface\": [{\"colorbar\": {\"outlinewidth\": 0, \"ticks\": \"\"}, \"colorscale\": [[0.0, \"#0d0887\"], [0.1111111111111111, \"#46039f\"], [0.2222222222222222, \"#7201a8\"], [0.3333333333333333, \"#9c179e\"], [0.4444444444444444, \"#bd3786\"], [0.5555555555555556, \"#d8576b\"], [0.6666666666666666, \"#ed7953\"], [0.7777777777777778, \"#fb9f3a\"], [0.8888888888888888, \"#fdca26\"], [1.0, \"#f0f921\"]], \"type\": \"surface\"}], \"table\": [{\"cells\": {\"fill\": {\"color\": \"#EBF0F8\"}, \"line\": {\"color\": \"white\"}}, \"header\": {\"fill\": {\"color\": \"#C8D4E3\"}, \"line\": {\"color\": \"white\"}}, \"type\": \"table\"}]}, \"layout\": {\"annotationdefaults\": {\"arrowcolor\": \"#2a3f5f\", \"arrowhead\": 0, \"arrowwidth\": 1}, \"coloraxis\": {\"colorbar\": {\"outlinewidth\": 0, \"ticks\": \"\"}}, \"colorscale\": {\"diverging\": [[0, \"#8e0152\"], [0.1, \"#c51b7d\"], [0.2, \"#de77ae\"], [0.3, \"#f1b6da\"], [0.4, \"#fde0ef\"], [0.5, \"#f7f7f7\"], [0.6, \"#e6f5d0\"], [0.7, \"#b8e186\"], [0.8, \"#7fbc41\"], [0.9, \"#4d9221\"], [1, \"#276419\"]], \"sequential\": [[0.0, \"#0d0887\"], [0.1111111111111111, \"#46039f\"], [0.2222222222222222, \"#7201a8\"], [0.3333333333333333, \"#9c179e\"], [0.4444444444444444, \"#bd3786\"], [0.5555555555555556, \"#d8576b\"], [0.6666666666666666, \"#ed7953\"], [0.7777777777777778, \"#fb9f3a\"], [0.8888888888888888, \"#fdca26\"], [1.0, \"#f0f921\"]], \"sequentialminus\": [[0.0, \"#0d0887\"], [0.1111111111111111, \"#46039f\"], [0.2222222222222222, \"#7201a8\"], [0.3333333333333333, \"#9c179e\"], [0.4444444444444444, \"#bd3786\"], [0.5555555555555556, \"#d8576b\"], [0.6666666666666666, \"#ed7953\"], [0.7777777777777778, \"#fb9f3a\"], [0.8888888888888888, \"#fdca26\"], [1.0, \"#f0f921\"]]}, \"colorway\": [\"#636efa\", \"#EF553B\", \"#00cc96\", \"#ab63fa\", \"#FFA15A\", \"#19d3f3\", \"#FF6692\", \"#B6E880\", \"#FF97FF\", \"#FECB52\"], \"font\": {\"color\": \"#2a3f5f\"}, \"geo\": {\"bgcolor\": \"white\", \"lakecolor\": \"white\", \"landcolor\": \"#E5ECF6\", \"showlakes\": true, \"showland\": true, \"subunitcolor\": \"white\"}, \"hoverlabel\": {\"align\": \"left\"}, \"hovermode\": \"closest\", \"mapbox\": {\"style\": \"light\"}, \"paper_bgcolor\": \"white\", \"plot_bgcolor\": \"#E5ECF6\", \"polar\": {\"angularaxis\": {\"gridcolor\": \"white\", \"linecolor\": \"white\", \"ticks\": \"\"}, \"bgcolor\": \"#E5ECF6\", \"radialaxis\": {\"gridcolor\": \"white\", \"linecolor\": \"white\", \"ticks\": \"\"}}, \"scene\": {\"xaxis\": {\"backgroundcolor\": \"#E5ECF6\", \"gridcolor\": \"white\", \"gridwidth\": 2, \"linecolor\": \"white\", \"showbackground\": true, \"ticks\": \"\", \"zerolinecolor\": \"white\"}, \"yaxis\": {\"backgroundcolor\": \"#E5ECF6\", \"gridcolor\": \"white\", \"gridwidth\": 2, \"linecolor\": \"white\", \"showbackground\": true, \"ticks\": \"\", \"zerolinecolor\": \"white\"}, \"zaxis\": {\"backgroundcolor\": \"#E5ECF6\", \"gridcolor\": \"white\", \"gridwidth\": 2, \"linecolor\": \"white\", \"showbackground\": true, \"ticks\": \"\", \"zerolinecolor\": \"white\"}}, \"shapedefaults\": {\"line\": {\"color\": \"#2a3f5f\"}}, \"ternary\": {\"aaxis\": {\"gridcolor\": \"white\", \"linecolor\": \"white\", \"ticks\": \"\"}, \"baxis\": {\"gridcolor\": \"white\", \"linecolor\": \"white\", \"ticks\": \"\"}, \"bgcolor\": \"#E5ECF6\", \"caxis\": {\"gridcolor\": \"white\", \"linecolor\": \"white\", \"ticks\": \"\"}}, \"title\": {\"x\": 0.05}, \"xaxis\": {\"automargin\": true, \"gridcolor\": \"white\", \"linecolor\": \"white\", \"ticks\": \"\", \"title\": {\"standoff\": 15}, \"zerolinecolor\": \"white\", \"zerolinewidth\": 2}, \"yaxis\": {\"automargin\": true, \"gridcolor\": \"white\", \"linecolor\": \"white\", \"ticks\": \"\", \"title\": {\"standoff\": 15}, \"zerolinecolor\": \"white\", \"zerolinewidth\": 2}}}, \"xaxis\": {\"anchor\": \"y\", \"domain\": [0.0, 0.7363], \"title\": {\"text\": \"Plant Cumulative Load (MWh)\"}}, \"xaxis2\": {\"anchor\": \"y2\", \"domain\": [0.7413, 1.0], \"matches\": \"x2\", \"showgrid\": true, \"showline\": false, \"showticklabels\": false, \"ticks\": \"\"}, \"xaxis3\": {\"anchor\": \"y3\", \"domain\": [0.0, 0.7363], \"matches\": \"x\", \"showgrid\": true, \"showticklabels\": false}, \"xaxis4\": {\"anchor\": \"y4\", \"domain\": [0.7413, 1.0], \"matches\": \"x2\", \"showgrid\": true, \"showline\": false, \"showticklabels\": false, \"ticks\": \"\"}, \"yaxis\": {\"anchor\": \"x\", \"domain\": [0.0, 0.7326], \"title\": {\"text\": \"Mean CO2 Emissions lbs/MWh\"}}, \"yaxis2\": {\"anchor\": \"x2\", \"domain\": [0.0, 0.7326], \"matches\": \"y\", \"showgrid\": true, \"showticklabels\": false}, \"yaxis3\": {\"anchor\": \"x3\", \"domain\": [0.7426, 1.0], \"matches\": \"y3\", \"showgrid\": true, \"showline\": false, \"showticklabels\": false, \"ticks\": \"\"}, \"yaxis4\": {\"anchor\": \"x4\", \"domain\": [0.7426, 1.0], \"matches\": \"y3\", \"showgrid\": true, \"showline\": false, \"showticklabels\": false, \"ticks\": \"\"}},\n                        {\"responsive\": true}\n                    ).then(function(){\n                            \nvar gd = document.getElementById('b484669e-f48b-44b1-b41f-94e1c6bd8a3d');\nvar x = new MutationObserver(function (mutations, observer) {{\n        var display = window.getComputedStyle(gd).display;\n        if (!display || display === 'none') {{\n            console.log([gd, 'removed!']);\n            Plotly.purge(gd);\n            observer.disconnect();\n        }}\n}});\n\n// Listen for the removal of the full notebook cells\nvar notebookContainer = gd.closest('#notebook-container');\nif (notebookContainer) {{\n    x.observe(notebookContainer, {childList: true});\n}}\n\n// Listen for the clearing of the current output cell\nvar outputEl = gd.closest('.output');\nif (outputEl) {{\n    x.observe(outputEl, {childList: true});\n}}\n\n                        })\n                };\n                });\n            </script>\n        </div>"
     },
     "metadata": {}
    }
   ],
   "source": [
    "switches = {'emission':'co2_lbs', 'country_long':'United States of America'}\n",
    "switches['emission_label'] = f\"Mean {switches['emission'].replace('_lbs','').upper()} Emissions lbs/MWh\"\n",
    "\n",
    "if switches['country_long'] == 'World':\n",
    "    query = f\"\"\"\n",
    "            SELECT\n",
    "                a.plant_id_wri,\n",
    "                a.country_long, \n",
    "                a.primary_fuel,\n",
    "                a.{switches['emission']}_per_mwh,\n",
    "                a.cum_load\n",
    "            FROM {Config.SCHEMA}.plant a\n",
    "            ORDER BY a.cum_{switches['emission']} DESC\n",
    "            LIMIT 500\n",
    "            \"\"\"\n",
    "else:\n",
    "    query = f\"\"\"\n",
    "        SELECT\n",
    "            a.plant_id_wri,\n",
    "            a.country_long, \n",
    "            a.primary_fuel,\n",
    "            a.{switches['emission']}_per_mwh,\n",
    "            a.cum_load\n",
    "        FROM {Config.SCHEMA}.plant a\n",
    "        WHERE a.country_long = '{switches['country_long']}'\n",
    "        ORDER BY a.cum_{switches['emission']} DESC\n",
    "        LIMIT 500\n",
    "        \"\"\"\n",
    "\n",
    "df = pd.read_sql(query, engine)\n",
    "\n",
    "# --- clean up ---\n",
    "df = df.dropna()\n",
    "percentile = df[f\"{switches['emission']}_per_mwh\"].quantile(0.94)\n",
    "df = df.loc[(df[f\"{switches['emission']}_per_mwh\"] > 0) & (df[\"cum_load\"] > 0) & (df[f\"{switches['emission']}_per_mwh\"] < percentile)]\n",
    "\n",
    "df.columns = ['WRI Plant ID', 'Country', 'Primary Fuel', switches['emission_label'], \"Plant Cumulative Load (MWh)\"]\n",
    "\n",
    "fig = px.scatter(df, x=\"Plant Cumulative Load (MWh)\", y=switches['emission_label'],\n",
    "                color='Primary Fuel', size=switches['emission_label'], opacity=0.5,\n",
    "                hover_data=['Country'],\n",
    "                marginal_x='histogram', marginal_y='histogram', color_discrete_map=primary_fuel_cmap)\n",
    "\n",
    "fig.update_layout(xaxis_title='Plant Cumulative Load (MWh)', yaxis_title=switches['emission_label'])\n",
    "fig.update_layout(showlegend=False)"
   ]
  },
  {
   "cell_type": "code",
   "execution_count": 117,
   "metadata": {},
   "outputs": [
    {
     "output_type": "display_data",
     "data": {
      "application/vnd.plotly.v1+json": {
       "config": {
        "plotlyServerURL": "https://plot.ly"
       },
       "data": [
        {
         "domain": {
          "x": [
           0,
           1
          ],
          "y": [
           0,
           1
          ]
         },
         "hovertemplate": "Country=%{label}<br>Mean CO2 Emissions lbs/MWh=%{value}<extra></extra>",
         "labels": [
          "Spain",
          "Saudi Arabia",
          "Uganda",
          "Argentina",
          "Bangladesh",
          "Rwanda",
          "Tanzania",
          "Laos",
          "Eritrea",
          "Botswana",
          "Brazil",
          "Guinea",
          "Lebanon",
          "Nicaragua",
          "Ukraine",
          "Syrian Arab Republic",
          "Libya",
          "Norway",
          "United Arab Emirates",
          "China",
          "Australia",
          "Netherlands",
          "Singapore",
          "Central African Republic",
          "Panama",
          "Turkey",
          "Peru",
          "Israel",
          "Azerbaijan",
          "Sri Lanka",
          "Greece",
          "Bosnia and Herzegovina",
          "North Korea",
          "Luxembourg",
          "Moldova",
          "Hungary",
          "Finland",
          "Malaysia",
          "Tajikistan",
          "Zambia",
          "Bulgaria",
          "Ecuador",
          "Dominican Republic",
          "Madagascar",
          "Ireland",
          "Myanmar",
          "Germany",
          "Algeria",
          "Venezuela",
          "Estonia",
          "Canada",
          "Vietnam",
          "Tunisia",
          "Malawi",
          "Egypt",
          "Qatar",
          "French Guiana",
          "Iraq",
          "Georgia",
          "Djibouti",
          "Philippines",
          "Portugal",
          "New Zealand",
          "Austria",
          "Nigeria",
          "Liberia",
          "Cyprus",
          "Colombia",
          "Cambodia",
          "Mongolia",
          "Italy",
          "Sudan",
          "Gambia",
          "Costa Rica",
          "Belgium",
          "Mauritania",
          "Trinidad and Tobago",
          "Uruguay",
          "Yemen",
          "South Korea",
          "Bahrain",
          "France",
          "Congo",
          "Kazakhstan",
          "Chile",
          "Cuba",
          "Afghanistan",
          "Jordan",
          "Slovakia",
          "Zimbabwe",
          "Guinea-Bissau",
          "Equatorial Guinea",
          "Slovenia",
          "Senegal",
          "Romania",
          "Jamaica",
          "Morocco",
          "Turkmenistan",
          "Togo",
          "South Africa",
          "Croatia",
          "Indonesia",
          "Sweden",
          "Antarctica",
          "Uzbekistan",
          "Oman",
          "Kuwait",
          "Papua New Guinea",
          "Latvia",
          "Burkina Faso",
          "Fiji",
          "Guyana",
          "Macedonia",
          "Mauritius",
          "Ghana",
          "Japan",
          "Angola",
          "Lithuania",
          "India",
          "United States of America",
          "Democratic Republic of the Congo",
          "Namibia",
          "Niger",
          "Poland",
          "Montenegro",
          "Armenia",
          "Western Sahara",
          "Mexico",
          "Kenya",
          "Denmark",
          "Kosovo",
          "Bolivia",
          "El Salvador",
          "Cote DIvoire",
          "United Kingdom",
          "Czech Republic",
          "Guatemala",
          "Cape Verde",
          "Benin",
          "Russia",
          "Brunei Darussalam",
          "Gabon",
          "Serbia",
          "Thailand",
          "Kyrgyzstan",
          "Pakistan",
          "Cameroon",
          "Honduras",
          "Belarus",
          "Taiwan",
          "Iran",
          "Sierra Leone"
         ],
         "legendgroup": "",
         "name": "",
         "showlegend": true,
         "textinfo": "percent+label",
         "textposition": "inside",
         "type": "pie",
         "values": [
          197658398100.45898,
          235694205599.48438,
          1926529239,
          191502001253.53906,
          79533789939.82031,
          6200832984,
          5971281245.25,
          6045718312,
          1505961589.1875,
          6319696194,
          714466997191.4248,
          9706775184,
          17941565421.4375,
          9926387517.90625,
          107797151888,
          19266433413.484375,
          33713962894,
          5035076057.375,
          83362114842.5,
          6338075706682.109,
          490562044547.3613,
          82027820486,
          44348985605.125,
          2325368602,
          8976058825,
          232303254704.875,
          18954816840,
          78627927443.99219,
          18135346804.375,
          14420844652.375,
          65992219254.875,
          21832582116,
          24813410537,
          1670706988,
          9458388473.5,
          23092723282.828125,
          46113004780.75,
          151919125259.625,
          3033965556.375,
          12085527817.5,
          45854213265.5,
          13369360745.40625,
          19813315552,
          20396996556,
          29914765522.25,
          17720290084,
          654068953497.0156,
          65241281886.03125,
          46006568509.41406,
          2471302231.234375,
          231101555304.21875,
          124729620955.95312,
          26466165681.875,
          2274093901.5,
          123109662420.75,
          30220629536.25,
          9743920132,
          55634012027,
          3390046367.625,
          2242833362,
          95893124474.08984,
          31898946158,
          9296141704.4375,
          5516205811.5,
          27854888032,
          2852302394,
          6058096244.5,
          27356306559.5,
          5087507181.3125,
          10363359202,
          198485555323.375,
          8684608744.03125,
          4900765175.375,
          3225385788,
          37630520306.21875,
          8529222273,
          11860864561.25,
          3249852844.875,
          9009444960.75,
          312620716641,
          20475301600.71875,
          38063438109.19531,
          7002392744.5,
          141317712568,
          111797026096.19531,
          22577983885.5,
          1987303194,
          21079296565.8125,
          9406089462.5,
          8578738224,
          2912253972,
          7162114312,
          9246831918.125,
          6316359240.03125,
          48077297428,
          8911999308.25,
          40583376061,
          21930139270,
          4247979746,
          167973313377.10938,
          8600529304.6875,
          311148652990.84375,
          4998819169,
          1825169407,
          40248744136.5,
          26944958852,
          20058282836,
          20468916824,
          2958314765,
          5755971018.390625,
          11970382588,
          13727887788,
          8191075230,
          11271269261.421875,
          3416600982,
          902493718977.875,
          14463469713.96875,
          3075148558.25,
          1452337341502.5781,
          5666982079825.865,
          1001945035.6875,
          7466654099.9375,
          8237915501.75,
          243891385495.20312,
          2572932236,
          4609082801,
          2281016750.5,
          259406436011.90625,
          3512081904.21875,
          24406640694.851562,
          8721293120,
          10418247767.75,
          3687002829,
          6837302480,
          275612453217.53125,
          148138110642,
          20941643968.96875,
          7025849397,
          3921511235.75,
          905461522214.3906,
          5301466699.5,
          2779357823,
          24023009452.5,
          182066027030,
          2619068697.5,
          79002253323.5,
          4769666162.515625,
          10659138740.1875,
          28366571871.96875,
          143734823779,
          226549625135.1875,
          6158326768
         ]
        }
       ],
       "layout": {
        "legend": {
         "tracegroupgap": 0
        },
        "showlegend": false,
        "template": {
         "data": {
          "bar": [
           {
            "error_x": {
             "color": "#2a3f5f"
            },
            "error_y": {
             "color": "#2a3f5f"
            },
            "marker": {
             "line": {
              "color": "#E5ECF6",
              "width": 0.5
             }
            },
            "type": "bar"
           }
          ],
          "barpolar": [
           {
            "marker": {
             "line": {
              "color": "#E5ECF6",
              "width": 0.5
             }
            },
            "type": "barpolar"
           }
          ],
          "carpet": [
           {
            "aaxis": {
             "endlinecolor": "#2a3f5f",
             "gridcolor": "white",
             "linecolor": "white",
             "minorgridcolor": "white",
             "startlinecolor": "#2a3f5f"
            },
            "baxis": {
             "endlinecolor": "#2a3f5f",
             "gridcolor": "white",
             "linecolor": "white",
             "minorgridcolor": "white",
             "startlinecolor": "#2a3f5f"
            },
            "type": "carpet"
           }
          ],
          "choropleth": [
           {
            "colorbar": {
             "outlinewidth": 0,
             "ticks": ""
            },
            "type": "choropleth"
           }
          ],
          "contour": [
           {
            "colorbar": {
             "outlinewidth": 0,
             "ticks": ""
            },
            "colorscale": [
             [
              0,
              "#0d0887"
             ],
             [
              0.1111111111111111,
              "#46039f"
             ],
             [
              0.2222222222222222,
              "#7201a8"
             ],
             [
              0.3333333333333333,
              "#9c179e"
             ],
             [
              0.4444444444444444,
              "#bd3786"
             ],
             [
              0.5555555555555556,
              "#d8576b"
             ],
             [
              0.6666666666666666,
              "#ed7953"
             ],
             [
              0.7777777777777778,
              "#fb9f3a"
             ],
             [
              0.8888888888888888,
              "#fdca26"
             ],
             [
              1,
              "#f0f921"
             ]
            ],
            "type": "contour"
           }
          ],
          "contourcarpet": [
           {
            "colorbar": {
             "outlinewidth": 0,
             "ticks": ""
            },
            "type": "contourcarpet"
           }
          ],
          "heatmap": [
           {
            "colorbar": {
             "outlinewidth": 0,
             "ticks": ""
            },
            "colorscale": [
             [
              0,
              "#0d0887"
             ],
             [
              0.1111111111111111,
              "#46039f"
             ],
             [
              0.2222222222222222,
              "#7201a8"
             ],
             [
              0.3333333333333333,
              "#9c179e"
             ],
             [
              0.4444444444444444,
              "#bd3786"
             ],
             [
              0.5555555555555556,
              "#d8576b"
             ],
             [
              0.6666666666666666,
              "#ed7953"
             ],
             [
              0.7777777777777778,
              "#fb9f3a"
             ],
             [
              0.8888888888888888,
              "#fdca26"
             ],
             [
              1,
              "#f0f921"
             ]
            ],
            "type": "heatmap"
           }
          ],
          "heatmapgl": [
           {
            "colorbar": {
             "outlinewidth": 0,
             "ticks": ""
            },
            "colorscale": [
             [
              0,
              "#0d0887"
             ],
             [
              0.1111111111111111,
              "#46039f"
             ],
             [
              0.2222222222222222,
              "#7201a8"
             ],
             [
              0.3333333333333333,
              "#9c179e"
             ],
             [
              0.4444444444444444,
              "#bd3786"
             ],
             [
              0.5555555555555556,
              "#d8576b"
             ],
             [
              0.6666666666666666,
              "#ed7953"
             ],
             [
              0.7777777777777778,
              "#fb9f3a"
             ],
             [
              0.8888888888888888,
              "#fdca26"
             ],
             [
              1,
              "#f0f921"
             ]
            ],
            "type": "heatmapgl"
           }
          ],
          "histogram": [
           {
            "marker": {
             "colorbar": {
              "outlinewidth": 0,
              "ticks": ""
             }
            },
            "type": "histogram"
           }
          ],
          "histogram2d": [
           {
            "colorbar": {
             "outlinewidth": 0,
             "ticks": ""
            },
            "colorscale": [
             [
              0,
              "#0d0887"
             ],
             [
              0.1111111111111111,
              "#46039f"
             ],
             [
              0.2222222222222222,
              "#7201a8"
             ],
             [
              0.3333333333333333,
              "#9c179e"
             ],
             [
              0.4444444444444444,
              "#bd3786"
             ],
             [
              0.5555555555555556,
              "#d8576b"
             ],
             [
              0.6666666666666666,
              "#ed7953"
             ],
             [
              0.7777777777777778,
              "#fb9f3a"
             ],
             [
              0.8888888888888888,
              "#fdca26"
             ],
             [
              1,
              "#f0f921"
             ]
            ],
            "type": "histogram2d"
           }
          ],
          "histogram2dcontour": [
           {
            "colorbar": {
             "outlinewidth": 0,
             "ticks": ""
            },
            "colorscale": [
             [
              0,
              "#0d0887"
             ],
             [
              0.1111111111111111,
              "#46039f"
             ],
             [
              0.2222222222222222,
              "#7201a8"
             ],
             [
              0.3333333333333333,
              "#9c179e"
             ],
             [
              0.4444444444444444,
              "#bd3786"
             ],
             [
              0.5555555555555556,
              "#d8576b"
             ],
             [
              0.6666666666666666,
              "#ed7953"
             ],
             [
              0.7777777777777778,
              "#fb9f3a"
             ],
             [
              0.8888888888888888,
              "#fdca26"
             ],
             [
              1,
              "#f0f921"
             ]
            ],
            "type": "histogram2dcontour"
           }
          ],
          "mesh3d": [
           {
            "colorbar": {
             "outlinewidth": 0,
             "ticks": ""
            },
            "type": "mesh3d"
           }
          ],
          "parcoords": [
           {
            "line": {
             "colorbar": {
              "outlinewidth": 0,
              "ticks": ""
             }
            },
            "type": "parcoords"
           }
          ],
          "pie": [
           {
            "automargin": true,
            "type": "pie"
           }
          ],
          "scatter": [
           {
            "marker": {
             "colorbar": {
              "outlinewidth": 0,
              "ticks": ""
             }
            },
            "type": "scatter"
           }
          ],
          "scatter3d": [
           {
            "line": {
             "colorbar": {
              "outlinewidth": 0,
              "ticks": ""
             }
            },
            "marker": {
             "colorbar": {
              "outlinewidth": 0,
              "ticks": ""
             }
            },
            "type": "scatter3d"
           }
          ],
          "scattercarpet": [
           {
            "marker": {
             "colorbar": {
              "outlinewidth": 0,
              "ticks": ""
             }
            },
            "type": "scattercarpet"
           }
          ],
          "scattergeo": [
           {
            "marker": {
             "colorbar": {
              "outlinewidth": 0,
              "ticks": ""
             }
            },
            "type": "scattergeo"
           }
          ],
          "scattergl": [
           {
            "marker": {
             "colorbar": {
              "outlinewidth": 0,
              "ticks": ""
             }
            },
            "type": "scattergl"
           }
          ],
          "scattermapbox": [
           {
            "marker": {
             "colorbar": {
              "outlinewidth": 0,
              "ticks": ""
             }
            },
            "type": "scattermapbox"
           }
          ],
          "scatterpolar": [
           {
            "marker": {
             "colorbar": {
              "outlinewidth": 0,
              "ticks": ""
             }
            },
            "type": "scatterpolar"
           }
          ],
          "scatterpolargl": [
           {
            "marker": {
             "colorbar": {
              "outlinewidth": 0,
              "ticks": ""
             }
            },
            "type": "scatterpolargl"
           }
          ],
          "scatterternary": [
           {
            "marker": {
             "colorbar": {
              "outlinewidth": 0,
              "ticks": ""
             }
            },
            "type": "scatterternary"
           }
          ],
          "surface": [
           {
            "colorbar": {
             "outlinewidth": 0,
             "ticks": ""
            },
            "colorscale": [
             [
              0,
              "#0d0887"
             ],
             [
              0.1111111111111111,
              "#46039f"
             ],
             [
              0.2222222222222222,
              "#7201a8"
             ],
             [
              0.3333333333333333,
              "#9c179e"
             ],
             [
              0.4444444444444444,
              "#bd3786"
             ],
             [
              0.5555555555555556,
              "#d8576b"
             ],
             [
              0.6666666666666666,
              "#ed7953"
             ],
             [
              0.7777777777777778,
              "#fb9f3a"
             ],
             [
              0.8888888888888888,
              "#fdca26"
             ],
             [
              1,
              "#f0f921"
             ]
            ],
            "type": "surface"
           }
          ],
          "table": [
           {
            "cells": {
             "fill": {
              "color": "#EBF0F8"
             },
             "line": {
              "color": "white"
             }
            },
            "header": {
             "fill": {
              "color": "#C8D4E3"
             },
             "line": {
              "color": "white"
             }
            },
            "type": "table"
           }
          ]
         },
         "layout": {
          "annotationdefaults": {
           "arrowcolor": "#2a3f5f",
           "arrowhead": 0,
           "arrowwidth": 1
          },
          "coloraxis": {
           "colorbar": {
            "outlinewidth": 0,
            "ticks": ""
           }
          },
          "colorscale": {
           "diverging": [
            [
             0,
             "#8e0152"
            ],
            [
             0.1,
             "#c51b7d"
            ],
            [
             0.2,
             "#de77ae"
            ],
            [
             0.3,
             "#f1b6da"
            ],
            [
             0.4,
             "#fde0ef"
            ],
            [
             0.5,
             "#f7f7f7"
            ],
            [
             0.6,
             "#e6f5d0"
            ],
            [
             0.7,
             "#b8e186"
            ],
            [
             0.8,
             "#7fbc41"
            ],
            [
             0.9,
             "#4d9221"
            ],
            [
             1,
             "#276419"
            ]
           ],
           "sequential": [
            [
             0,
             "#0d0887"
            ],
            [
             0.1111111111111111,
             "#46039f"
            ],
            [
             0.2222222222222222,
             "#7201a8"
            ],
            [
             0.3333333333333333,
             "#9c179e"
            ],
            [
             0.4444444444444444,
             "#bd3786"
            ],
            [
             0.5555555555555556,
             "#d8576b"
            ],
            [
             0.6666666666666666,
             "#ed7953"
            ],
            [
             0.7777777777777778,
             "#fb9f3a"
            ],
            [
             0.8888888888888888,
             "#fdca26"
            ],
            [
             1,
             "#f0f921"
            ]
           ],
           "sequentialminus": [
            [
             0,
             "#0d0887"
            ],
            [
             0.1111111111111111,
             "#46039f"
            ],
            [
             0.2222222222222222,
             "#7201a8"
            ],
            [
             0.3333333333333333,
             "#9c179e"
            ],
            [
             0.4444444444444444,
             "#bd3786"
            ],
            [
             0.5555555555555556,
             "#d8576b"
            ],
            [
             0.6666666666666666,
             "#ed7953"
            ],
            [
             0.7777777777777778,
             "#fb9f3a"
            ],
            [
             0.8888888888888888,
             "#fdca26"
            ],
            [
             1,
             "#f0f921"
            ]
           ]
          },
          "colorway": [
           "#636efa",
           "#EF553B",
           "#00cc96",
           "#ab63fa",
           "#FFA15A",
           "#19d3f3",
           "#FF6692",
           "#B6E880",
           "#FF97FF",
           "#FECB52"
          ],
          "font": {
           "color": "#2a3f5f"
          },
          "geo": {
           "bgcolor": "white",
           "lakecolor": "white",
           "landcolor": "#E5ECF6",
           "showlakes": true,
           "showland": true,
           "subunitcolor": "white"
          },
          "hoverlabel": {
           "align": "left"
          },
          "hovermode": "closest",
          "mapbox": {
           "style": "light"
          },
          "paper_bgcolor": "white",
          "plot_bgcolor": "#E5ECF6",
          "polar": {
           "angularaxis": {
            "gridcolor": "white",
            "linecolor": "white",
            "ticks": ""
           },
           "bgcolor": "#E5ECF6",
           "radialaxis": {
            "gridcolor": "white",
            "linecolor": "white",
            "ticks": ""
           }
          },
          "scene": {
           "xaxis": {
            "backgroundcolor": "#E5ECF6",
            "gridcolor": "white",
            "gridwidth": 2,
            "linecolor": "white",
            "showbackground": true,
            "ticks": "",
            "zerolinecolor": "white"
           },
           "yaxis": {
            "backgroundcolor": "#E5ECF6",
            "gridcolor": "white",
            "gridwidth": 2,
            "linecolor": "white",
            "showbackground": true,
            "ticks": "",
            "zerolinecolor": "white"
           },
           "zaxis": {
            "backgroundcolor": "#E5ECF6",
            "gridcolor": "white",
            "gridwidth": 2,
            "linecolor": "white",
            "showbackground": true,
            "ticks": "",
            "zerolinecolor": "white"
           }
          },
          "shapedefaults": {
           "line": {
            "color": "#2a3f5f"
           }
          },
          "ternary": {
           "aaxis": {
            "gridcolor": "white",
            "linecolor": "white",
            "ticks": ""
           },
           "baxis": {
            "gridcolor": "white",
            "linecolor": "white",
            "ticks": ""
           },
           "bgcolor": "#E5ECF6",
           "caxis": {
            "gridcolor": "white",
            "linecolor": "white",
            "ticks": ""
           }
          },
          "title": {
           "x": 0.05
          },
          "xaxis": {
           "automargin": true,
           "gridcolor": "white",
           "linecolor": "white",
           "ticks": "",
           "title": {
            "standoff": 15
           },
           "zerolinecolor": "white",
           "zerolinewidth": 2
          },
          "yaxis": {
           "automargin": true,
           "gridcolor": "white",
           "linecolor": "white",
           "ticks": "",
           "title": {
            "standoff": 15
           },
           "zerolinecolor": "white",
           "zerolinewidth": 2
          }
         }
        },
        "title": {
         "text": "Power Sector Mean CO2 Emissions lbs/MWh Emissions by Country"
        }
       }
      },
      "text/html": "<div>\n        \n        \n            <div id=\"6d3a4038-5fd2-49f6-8791-ded57425cab6\" class=\"plotly-graph-div\" style=\"height:525px; width:100%;\"></div>\n            <script type=\"text/javascript\">\n                require([\"plotly\"], function(Plotly) {\n                    window.PLOTLYENV=window.PLOTLYENV || {};\n                    \n                if (document.getElementById(\"6d3a4038-5fd2-49f6-8791-ded57425cab6\")) {\n                    Plotly.newPlot(\n                        '6d3a4038-5fd2-49f6-8791-ded57425cab6',\n                        [{\"domain\": {\"x\": [0.0, 1.0], \"y\": [0.0, 1.0]}, \"hovertemplate\": \"Country=%{label}<br>Mean CO2 Emissions lbs/MWh=%{value}<extra></extra>\", \"labels\": [\"Spain\", \"Saudi Arabia\", \"Uganda\", \"Argentina\", \"Bangladesh\", \"Rwanda\", \"Tanzania\", \"Laos\", \"Eritrea\", \"Botswana\", \"Brazil\", \"Guinea\", \"Lebanon\", \"Nicaragua\", \"Ukraine\", \"Syrian Arab Republic\", \"Libya\", \"Norway\", \"United Arab Emirates\", \"China\", \"Australia\", \"Netherlands\", \"Singapore\", \"Central African Republic\", \"Panama\", \"Turkey\", \"Peru\", \"Israel\", \"Azerbaijan\", \"Sri Lanka\", \"Greece\", \"Bosnia and Herzegovina\", \"North Korea\", \"Luxembourg\", \"Moldova\", \"Hungary\", \"Finland\", \"Malaysia\", \"Tajikistan\", \"Zambia\", \"Bulgaria\", \"Ecuador\", \"Dominican Republic\", \"Madagascar\", \"Ireland\", \"Myanmar\", \"Germany\", \"Algeria\", \"Venezuela\", \"Estonia\", \"Canada\", \"Vietnam\", \"Tunisia\", \"Malawi\", \"Egypt\", \"Qatar\", \"French Guiana\", \"Iraq\", \"Georgia\", \"Djibouti\", \"Philippines\", \"Portugal\", \"New Zealand\", \"Austria\", \"Nigeria\", \"Liberia\", \"Cyprus\", \"Colombia\", \"Cambodia\", \"Mongolia\", \"Italy\", \"Sudan\", \"Gambia\", \"Costa Rica\", \"Belgium\", \"Mauritania\", \"Trinidad and Tobago\", \"Uruguay\", \"Yemen\", \"South Korea\", \"Bahrain\", \"France\", \"Congo\", \"Kazakhstan\", \"Chile\", \"Cuba\", \"Afghanistan\", \"Jordan\", \"Slovakia\", \"Zimbabwe\", \"Guinea-Bissau\", \"Equatorial Guinea\", \"Slovenia\", \"Senegal\", \"Romania\", \"Jamaica\", \"Morocco\", \"Turkmenistan\", \"Togo\", \"South Africa\", \"Croatia\", \"Indonesia\", \"Sweden\", \"Antarctica\", \"Uzbekistan\", \"Oman\", \"Kuwait\", \"Papua New Guinea\", \"Latvia\", \"Burkina Faso\", \"Fiji\", \"Guyana\", \"Macedonia\", \"Mauritius\", \"Ghana\", \"Japan\", \"Angola\", \"Lithuania\", \"India\", \"United States of America\", \"Democratic Republic of the Congo\", \"Namibia\", \"Niger\", \"Poland\", \"Montenegro\", \"Armenia\", \"Western Sahara\", \"Mexico\", \"Kenya\", \"Denmark\", \"Kosovo\", \"Bolivia\", \"El Salvador\", \"Cote DIvoire\", \"United Kingdom\", \"Czech Republic\", \"Guatemala\", \"Cape Verde\", \"Benin\", \"Russia\", \"Brunei Darussalam\", \"Gabon\", \"Serbia\", \"Thailand\", \"Kyrgyzstan\", \"Pakistan\", \"Cameroon\", \"Honduras\", \"Belarus\", \"Taiwan\", \"Iran\", \"Sierra Leone\"], \"legendgroup\": \"\", \"name\": \"\", \"showlegend\": true, \"textinfo\": \"percent+label\", \"textposition\": \"inside\", \"type\": \"pie\", \"values\": [197658398100.45898, 235694205599.48438, 1926529239.0, 191502001253.53906, 79533789939.82031, 6200832984.0, 5971281245.25, 6045718312.0, 1505961589.1875, 6319696194.0, 714466997191.4248, 9706775184.0, 17941565421.4375, 9926387517.90625, 107797151888.0, 19266433413.484375, 33713962894.0, 5035076057.375, 83362114842.5, 6338075706682.109, 490562044547.3613, 82027820486.0, 44348985605.125, 2325368602.0, 8976058825.0, 232303254704.875, 18954816840.0, 78627927443.99219, 18135346804.375, 14420844652.375, 65992219254.875, 21832582116.0, 24813410537.0, 1670706988.0, 9458388473.5, 23092723282.828125, 46113004780.75, 151919125259.625, 3033965556.375, 12085527817.5, 45854213265.5, 13369360745.40625, 19813315552.0, 20396996556.0, 29914765522.25, 17720290084.0, 654068953497.0156, 65241281886.03125, 46006568509.41406, 2471302231.234375, 231101555304.21875, 124729620955.95312, 26466165681.875, 2274093901.5, 123109662420.75, 30220629536.25, 9743920132.0, 55634012027.0, 3390046367.625, 2242833362.0, 95893124474.08984, 31898946158.0, 9296141704.4375, 5516205811.5, 27854888032.0, 2852302394.0, 6058096244.5, 27356306559.5, 5087507181.3125, 10363359202.0, 198485555323.375, 8684608744.03125, 4900765175.375, 3225385788.0, 37630520306.21875, 8529222273.0, 11860864561.25, 3249852844.875, 9009444960.75, 312620716641.0, 20475301600.71875, 38063438109.19531, 7002392744.5, 141317712568.0, 111797026096.19531, 22577983885.5, 1987303194.0, 21079296565.8125, 9406089462.5, 8578738224.0, 2912253972.0, 7162114312.0, 9246831918.125, 6316359240.03125, 48077297428.0, 8911999308.25, 40583376061.0, 21930139270.0, 4247979746.0, 167973313377.10938, 8600529304.6875, 311148652990.84375, 4998819169.0, 1825169407.0, 40248744136.5, 26944958852.0, 20058282836.0, 20468916824.0, 2958314765.0, 5755971018.390625, 11970382588.0, 13727887788.0, 8191075230.0, 11271269261.421875, 3416600982.0, 902493718977.875, 14463469713.96875, 3075148558.25, 1452337341502.5781, 5666982079825.865, 1001945035.6875, 7466654099.9375, 8237915501.75, 243891385495.20312, 2572932236.0, 4609082801.0, 2281016750.5, 259406436011.90625, 3512081904.21875, 24406640694.851562, 8721293120.0, 10418247767.75, 3687002829.0, 6837302480.0, 275612453217.53125, 148138110642.0, 20941643968.96875, 7025849397.0, 3921511235.75, 905461522214.3906, 5301466699.5, 2779357823.0, 24023009452.5, 182066027030.0, 2619068697.5, 79002253323.5, 4769666162.515625, 10659138740.1875, 28366571871.96875, 143734823779.0, 226549625135.1875, 6158326768.0]}],\n                        {\"legend\": {\"tracegroupgap\": 0}, \"showlegend\": false, \"template\": {\"data\": {\"bar\": [{\"error_x\": {\"color\": \"#2a3f5f\"}, \"error_y\": {\"color\": \"#2a3f5f\"}, \"marker\": {\"line\": {\"color\": \"#E5ECF6\", \"width\": 0.5}}, \"type\": \"bar\"}], \"barpolar\": [{\"marker\": {\"line\": {\"color\": \"#E5ECF6\", \"width\": 0.5}}, \"type\": \"barpolar\"}], \"carpet\": [{\"aaxis\": {\"endlinecolor\": \"#2a3f5f\", \"gridcolor\": \"white\", \"linecolor\": \"white\", \"minorgridcolor\": \"white\", \"startlinecolor\": \"#2a3f5f\"}, \"baxis\": {\"endlinecolor\": \"#2a3f5f\", \"gridcolor\": \"white\", \"linecolor\": \"white\", \"minorgridcolor\": \"white\", \"startlinecolor\": \"#2a3f5f\"}, \"type\": \"carpet\"}], \"choropleth\": [{\"colorbar\": {\"outlinewidth\": 0, \"ticks\": \"\"}, \"type\": \"choropleth\"}], \"contour\": [{\"colorbar\": {\"outlinewidth\": 0, \"ticks\": \"\"}, \"colorscale\": [[0.0, \"#0d0887\"], [0.1111111111111111, \"#46039f\"], [0.2222222222222222, \"#7201a8\"], [0.3333333333333333, \"#9c179e\"], [0.4444444444444444, \"#bd3786\"], [0.5555555555555556, \"#d8576b\"], [0.6666666666666666, \"#ed7953\"], [0.7777777777777778, \"#fb9f3a\"], [0.8888888888888888, \"#fdca26\"], [1.0, \"#f0f921\"]], \"type\": \"contour\"}], \"contourcarpet\": [{\"colorbar\": {\"outlinewidth\": 0, \"ticks\": \"\"}, \"type\": \"contourcarpet\"}], \"heatmap\": [{\"colorbar\": {\"outlinewidth\": 0, \"ticks\": \"\"}, \"colorscale\": [[0.0, \"#0d0887\"], [0.1111111111111111, \"#46039f\"], [0.2222222222222222, \"#7201a8\"], [0.3333333333333333, \"#9c179e\"], [0.4444444444444444, \"#bd3786\"], [0.5555555555555556, \"#d8576b\"], [0.6666666666666666, \"#ed7953\"], [0.7777777777777778, \"#fb9f3a\"], [0.8888888888888888, \"#fdca26\"], [1.0, \"#f0f921\"]], \"type\": \"heatmap\"}], \"heatmapgl\": [{\"colorbar\": {\"outlinewidth\": 0, \"ticks\": \"\"}, \"colorscale\": [[0.0, \"#0d0887\"], [0.1111111111111111, \"#46039f\"], [0.2222222222222222, \"#7201a8\"], [0.3333333333333333, \"#9c179e\"], [0.4444444444444444, \"#bd3786\"], [0.5555555555555556, \"#d8576b\"], [0.6666666666666666, \"#ed7953\"], [0.7777777777777778, \"#fb9f3a\"], [0.8888888888888888, \"#fdca26\"], [1.0, \"#f0f921\"]], \"type\": \"heatmapgl\"}], \"histogram\": [{\"marker\": {\"colorbar\": {\"outlinewidth\": 0, \"ticks\": \"\"}}, \"type\": \"histogram\"}], \"histogram2d\": [{\"colorbar\": {\"outlinewidth\": 0, \"ticks\": \"\"}, \"colorscale\": [[0.0, \"#0d0887\"], [0.1111111111111111, \"#46039f\"], [0.2222222222222222, \"#7201a8\"], [0.3333333333333333, \"#9c179e\"], [0.4444444444444444, \"#bd3786\"], [0.5555555555555556, \"#d8576b\"], [0.6666666666666666, \"#ed7953\"], [0.7777777777777778, \"#fb9f3a\"], [0.8888888888888888, \"#fdca26\"], [1.0, \"#f0f921\"]], \"type\": \"histogram2d\"}], \"histogram2dcontour\": [{\"colorbar\": {\"outlinewidth\": 0, \"ticks\": \"\"}, \"colorscale\": [[0.0, \"#0d0887\"], [0.1111111111111111, \"#46039f\"], [0.2222222222222222, \"#7201a8\"], [0.3333333333333333, \"#9c179e\"], [0.4444444444444444, \"#bd3786\"], [0.5555555555555556, \"#d8576b\"], [0.6666666666666666, \"#ed7953\"], [0.7777777777777778, \"#fb9f3a\"], [0.8888888888888888, \"#fdca26\"], [1.0, \"#f0f921\"]], \"type\": \"histogram2dcontour\"}], \"mesh3d\": [{\"colorbar\": {\"outlinewidth\": 0, \"ticks\": \"\"}, \"type\": \"mesh3d\"}], \"parcoords\": [{\"line\": {\"colorbar\": {\"outlinewidth\": 0, \"ticks\": \"\"}}, \"type\": \"parcoords\"}], \"pie\": [{\"automargin\": true, \"type\": \"pie\"}], \"scatter\": [{\"marker\": {\"colorbar\": {\"outlinewidth\": 0, \"ticks\": \"\"}}, \"type\": \"scatter\"}], \"scatter3d\": [{\"line\": {\"colorbar\": {\"outlinewidth\": 0, \"ticks\": \"\"}}, \"marker\": {\"colorbar\": {\"outlinewidth\": 0, \"ticks\": \"\"}}, \"type\": \"scatter3d\"}], \"scattercarpet\": [{\"marker\": {\"colorbar\": {\"outlinewidth\": 0, \"ticks\": \"\"}}, \"type\": \"scattercarpet\"}], \"scattergeo\": [{\"marker\": {\"colorbar\": {\"outlinewidth\": 0, \"ticks\": \"\"}}, \"type\": \"scattergeo\"}], \"scattergl\": [{\"marker\": {\"colorbar\": {\"outlinewidth\": 0, \"ticks\": \"\"}}, \"type\": \"scattergl\"}], \"scattermapbox\": [{\"marker\": {\"colorbar\": {\"outlinewidth\": 0, \"ticks\": \"\"}}, \"type\": \"scattermapbox\"}], \"scatterpolar\": [{\"marker\": {\"colorbar\": {\"outlinewidth\": 0, \"ticks\": \"\"}}, \"type\": \"scatterpolar\"}], \"scatterpolargl\": [{\"marker\": {\"colorbar\": {\"outlinewidth\": 0, \"ticks\": \"\"}}, \"type\": \"scatterpolargl\"}], \"scatterternary\": [{\"marker\": {\"colorbar\": {\"outlinewidth\": 0, \"ticks\": \"\"}}, \"type\": \"scatterternary\"}], \"surface\": [{\"colorbar\": {\"outlinewidth\": 0, \"ticks\": \"\"}, \"colorscale\": [[0.0, \"#0d0887\"], [0.1111111111111111, \"#46039f\"], [0.2222222222222222, \"#7201a8\"], [0.3333333333333333, \"#9c179e\"], [0.4444444444444444, \"#bd3786\"], [0.5555555555555556, \"#d8576b\"], [0.6666666666666666, \"#ed7953\"], [0.7777777777777778, \"#fb9f3a\"], [0.8888888888888888, \"#fdca26\"], [1.0, \"#f0f921\"]], \"type\": \"surface\"}], \"table\": [{\"cells\": {\"fill\": {\"color\": \"#EBF0F8\"}, \"line\": {\"color\": \"white\"}}, \"header\": {\"fill\": {\"color\": \"#C8D4E3\"}, \"line\": {\"color\": \"white\"}}, \"type\": \"table\"}]}, \"layout\": {\"annotationdefaults\": {\"arrowcolor\": \"#2a3f5f\", \"arrowhead\": 0, \"arrowwidth\": 1}, \"coloraxis\": {\"colorbar\": {\"outlinewidth\": 0, \"ticks\": \"\"}}, \"colorscale\": {\"diverging\": [[0, \"#8e0152\"], [0.1, \"#c51b7d\"], [0.2, \"#de77ae\"], [0.3, \"#f1b6da\"], [0.4, \"#fde0ef\"], [0.5, \"#f7f7f7\"], [0.6, \"#e6f5d0\"], [0.7, \"#b8e186\"], [0.8, \"#7fbc41\"], [0.9, \"#4d9221\"], [1, \"#276419\"]], \"sequential\": [[0.0, \"#0d0887\"], [0.1111111111111111, \"#46039f\"], [0.2222222222222222, \"#7201a8\"], [0.3333333333333333, \"#9c179e\"], [0.4444444444444444, \"#bd3786\"], [0.5555555555555556, \"#d8576b\"], [0.6666666666666666, \"#ed7953\"], [0.7777777777777778, \"#fb9f3a\"], [0.8888888888888888, \"#fdca26\"], [1.0, \"#f0f921\"]], \"sequentialminus\": [[0.0, \"#0d0887\"], [0.1111111111111111, \"#46039f\"], [0.2222222222222222, \"#7201a8\"], [0.3333333333333333, \"#9c179e\"], [0.4444444444444444, \"#bd3786\"], [0.5555555555555556, \"#d8576b\"], [0.6666666666666666, \"#ed7953\"], [0.7777777777777778, \"#fb9f3a\"], [0.8888888888888888, \"#fdca26\"], [1.0, \"#f0f921\"]]}, \"colorway\": [\"#636efa\", \"#EF553B\", \"#00cc96\", \"#ab63fa\", \"#FFA15A\", \"#19d3f3\", \"#FF6692\", \"#B6E880\", \"#FF97FF\", \"#FECB52\"], \"font\": {\"color\": \"#2a3f5f\"}, \"geo\": {\"bgcolor\": \"white\", \"lakecolor\": \"white\", \"landcolor\": \"#E5ECF6\", \"showlakes\": true, \"showland\": true, \"subunitcolor\": \"white\"}, \"hoverlabel\": {\"align\": \"left\"}, \"hovermode\": \"closest\", \"mapbox\": {\"style\": \"light\"}, \"paper_bgcolor\": \"white\", \"plot_bgcolor\": \"#E5ECF6\", \"polar\": {\"angularaxis\": {\"gridcolor\": \"white\", \"linecolor\": \"white\", \"ticks\": \"\"}, \"bgcolor\": \"#E5ECF6\", \"radialaxis\": {\"gridcolor\": \"white\", \"linecolor\": \"white\", \"ticks\": \"\"}}, \"scene\": {\"xaxis\": {\"backgroundcolor\": \"#E5ECF6\", \"gridcolor\": \"white\", \"gridwidth\": 2, \"linecolor\": \"white\", \"showbackground\": true, \"ticks\": \"\", \"zerolinecolor\": \"white\"}, \"yaxis\": {\"backgroundcolor\": \"#E5ECF6\", \"gridcolor\": \"white\", \"gridwidth\": 2, \"linecolor\": \"white\", \"showbackground\": true, \"ticks\": \"\", \"zerolinecolor\": \"white\"}, \"zaxis\": {\"backgroundcolor\": \"#E5ECF6\", \"gridcolor\": \"white\", \"gridwidth\": 2, \"linecolor\": \"white\", \"showbackground\": true, \"ticks\": \"\", \"zerolinecolor\": \"white\"}}, \"shapedefaults\": {\"line\": {\"color\": \"#2a3f5f\"}}, \"ternary\": {\"aaxis\": {\"gridcolor\": \"white\", \"linecolor\": \"white\", \"ticks\": \"\"}, \"baxis\": {\"gridcolor\": \"white\", \"linecolor\": \"white\", \"ticks\": \"\"}, \"bgcolor\": \"#E5ECF6\", \"caxis\": {\"gridcolor\": \"white\", \"linecolor\": \"white\", \"ticks\": \"\"}}, \"title\": {\"x\": 0.05}, \"xaxis\": {\"automargin\": true, \"gridcolor\": \"white\", \"linecolor\": \"white\", \"ticks\": \"\", \"title\": {\"standoff\": 15}, \"zerolinecolor\": \"white\", \"zerolinewidth\": 2}, \"yaxis\": {\"automargin\": true, \"gridcolor\": \"white\", \"linecolor\": \"white\", \"ticks\": \"\", \"title\": {\"standoff\": 15}, \"zerolinecolor\": \"white\", \"zerolinewidth\": 2}}}, \"title\": {\"text\": \"Power Sector Mean CO2 Emissions lbs/MWh Emissions by Country\"}},\n                        {\"responsive\": true}\n                    ).then(function(){\n                            \nvar gd = document.getElementById('6d3a4038-5fd2-49f6-8791-ded57425cab6');\nvar x = new MutationObserver(function (mutations, observer) {{\n        var display = window.getComputedStyle(gd).display;\n        if (!display || display === 'none') {{\n            console.log([gd, 'removed!']);\n            Plotly.purge(gd);\n            observer.disconnect();\n        }}\n}});\n\n// Listen for the removal of the full notebook cells\nvar notebookContainer = gd.closest('#notebook-container');\nif (notebookContainer) {{\n    x.observe(notebookContainer, {childList: true});\n}}\n\n// Listen for the clearing of the current output cell\nvar outputEl = gd.closest('.output');\nif (outputEl) {{\n    x.observe(outputEl, {childList: true});\n}}\n\n                        })\n                };\n                });\n            </script>\n        </div>"
     },
     "metadata": {}
    }
   ],
   "source": [
    "query = f\"\"\"\n",
    "    SELECT\n",
    "        a.country_long,\n",
    "        a.cum_{switches['emission']}\n",
    "    FROM {Config.SCHEMA}.country a\n",
    "\"\"\"\n",
    "\n",
    "df = pd.read_sql(query, engine)\n",
    "\n",
    "df.columns = ['Country', f\"{switches['emission_label']}\"]\n",
    "\n",
    "fig = px.pie(df, values=f\"{switches['emission_label']}\", names='Country',\n",
    "            title=f\"Power Sector {switches['emission_label']} by Country\")\n",
    "fig.update_traces(textposition='inside', textinfo='percent+label')\n",
    "fig.update_layout(showlegend=False)"
   ]
  },
  {
   "cell_type": "code",
   "execution_count": 105,
   "metadata": {},
   "outputs": [
    {
     "output_type": "execute_result",
     "data": {
      "text/plain": "67355.52872480165"
     },
     "metadata": {},
     "execution_count": 105
    }
   ],
   "source": [
    "df['Mean CO2 Emissions lbs/MWh'].quantile(0.95)"
   ]
  },
  {
   "cell_type": "code",
   "execution_count": null,
   "metadata": {},
   "outputs": [],
   "source": []
  }
 ]
}