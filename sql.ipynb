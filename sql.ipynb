{
 "metadata": {
  "language_info": {
   "codemirror_mode": {
    "name": "ipython",
    "version": 3
   },
   "file_extension": ".py",
   "mimetype": "text/x-python",
   "name": "python",
   "nbconvert_exporter": "python",
   "pygments_lexer": "ipython3",
   "version": "3.8.2-final"
  },
  "orig_nbformat": 2,
  "kernelspec": {
   "name": "python3",
   "display_name": "Python 3"
  }
 },
 "nbformat": 4,
 "nbformat_minor": 2,
 "cells": [
  {
   "cell_type": "code",
   "execution_count": 15,
   "metadata": {},
   "outputs": [],
   "source": [
    "import sqlalchemy as sa\n",
    "from sqlalchemy.ext.declarative import declarative_base\n",
    "from sqlalchemy.orm import sessionmaker, relationship, column_property\n",
    "from sqlalchemy.ext.hybrid import hybrid_method, hybrid_property\n",
    "from sqlalchemy.pool import NullPool\n",
    "import pandas as pd\n",
    "from datetime import datetime as dt"
   ]
  },
  {
   "cell_type": "code",
   "execution_count": 16,
   "metadata": {},
   "outputs": [],
   "source": [
    "dashboard_engine = sa.create_engine('sqlite:///dirt_db.sqlite')"
   ]
  },
  {
   "cell_type": "code",
   "execution_count": 32,
   "metadata": {},
   "outputs": [
    {
     "output_type": "execute_result",
     "data": {
      "text/plain": "             datetime_utc country       nox_lbs primary_fuel  capacity_mw\n0     2019-01-06 00:00:00     AFG   6005.484863          Gas         42.0\n1     2019-01-13 00:00:00     AFG   6751.494629          Gas         42.0\n2     2019-01-20 00:00:00     AFG  10001.279297          Gas         42.0\n3     2019-01-27 00:00:00     AFG   9997.672852          Gas         42.0\n4     2019-02-03 00:00:00     AFG   9698.714844          Gas         42.0\n...                   ...     ...           ...          ...          ...\n7899  2019-12-01 00:00:00     ZWE  77159.843750         Coal        920.0\n7900  2019-12-08 00:00:00     ZWE  79823.773438         Coal        920.0\n7901  2019-12-15 00:00:00     ZWE  85734.585938         Coal        920.0\n7902  2019-12-22 00:00:00     ZWE  59458.570312         Coal        920.0\n7903  2019-12-29 00:00:00     ZWE  70906.992188         Coal        920.0\n\n[7904 rows x 5 columns]",
      "text/html": "<div>\n<style scoped>\n    .dataframe tbody tr th:only-of-type {\n        vertical-align: middle;\n    }\n\n    .dataframe tbody tr th {\n        vertical-align: top;\n    }\n\n    .dataframe thead th {\n        text-align: right;\n    }\n</style>\n<table border=\"1\" class=\"dataframe\">\n  <thead>\n    <tr style=\"text-align: right;\">\n      <th></th>\n      <th>datetime_utc</th>\n      <th>country</th>\n      <th>nox_lbs</th>\n      <th>primary_fuel</th>\n      <th>capacity_mw</th>\n    </tr>\n  </thead>\n  <tbody>\n    <tr>\n      <th>0</th>\n      <td>2019-01-06 00:00:00</td>\n      <td>AFG</td>\n      <td>6005.484863</td>\n      <td>Gas</td>\n      <td>42.0</td>\n    </tr>\n    <tr>\n      <th>1</th>\n      <td>2019-01-13 00:00:00</td>\n      <td>AFG</td>\n      <td>6751.494629</td>\n      <td>Gas</td>\n      <td>42.0</td>\n    </tr>\n    <tr>\n      <th>2</th>\n      <td>2019-01-20 00:00:00</td>\n      <td>AFG</td>\n      <td>10001.279297</td>\n      <td>Gas</td>\n      <td>42.0</td>\n    </tr>\n    <tr>\n      <th>3</th>\n      <td>2019-01-27 00:00:00</td>\n      <td>AFG</td>\n      <td>9997.672852</td>\n      <td>Gas</td>\n      <td>42.0</td>\n    </tr>\n    <tr>\n      <th>4</th>\n      <td>2019-02-03 00:00:00</td>\n      <td>AFG</td>\n      <td>9698.714844</td>\n      <td>Gas</td>\n      <td>42.0</td>\n    </tr>\n    <tr>\n      <th>...</th>\n      <td>...</td>\n      <td>...</td>\n      <td>...</td>\n      <td>...</td>\n      <td>...</td>\n    </tr>\n    <tr>\n      <th>7899</th>\n      <td>2019-12-01 00:00:00</td>\n      <td>ZWE</td>\n      <td>77159.843750</td>\n      <td>Coal</td>\n      <td>920.0</td>\n    </tr>\n    <tr>\n      <th>7900</th>\n      <td>2019-12-08 00:00:00</td>\n      <td>ZWE</td>\n      <td>79823.773438</td>\n      <td>Coal</td>\n      <td>920.0</td>\n    </tr>\n    <tr>\n      <th>7901</th>\n      <td>2019-12-15 00:00:00</td>\n      <td>ZWE</td>\n      <td>85734.585938</td>\n      <td>Coal</td>\n      <td>920.0</td>\n    </tr>\n    <tr>\n      <th>7902</th>\n      <td>2019-12-22 00:00:00</td>\n      <td>ZWE</td>\n      <td>59458.570312</td>\n      <td>Coal</td>\n      <td>920.0</td>\n    </tr>\n    <tr>\n      <th>7903</th>\n      <td>2019-12-29 00:00:00</td>\n      <td>ZWE</td>\n      <td>70906.992188</td>\n      <td>Coal</td>\n      <td>920.0</td>\n    </tr>\n  </tbody>\n</table>\n<p>7904 rows × 5 columns</p>\n</div>"
     },
     "metadata": {},
     "execution_count": 32
    }
   ],
   "source": [
    "switches = {'variable': 'nox_lbs', 'fuels': ['Coal', 'Gas', 'Oil', 'Petcoke'], 'startdate': '2019-01-01T00:00:00', 'enddate': '2019-12-31T00:00:00', 'aggfunc': 'SUM', 'colorvar': 'primary_fuel', 'groupvar': 'country', 'variable_label': 'NOx lbs', 'colorvar_label': 'Primary Fuel'}\n",
    "\n",
    "switches['startdate'] = dt.strptime(switches['startdate'], '%Y-%m-%dT%H:%M:%S').strftime(\"%Y-%m-%d\")\n",
    "switches['enddate'] = dt.strptime(switches['enddate'], '%Y-%m-%dT%H:%M:%S').strftime(\"%Y-%m-%d\")\n",
    "\n",
    "query = f\"\"\"\n",
    "        SELECT\n",
    "            a.datetime_utc,\n",
    "            b.{switches['groupvar']},\n",
    "            {switches['aggfunc']}(a.pred_{switches['variable']}) as {switches['variable']},\n",
    "            b.{switches['colorvar']} as {switches['colorvar']},\n",
    "            SUM(b.capacity_mw) as capacity_mw\n",
    "        FROM predictions a\n",
    "        LEFT JOIN plant b\n",
    "            ON a.plant_id_wri = b.plant_id_wri\n",
    "        WHERE datetime_utc BETWEEN '{str(switches['startdate'])}' AND '{str(switches['enddate'])}'\n",
    "        GROUP BY b.{switches['groupvar']}, a.datetime_utc\n",
    "        ORDER BY b.{switches['groupvar']}\n",
    "        \"\"\"\n",
    "        # WHERE timestamp >= '{str(switches['startdate'])}'::date AND timestamp <= '{str(switches['enddate'])}'::date\n",
    "        # {switches['aggfunc']}(cf),    \n",
    "\n",
    "df = pd.read_sql(query, dashboard_engine)\n",
    "df"
   ]
  },
  {
   "cell_type": "code",
   "execution_count": 18,
   "metadata": {},
   "outputs": [
    {
     "output_type": "execute_result",
     "data": {
      "text/plain": "     plant_id_wri      cum_load       cum_so2       cum_nox       cum_co2  \\\n0      ARG0000002  6.692037e+05  2.447388e+06  1.319710e+06  1.508923e+09   \n1      ARG0000003  1.297086e+05  8.346550e+05  6.302847e+05  7.869048e+08   \n2      ARG0000004  1.750119e+05  8.908067e+05  4.155079e+05  9.297042e+08   \n3      ARG0000005  1.940572e+05  6.881345e+05  5.248399e+05  9.196999e+08   \n4      ARG0000006  2.195676e+05  1.129886e+05  3.045448e+05  1.791226e+09   \n...           ...           ...           ...           ...           ...   \n8610   WRI1075859  5.476705e+05  4.663125e+06  1.077559e+06  2.050589e+09   \n8611   WRI1075860  2.143855e+06  4.636344e+06  4.362100e+06  5.773435e+09   \n8612   WRI1075861  8.699405e+05  5.045185e+06  2.523697e+06  1.941000e+09   \n8613   WRI1075862  1.626841e+06  6.576544e+06  2.087549e+06  3.537435e+09   \n8614   WRI1075863  6.681985e+06  1.043948e+07  6.516501e+06  8.852142e+09   \n\n           avg_load        avg_so2        avg_nox       avg_co2   pred_cf  \\\n0      12869.301716   47065.162861   25379.030461  2.901776e+07  0.118623   \n1       2494.396038   16051.057331   12120.859861  1.513279e+07  0.740346   \n2       3365.613039   17130.898330    7990.535591  1.787893e+07  0.850512   \n3       3731.869621   13233.356171   10093.075632  1.768654e+07  0.886106   \n4       4222.453097    2172.857956    5856.630719  3.444665e+07  0.737200   \n...             ...            ...            ...           ...       ...   \n8610   10532.124144   89675.478666   20722.290325  3.943440e+07  0.520995   \n8611   41227.982685   89160.469351   83886.542142  1.110276e+08  0.407887   \n8612   16729.625894   97022.778921   48532.629395  3.732692e+07  0.551713   \n8613   31285.413139  126471.996695   40145.179612  6.802760e+07  0.619042   \n8614  128499.704928  200759.271635  125317.335712  1.702335e+08  0.476740   \n\n      ...                                                url  \\\n0     ...  http://energia3.mecon.gov.ar/contenidos/archiv...   \n1     ...  http://energia3.mecon.gov.ar/contenidos/archiv...   \n2     ...  http://energia3.mecon.gov.ar/contenidos/archiv...   \n3     ...  http://energia3.mecon.gov.ar/contenidos/archiv...   \n4     ...  http://energia3.mecon.gov.ar/contenidos/archiv...   \n...   ...                                                ...   \n8610  ...     https://endcoal.org/global-coal-plant-tracker/   \n8611  ...     https://endcoal.org/global-coal-plant-tracker/   \n8612  ...     https://endcoal.org/global-coal-plant-tracker/   \n8613  ...     https://endcoal.org/global-coal-plant-tracker/   \n8614  ...     https://endcoal.org/global-coal-plant-tracker/   \n\n                   geolocation_source  wepp_id  year_of_capacity_data  \\\n0     Ministerio de Energía y Minería  1011932                 2015.0   \n1     Ministerio de Energía y Minería     None                 2015.0   \n2     Ministerio de Energía y Minería  1048533                 2015.0   \n3     Ministerio de Energía y Minería     None                 2015.0   \n4     Ministerio de Energía y Minería  1011951                 2015.0   \n...                               ...      ...                    ...   \n8610                             GCPT     None                    NaN   \n8611                             GCPT     None                    NaN   \n8612                             GCPT     None                    NaN   \n8613                             GCPT     None                    NaN   \n8614                             GCPT     None                    NaN   \n\n      generation_gwh_2013 generation_gwh_2014 generation_gwh_2015  \\\n0                     NaN                 NaN                 NaN   \n1                     NaN                 NaN                 NaN   \n2                     NaN                 NaN                 NaN   \n3                     NaN                 NaN                 NaN   \n4                     NaN                 NaN                 NaN   \n...                   ...                 ...                 ...   \n8610                  NaN                 NaN                 NaN   \n8611                  NaN                 NaN                 NaN   \n8612                  NaN                 NaN                 NaN   \n8613                  NaN                 NaN                 NaN   \n8614                  NaN                 NaN                 NaN   \n\n     generation_gwh_2016  generation_gwh_2017  estimated_generation_gwh  \n0                    NaN                  NaN                535.362951  \n1                    NaN                  NaN                325.859739  \n2                    NaN                  NaN                382.722263  \n3                    NaN                  NaN                407.324673  \n4                    NaN                  NaN                175.654049  \n...                  ...                  ...                       ...  \n8610                 NaN                  NaN                526.157646  \n8611                 NaN                  NaN               3498.316329  \n8612                 NaN                  NaN               1049.494899  \n8613                 NaN                  NaN               1749.158165  \n8614                 NaN                  NaN               6868.901876  \n\n[8615 rows x 37 columns]",
      "text/html": "<div>\n<style scoped>\n    .dataframe tbody tr th:only-of-type {\n        vertical-align: middle;\n    }\n\n    .dataframe tbody tr th {\n        vertical-align: top;\n    }\n\n    .dataframe thead th {\n        text-align: right;\n    }\n</style>\n<table border=\"1\" class=\"dataframe\">\n  <thead>\n    <tr style=\"text-align: right;\">\n      <th></th>\n      <th>plant_id_wri</th>\n      <th>cum_load</th>\n      <th>cum_so2</th>\n      <th>cum_nox</th>\n      <th>cum_co2</th>\n      <th>avg_load</th>\n      <th>avg_so2</th>\n      <th>avg_nox</th>\n      <th>avg_co2</th>\n      <th>pred_cf</th>\n      <th>...</th>\n      <th>url</th>\n      <th>geolocation_source</th>\n      <th>wepp_id</th>\n      <th>year_of_capacity_data</th>\n      <th>generation_gwh_2013</th>\n      <th>generation_gwh_2014</th>\n      <th>generation_gwh_2015</th>\n      <th>generation_gwh_2016</th>\n      <th>generation_gwh_2017</th>\n      <th>estimated_generation_gwh</th>\n    </tr>\n  </thead>\n  <tbody>\n    <tr>\n      <th>0</th>\n      <td>ARG0000002</td>\n      <td>6.692037e+05</td>\n      <td>2.447388e+06</td>\n      <td>1.319710e+06</td>\n      <td>1.508923e+09</td>\n      <td>12869.301716</td>\n      <td>47065.162861</td>\n      <td>25379.030461</td>\n      <td>2.901776e+07</td>\n      <td>0.118623</td>\n      <td>...</td>\n      <td>http://energia3.mecon.gov.ar/contenidos/archiv...</td>\n      <td>Ministerio de Energía y Minería</td>\n      <td>1011932</td>\n      <td>2015.0</td>\n      <td>NaN</td>\n      <td>NaN</td>\n      <td>NaN</td>\n      <td>NaN</td>\n      <td>NaN</td>\n      <td>535.362951</td>\n    </tr>\n    <tr>\n      <th>1</th>\n      <td>ARG0000003</td>\n      <td>1.297086e+05</td>\n      <td>8.346550e+05</td>\n      <td>6.302847e+05</td>\n      <td>7.869048e+08</td>\n      <td>2494.396038</td>\n      <td>16051.057331</td>\n      <td>12120.859861</td>\n      <td>1.513279e+07</td>\n      <td>0.740346</td>\n      <td>...</td>\n      <td>http://energia3.mecon.gov.ar/contenidos/archiv...</td>\n      <td>Ministerio de Energía y Minería</td>\n      <td>None</td>\n      <td>2015.0</td>\n      <td>NaN</td>\n      <td>NaN</td>\n      <td>NaN</td>\n      <td>NaN</td>\n      <td>NaN</td>\n      <td>325.859739</td>\n    </tr>\n    <tr>\n      <th>2</th>\n      <td>ARG0000004</td>\n      <td>1.750119e+05</td>\n      <td>8.908067e+05</td>\n      <td>4.155079e+05</td>\n      <td>9.297042e+08</td>\n      <td>3365.613039</td>\n      <td>17130.898330</td>\n      <td>7990.535591</td>\n      <td>1.787893e+07</td>\n      <td>0.850512</td>\n      <td>...</td>\n      <td>http://energia3.mecon.gov.ar/contenidos/archiv...</td>\n      <td>Ministerio de Energía y Minería</td>\n      <td>1048533</td>\n      <td>2015.0</td>\n      <td>NaN</td>\n      <td>NaN</td>\n      <td>NaN</td>\n      <td>NaN</td>\n      <td>NaN</td>\n      <td>382.722263</td>\n    </tr>\n    <tr>\n      <th>3</th>\n      <td>ARG0000005</td>\n      <td>1.940572e+05</td>\n      <td>6.881345e+05</td>\n      <td>5.248399e+05</td>\n      <td>9.196999e+08</td>\n      <td>3731.869621</td>\n      <td>13233.356171</td>\n      <td>10093.075632</td>\n      <td>1.768654e+07</td>\n      <td>0.886106</td>\n      <td>...</td>\n      <td>http://energia3.mecon.gov.ar/contenidos/archiv...</td>\n      <td>Ministerio de Energía y Minería</td>\n      <td>None</td>\n      <td>2015.0</td>\n      <td>NaN</td>\n      <td>NaN</td>\n      <td>NaN</td>\n      <td>NaN</td>\n      <td>NaN</td>\n      <td>407.324673</td>\n    </tr>\n    <tr>\n      <th>4</th>\n      <td>ARG0000006</td>\n      <td>2.195676e+05</td>\n      <td>1.129886e+05</td>\n      <td>3.045448e+05</td>\n      <td>1.791226e+09</td>\n      <td>4222.453097</td>\n      <td>2172.857956</td>\n      <td>5856.630719</td>\n      <td>3.444665e+07</td>\n      <td>0.737200</td>\n      <td>...</td>\n      <td>http://energia3.mecon.gov.ar/contenidos/archiv...</td>\n      <td>Ministerio de Energía y Minería</td>\n      <td>1011951</td>\n      <td>2015.0</td>\n      <td>NaN</td>\n      <td>NaN</td>\n      <td>NaN</td>\n      <td>NaN</td>\n      <td>NaN</td>\n      <td>175.654049</td>\n    </tr>\n    <tr>\n      <th>...</th>\n      <td>...</td>\n      <td>...</td>\n      <td>...</td>\n      <td>...</td>\n      <td>...</td>\n      <td>...</td>\n      <td>...</td>\n      <td>...</td>\n      <td>...</td>\n      <td>...</td>\n      <td>...</td>\n      <td>...</td>\n      <td>...</td>\n      <td>...</td>\n      <td>...</td>\n      <td>...</td>\n      <td>...</td>\n      <td>...</td>\n      <td>...</td>\n      <td>...</td>\n      <td>...</td>\n    </tr>\n    <tr>\n      <th>8610</th>\n      <td>WRI1075859</td>\n      <td>5.476705e+05</td>\n      <td>4.663125e+06</td>\n      <td>1.077559e+06</td>\n      <td>2.050589e+09</td>\n      <td>10532.124144</td>\n      <td>89675.478666</td>\n      <td>20722.290325</td>\n      <td>3.943440e+07</td>\n      <td>0.520995</td>\n      <td>...</td>\n      <td>https://endcoal.org/global-coal-plant-tracker/</td>\n      <td>GCPT</td>\n      <td>None</td>\n      <td>NaN</td>\n      <td>NaN</td>\n      <td>NaN</td>\n      <td>NaN</td>\n      <td>NaN</td>\n      <td>NaN</td>\n      <td>526.157646</td>\n    </tr>\n    <tr>\n      <th>8611</th>\n      <td>WRI1075860</td>\n      <td>2.143855e+06</td>\n      <td>4.636344e+06</td>\n      <td>4.362100e+06</td>\n      <td>5.773435e+09</td>\n      <td>41227.982685</td>\n      <td>89160.469351</td>\n      <td>83886.542142</td>\n      <td>1.110276e+08</td>\n      <td>0.407887</td>\n      <td>...</td>\n      <td>https://endcoal.org/global-coal-plant-tracker/</td>\n      <td>GCPT</td>\n      <td>None</td>\n      <td>NaN</td>\n      <td>NaN</td>\n      <td>NaN</td>\n      <td>NaN</td>\n      <td>NaN</td>\n      <td>NaN</td>\n      <td>3498.316329</td>\n    </tr>\n    <tr>\n      <th>8612</th>\n      <td>WRI1075861</td>\n      <td>8.699405e+05</td>\n      <td>5.045185e+06</td>\n      <td>2.523697e+06</td>\n      <td>1.941000e+09</td>\n      <td>16729.625894</td>\n      <td>97022.778921</td>\n      <td>48532.629395</td>\n      <td>3.732692e+07</td>\n      <td>0.551713</td>\n      <td>...</td>\n      <td>https://endcoal.org/global-coal-plant-tracker/</td>\n      <td>GCPT</td>\n      <td>None</td>\n      <td>NaN</td>\n      <td>NaN</td>\n      <td>NaN</td>\n      <td>NaN</td>\n      <td>NaN</td>\n      <td>NaN</td>\n      <td>1049.494899</td>\n    </tr>\n    <tr>\n      <th>8613</th>\n      <td>WRI1075862</td>\n      <td>1.626841e+06</td>\n      <td>6.576544e+06</td>\n      <td>2.087549e+06</td>\n      <td>3.537435e+09</td>\n      <td>31285.413139</td>\n      <td>126471.996695</td>\n      <td>40145.179612</td>\n      <td>6.802760e+07</td>\n      <td>0.619042</td>\n      <td>...</td>\n      <td>https://endcoal.org/global-coal-plant-tracker/</td>\n      <td>GCPT</td>\n      <td>None</td>\n      <td>NaN</td>\n      <td>NaN</td>\n      <td>NaN</td>\n      <td>NaN</td>\n      <td>NaN</td>\n      <td>NaN</td>\n      <td>1749.158165</td>\n    </tr>\n    <tr>\n      <th>8614</th>\n      <td>WRI1075863</td>\n      <td>6.681985e+06</td>\n      <td>1.043948e+07</td>\n      <td>6.516501e+06</td>\n      <td>8.852142e+09</td>\n      <td>128499.704928</td>\n      <td>200759.271635</td>\n      <td>125317.335712</td>\n      <td>1.702335e+08</td>\n      <td>0.476740</td>\n      <td>...</td>\n      <td>https://endcoal.org/global-coal-plant-tracker/</td>\n      <td>GCPT</td>\n      <td>None</td>\n      <td>NaN</td>\n      <td>NaN</td>\n      <td>NaN</td>\n      <td>NaN</td>\n      <td>NaN</td>\n      <td>NaN</td>\n      <td>6868.901876</td>\n    </tr>\n  </tbody>\n</table>\n<p>8615 rows × 37 columns</p>\n</div>"
     },
     "metadata": {},
     "execution_count": 18
    }
   ],
   "source": [
    "pd.read_sql_table('plant', dashboard_engine)"
   ]
  },
  {
   "cell_type": "code",
   "execution_count": 20,
   "metadata": {},
   "outputs": [
    {
     "output_type": "execute_result",
     "data": {
      "text/plain": "        plant_id_wri datetime_utc country  latitude  longitude primary_fuel  \\\n0       GEODB0040540   2019-01-06     AFG    34.564     69.113          Gas   \n1         WRI1023776   2019-01-06     DZA    35.866      6.026          Gas   \n2         WRI1023795   2019-01-06     DZA    36.892      7.763          Gas   \n3         WRI1023777   2019-01-06     DZA    36.599      3.138          Gas   \n4         WRI1023792   2019-01-06     DZA    36.591      2.922          Gas   \n...              ...          ...     ...       ...        ...          ...   \n447975    WRI1022376   2019-12-29     ZMB   -17.353     27.186         Coal   \n447976    WRI1022390   2019-12-29     ZMB   -12.550     28.233          Oil   \n447977    WRI1022386   2019-12-29     ZMB   -12.967     28.633          Oil   \n447978    WRI1022384   2019-12-29     ZMB   -12.817     28.200          Oil   \n447979  GEODB0040404   2019-12-29     ZWE   -18.384     26.470         Coal   \n\n        estimated_generation_gwh  wri_capacity_mw  pred_gross_load_mw  \\\n0                            NaN             42.0                 NaN   \n1                    2152.249819            520.0        39266.042969   \n2                     293.864879             71.0         7064.059594   \n3                    2317.807497            560.0        48578.000000   \n4                     413.894196            100.0         2060.413086   \n...                          ...              ...                 ...   \n447975                       NaN            300.0                 NaN   \n447976                 24.174528             10.0          581.118469   \n447977                120.872642             50.0          123.753326   \n447978                 48.349057             20.0         1162.236938   \n447979               4397.000000            920.0        84624.390625   \n\n        pred_so2_lbs  pred_nox_lbs  pred_co2_lbs  \n0        1837.365601   6005.484863    49241228.0  \n1        1726.391235   5893.828613    37106708.0  \n2           0.000000      0.000000     2268158.0  \n3           0.000000   2572.465576    33298784.0  \n4           0.000000   6145.056152    16438202.0  \n...              ...           ...           ...  \n447975   2904.101562  27470.878906   109063128.0  \n447976   8050.207031   2955.868164    21576880.0  \n447977  11604.954102   4977.986328    26606196.0  \n447978   7332.768066   2400.902344    28459432.0  \n447979  34100.468750  70906.992188   157432816.0  \n\n[447980 rows x 12 columns]",
      "text/html": "<div>\n<style scoped>\n    .dataframe tbody tr th:only-of-type {\n        vertical-align: middle;\n    }\n\n    .dataframe tbody tr th {\n        vertical-align: top;\n    }\n\n    .dataframe thead th {\n        text-align: right;\n    }\n</style>\n<table border=\"1\" class=\"dataframe\">\n  <thead>\n    <tr style=\"text-align: right;\">\n      <th></th>\n      <th>plant_id_wri</th>\n      <th>datetime_utc</th>\n      <th>country</th>\n      <th>latitude</th>\n      <th>longitude</th>\n      <th>primary_fuel</th>\n      <th>estimated_generation_gwh</th>\n      <th>wri_capacity_mw</th>\n      <th>pred_gross_load_mw</th>\n      <th>pred_so2_lbs</th>\n      <th>pred_nox_lbs</th>\n      <th>pred_co2_lbs</th>\n    </tr>\n  </thead>\n  <tbody>\n    <tr>\n      <th>0</th>\n      <td>GEODB0040540</td>\n      <td>2019-01-06</td>\n      <td>AFG</td>\n      <td>34.564</td>\n      <td>69.113</td>\n      <td>Gas</td>\n      <td>NaN</td>\n      <td>42.0</td>\n      <td>NaN</td>\n      <td>1837.365601</td>\n      <td>6005.484863</td>\n      <td>49241228.0</td>\n    </tr>\n    <tr>\n      <th>1</th>\n      <td>WRI1023776</td>\n      <td>2019-01-06</td>\n      <td>DZA</td>\n      <td>35.866</td>\n      <td>6.026</td>\n      <td>Gas</td>\n      <td>2152.249819</td>\n      <td>520.0</td>\n      <td>39266.042969</td>\n      <td>1726.391235</td>\n      <td>5893.828613</td>\n      <td>37106708.0</td>\n    </tr>\n    <tr>\n      <th>2</th>\n      <td>WRI1023795</td>\n      <td>2019-01-06</td>\n      <td>DZA</td>\n      <td>36.892</td>\n      <td>7.763</td>\n      <td>Gas</td>\n      <td>293.864879</td>\n      <td>71.0</td>\n      <td>7064.059594</td>\n      <td>0.000000</td>\n      <td>0.000000</td>\n      <td>2268158.0</td>\n    </tr>\n    <tr>\n      <th>3</th>\n      <td>WRI1023777</td>\n      <td>2019-01-06</td>\n      <td>DZA</td>\n      <td>36.599</td>\n      <td>3.138</td>\n      <td>Gas</td>\n      <td>2317.807497</td>\n      <td>560.0</td>\n      <td>48578.000000</td>\n      <td>0.000000</td>\n      <td>2572.465576</td>\n      <td>33298784.0</td>\n    </tr>\n    <tr>\n      <th>4</th>\n      <td>WRI1023792</td>\n      <td>2019-01-06</td>\n      <td>DZA</td>\n      <td>36.591</td>\n      <td>2.922</td>\n      <td>Gas</td>\n      <td>413.894196</td>\n      <td>100.0</td>\n      <td>2060.413086</td>\n      <td>0.000000</td>\n      <td>6145.056152</td>\n      <td>16438202.0</td>\n    </tr>\n    <tr>\n      <th>...</th>\n      <td>...</td>\n      <td>...</td>\n      <td>...</td>\n      <td>...</td>\n      <td>...</td>\n      <td>...</td>\n      <td>...</td>\n      <td>...</td>\n      <td>...</td>\n      <td>...</td>\n      <td>...</td>\n      <td>...</td>\n    </tr>\n    <tr>\n      <th>447975</th>\n      <td>WRI1022376</td>\n      <td>2019-12-29</td>\n      <td>ZMB</td>\n      <td>-17.353</td>\n      <td>27.186</td>\n      <td>Coal</td>\n      <td>NaN</td>\n      <td>300.0</td>\n      <td>NaN</td>\n      <td>2904.101562</td>\n      <td>27470.878906</td>\n      <td>109063128.0</td>\n    </tr>\n    <tr>\n      <th>447976</th>\n      <td>WRI1022390</td>\n      <td>2019-12-29</td>\n      <td>ZMB</td>\n      <td>-12.550</td>\n      <td>28.233</td>\n      <td>Oil</td>\n      <td>24.174528</td>\n      <td>10.0</td>\n      <td>581.118469</td>\n      <td>8050.207031</td>\n      <td>2955.868164</td>\n      <td>21576880.0</td>\n    </tr>\n    <tr>\n      <th>447977</th>\n      <td>WRI1022386</td>\n      <td>2019-12-29</td>\n      <td>ZMB</td>\n      <td>-12.967</td>\n      <td>28.633</td>\n      <td>Oil</td>\n      <td>120.872642</td>\n      <td>50.0</td>\n      <td>123.753326</td>\n      <td>11604.954102</td>\n      <td>4977.986328</td>\n      <td>26606196.0</td>\n    </tr>\n    <tr>\n      <th>447978</th>\n      <td>WRI1022384</td>\n      <td>2019-12-29</td>\n      <td>ZMB</td>\n      <td>-12.817</td>\n      <td>28.200</td>\n      <td>Oil</td>\n      <td>48.349057</td>\n      <td>20.0</td>\n      <td>1162.236938</td>\n      <td>7332.768066</td>\n      <td>2400.902344</td>\n      <td>28459432.0</td>\n    </tr>\n    <tr>\n      <th>447979</th>\n      <td>GEODB0040404</td>\n      <td>2019-12-29</td>\n      <td>ZWE</td>\n      <td>-18.384</td>\n      <td>26.470</td>\n      <td>Coal</td>\n      <td>4397.000000</td>\n      <td>920.0</td>\n      <td>84624.390625</td>\n      <td>34100.468750</td>\n      <td>70906.992188</td>\n      <td>157432816.0</td>\n    </tr>\n  </tbody>\n</table>\n<p>447980 rows × 12 columns</p>\n</div>"
     },
     "metadata": {},
     "execution_count": 20
    }
   ],
   "source": [
    "pd.read_sql_table('predictions', dashboard_engine)"
   ]
  },
  {
   "cell_type": "code",
   "execution_count": null,
   "metadata": {},
   "outputs": [],
   "source": []
  }
 ]
}